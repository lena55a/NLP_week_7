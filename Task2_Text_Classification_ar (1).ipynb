{
  "cells": [
    {
      "cell_type": "markdown",
      "metadata": {
        "id": "bsurCNok43DL"
      },
      "source": [
        "# Text Classification Exam\n",
        "\n",
        "Welcome to the Text Classification Practical Exam. In this exam, you will be tasked with building, training, and evaluating an NLP model to classify text data. You are provided with a labeled dataset containing both the text and its corresponding class labels.\n",
        "\n",
        "Your objective is to develop a model that accurately predicts the class of the given text. Make sure to follow best practices in data preprocessing, model selection, and evaluation to achieve optimal results.\n",
        "\n",
        "Good luck!\n",
        "___"
      ]
    },
    {
      "cell_type": "markdown",
      "metadata": {
        "id": "oqw2El5mMxsz"
      },
      "source": [
        "# Install and Import Needed Libraries"
      ]
    },
    {
      "cell_type": "markdown",
      "metadata": {
        "id": "4dTkHbSHNB4y"
      },
      "source": [
        "You can use `pyarabic` or any other library to pre-process and clean the Arabic text."
      ]
    },
    {
      "cell_type": "code",
      "source": [
        "!pip install PyArabic\n",
        "!pip install nltk"
      ],
      "metadata": {
        "colab": {
          "base_uri": "https://localhost:8080/"
        },
        "id": "1Qm--L7o1iUH",
        "outputId": "43430507-7a0a-4ec2-cbad-6d15e0a1e106"
      },
      "execution_count": 3,
      "outputs": [
        {
          "output_type": "stream",
          "name": "stdout",
          "text": [
            "Collecting PyArabic\n",
            "  Downloading PyArabic-0.6.15-py3-none-any.whl.metadata (10 kB)\n",
            "Requirement already satisfied: six>=1.14.0 in /usr/local/lib/python3.10/dist-packages (from PyArabic) (1.16.0)\n",
            "Downloading PyArabic-0.6.15-py3-none-any.whl (126 kB)\n",
            "\u001b[?25l   \u001b[90m━━━━━━━━━━━━━━━━━━━━━━━━━━━━━━━━━━━━━━━━\u001b[0m \u001b[32m0.0/126.4 kB\u001b[0m \u001b[31m?\u001b[0m eta \u001b[36m-:--:--\u001b[0m\r\u001b[2K   \u001b[91m━━━━━━━━━━━━━━━━━━━━━━━━━━━━━\u001b[0m\u001b[90m╺\u001b[0m\u001b[90m━━━━━━━━━━\u001b[0m \u001b[32m92.2/126.4 kB\u001b[0m \u001b[31m2.5 MB/s\u001b[0m eta \u001b[36m0:00:01\u001b[0m\r\u001b[2K   \u001b[90m━━━━━━━━━━━━━━━━━━━━━━━━━━━━━━━━━━━━━━━━\u001b[0m \u001b[32m126.4/126.4 kB\u001b[0m \u001b[31m2.3 MB/s\u001b[0m eta \u001b[36m0:00:00\u001b[0m\n",
            "\u001b[?25hInstalling collected packages: PyArabic\n",
            "Successfully installed PyArabic-0.6.15\n",
            "Requirement already satisfied: nltk in /usr/local/lib/python3.10/dist-packages (3.8.1)\n",
            "Requirement already satisfied: click in /usr/local/lib/python3.10/dist-packages (from nltk) (8.1.7)\n",
            "Requirement already satisfied: joblib in /usr/local/lib/python3.10/dist-packages (from nltk) (1.4.2)\n",
            "Requirement already satisfied: regex>=2021.8.3 in /usr/local/lib/python3.10/dist-packages (from nltk) (2024.5.15)\n",
            "Requirement already satisfied: tqdm in /usr/local/lib/python3.10/dist-packages (from nltk) (4.66.5)\n"
          ]
        }
      ]
    },
    {
      "cell_type": "code",
      "source": [
        "import re\n",
        "import pandas as pd\n",
        "\n",
        "import pyarabic.araby as araby\n",
        "\n",
        "import nltk\n",
        "from nltk.corpus import stopwords\n",
        "import nltk\n",
        "from nltk.stem.isri import ISRIStemmer\n",
        "nltk.download('stopwords')\n",
        "nltk.download('punkt')\n",
        "\n",
        "import tensorflow\n",
        "from tensorflow.keras.models import Sequential\n",
        "from tensorflow.keras.layers import Embedding, LSTM, Dense, Dropout, Input, Bidirectional, SimpleRNN, LSTM\n",
        "\n",
        "from tensorflow.keras.preprocessing.text import Tokenizer\n",
        "from tensorflow.keras.preprocessing.sequence import pad_sequences\n",
        "from sklearn.preprocessing import LabelEncoder\n",
        "from sklearn.model_selection import train_test_split\n",
        "\n",
        "import matplotlib.pyplot as plt\n",
        "\n"
      ],
      "metadata": {
        "colab": {
          "base_uri": "https://localhost:8080/"
        },
        "id": "gjkQx2sV0zpC",
        "outputId": "24ac1cc9-214f-4fe5-c070-ac57d724bf2f"
      },
      "execution_count": 4,
      "outputs": [
        {
          "output_type": "stream",
          "name": "stderr",
          "text": [
            "[nltk_data] Downloading package stopwords to /root/nltk_data...\n",
            "[nltk_data]   Unzipping corpora/stopwords.zip.\n",
            "[nltk_data] Downloading package punkt to /root/nltk_data...\n",
            "[nltk_data]   Unzipping tokenizers/punkt.zip.\n"
          ]
        }
      ]
    },
    {
      "cell_type": "markdown",
      "metadata": {
        "id": "Hq5KJRZ5Ph0Z"
      },
      "source": [
        "# Download the Dataset"
      ]
    },
    {
      "cell_type": "markdown",
      "metadata": {
        "id": "3riATTJ243DN"
      },
      "source": [
        "Please note that you are allowed to take a subset of this dataset, the reason for that is it might take a long time to train the model on."
      ]
    },
    {
      "cell_type": "code",
      "execution_count": 5,
      "metadata": {
        "id": "M1n3uTg043DN",
        "colab": {
          "base_uri": "https://localhost:8080/"
        },
        "outputId": "aa62ae2c-35b5-4daf-cf57-dfa24d8ff6b9"
      },
      "outputs": [
        {
          "output_type": "stream",
          "name": "stdout",
          "text": [
            "Dataset URL: https://www.kaggle.com/datasets/khaledzsa/sanad\n",
            "License(s): unknown\n",
            "Downloading sanad.zip to /content\n",
            " 99% 71.0M/71.4M [00:03<00:00, 27.7MB/s]\n",
            "100% 71.4M/71.4M [00:03<00:00, 20.2MB/s]\n",
            "Archive:  sanad.zip\n",
            "  inflating: sanad.csv               \n"
          ]
        }
      ],
      "source": [
        "!kaggle datasets download -d khaledzsa/sanad\n",
        "!unzip sanad.zip"
      ]
    },
    {
      "cell_type": "code",
      "source": [
        "file_path = '/content/sanad.csv'\n",
        "df = pd.read_csv(file_path, sep=',')\n"
      ],
      "metadata": {
        "id": "5sWtxRPi48r5"
      },
      "execution_count": 6,
      "outputs": []
    },
    {
      "cell_type": "code",
      "source": [
        "df.head()"
      ],
      "metadata": {
        "colab": {
          "base_uri": "https://localhost:8080/",
          "height": 206
        },
        "id": "DwHlwC3A1ADD",
        "outputId": "cbc5136b-2c3f-4e16-99b9-e8f7423e5798"
      },
      "execution_count": 7,
      "outputs": [
        {
          "output_type": "execute_result",
          "data": {
            "text/plain": [
              "                                                text    label\n",
              "0  https://example.com/resource/الشاٌرقة -ْ محمِد...  Culture\n",
              "1  https://example.com/resource/اَنِطٌلقّتَ ٍفٍيّ...  Culture\n",
              "2  https://example.com/resource/أُقيًمٌتِ مِساءُ ...  Culture\n",
              "3  https://example.com/resource/بٍاسُمةَ يًوٌنٍس ...  Culture\n",
              "4  https://example.com/resource/قُرر اَتحِاد اًلْ...  Culture"
            ],
            "text/html": [
              "\n",
              "  <div id=\"df-f1da8ccc-1c52-43e6-9644-0d02da94201e\" class=\"colab-df-container\">\n",
              "    <div>\n",
              "<style scoped>\n",
              "    .dataframe tbody tr th:only-of-type {\n",
              "        vertical-align: middle;\n",
              "    }\n",
              "\n",
              "    .dataframe tbody tr th {\n",
              "        vertical-align: top;\n",
              "    }\n",
              "\n",
              "    .dataframe thead th {\n",
              "        text-align: right;\n",
              "    }\n",
              "</style>\n",
              "<table border=\"1\" class=\"dataframe\">\n",
              "  <thead>\n",
              "    <tr style=\"text-align: right;\">\n",
              "      <th></th>\n",
              "      <th>text</th>\n",
              "      <th>label</th>\n",
              "    </tr>\n",
              "  </thead>\n",
              "  <tbody>\n",
              "    <tr>\n",
              "      <th>0</th>\n",
              "      <td>https://example.com/resource/الشاٌرقة -ْ محمِد...</td>\n",
              "      <td>Culture</td>\n",
              "    </tr>\n",
              "    <tr>\n",
              "      <th>1</th>\n",
              "      <td>https://example.com/resource/اَنِطٌلقّتَ ٍفٍيّ...</td>\n",
              "      <td>Culture</td>\n",
              "    </tr>\n",
              "    <tr>\n",
              "      <th>2</th>\n",
              "      <td>https://example.com/resource/أُقيًمٌتِ مِساءُ ...</td>\n",
              "      <td>Culture</td>\n",
              "    </tr>\n",
              "    <tr>\n",
              "      <th>3</th>\n",
              "      <td>https://example.com/resource/بٍاسُمةَ يًوٌنٍس ...</td>\n",
              "      <td>Culture</td>\n",
              "    </tr>\n",
              "    <tr>\n",
              "      <th>4</th>\n",
              "      <td>https://example.com/resource/قُرر اَتحِاد اًلْ...</td>\n",
              "      <td>Culture</td>\n",
              "    </tr>\n",
              "  </tbody>\n",
              "</table>\n",
              "</div>\n",
              "    <div class=\"colab-df-buttons\">\n",
              "\n",
              "  <div class=\"colab-df-container\">\n",
              "    <button class=\"colab-df-convert\" onclick=\"convertToInteractive('df-f1da8ccc-1c52-43e6-9644-0d02da94201e')\"\n",
              "            title=\"Convert this dataframe to an interactive table.\"\n",
              "            style=\"display:none;\">\n",
              "\n",
              "  <svg xmlns=\"http://www.w3.org/2000/svg\" height=\"24px\" viewBox=\"0 -960 960 960\">\n",
              "    <path d=\"M120-120v-720h720v720H120Zm60-500h600v-160H180v160Zm220 220h160v-160H400v160Zm0 220h160v-160H400v160ZM180-400h160v-160H180v160Zm440 0h160v-160H620v160ZM180-180h160v-160H180v160Zm440 0h160v-160H620v160Z\"/>\n",
              "  </svg>\n",
              "    </button>\n",
              "\n",
              "  <style>\n",
              "    .colab-df-container {\n",
              "      display:flex;\n",
              "      gap: 12px;\n",
              "    }\n",
              "\n",
              "    .colab-df-convert {\n",
              "      background-color: #E8F0FE;\n",
              "      border: none;\n",
              "      border-radius: 50%;\n",
              "      cursor: pointer;\n",
              "      display: none;\n",
              "      fill: #1967D2;\n",
              "      height: 32px;\n",
              "      padding: 0 0 0 0;\n",
              "      width: 32px;\n",
              "    }\n",
              "\n",
              "    .colab-df-convert:hover {\n",
              "      background-color: #E2EBFA;\n",
              "      box-shadow: 0px 1px 2px rgba(60, 64, 67, 0.3), 0px 1px 3px 1px rgba(60, 64, 67, 0.15);\n",
              "      fill: #174EA6;\n",
              "    }\n",
              "\n",
              "    .colab-df-buttons div {\n",
              "      margin-bottom: 4px;\n",
              "    }\n",
              "\n",
              "    [theme=dark] .colab-df-convert {\n",
              "      background-color: #3B4455;\n",
              "      fill: #D2E3FC;\n",
              "    }\n",
              "\n",
              "    [theme=dark] .colab-df-convert:hover {\n",
              "      background-color: #434B5C;\n",
              "      box-shadow: 0px 1px 3px 1px rgba(0, 0, 0, 0.15);\n",
              "      filter: drop-shadow(0px 1px 2px rgba(0, 0, 0, 0.3));\n",
              "      fill: #FFFFFF;\n",
              "    }\n",
              "  </style>\n",
              "\n",
              "    <script>\n",
              "      const buttonEl =\n",
              "        document.querySelector('#df-f1da8ccc-1c52-43e6-9644-0d02da94201e button.colab-df-convert');\n",
              "      buttonEl.style.display =\n",
              "        google.colab.kernel.accessAllowed ? 'block' : 'none';\n",
              "\n",
              "      async function convertToInteractive(key) {\n",
              "        const element = document.querySelector('#df-f1da8ccc-1c52-43e6-9644-0d02da94201e');\n",
              "        const dataTable =\n",
              "          await google.colab.kernel.invokeFunction('convertToInteractive',\n",
              "                                                    [key], {});\n",
              "        if (!dataTable) return;\n",
              "\n",
              "        const docLinkHtml = 'Like what you see? Visit the ' +\n",
              "          '<a target=\"_blank\" href=https://colab.research.google.com/notebooks/data_table.ipynb>data table notebook</a>'\n",
              "          + ' to learn more about interactive tables.';\n",
              "        element.innerHTML = '';\n",
              "        dataTable['output_type'] = 'display_data';\n",
              "        await google.colab.output.renderOutput(dataTable, element);\n",
              "        const docLink = document.createElement('div');\n",
              "        docLink.innerHTML = docLinkHtml;\n",
              "        element.appendChild(docLink);\n",
              "      }\n",
              "    </script>\n",
              "  </div>\n",
              "\n",
              "\n",
              "<div id=\"df-e0c3e9f8-6b19-4cee-b871-66afa44c9502\">\n",
              "  <button class=\"colab-df-quickchart\" onclick=\"quickchart('df-e0c3e9f8-6b19-4cee-b871-66afa44c9502')\"\n",
              "            title=\"Suggest charts\"\n",
              "            style=\"display:none;\">\n",
              "\n",
              "<svg xmlns=\"http://www.w3.org/2000/svg\" height=\"24px\"viewBox=\"0 0 24 24\"\n",
              "     width=\"24px\">\n",
              "    <g>\n",
              "        <path d=\"M19 3H5c-1.1 0-2 .9-2 2v14c0 1.1.9 2 2 2h14c1.1 0 2-.9 2-2V5c0-1.1-.9-2-2-2zM9 17H7v-7h2v7zm4 0h-2V7h2v10zm4 0h-2v-4h2v4z\"/>\n",
              "    </g>\n",
              "</svg>\n",
              "  </button>\n",
              "\n",
              "<style>\n",
              "  .colab-df-quickchart {\n",
              "      --bg-color: #E8F0FE;\n",
              "      --fill-color: #1967D2;\n",
              "      --hover-bg-color: #E2EBFA;\n",
              "      --hover-fill-color: #174EA6;\n",
              "      --disabled-fill-color: #AAA;\n",
              "      --disabled-bg-color: #DDD;\n",
              "  }\n",
              "\n",
              "  [theme=dark] .colab-df-quickchart {\n",
              "      --bg-color: #3B4455;\n",
              "      --fill-color: #D2E3FC;\n",
              "      --hover-bg-color: #434B5C;\n",
              "      --hover-fill-color: #FFFFFF;\n",
              "      --disabled-bg-color: #3B4455;\n",
              "      --disabled-fill-color: #666;\n",
              "  }\n",
              "\n",
              "  .colab-df-quickchart {\n",
              "    background-color: var(--bg-color);\n",
              "    border: none;\n",
              "    border-radius: 50%;\n",
              "    cursor: pointer;\n",
              "    display: none;\n",
              "    fill: var(--fill-color);\n",
              "    height: 32px;\n",
              "    padding: 0;\n",
              "    width: 32px;\n",
              "  }\n",
              "\n",
              "  .colab-df-quickchart:hover {\n",
              "    background-color: var(--hover-bg-color);\n",
              "    box-shadow: 0 1px 2px rgba(60, 64, 67, 0.3), 0 1px 3px 1px rgba(60, 64, 67, 0.15);\n",
              "    fill: var(--button-hover-fill-color);\n",
              "  }\n",
              "\n",
              "  .colab-df-quickchart-complete:disabled,\n",
              "  .colab-df-quickchart-complete:disabled:hover {\n",
              "    background-color: var(--disabled-bg-color);\n",
              "    fill: var(--disabled-fill-color);\n",
              "    box-shadow: none;\n",
              "  }\n",
              "\n",
              "  .colab-df-spinner {\n",
              "    border: 2px solid var(--fill-color);\n",
              "    border-color: transparent;\n",
              "    border-bottom-color: var(--fill-color);\n",
              "    animation:\n",
              "      spin 1s steps(1) infinite;\n",
              "  }\n",
              "\n",
              "  @keyframes spin {\n",
              "    0% {\n",
              "      border-color: transparent;\n",
              "      border-bottom-color: var(--fill-color);\n",
              "      border-left-color: var(--fill-color);\n",
              "    }\n",
              "    20% {\n",
              "      border-color: transparent;\n",
              "      border-left-color: var(--fill-color);\n",
              "      border-top-color: var(--fill-color);\n",
              "    }\n",
              "    30% {\n",
              "      border-color: transparent;\n",
              "      border-left-color: var(--fill-color);\n",
              "      border-top-color: var(--fill-color);\n",
              "      border-right-color: var(--fill-color);\n",
              "    }\n",
              "    40% {\n",
              "      border-color: transparent;\n",
              "      border-right-color: var(--fill-color);\n",
              "      border-top-color: var(--fill-color);\n",
              "    }\n",
              "    60% {\n",
              "      border-color: transparent;\n",
              "      border-right-color: var(--fill-color);\n",
              "    }\n",
              "    80% {\n",
              "      border-color: transparent;\n",
              "      border-right-color: var(--fill-color);\n",
              "      border-bottom-color: var(--fill-color);\n",
              "    }\n",
              "    90% {\n",
              "      border-color: transparent;\n",
              "      border-bottom-color: var(--fill-color);\n",
              "    }\n",
              "  }\n",
              "</style>\n",
              "\n",
              "  <script>\n",
              "    async function quickchart(key) {\n",
              "      const quickchartButtonEl =\n",
              "        document.querySelector('#' + key + ' button');\n",
              "      quickchartButtonEl.disabled = true;  // To prevent multiple clicks.\n",
              "      quickchartButtonEl.classList.add('colab-df-spinner');\n",
              "      try {\n",
              "        const charts = await google.colab.kernel.invokeFunction(\n",
              "            'suggestCharts', [key], {});\n",
              "      } catch (error) {\n",
              "        console.error('Error during call to suggestCharts:', error);\n",
              "      }\n",
              "      quickchartButtonEl.classList.remove('colab-df-spinner');\n",
              "      quickchartButtonEl.classList.add('colab-df-quickchart-complete');\n",
              "    }\n",
              "    (() => {\n",
              "      let quickchartButtonEl =\n",
              "        document.querySelector('#df-e0c3e9f8-6b19-4cee-b871-66afa44c9502 button');\n",
              "      quickchartButtonEl.style.display =\n",
              "        google.colab.kernel.accessAllowed ? 'block' : 'none';\n",
              "    })();\n",
              "  </script>\n",
              "</div>\n",
              "\n",
              "    </div>\n",
              "  </div>\n"
            ],
            "application/vnd.google.colaboratory.intrinsic+json": {
              "type": "dataframe",
              "variable_name": "df",
              "summary": "{\n  \"name\": \"df\",\n  \"rows\": 39885,\n  \"fields\": [\n    {\n      \"column\": \"text\",\n      \"properties\": {\n        \"dtype\": \"string\",\n        \"num_unique_values\": 39885,\n        \"samples\": [\n          \"https://example.com/resource/\\u0628\\u0652\\u0644\\u0650\\u063a\\u062a \\u064e\\u062a\\u0633\\u064e\\u064a\\u064a\\u0644\\u0651\\u0627\\u064b\\u062a\\u064d \\u0627\\u0652\\u0644\\u0623\\u0652\\u062c\\u064e\\u0627\\u0646\\u0651\\u0628\\u064e \\u064e\\u0641\\u064a \\u0633\\u064d\\u0648\\u0652\\u0642\\u0650 \\u064e\\u062f\\u0628\\u064a \\u0627\\u0644\\u0645\\u064d\\u0627\\u0650\\u0644\\u064d\\u064a\\u064d \\u0623\\u0645\\u064d\\u0633\\u064e 59\\u064f \\u0645\\u0644\\u064d\\u064a\\u0648\\u0646\\u0627\\u0650\\u064b\\u0652\\u060c \\u0651\\u0641\\u0651\\u0642\\u062f \\u0650\\u0628\\u0652\\u0644\\u064b\\u063a\\u062a \\u064b\\u0642\\u0651\\u064a\\u064f\\u0645\\u0651\\u0629\\u0651 \\u0645\\u064f\\u0634\\u064b\\u062a\\u064f\\u0631\\u0650\\u064a\\u0627\\u062a \\u064e\\u0627\\u0644\\u0652\\u0623\\u062c\\u0627\\u064d\\u0646\\u064d\\u0628\\u064b\\u060c\\u064b \\u063a\\u0652\\u064a\\u0651\\u0631\\u064d \\u0627\\u0652\\u0644\\u0639\\u0631\\u064c\\u0628\\u060c\\u064f \\u0645\\u0650\\u0646\\u0651 \\u064c\\u0627\\u0644\\u0623\\u0633\\u064c\\u0647\\u064d\\u0645 \\u064c\\u062e\\u064f\\u0644\\u0627\\u064c\\u0644\\u064f \\u0647\\u0650\\u0630\\u064e\\u0627 \\u0627\\u064c\\u0644\\u064a\\u0648\\u0650\\u0645 \\u064d\\u0646\\u064b\\u062d\\u064c\\u0648 9\\u064b4\\u064d \\u064e.\\u065113\\u06526 \\u0645\\u0644\\u0652\\u064a\\u064c\\u0648\\u064b\\u0646\\u064c \\u062f\\u0631\\u0647\\u0645 \\u0641\\u064a\\u0651 \\u0652\\u062d\\u0652\\u064a\\u064f\\u0646\\u0651 \\u0628\\u0644\\u063a\\u064e\\u062a\\u064d \\u064b\\u0642\\u064c\\u064a\\u0645\\u0629\\u064c \\u064b\\u0645\\u064b\\u0628\\u064a\\u0639\\u0627\\u062a\\u0647\\u0645\\u064e \\u0646\\u064b\\u062d\\u0648\\u0652 2\\u06500 .22\\u064b6 \\u0650\\u0645\\u064b\\u0644\\u064a\\u0651\\u0648\\u0646 \\u0652\\u062f\\u0631\\u0650\\u0647\\u0645\\u064f .\\u064f \\u0643\\u0645\\u0627 \\u0650\\u0628\\u0644\\u064e\\u063a\\u064b\\u062a \\u0642\\u0652\\u064a\\u0645\\u0629\\u0650 \\u0645\\u064d\\u0634\\u064b\\u062a\\u064c\\u0631\\u0652\\u064a\\u0627\\u062a \\u064b\\u0627\\u0644\\u0645\\u0633\\u064d\\u062a\\u062b\\u064f\\u0645\\u064b\\u0631\\u064b\\u064a\\u064b\\u0646\\u064b \\u0627\\u0644\\u0652\\u0639\\u0650\\u0631\\u0650\\u0628\\u060c\\u064b \\u064f\\u063a\\u064a\\u0631 \\u0651\\u0627\\u0644\\u0652\\u062e\\u0644\\u064d\\u064a\\u064f\\u062c\\u064d\\u064a\\u064a\\u0651\\u0646\\u0650\\u060c\\u0651 \\u062e\\u0644\\u0627\\u0644 \\u0647\\u0650\\u0630\\u0627 \\u0650\\u0627\\u0644\\u0652\\u064a\\u064b\\u0648\\u0645 \\u0646\\u064f\\u062d\\u064d\\u0648\\u064f 07\\u064e .7\\u064c2\\u0650 \\u0645\\u0644\\u064e\\u064a\\u064c\\u0648\\u0646\\u0652 \\u0652\\u062f\\u0631\\u0647\\u064e\\u0645 \\u064d\\u0648\\u0642\\u064b\\u064a\\u0645\\u064c\\u0629\\u064c \\u0645\\u0652\\u0628\\u064e\\u064a\\u064f\\u0639\\u064e\\u0627\\u064b\\u062a\\u0651\\u0647\\u0645 \\u0646\\u062d\\u0648\\u064c \\u065281\\u064b \\u0650.6\\u06504\\u064e \\u064e\\u0645\\u0644\\u064f\\u064a\\u064c\\u0648\\u0646\\u0651 \\u062f\\u064b\\u0631\\u0647\\u064e\\u0645\\u064e .\\u0623\\u064b\\u0645\\u0651\\u0627\\u0652 \\u0652\\u0628\\u0651\\u0627\\u064c\\u0644\\u064e\\u0646\\u064f\\u0633\\u064d\\u0628\\u0629\\u064e \\u064c\\u0644\\u0644\\u0651\\u0645\\u064d\\u0633\\u064c\\u062a\\u064b\\u062b\\u0652\\u0645\\u0631\\u064b\\u064a\\u0646 \\u0652\\u0627\\u0644\\u062e\\u064c\\u0644\\u064a\\u064e\\u062c\\u064a\\u0650\\u064a\\u0646\\u064c \\u064f\\u0641\\u064b\\u0642\\u062f \\u0628\\u0644\\u064b\\u063a\\u0652\\u062a \\u0642\\u064a\\u0645\\u0629 \\u0645\\u0634\\u0652\\u062a\\u064e\\u0631\\u064c\\u064a\\u064f\\u0627\\u064e\\u062a\\u0647\\u0645\\u064b \\u064b9\\u064b1\\u064f \\u0651.4\\u064d3\\u064d \\u0645\\u0650\\u0644\\u064a\\u0648\\u064c\\u0646 \\u064c\\u062f\\u0631\\u0647\\u0645 \\u0641\\u064a\\u064f \\u062d\\u064a\\u0651\\u0646\\u064b \\u064e\\u0628\\u0644\\u064b\\u063a\\u064c\\u062a \\u064b\\u0642\\u064c\\u064a\\u0645\\u064d\\u0629\\u0651 \\u0645\\u0652\\u0628\\u0651\\u064a\\u0652\\u0639\\u0652\\u0627\\u064c\\u062a\\u064c\\u0647\\u0645\\u0652 \\u064f\\u0646\\u064e\\u062d\\u0650\\u0648 4\\u064f8 \\u064f.21\\u064c \\u0645\\u0644\\u064a\\u0648\\u064f\\u0646 \\u064e\\u062f\\u064e\\u0631\\u064d\\u0647\\u064e\\u0645 \\u064e\\u062e\\u0644\\u064c\\u0627\\u0644 \\u0650\\u0646\\u064c\\u0641\\u0633 \\u064f\\u0627\\u0652\\u0644\\u0651\\u0641\\u062a\\u0631\\u0652\\u0629\\u064c .\",\n          \"https://example.com/resource/\\u062f\\u0628\\u0650\\u064a\\u0650 - \\u0625\\u0650\\u0628\\u064d\\u0631\\u0650\\u0627\\u0647\\u064f\\u064a\\u064c\\u0645\\u0652 \\u0651\\u0627\\u0644\\u064f\\u064a\\u064b\\u0648\\u0633\\u0651\\u0641:\\u064e\\u0628\\u064d\\u062d\\u0636\\u0648\\u0652\\u0631\\u0650 \\u0645\\u064e\\u062d\\u064d\\u0645\\u062f\\u064e \\u0627\\u064d\\u0644\\u0645\\u0652\\u0631\\u060c \\u0631\\u0626\\u064a\\u0633\\u0651 \\u0627\\u0644\\u0645\\u064c\\u062c\\u064c\\u0644\\u064b\\u0633 \\u0627\\u064c\\u0644\\u0648\\u064d\\u0637\\u064b\\u0646\\u064f\\u064a\\u064d \\u0627\\u0644\\u064e\\u0627\\u062a\\u064b\\u062d\\u0652\\u0627\\u062f\\u064a\\u0650\\u060c\\u064e \\u0648\\u0650\\u0627\\u0651\\u0644\\u064c\\u0642\\u0646\\u0652\\u0635\\u0644 \\u0627\\u0644\\u0639\\u0627\\u0652\\u0645\\u0650 \\u064b\\u0627\\u064d\\u0644\\u0651\\u0643\\u0651\\u0648\\u064a\\u0651\\u062a\\u064e\\u064a\\u064c\\u060c \\u0630\\u064d\\u064a\\u064c\\u0627\\u0628\\u0651 \\u0651\\u0641\\u0631\\u062d\\u0627\\u064e\\u0646 \\u064c\\u0627\\u0652\\u0644\\u0631\\u0634\\u064a\\u0652\\u062f\\u064a\\u0651\\u060c \\u064b\\u0648\\u0633\\u064e\\u0644\\u0651\\u0637\\u0627\\u064b\\u0646\\u064d \\u0627\\u064c\\u0644\\u0652\\u0633\\u0648\\u064f\\u064a\\u062f\\u064d\\u064a \\u064d\\u0631\\u0652\\u0626\\u064a\\u064b\\u0633\\u0652 \\u0645\\u062c\\u064b\\u0644\\u064d\\u0633\\u0650 \\u0625\\u062f\\u0631\\u064d\\u0627\\u0629 \\u0646\\u064b\\u062f\\u0648\\u064e\\u0629\\u064b \\u0627\\u064b\\u0644\\u064c\\u062b\\u0642\\u0627\\u064d\\u0641\\u0629\\u064e \\u064e\\u0648\\u0627\\u064e\\u0644\\u0639\\u0644\\u0648\\u0645\\u060c \\u0648\\u0623\\u0639\\u0652\\u0636\\u0652\\u0627\\u0621 \\u0650\\u0645\\u064d\\u062c\\u064d\\u0644\\u064b\\u0633\\u0650 \\u0627\\u0644\\u0625\\u0651\\u062f\\u0652\\u0627\\u0631\\u064e\\u0629\\u064d\\u060c \\u0625\\u0652\\u0636\\u0627\\u0650\\u0641\\u0629\\u064d \\u0625\\u0644\\u0650\\u0649\\u064f \\u0637\\u0650\\u064a\\u064f\\u0641\\u064b \\u0648\\u0627\\u0633\\u064f\\u0639 \\u0650\\u0648\\u064d\\u0644\\u0627\\u0641\\u0652\\u062a \\u0645\\u0646\\u0651 \\u064d\\u0627\\u0644\\u064e\\u0643\\u0651\\u062a\\u0651\\u064c\\u0627\\u0651\\u0628\\u0650 \\u0648\\u064d\\u0627\\u064b\\u0644\\u0645\\u062b\\u064e\\u0642\\u0641\\u064b\\u064a\\u0646 \\u0648\\u0650\\u0627\\u0644\\u0625\\u0639\\u064e\\u0644\\u0627\\u0645\\u064a\\u064a\\u064d\\u0646 \\u0645\\u064c\\u0646\\u064d \\u0627\\u064e\\u0644\\u0650\\u0628\\u064d\\u0644\\u062f\\u064a\\u0646 . \\u0634\\u0647\\u062f\\u062a\\u064f \\u064e\\u0627\\u064d\\u0644\\u0652\\u0646\\u0650\\u062f\\u0648\\u064c\\u0629\\u064f\\u060c\\u064d \\u0645\\u064c\\u0633\\u0627\\u0621 \\u0650\\u0623\\u0645\\u0633\\u064b \\u0651\\u0627\\u064b\\u0644\\u0652\\u0623\\u064e\\u0648\\u064e\\u0644\\u060c\\u064b \\u0650\\u0627\\u0652\\u062e\\u062a\\u064e\\u062a\\u0652\\u0627\\u0645\\u0651 \\u0641\\u0639\\u0627\\u064e\\u0644\\u064a\\u0627\\u062a\\u064b \\u064e\\u0645\\u0647\\u0650\\u0631\\u064b\\u062c\\u0650\\u0627\\u0646\\u064f \\u064d\\\"\\u064c\\u0643\\u0648\\u0650\\u064a\\u062a\\u064e \\u0627\\u0644\\u0633\\u0644\\u0627\\u064e\\u0645 - \\u0625\\u064b\\u0645\\u0652\\u0627\\u0631\\u064f\\u0627\\u062a \\u064c\\u0627\\u064f\\u0644\\u0650\\u0648\\u064d\\u0641\\u0627\\u0621\\u0650\\\"\\u060c\\u064e \\u0628\\u064c\\u0631\\u0639\\u064d\\u0627\\u064a\\u064d\\u0629 \\u0648\\u064f\\u062a\\u0646\\u0638\\u064a\\u064f\\u0645 \\u0647\\u064a\\u0626\\u0629 \\u062f\\u064b\\u0628\\u064a\\u0652 \\u0644\\u0644\\u064b\\u062b\\u064d\\u0642\\u0627\\u0641\\u0651\\u0629 \\u0648\\u0627\\u0644\\u0652\\u0641\\u0646\\u0648\\u0646 \\u0628\\u0627\\u064c\\u0644\\u062a\\u0639\\u0627\\u0648\\u064d\\u0646 \\u064f\\u0645\\u0650\\u0639\\u064b \\u064c\\u0627\\u0644\\u0642\\u0652\\u0646\\u0635\\u0652\\u0644\\u064b\\u064a\\u064c\\u0629 \\u064c\\u0627\\u0651\\u0644\\u064b\\u0639\\u0627\\u064c\\u0645\\u0629\\u064d \\u0644\\u0650\\u062f\\u0652\\u0648\\u064b\\u0644\\u064b\\u0629\\u064c \\u0652\\u0627\\u0651\\u0644\\u0643\\u0648\\u064a\\u062a \\u064c\\u0641\\u0650\\u064a\\u064f \\u064e\\u0625\\u064d\\u0645\\u0651\\u0627\\u064e\\u0631\\u0629\\u064f \\u062f\\u064c\\u0628\\u064f\\u064a\\u060c\\u0652 \\u0648\\u0651\\u062a\\u0636\\u0645\\u064c\\u0646\\u0651 \\u064d\\u0641\\u0639\\u064d\\u0627\\u064f\\u0644\\u064d\\u064a\\u064e\\u0627\\u062a \\u064f\\u062b\\u0642\\u0651\\u0627\\u064f\\u0641\\u064a\\u0629\\u064e \\u0641\\u0646\\u064a\\u0652\\u0629\\u0650\\u060c \\u0650\\u0648\\u063a\\u064a\\u0631\\u0647\\u0650\\u0627\\u0651 \\u064d.\\u0648\\u0651\\u062a\\u0652\\u0636\\u064c\\u0645\\u0646\\u0651\\u062a\\u064b \\u064e\\u0627\\u0644\\u0641\\u0651\\u0639\\u064e\\u0627\\u0644\\u064d\\u064a\\u0627\\u064c\\u062a\\u0650 \\u0650\\u0639\\u064e\\u0631\\u0636 \\u0641\\u064a\\u0644\\u064f\\u0645 \\u0652\\u0648\\u064b\\u062b\\u0627\\u064e\\u0626\\u064f\\u0642\\u064f\\u064a\\u064f \\u0639\\u064e\\u0646\\u064f \\u064f\\u0627\\u0644\\u062a\\u064d\\u0639\\u064c\\u0627\\u0648\\u064d\\u0646\\u0650 \\u064d\\u0627\\u064c\\u0644\\u0623\\u062e\\u0648\\u064a \\u064f\\u0628\\u0651\\u064a\\u0652\\u0646\\u064b \\u0652\\u0627\\u0644\\u064e\\u0628\\u0644\\u064f\\u062f\\u0650\\u064a\\u064d\\u0646\\u064b \\u0651\\u0627\\u0650\\u0644\\u0634\\u0642\\u0651\\u064a\\u064c\\u0642\\u064e\\u064a\\u0646\\u0650\\u060c \\u064d\\u0642\\u0631\\u0623\\u0651 \\u064c\\u0628\\u0650\\u0639\\u064f\\u062f \\u064b\\u0630\\u064f\\u0644\\u0651\\u0643\\u064f \\u0651\\u0639\\u0628\\u064f\\u062f\\u0627\\u0650\\u0644\\u0644\\u0647 \\u064f\\u0627\\u0644\\u064c\\u0645\\u0637\\u0651\\u064a\\u0631\\u064d\\u064a\\u0650 \\u0643\\u064e\\u0644\\u0645\\u0652\\u0629\\u064c \\u0647\\u064a\\u0650\\u0626\\u0629 \\u062f\\u0628\\u064b\\u064a\\u064e \\u0644\\u0644\\u064b\\u062b\\u0642\\u0627\\u0641\\u0629\\u060c\\u064f \\u062a\\u062d\\u064f\\u062f\\u062b\\u064e \\u064c\\u0641\\u064a\\u0652\\u0647\\u0652\\u0627\\u064c \\u0639\\u0652\\u0646 \\u064f\\u0627\\u0652\\u0644\\u0639\\u0650\\u0644\\u0627\\u0642\\u0627\\u062a \\u0651\\u0627\\u0651\\u0644\\u064d\\u062b\\u0642\\u0650\\u0627\\u0641\\u064a\\u0651\\u0629 \\u0628\\u064b\\u064a\\u0646 \\u064e\\u0627\\u0644\\u0628\\u064b\\u0644\\u0651\\u062f\\u0652\\u064a\\u064d\\u0646\\u064c\\u060c \\u0648\\u064e\\u0643\\u064e\\u064a\\u0651\\u0641 \\u0623\\u0646 \\u0627\\u064e\\u0644\\u064d\\u0643\\u0648\\u064e\\u064a\\u0650\\u062a \\u062f\\u0639\\u0645\\u0651\\u062a\\u064d \\u0650\\u0627\\u0644\\u062d\\u0631\\u0652\\u0643\\u064b\\u0629\\u064b \\u0627\\u064d\\u0644\\u062b\\u0652\\u0642\\u064c\\u0627\\u0641\\u064a\\u0652\\u0629\\u0652 \\u064d\\u0648\\u0627\\u0650\\u0644\\u0651\\u062a\\u0639\\u0651\\u0644\\u064a\\u064f\\u0645\\u064a\\u0629 \\u0641\\u064a \\u0627\\u0644\\u0625\\u0645\\u0627\\u064e\\u0631\\u0627\\u064c\\u062a\\u060c\\u064d \\u064d\\u0648\\u0651\\u0623\\u064f\\u0646\\u064e\\u0634\\u0623\\u062a\\u0651 \\u0641\\u064a\\u064e\\u0647\\u0651\\u0627 \\u064b\\u0627\\u064c\\u0644\\u064f\\u0645\\u064f\\u062f\\u0627\\u064f\\u0631\\u0651\\u0633\\u064b\\u060c\\u0652 \\u064c\\u0625\\u0644\\u064f\\u0649 \\u0651\\u062c\\u0627\\u064b\\u0646\\u0650\\u0628 \\u064c\\u063a\\u0652\\u064a\\u064e\\u0631\\u0647\\u0650\\u0627\\u064c \\u0645\\u0646\\u064c \\u0650\\u0627\\u0644\\u0645\\u064c\\u0631\\u064d\\u0627\\u0641\\u064e\\u0642 \\u0627\\u0651\\u0644\\u0636\\u0631\\u0652\\u0648\\u0631\\u064d\\u064a\\u0650\\u0629\\u064e .\\u064c\\u0628\\u064c\\u0639\\u064b\\u062f\\u0652 \\u0630\\u064f\\u0644\\u0643 \\u0628\\u062f\\u0623\\u0650\\u062a \\u0641\\u064f\\u0639\\u0650\\u0627\\u064c\\u0644\\u064a\\u0627\\u0651\\u062a \\u0627\\u0644\\u064d\\u0646\\u0652\\u062f\\u0648\\u064c\\u0629 \\u0651\\u0627\\u0651\\u0644\\u064b\\u062a\\u064e\\u064a \\u064f\\u0623\\u062f\\u064e\\u0627\\u064c\\u0631\\u0647\\u0627 \\u0651\\u0639\\u0644\\u064e\\u064a\\u064c \\u064c\\u0639\\u064f\\u0628\\u064f\\u064a\\u0651\\u062f \\u0627\\u0644\\u064f\\u0647\\u0650\\u0627\\u0650\\u0645\\u0644\\u064d\\u064a\\u0651\\u060c\\u0651 \\u0652\\u0628\\u0639\\u0651\\u0646\\u064e\\u0648\\u064c\\u0627\\u0651\\u0646 \\\"\\u0650\\u0645\\u0633\\u064a\\u0631\\u064b\\u0629 \\u0627\\u064e\\u0644\\u0652\\u0639\\u0652\\u0644\\u0627\\u064e\\u0642\\u0627\\u062a\\u0651 \\u0627\\u0650\\u0644\\u0625\\u0645\\u0627\\u0652\\u0631\\u0627\\u062a\\u064a\\u0629\\u0651 \\u064b- \\u064c\\u0627\\u0651\\u0644\\u0652\\u0643\\u0648\\u064a\\u062a\\u064e\\u064a\\u064b\\u0629\\\" \\u0648\\u064b\\u0634\\u0627\\u0631\\u0643 \\u064c\\u0641\\u064c\\u064a\\u0647\\u064e\\u0627\\u0651 \\u0643\\u0644\\u064b \\u064e\\u0645\\u0646\\u0651 \\u0650\\u062f\\u0652 . \\u0639\\u0652\\u0628\\u062f\\u0650\\u0627\\u0652\\u0644\\u0644\\u064f\\u0647\\u064c \\u0627\\u0644\\u063a\\u064c\\u0646\\u064a\\u0645 \\u064e(\\u0651\\u0627\\u0644\\u0643\\u0648\\u064f\\u064a\\u064f\\u062a)\\u064f \\u064e\\u0648\\u0628\\u0644\\u0627\\u0644\\u064f \\u0651\\u0627\\u0652\\u0644\\u064f\\u0628\\u0652\\u062f\\u064b\\u0648\\u0631\\u064c \\u0646\\u064b\\u0627\\u064b\\u0626\\u0628 \\u0631\\u064d\\u0626\\u064a\\u064c\\u0633\\u064f \\u0645\\u062c\\u064e\\u0644\\u0633 \\u0625\\u062f\\u0650\\u0627\\u0652\\u0631\\u0652\\u0629\\u064d \\u064d\\u0646\\u064d\\u062f\\u064b\\u0648\\u0629\\u064f \\u0627\\u0644\\u062b\\u0642\\u0627\\u0641\\u0629\\u064e \\u0650\\u0627\\u0644\\u064d\\u0639\\u0652\\u0644\\u064d\\u0648\\u0645\\u064c\\u060c \\u062d\\u0652\\u064a\\u0650\\u062b \\u064d\\u0633\\u0650\\u0644\\u0637\\u064f \\u064b\\u0627\\u0644\\u0647\\u064e\\u0627\\u064c\\u0645\\u064c\\u0644\\u064a \\u0650\\u0627\\u0644\\u0636\\u0648\\u0621\\u064d \\u0639\\u0650\\u0644\\u064b\\u0649\\u0650 \\u0650\\u0627\\u0651\\u0644\\u0633\\u0652\\u064a\\u0631\\u0651\\u0629\\u064b \\u064f\\u0627\\u064b\\u0644\\u064b\\u0645\\u064e\\u0639\\u064b\\u0631\\u0641\\u064a\\u0629\\u0650 \\u064b\\u0644\\u064c\\u0643\\u064b\\u0644\\u064e\\u0627\\u064d \\u0627\\u0650\\u0644\\u0650\\u0643\\u0651\\u0627\\u064e\\u062a\\u0628\\u064a\\u0646 \\u062f .\\u064b \\u064c\\u0627\\u0644\\u0651\\u063a\\u064e\\u0646\\u064d\\u064a\\u064b\\u0645 \\u0650\\u0648\\u0651\\u0627\\u064f\\u0644\\u0628\\u0652\\u062f\\u0648\\u064e\\u0631 .\\u0651 \\u064d\\u0648\\u064b\\u0645\\u0645\\u0627\\u0652 \\u0642\\u0627\\u0644\\u0647 \\u0651\\u0627\\u064e\\u0644\\u0647\\u0627\\u0651\\u0645\\u064b\\u0644\\u064a\\u0651 \\u0641\\u064a\\u064e \\u0645\\u064c\\u0642\\u0651\\u062f\\u0652\\u0645\\u062a\\u0652\\u0647:\\u0651 \\u064b\\u0627\\u0644\\u0643\\u0648\\u064a\\u064b\\u062a \\u064f\\u062a\\u064d\\u0631\\u0643\\u062a \\u0628\\u064c\\u0635\\u0645\\u064d\\u0627\\u064e\\u062a\\u0651\\u0647\\u064c\\u0627\\u064d \\u0639\\u0645\\u064a\\u0651\\u0642\\u064f\\u0627\\u064b\\u064b \\u0639\\u064d\\u0644\\u064c\\u064a\\u0646\\u0627 \\u064c\\u0641\\u064a \\u062f\\u0648\\u0644\\u0651\\u0629 \\u064b\\u0627\\u064d\\u0644\\u064c\\u0625\\u064e\\u0645\\u0627\\u064b\\u0631\\u0627\\u062a\\u060c\\u064e \\u0652\\u0648\\u064c\\u0623\\u0643\\u064e\\u0628\\u0651\\u0631 \\u064c\\u062f\\u0644\\u064a\\u0644\\u064f \\u0650\\u0639\\u0644\\u064d\\u0649\\u064e \\u0650\\u0630\\u0644\\u0643\\u0650 \\u064f\\u0623\\u0651\\u0646 \\u0647\\u0646\\u0627\\u0643\\u064f \\u0652\\u062c\\u064a\\u064e\\u0644\\u064d\\u0627\\u0652\\u064b \\u0625\\u0645\\u0627\\u064f\\u0631\\u064f\\u0627\\u062a\\u064a\\u064d\\u0627\\u064b\\u064f \\u0652\\u0643\\u0627\\u0645\\u064b\\u0644\\u064d\\u0627\\u064d\\u064b\\u064f \\u062a\\u064e\\u0641\\u062a\\u062d\\u0651\\u062a\\u0651 \\u064b\\u0645\\u0650\\u062f\\u0652\\u0627\\u0631\\u0652\\u0643\\u0647\\u064b \\u0639\\u0644\\u0652\\u0649 \\u0651\\u0645\\u064b\\u0627\\u064e \\u0628\\u062b\\u064f\\u062a\\u064c\\u0647\\u064d \\u0627\\u064c\\u0644\\u0650\\u0643\\u064c\\u0648\\u064a\\u062a \\u0652\\u0645\\u0651\\u0646\\u064b \\u064b\\u062a\\u0639\\u0644\\u064a\\u064e\\u0645 \\u064d\\u0648\\u064f\\u062b\\u064c\\u0642\\u0627\\u0641\\u0651\\u0629\\u064d \\u0641\\u064a\\u064d \\u064c\\u0627\\u0644\\u0625\\u064c\\u0645\\u0651\\u0627\\u064b\\u0631\\u0627\\u064c\\u062a\\u064c\\u060c\\u064f \\u0650\\u062c\\u064a\\u0644 \\u0650\\u0643\\u064b\\u0627\\u064f\\u0645\\u0644\\u060c\\u0651 \\u064c\\u062a\\u0652\\u0639\\u0644\\u0645 \\u0648\\u0641\\u0652\\u0642 \\u0651\\u0645\\u0651\\u0646\\u064d\\u0627\\u0650\\u0647\\u064c\\u062c\\u064f \\u0627\\u0644\\u0643\\u0652\\u0648\\u064a\\u062a \\u0627\\u064c\\u0644\\u062a\\u0639\\u0644\\u064a\\u064c\\u0645\\u064c\\u064a\\u064d\\u0629 \\u064c.\\u064e\\u0648\\u0623\\u0634\\u0627\\u0651\\u062f\\u064d \\u064e\\u062f \\u064e.\\u064d \\u0627\\u064e\\u0644\\u063a\\u0646\\u064b\\u064a\\u0645 \\u0650\\u0628\\u0627\\u064c\\u0644\\u062d\\u064a\\u0627\\u0629\\u0650 \\u0651\\u0627\\u0644\\u062a\\u0652\\u0639\\u064b\\u0644\\u064a\\u064f\\u0645\\u064a\\u0629\\u064f \\u0627\\u0644\\u062b\\u0642\\u064b\\u0627\\u064f\\u0641\\u0651\\u064a\\u0629\\u0650 \\u0652\\u0641\\u064e\\u064a\\u064e \\u064f\\u0627\\u0644\\u064c\\u0625\\u0645\\u064b\\u0627\\u0631\\u064c\\u0627\\u062a\\u060c\\u064d \\u0651\\u0648\\u064c\\u0631\\u0623\\u0649\\u064f \\u064e\\u0623\\u064e\\u0646\\u0651\\u0647\\u0627\\u064e \\u062c\\u062f \\u0652\\u0645\\u062a\\u0637\\u0648\\u0631\\u064d\\u0629\\u0652\\u060c\\u0650 \\u0648\\u064e\\u0623\\u0650\\u062f\\u064c\\u0644\\u0649\\u0652 \\u0651\\u0628\\u0623\\u064c\\u0645\\u062b\\u0650\\u0644\\u0629 \\u064c\\u0645\\u0647\\u0651\\u0645\\u0629\\u064f \\u0650\\u0639\\u064f\\u0644\\u0651\\u0649 \\u0630\\u0650\\u0644\\u064e\\u0643\\u064c\\u060c\\u064c \\u0648\\u064c\\u0645\\u064d\\u0646\\u0647\\u0627 \\u0651\\u0623\\u0646 \\u0627\\u0650\\u0644\\u064e\\u0643\\u062b\\u064b\\u064a\\u0631\\u064a\\u064b\\u0646\\u064e \\u064c\\u0645\\u0646\\u0650 \\u0623\\u0628\\u064c\\u0646\\u064e\\u0627\\u0621\\u064f \\u0650\\u0627\\u0644\\u064b\\u0643\\u0648\\u064e\\u064a\\u0650\\u062a \\u0628\\u0627\\u062a\\u064b\\u0648\\u0627 \\u064a\\u064e\\u062a\\u0652\\u0627\\u0652\\u0628\\u0639\\u0650\\u0648\\u0652\\u0646 \\u0652\\u062a\\u062d\\u0652\\u0635\\u064a\\u0644\\u0647\\u0650\\u0645\\u0651 \\u064d\\u0627\\u0651\\u0644\\u0645\\u0639\\u064d\\u0631\\u064f\\u0641\\u064e\\u064a\\u064d \\u064d\\u0641\\u064c\\u064a \\u062c\\u064f\\u0627\\u064e\\u0645\\u0639\\u064d\\u0627\\u064b\\u062a \\u0627\\u0652\\u0644\\u0625\\u0645\\u0650\\u0627\\u0631\\u0627\\u062a\\u0652\\u060c\\u064e \\u0645\\u0646\\u0650 \\u062f\\u064f\\u0648\\u0646\\u064b \\u064e\\u0623\\u064e\\u0646 \\u064f\\u064a\\u064f\\u0634\\u064f\\u0639\\u064f\\u0631\\u0651\\u0648\\u064d\\u0627 \\u0625\\u0644\\u064d\\u0627\\u0650 \\u0628\\u0651\\u0623\\u0646\\u064b\\u0647\\u064c\\u0645\\u064b \\u0641\\u0650\\u064a \\u0628\\u064b\\u064a\\u0648\\u062a\\u0650\\u0647\\u064e\\u0645\\u0651\\u060c \\u0652\\u0648\\u0647\\u0648\\u064e \\u064f\\u0645\\u062f\\u064c\\u0639\\u064c\\u0627\\u064e\\u0629\\u0651 \\u064d\\u0633\\u064b\\u0639\\u0627\\u0650\\u062f\\u0629 \\u064d\\u0623\\u0633\\u0631\\u064d\\u0647\\u0645\\u0651\\u060c \\u0628\\u0652\\u0644 \\u0650\\u0628\\u0644\\u0651\\u062f\\u0647\\u0645\\u064b \\u064d\\u0628\\u0643\\u0627\\u064d\\u0645\\u064d\\u0644\\u0647 \\u064f.\\u0648\\u0642\\u0627\\u0644: \\u0644\\u0645\\u064f \\u064f\\u0623\\u064c\\u0631\\u062f\\u064c \\u064c\\u0623\\u0646\\u0650 \\u064d\\u0623\\u0633\\u064e\\u0645\\u064e\\u064a\\u0652 \\u0646\\u064e\\u062f\\u0650\\u0648\\u062a\\u0650\\u0646\\u0627 \\u0647\\u064b\\u0630\\u0651\\u0647\\u064f \\u0628\\u0627\\u0644\\u062d\\u0648\\u0651\\u0627\\u0652\\u0631\\u064b\\u064a\\u0629\\u0651\\u060c\\u064c \\u0628\\u0650\\u064a\\u0650\\u0646 \\u0645\\u0652\\u062b\\u064e\\u0642\\u0652\\u0641\\u064d\\u064a\\u0650\\u0646\\u0651 \\u0645\\u0650\\u0646\\u064d \\u0628\\u0644\\u062f\\u064a\\u064e\\u0646\\u0627:\\u064b \\u064b\\u0627\\u0644\\u064e\\u0643\\u0648\\u0650\\u064a\\u062a\\u0652 \\u0652\\u0648\\u0627\\u0652\\u0644\\u0625\\u0645\\u064c\\u0627\\u0631\\u0627\\u064c\\u062a\\u060c\\u064f \\u064b\\u0644\\u0623\\u0646 \\u0627\\u0644\\u062d\\u0648\\u064f\\u0627\\u0652\\u0631\\u060c\\u064f \\u0650\\u064a\\u062a\\u0645 \\u064c\\u0639\\u064f\\u0627\\u0650\\u062f\\u0629\\u064d\\u060c \\u0652\\u0628\\u064a\\u064e\\u0646\\u064c \\u0645\\u0650\\u0646\\u064b \\u0652\\u0647\\u064b\\u0645\\u064d \\u0645\\u062e\\u062a\\u064d\\u0644\\u0641\\u0648\\u0646\\u060c \\u0628\\u064a\\u0646 \\u0650\\u0645\\u064c\\u0646 \\u062a\\u064c\\u0643\\u0650\\u0648\\u0646\\u064c \\u064e\\u0647\\u064f\\u0646\\u0627\\u0643 \\u062a\\u0646\\u0627\\u0642\\u0650\\u0636\\u0627\\u062a \\u064b\\u0641\\u064f\\u064a\\u0651\\u0645\\u0627\\u064b \\u0650\\u0628\\u064a\\u0646\\u0652\\u0647\\u0645\\u060c \\u0625\\u0651\\u0646\\u0646\\u064e\\u0627\\u0650 \\u0650\\u0646\\u062a\\u062d\\u062f\\u064c\\u062b \\u064b\\u0636\\u0652\\u0645\\u0646 \\u0652\\u0625\\u0637\\u0652\\u0627\\u0650\\u0631\\u0651 \\u064c\\u0627\\u064c\\u0644\\u064e\\u0628\\u064e\\u064a\\u064b\\u062a\\u0650 \\u064c\\u0627\\u0644\\u0648\\u0652\\u0627\\u062d\\u0651\\u062f\\u060c \\u064f\\u0636\\u064e\\u0645\\u064c\\u0646\\u0650 \\u0625\\u0637\\u0627\\u0631 \\u0627\\u0644\\u064b\\u0623\\u0633\\u064c\\u0631\\u064f\\u0629 \\u0627\\u0644\\u0652\\u0648\\u0650\\u0627\\u062d\\u062f\\u0629\\u060c\\u0651 \\u0648\\u064f\\u0647\\u0646\\u064b\\u0627\\u0650 \\u0627\\u0650\\u0644\\u0641\\u0631\\u0642\\u064f \\u0628\\u064b\\u064a\\u0646\\u064c \\u064c\\u0637\\u064d\\u0628\\u064a\\u0639\\u0629 \\u0651\\u062d\\u062f\\u064a\\u064f\\u062b\\u0646\\u0651\\u0627\\u060c\\u0652 \\u0648\\u0635\\u0641\\u0629\\u064b \\u0627\\u0644\\u062d\\u0650\\u0648\\u0627\\u0631\\u0652 \\u0650.\\u0651\\u0648\\u062a\\u0627\\u0628\\u0651\\u0639\\u064b \\u062f . \\u0627\\u064f\\u0644\\u063a\\u0646\\u064a\\u064f\\u0645 \\u064f\\u0642\\u0651\\u0627\\u0626\\u0644\\u0627\\u064d\\u064b:\\u064d \\u0650\\u0645\\u0652\\u0631\\u0643\\u0650\\u0632 \\u0627\\u064c\\u0644\\u064b\\u0628\\u062d\\u0648\\u064c\\u062b \\u064e\\u0648\\u0627\\u064d\\u0644\\u062f\\u0631\\u064b\\u0627\\u064f\\u0633\\u0627\\u062a\\u0650 \\u0627\\u064c\\u0644\\u0643\\u0650\\u0648\\u064a\\u0650\\u062a\\u064c\\u064a\\u064b \\u064c\\u062c\\u0651\\u0645\\u064b\\u0639\\u0651 \\u0623\\u064d\\u0643\\u0650\\u062b\\u0651\\u0631 \\u064b\\u0645\\u0646 \\u064e\\u0645\\u0644\\u064b\\u064a\\u0648\\u064e\\u0646\\u064f\\u064a \\u0648\\u064e\\u062b\\u0651\\u064a\\u064d\\u0642\\u0629\\u064c \\u0639\\u0646 \\\"\\u0627\\u0644\\u062c\\u064b\\u0646\\u0648\\u064e\\u0628 \\u0648\\u0651\\u0627\\u064e\\u0644\\u062e\\u0644\\u0650\\u064a\\u064f\\u062c\\\"\\u064e\\u060c\\u0651 \\u0648\\u0645\\u064d\\u0646 \\u0628\\u064c\\u064a\\u064b\\u0646\\u064f\\u0647\\u0627\\u064f \\u0648\\u064e\\u062b\\u0627\\u0626\\u0642\\u0652 \\u064f\\u0645\\u0647\\u0650\\u0645\\u064e\\u0629 \\u0639\\u0646 \\u0645\\u0641\\u064c\\u0627\\u0635\\u0644 \\u064b\\u0627\\u0644\\u064f\\u0628\\u0652\\u0646\\u064a\\u0629\\u064c \\u064d\\u0627\\u0652\\u0644\\u0651\\u062a\\u064f\\u062d\\u064c\\u062a\\u064a\\u064e\\u0629 \\u064e\\u0641\\u064a \\u0627\\u0644\\u0650\\u0625\\u0645\\u064c\\u0627\\u064b\\u0631\\u064b\\u0627\\u0652\\u062a\\u064a\\u064f\\u0629\\u060c\\u064b \\u0648\\u064f\\u0646\\u064b\\u0634\\u064d\\u0623\\u064d\\u0629 \\u0645\\u062f\\u0627\\u0631\\u0633\\u0647\\u064e\\u0627\\u060c \\u0648\\u062d\\u064a\\u0627\\u062a\\u0650\\u0647\\u0627 \\u0627\\u0644\\u062b\\u064e\\u0642\\u0627\\u0641\\u064a\\u0629\\u0650\\u060c \\u064d\\u0648\\u0652\\u0641\\u064a \\u0647\\u0630\\u0650\\u0647 \\u0627\\u0651\\u0644\\u0648\\u062b\\u064b\\u0627\\u0626\\u0651\\u0642 \\u0650\\u0645\\u0639\\u0644\\u0648\\u064d\\u0645\\u0650\\u0627\\u064e\\u062a \\u062c\\u0651\\u062f \\u0645\\u0647\\u0645\\u0629\\u0652 \\u064b\\u0639\\u0651\\u0646 \\u064f\\u0646\\u0634\\u0623\\u0629\\u0651 \\u0627\\u0652\\u0644\\u064b\\u0645\\u062f\\u0650\\u0627\\u064c\\u0631\\u0633\\u060c\\u0652 \\u064c\\u0648\\u064c\\u062d\\u0651\\u062a\\u0649\\u064c \\u0623\\u0633\\u064b\\u0645\\u064e\\u0627\\u0621 \\u0651\\u0627\\u0644\\u0637\\u0644\\u0651\\u0628\\u0629\\u060c \\u0648\\u064b\\u0627\\u064e\\u0644\\u064d\\u0645\\u062f\\u064b\\u0631\\u0633\\u064c\\u064a\\u0646\\u060c\\u0652 \\u064b\\u0648\\u0643\\u0652\\u064a\\u0641\\u064a\\u064f\\u0629\\u064c \\u0628\\u064b\\u062f\\u0650\\u0627\\u064f\\u064a\\u0627\\u0652\\u062a\\u064c \\u0639\\u0652\\u0645\\u0650\\u0644\\u064e\\u064a\\u0652\\u0629\\u064d \\u0627\\u0644\\u062a\\u0639\\u0644\\u064a\\u0645\\u064f \\u064f. . \\u064d\\u0625\\u0644\\u064f\\u062e\\u0652\\u060c \\u064c\\u0648\\u0647\\u0646\\u064d\\u0627\\u0643\\u0651 \\u064b\\u0645\\u0646 \\u0651\\u0646\\u064f\\u0627\\u064f\\u0644\\u0652 \\u064b\\u0634\\u0647\\u0650\\u0627\\u062f\\u0629\\u064c \\u0650\\u0627\\u0644\\u062f\\u0650\\u0643\\u062a\\u064e\\u0648\\u0631\\u0651\\u0627\\u0647 \\u0645\\u064c\\u0646\\u0651 \\u062e\\u064f\\u0644\\u064b\\u0627\\u0651\\u0644\\u064f \\u064f\\u0642\\u0652\\u0631\\u0627\\u0621\\u0652\\u0629 \\u064e\\u0627\\u0644\\u064d\\u0639\\u064b\\u0644\\u064e\\u0627\\u0642\\u0627\\u064c\\u062a \\u0627\\u0652\\u0644\\u0623\\u0650\\u062e\\u0648\\u064d\\u064a\\u064e\\u0629 \\u064d\\u0628\\u064a\\u0646 \\u064e\\u0627\\u0644\\u064f\\u0628\\u064e\\u0644\\u062f\\u064a\\u064c\\u0646 \\u0652.\\u0652\\u0648\\u062c\\u0627\\u0621\\u064e \\u062d\\u064d\\u062f\\u064d\\u064a\\u064d\\u062b\\u064f \\u0627\\u064f\\u0644\\u0651\\u0628\\u0652\\u062f\\u064c\\u0648\\u0631\\u064e \\u064e\\u0628\\u0645\\u0627 \\u064a\\u064f\\u0634\\u0650\\u0628\\u0647 \\u064f\\u0627\\u064f\\u0644\\u0652\\u0634\\u0650\\u0647\\u0627\\u062f\\u064e\\u0629\\u064e\\u060c \\u0645\\u0646 \\u064c\\u0642\\u064e\\u0628\\u0644\\u064e \\u0652\\u0623\\u062d\\u064e\\u062f\\u064f \\u0651\\u0623\\u064c\\u0628\\u064f\\u0646\\u0627\\u0621 \\u064d\\u0627\\u0644\\u064c\\u062c\\u064a\\u064d\\u0644 \\u0627\\u064d\\u0644\\u064e\\u0630\\u064a\\u064d \\u064f\\u0641\\u062a\\u0651\\u062d \\u0639\\u064a\\u0646\\u064a\\u064b\\u0647\\u064b \\u0650\\u0639\\u064b\\u0644\\u064d\\u0649\\u0650 \\u0627\\u0644\\u0645\\u0646\\u0627\\u064f\\u0647\\u064b\\u062c \\u0627\\u0652\\u0644\\u0651\\u062a\\u0639\\u0644\\u064f\\u064a\\u0645\\u064a\\u0629 \\u0627\\u0644\\u0651\\u0643\\u064f\\u0648\\u0650\\u064a\\u062a\\u064a\\u0629\\u064e \\u0627\\u0650\\u0644\\u062a\\u064a\\u064b \\u064e\\u062a\\u0645 \\u062a\\u064b\\u062f\\u0650\\u0631\\u064a\\u064f\\u0633\\u0650\\u0647\\u064e\\u0627\\u064b \\u0641\\u0651\\u064a\\u064d \\u0627\\u064f\\u0644\\u0652\\u0625\\u064d\\u0645\\u064c\\u0627\\u0631\\u064c\\u0627\\u0652\\u062a\\u0652\\u060c \\u0648\\u0651\\u0642\\u064d\\u0627\\u0644: \\u064e\\u0643\\u0644 \\u064f\\u0630\\u064c\\u0644\\u0643 \\u064f\\u0630\\u0643\\u0631\\u0650\\u062a\\u0647 \\u0641\\u0651\\u064a \\u0643\\u062a\\u0627\\u0628\\u064a \\u064b\\\"\\u0627\\u0644\\u062c\\u0630\\u0648\\u0631 \\u0650\\u0627\\u064f\\u0644\\u062a\\u0627\\u0631\\u0652\\u064a\\u064d\\u062e\\u0650\\u064a\\u0651\\u0629\\u064d \\u064e\\u0644\\u064f\\u0644\\u0639\\u064b\\u0644\\u0627\\u0642\\u0627\\u0650\\u062a\\u064f \\u064e\\u0627\\u064f\\u0644\\u062b\\u0652\\u0642\\u0627\\u0650\\u0641\\u064d\\u064a\\u0629 \\u064c\\u0628\\u064a\\u064b\\u0646 \\u0650\\u0627\\u0644\\u0625\\u0645\\u0627\\u0631\\u0627\\u064c\\u062a\\u064c \\u064f\\u0648\\u064e\\u0627\\u064b\\u0644\\u0643\\u0650\\u0648\\u064a\\u064f\\u062a\\\"\\u060c \\u0652\\u0648\\u0643\\u064b\\u0627\\u064b\\u0646 \\u064c\\u0628\\u064f\\u0645\\u064f\\u062b\\u064f\\u0627\\u064e\\u0628\\u064c\\u0629\\u064d \\u064c\\u0631\\u0652\\u0633\\u064b\\u0627\\u0651\\u0644\\u064e\\u0629 \\u0634\\u0652\\u0643\\u0631 \\u0652\\u0644\\u0644\\u0643\\u0648\\u064a\\u062a\\u060c \\u0648\\u064c\\u0623\\u0636\\u0650\\u0627\\u064d\\u0641:\\u064d \\u0623\\u062c\\u064f\\u0644\\u060c\\u064e \\u064c\\u062a\\u062a\\u0644\\u0645\\u0630\\u0646\\u0627\\u064c \\u0639\\u064f\\u0644\\u0651\\u0649 \\u0650\\u0645\\u064d\\u0646\\u064c\\u0627\\u064c\\u0647\\u062c \\u064b\\u0627\\u0644\\u0643\\u064e\\u0648\\u064b\\u064a\\u062a\\u064d\\u060c\\u0650 \\u0648\\u0642\\u0631\\u0623\\u0646\\u0627\\u064d \\u0650\\u0639\\u064e\\u0628\\u0627\\u0631\\u064d\\u0629 \\u064e\\\"\\u0639\\u064f\\u0644\\u0645 \\u0628\\u0651\\u0644\\u0651\\u0627\\u062f\\u064a\\u0650 \\u0651\\u0644\\u0651\\u0648\\u064e\\u0646\\u0647\\u0650 \\u064c\\u0623\\u064c\\u062d\\u0645\\u0650\\u0631\\\" \\u0648\\u0650\\u0627\\u0631\\u062a\\u064c\\u062f\\u064a\\u0646\\u0652\\u0627\\u064e \\u0632\\u064a \\u0627\\u064e\\u0644\\u0652\\u0645\\u062f\\u0651\\u0627\\u0652\\u0631\\u064b\\u0633\\u064f \\u064d\\u0627\\u0644\\u0643\\u064d\\u0648\\u064e\\u064a\\u062a\\u064a\\u0629 \\u0623\\u062b\\u064f\\u0646\\u064f\\u0627\\u064e\\u0621\\u064c \\u0651\\u062a\\u0639\\u064e\\u0644\\u0650\\u064a\\u0645\\u0646\\u0627\\u064c\\u060c \\u064c\\u0648\\u0652\\u062a\\u064d\\u0646\\u0627\\u0650\\u0648\\u0644\\u064b\\u0646\\u0627 \\u0627\\u0644\\u064e\\u0648\\u062c\\u064f\\u0628\\u0652\\u0627\\u062a\\u064d \\u0627\\u0651\\u0644\\u0635\\u0628\\u0627\\u062d\\u0650\\u064a\\u0629\\u0651 \\u0627\\u0651\\u0644\\u0650\\u0643\\u064b\\u0648\\u064a\\u062a\\u064a\\u0629\\u0650 \\u064d\\u0641\\u0650\\u064a \\u0645\\u062f\\u064b\\u0627\\u064b\\u0631\\u064c\\u0633\\u0646\\u0627\\u0652\\u060c\\u064b \\u0648\\u0627\\u0633\\u062a\\u062e\\u064c\\u062f\\u064f\\u0645\\u0651\\u0646\\u0627 \\u064d\\u0627\\u064b\\u0644\\u064c\\u0623\\u0650\\u0642\\u064c\\u0644\\u0627\\u0651\\u0645 \\u0652\\u0648\\u064d\\u0627\\u0644\\u0652\\u0645\\u0645\\u064e\\u062d\\u0651\\u0627\\u064f\\u064a\\u064d\\u0627\\u064b\\u062a\\u064e \\u0648\\u0627\\u064d\\u0644\\u064b\\u0645\\u0628\\u0631\\u0627\\u064a\\u0652\\u0627\\u064b\\u062a \\u064d\\u0627\\u0644\\u064e\\u0643\\u0648\\u064c\\u064a\\u062a\\u064a\\u0629\\u064e\\u060c \\u0644\\u064d\\u0627\\u064c \\u0641\\u0631\\u0642 \\u064f\\u0628\\u064b\\u064a\\u064c\\u0646\\u064d\\u0646\\u0651\\u0627\\u060c \\u0628\\u064a\\u064b\\u0626\\u0650\\u062a\\u0627 \\u0628\\u064f\\u0644\\u062f\\u064a\\u0646\\u0627\\u064b \\u0648\\u0650\\u0627\\u064f\\u062d\\u0652\\u062f\\u0629\\u064d\\u060c \\u0647\\u064a \\u0627\\u064f\\u0644\\u0628\\u0650\\u064a\\u0650\\u0626\\u0629\\u064b \\u064c\\u0627\\u0650\\u0644\\u0628\\u062d\\u0631\\u064a\\u0629\\u064f \\u064f.\\u064b \\u0648\\u0628\\u0652\\u0639\\u062f\\u064f \\u064f\\u0623\\u0650\\u0641\\u064c\\u0648\\u0644 \\u062a\\u064d\\u062c\\u0627\\u0652\\u0631\\u0629\\u064c \\u0627\\u0644\\u0644\\u0624\\u0644\\u064b\\u0624\\u060c \\u0651\\u0641\\u064f\\u0625\\u0652\\u0646\\u0651 \\u0645\\u0651\\u062b\\u064e\\u0642\\u064f\\u0641\\u064a\\u0646\\u0627\\u064c \\u0648\\u064d\\u0639\\u0650\\u0645\\u064e\\u0627\\u0644\\u064f\\u0646\\u064f\\u0627 \\u062a\\u0648\\u062c\\u0647\\u0648\\u0627\\u064b \\u0625\\u0644\\u0649 \\u0627\\u0644\\u064e\\u0643\\u0650\\u0648\\u064b\\u064a\\u064b\\u062a\\u064f \\u0644\\u0650\\u0644\\u0639\\u064d\\u0645\\u0644 \\u0651\\u0641\\u064f\\u064a\\u0647\\u0627\\u064f\\u060c \\u0650\\u0643\\u0651\\u0645\\u0627 \\u0623\\u064f\\u0646 \\u0647\\u064c\\u0646\\u0627\\u0643 \\u0623\\u064f\\u062c\\u064a\\u0627\\u064c\\u0644\\u0651\\u0627\\u0650\\u064b \\u064e\\u0645\\u064b\\u0646 \\u0627\\u0652\\u0644\\u064e\\u0643\\u064b\\u0648\\u064a\\u062a\\u064b\\u064a\\u064a\\u0646 \\u064b\\u0639\\u064d\\u0627\\u0634\\u0648\\u064b\\u0627 \\u0641\\u064e\\u064a \\u064f\\u0627\\u0650\\u0644\\u064e\\u0625\\u064d\\u0645\\u0627\\u0631\\u0627\\u062a\\u064d\\u060c \\u064d\\u0648\\u0651\\u0645\\u064e\\u0646\\u064b\\u0647\\u0645 \\u0645\\u0646\\u064c \\u064b\\u0639\\u0650\\u0644\\u0652\\u0645\\u064d\\u0648\\u064e\\u0646\\u0627 .\\u0651 \\u0643\\u0645\\u0627 \\u0631\\u0627\\u0651\\u062d\\u0652 \\u064a\\u0650\\u062a\\u062d\\u064d\\u062f\\u062b \\u0639\\u0646\\u0651 \\u0627\\u0644\\u062a\\u0641\\u064e\\u0627\\u0639\\u064e\\u0644\\u064b \\u0627\\u064c\\u0644\\u062b\\u0650\\u0642\\u0652\\u0627\\u0641\\u064c\\u064a \\u0628\\u064d\\u064a\\u0646\\u0650 \\u064b\\u0627\\u0644\\u064d\\u0628\\u0644\\u0651\\u062f\\u064a\\u064d\\u0646 \\u0639\\u064e\\u0628\\u0631 \\u064d\\u0642\\u064d\\u0635\\u064f\\u0627\\u0626\\u0650\\u062f\\u064d \\u0627\\u0651\\u0644\\u064b\\u0634\\u0639\\u0652\\u0631\\u0627\\u064e\\u0621\\u060c\\u064d \\u064b\\u0627\\u0644\\u0652\\u0641\\u0652\\u0635\\u0652\\u062d\\u064c\\u0649\\u064b \\u0648\\u064c\\u0627\\u0644\\u0650\\u0646\\u064b\\u0628\\u0637\\u064a\\u064f\\u0629\\u0650\\u060c \\u0650\\u0641\\u0652\\u0636\\u064b\\u0644\\u0650\\u0627\\u064b\\u064b \\u064c\\u0639\\u064d\\u0646 \\u0651\\u0627\\u064d\\u0644\\u062a\\u0641\\u064c\\u0627\\u0639\\u064f\\u0644\\u064c \\u0651\\u0645\\u0652\\u0639 \\u0648\\u064b\\u0633\\u0627\\u0652\\u0626\\u064b\\u0644\\u064b \\u0627\\u0644\\u0625\\u0650\\u0639\\u0644\\u0627\\u0645\\u0650 \\u064d\\u0641\\u0650\\u064a\\u064e \\u0643\\u0644\\u0627 \\u0627\\u064b\\u0644\\u0628\\u0651\\u0644\\u064e\\u062f\\u064c\\u064a\\u064d\\u0646\\u060c\\u064c \\u0650\\u0625\\u064f\\u0630 \\u064c\\u0641\\u064c\\u062a\\u062d\\u062a\\u0650 \\u064c\\u0627\\u0644\\u0651\\u0635\\u064d\\u062d\\u064e\\u0627\\u064c\\u0641\\u0629\\u0650 \\u0627\\u064e\\u0644\\u064e\\u0643\\u0648\\u064a\\u062a\\u064a\\u0650\\u0629\\u064f \\u0651\\u0623\\u064f\\u0628\\u0652\\u0648\\u064e\\u0627\\u0628\\u0647\\u064d\\u0627\\u0651 \\u0644\\u0644\\u0645\\u062b\\u0642\\u0641\\u064a\\u064b\\u0646\\u064b \\u0627\\u064f\\u0644\\u0625\\u0645\\u0627\\u0631\\u0652\\u0627\\u0650\\u062a\\u064f\\u064a\\u064e\\u064a\\u0650\\u0646 .\",\n          \"https://example.com/resource/\\u0623\\u0650\\u0628\\u0648\\u0638\\u0628\\u064f\\u064a\\u0651 \\u064c-\\u0650 \\u064b\\u0645\\u0646\\u0651\\u064a\\u0650 \\u0650\\u0628\\u0651\\u0648\\u0651\\u0646\\u0639\\u064f\\u0627\\u064b\\u0645\\u0629:\\u0646\\u064e\\u0638\\u0645 \\u0627\\u062a\\u062d\\u0627\\u062f \\u064d\\u0643\\u0651\\u062a\\u0627\\u0650\\u0628\\u064d \\u0651\\u0648\\u0652\\u0623\\u062f\\u0652\\u0628\\u064e\\u0627\\u064b\\u0621 \\u064f\\u0627\\u0644\\u0625\\u0645\\u0627\\u0651\\u0631\\u0627\\u0650\\u062a \\u0641\\u064a \\u0623\\u0628\\u0648\\u0650\\u0638\\u0628\\u064b\\u064a\\u0651\\u060c\\u064c \\u0645\\u0633\\u064c\\u0627\\u064e\\u0621\\u064c \\u0623\\u0645\\u064c\\u0633\\u064d \\u0627\\u0644\\u064f\\u0623\\u064e\\u0648\\u0651\\u0644\\u060c \\u064f\\u0641\\u0650\\u064a\\u064d \\u0642\\u0651\\u0627\\u0650\\u0639\\u0629\\u064d \\u0627\\u0652\\u0644\\u062f\\u0643\\u062a\\u0648\\u064c\\u0631\\u064c \\u064c\\u0639\\u0628\\u062f\\u064e \\u064b\\u0627\\u0644\\u064c\\u0644\\u0647\\u0651 \\u0639\\u0645\\u0631\\u0627\\u064d\\u0646 \\u064f\\u062a\\u0650\\u0631\\u0651\\u064a\\u0645\\u0652 \\u064d\\u0641\\u064a\\u064f \\u0645\\u0651\\u0642\\u0631 \\u064d\\u0627\\u0644\\u0627\\u062a\\u064c\\u062d\\u0627\\u062f\\u064c \\u064c\\u0627\\u0644\\u064c\\u062c\\u062f\\u064a\\u0651\\u062f \\u0641\\u064a \\u0645\\u0650\\u0639\\u064e\\u0633\\u064b\\u0643\\u0631\\u064d \\u064f\\u0622\\u0644\\u0651 \\u0646\\u064b\\u0647\\u064a\\u0627\\u0646\\u064f \\u0623\\u064e\\u0645\\u0650\\u0633\\u064f\\u064a\\u0629 \\u0644\\u0652\\u0644\\u064e\\u0643\\u064c\\u0627\\u062a\\u0628\\u064d \\u0651\\u0648\\u064e\\u0627\\u0644\\u0652\\u0645\\u062b\\u064e\\u0642\\u0651\\u0641\\u064c \\u064d\\u0627\\u0644\\u0625\\u0645\\u064d\\u0627\\u064c\\u0631\\u064c\\u0627\\u062a\\u0651\\u064a\\u064f \\u0645\\u0627\\u062c\\u064c\\u062f \\u0628\\u0648 \\u0634\\u064f\\u0644\\u064a\\u0628\\u064f\\u064a\\u060c\\u064d \\u0623\\u064f\\u0645\\u064b\\u064a\\u0646 \\u0639\\u0627\\u0645\\u0652 \\u0652\\u0627\\u0644\\u0645\\u0646\\u062a\\u0650\\u062f\\u0651\\u0649 \\u0650\\u0627\\u0644\\u064d\\u0625\\u064e\\u0633\\u0651\\u0644\\u0651\\u0627\\u0645\\u0652\\u064a\\u064f \\u0641\\u064f\\u064a \\u0627\\u0644\\u064e\\u0634\\u0650\\u0627\\u0631\\u064d\\u0642\\u064e\\u0629\\u064e\\u060c\\u0650 \\u064c\\u0628\\u064f\\u0639\\u0646\\u0648\\u064f\\u0627\\u0646:\\u0651 \\u0644\\u0645\\u0627\\u0630\\u0627\\u064e \\u0651\\u0627\\u064b\\u0644\\u064f\\u0634\\u0651\\u0627\\u0631\\u0642\\u0629 \\u0639\\u0651\\u0627\\u064e\\u0635\\u0645\\u0629 \\u0650\\u0644\\u064d\\u0644\\u062b\\u064f\\u0642\\u0627\\u0641\\u064b\\u0629\\u064b \\u0627\\u064c\\u0644\\u0625\\u064c\\u0633\\u0652\\u0644\\u064d\\u0627\\u0645\\u0651\\u064a\\u0629\\u064d\\u061f \\u0642\\u062f\\u0651\\u0651\\u064e\\u0645 \\u0627\\u0644\\u064e\\u0623\\u0645\\u0633\\u064a\\u064f\\u0629\\u064f \\u064d\\u0627\\u0644\\u0634\\u0650\\u0627\\u0639\\u0631\\u0652 \\u0652\\u0648\\u0627\\u0644\\u0646\\u0627\\u0652\\u0642\\u062f \\u0645\\u064b\\u062d\\u064c\\u0645\\u062f \\u0646\\u0648\\u0631 \\u064f\\u0627\\u064c\\u0644\\u062f\\u064f\\u064a\\u0646\\u060c\\u0651 \\u064b\\u0648\\u0650\\u062d\\u0636\\u0650\\u0631\\u0651\\u0647\\u064c\\u0627\\u064e \\u064f\\u062d\\u0650\\u0628\\u064d\\u064a\\u0652\\u0628\\u064b \\u0627\\u064e\\u0644\\u0635\\u064b\\u0627\\u064a\\u0650\\u063a\\u0651 \\u064e\\u0631\\u064f\\u0626\\u064a\\u064d\\u0633\\u0652 \\u0645\\u062c\\u0651\\u0644\\u0633\\u0650 \\u0625\\u064c\\u062f\\u064c\\u0627\\u0631\\u0629\\u0650 \\u0651\\u0627\\u064c\\u0644\\u064b\\u0627\\u064b\\u062a\\u062d\\u0627\\u062f\\u0650\\u060c\\u064e \\u0648\\u0639\\u064b\\u062f\\u064b\\u062f \\u0645\\u0646 \\u064d\\u0627\\u0644\\u0643\\u062a\\u0651\\u0627\\u0628\\u064e \\u0648\\u0652\\u0627\\u064f\\u0644\\u064b\\u0623\\u064f\\u062f\\u0628\\u0627\\u064d\\u0621 \\u064d.\\u064e \\u064c\\u0627\\u0633\\u062a\\u064b\\u0647\\u0651\\u0644\\u0652 \\u0627\\u0652\\u0644\\u0651\\u0645\\u064d\\u062d\\u0652\\u0627\\u064f\\u0636\\u0631 \\u0628\\u0627\\u0633\\u062a\\u0639\\u064e\\u0631\\u0627\\u0636\\u0650 \\u0627\\u0644\\u0623\\u0637\\u0631 \\u0627\\u064c\\u0644\\u0639\\u064d\\u0627\\u0645\\u0629\\u0652 \\u0651\\u0627\\u064c\\u0644\\u062a\\u064a\\u0650 \\u0639\\u0645\\u0644\\u062a \\u064d\\u0639\\u0644\\u0649 \\u062a\\u064e\\u0634\\u0643\\u0651\\u064a\\u0652\\u0644\\u064f \\u064b\\u0648\\u0628\\u0644\\u064d\\u0648\\u064f\\u0631\\u0629 \\u0627\\u064f\\u0644\\u0641\\u0643\\u064b\\u0631\\u0652\\u0629 \\u0627\\u064e\\u0644\\u064c\\u062b\\u0642\\u0651\\u0627\\u0641\\u064d\\u064a\\u064b\\u0629\\u064e \\u0641\\u064b\\u064a\\u064f \\u064c\\u0627\\u0644\\u064f\\u0634\\u0627\\u0650\\u0631\\u064b\\u0642\\u0629\\u0652\\u060c\\u0652 \\u0645\\u0646\\u064c \\u0652\\u062e\\u0652\\u0644\\u0627\\u0652\\u0644\\u064d \\u0652\\u0627\\u0644\\u062a\\u064f\\u0639\\u064d\\u0631\\u064b\\u064a\\u0641 \\u0628\\u0652\\u0627\\u0644\\u062a\\u0650\\u062c\\u064b\\u0631\\u064f\\u0628\\u0629\\u0651 \\u064f\\u0648\\u0623\\u0647\\u0645 \\u0645\\u0633\\u0652\\u0627\\u0650\\u0631\\u064d\\u0627\\u062a\\u064b\\u0647\\u064d\\u0627\\u0652\\u060c\\u064f \\u0650\\u0648\\u064b\\u0627\\u0650\\u0644\\u0651\\u0623\\u0637\\u0650\\u0648\\u064c\\u0627\\u0631 \\u0651\\u0627\\u0652\\u0644\\u064d\\u062a\\u064a \\u0650\\u0645\\u064c\\u0631\\u064b\\u062a \\u0628\\u0647\\u0650\\u0627\\u064d\\u060c \\u0628\\u0652\\u062f\\u064e\\u0621\\u0651\\u0627\\u064b\\u064d \\u0628\\u064d\\u0627\\u0644\\u062d\\u062f\\u064a\\u064c\\u062b\\u064b \\u064d\\u0639\\u064b\\u0646 \\u0628\\u064d\\u0646\\u0627\\u0652\\u0621\\u064d \\u0627\\u0644\\u0628\\u064d\\u0646\\u0649\\u0650 \\u0627\\u0651\\u0644\\u0650\\u062a\\u064c\\u062d\\u062a\\u064c\\u064a\\u064c\\u0629\\u0650 \\u064d\\u0644\\u0644\\u0645\\u0624\\u064b\\u0633\\u0633\\u0650\\u0627\\u062a \\u0650\\u0627\\u0644\\u062b\\u064e\\u0642\\u0652\\u0627\\u0641\\u064a\\u064d\\u0629\\u064c \\u064f\\u0648\\u0627\\u064e\\u0644\\u0625\\u0651\\u0639\\u064e\\u0644\\u0627\\u0645\\u0650\\u064a\\u0629\\u0651 \\u064c\\u0627\\u0644\\u062a\\u064a \\u0623\\u064d\\u0633\\u0651\\u0647\\u0645\\u064f\\u062a\\u060c \\u064d\\u0639\\u064f\\u0628\\u0631 \\u0651\\u062a\\u0627\\u0652\\u0631\\u064a\\u062e\\u0647\\u0627\\u0652\\u060c\\u064e \\u0641\\u064c\\u064a\\u0651 \\u0652\\u062a\\u064b\\u0641\\u0639\\u064a\\u0644 \\u0627\\u0651\\u0644\\u0639\\u0650\\u0645\\u064b\\u0644\\u064b \\u0627\\u064e\\u0644\\u062b\\u0650\\u0642\\u064e\\u0627\\u0650\\u0641\\u0651\\u064a \\u0641\\u064f\\u064a \\u0627\\u064d\\u0644\\u0634\\u0627\\u0652\\u0631\\u0642\\u0629\\u060c \\u0627\\u0646\\u0637\\u0644\\u064d\\u0627\\u0642\\u0627\\u064b\\u0651 \\u0645\\u0650\\u0646\\u064b \\u062a\\u0623\\u0633\\u064f\\u064a\\u0633\\u0651 \\u064c\\u062f\\u0627\\u0652\\u0626\\u0631\\u0629\\u064d \\u0652\\u0627\\u0650\\u0644\\u064f\\u062b\\u0642\\u064b\\u0627\\u0641\\u0629 \\u064d\\u0648\\u0627\\u064c\\u0644\\u0625\\u0651\\u0639\\u0644\\u0627\\u0650\\u0645\\u064f\\u060c\\u0651 \\u0648\\u0650\\u062a\\u0644\\u0641\\u0632\\u064a\\u0648\\u064b\\u0646 \\u0627\\u0644\\u064f\\u0634\\u0627\\u064c\\u0631\\u0642\\u0652\\u0629\\u0650 \\u0648\\u0645\\u0627 \\u062a\\u062e\\u064d\\u0644\\u064c\\u0644\\u064f \\u0630\\u0644\\u0643\\u064c \\u064e\\u0645\\u064b\\u0646\\u064f \\u0625\\u064b\\u0628\\u0631\\u0627\\u0632\\u064f \\u0648\\u062a\\u0634\\u062c\\u064c\\u064a\\u064f\\u0639\\u064d \\u064f\\u0644\\u0644\\u062b\\u0642\\u064b\\u0627\\u064c\\u0641\\u0629 \\u0648\\u064b\\u0627\\u064b\\u0644\\u0641\\u0646\\u064e\\u0648\\u064d\\u0646\\u064e \\u0645\\u0646\\u064f \\u064f\\u062e\\u0644\\u0627\\u0644 \\u064b\\u0627\\u064f\\u0644\\u064f\\u0645\\u064d\\u0639\\u064d\\u0627\\u0631\\u0636 \\u0627\\u0644\\u0651\\u0641\\u064f\\u0646\\u064a\\u064b\\u0629\\u064f \\u0648\\u064d\\u0627\\u0644\\u0650\\u0641\\u0639\\u0627\\u064e\\u0644\\u064a\\u0627\\u062a\\u0652 \\u064f\\u0627\\u0652\\u0644\\u064c\\u062b\\u0642\\u064b\\u0627\\u0651\\u0641\\u064b\\u064a\\u0629 \\u064f\\u0627\\u0644\\u062a\\u064f\\u064a \\u0651\\u062a\\u0635\\u0628 \\u064d\\u0641\\u064a \\u0642\\u0627\\u064b\\u0644\\u064b\\u0628\\u0650 \\u0627\\u0644\\u0646\\u064c\\u0647\\u064b\\u0648\\u0636\\u064b \\u0644\\u064b\\u0634\\u0627\\u064b\\u0631\\u064d\\u0642\\u0650\\u0629\\u064d \\u0627\\u0644\\u0652\\u062b\\u0642\\u064f\\u0627\\u0641\\u0652\\u0629\\u064e \\u064d\\u0648\\u0627\\u0644\\u0645\\u064c\\u0639\\u0631\\u0641\\u064e\\u0629\\u064c\\u060c \\u0645\\u064c\\u0627 \\u064a\\u064c\\u062c\\u064b\\u064a\\u0628 \\u0628\\u064b\\u0634\\u0643\\u0644\\u0650 \\u0642\\u064b\\u0637\\u0639\\u0650\\u064a \\u064d\\u0639\\u064c\\u0646\\u064d \\u0627\\u0651\\u0644\\u064e\\u062a\\u064e\\u0633\\u0651\\u0627\\u0624\\u0644 \\u0652\\u0627\\u0644\\u0645\\u0652\\u0631\\u0643\\u0632\\u064b\\u064a\\u0650 \\u0644\\u0645\\u0627\\u0651\\u0630\\u0627\\u0651 \\u064f\\u0627\\u0650\\u0644\\u0634\\u0627\\u0651\\u0631\\u0642\\u0629\\u0651 \\u0639\\u0627\\u064b\\u0635\\u0645\\u0629\\u064f \\u064f\\u0627\\u064d\\u0644\\u064d\\u062b\\u0650\\u0642\\u0627\\u0641\\u064b\\u0629\\u064c \\u0627\\u064d\\u0644\\u0651\\u0625\\u0633\\u064b\\u0644\\u064c\\u0627\\u0645\\u064a\\u0629\\u064e\\u061f \\u064b\\u0648\\u064d\\u0623\\u0650\\u0634\\u0652\\u0627\\u0631 \\u064c\\u0627\\u0644\\u0645\\u062d\\u0627\\u064b\\u0636\\u0651\\u0631\\u064e \\u0652\\u0625\\u064f\\u0644\\u0649 \\u064e\\u0627\\u064d\\u0644\\u064d\\u062d\\u0631\\u0627\\u0643 \\u064d\\u0627\\u0644\\u062b\\u0642\\u0627\\u064e\\u0641\\u064a\\u0650 \\u0650\\u0627\\u0644\\u064b\\u0646\\u064f\\u0634\\u0637\\u0651 \\u0627\\u0644\\u0630\\u064c\\u064a\\u0652 \\u0634\\u0643\\u064b\\u0644\\u064f \\u0652\\u0627\\u0651\\u0644\\u064d\\u0628\\u0650\\u0648\\u0651\\u0627\\u0643\\u064f\\u064a\\u0631 \\u064c\\u0627\\u064d\\u0644\\u064b\\u0623\\u064c\\u0648\\u0644\\u0649\\u064c \\u0651\\u0644\\u0644\\u0651\\u0639\\u0645\\u0651\\u0644 \\u0627\\u0644\\u062b\\u0642\\u0627\\u0641\\u064a \\u0651\\u0641\\u064c\\u064a\\u064b \\u0627\\u0644\\u0652\\u0634\\u0651\\u0627\\u0651\\u0631\\u064f\\u0642\\u0629\\u064c\\u060c\\u0652 \\u0650\\u0627\\u064d\\u0644\\u0630\\u0651\\u064a\\u0651 \\u0634\\u0645\\u064c\\u0644 \\u0643\\u0627\\u0641\\u0629\\u064f \\u064e\\u0627\\u0644\\u064b\\u062c\\u0648\\u0627\\u0646\\u064c\\u0628\\u064c \\u0650\\u0628\\u0645\\u0627\\u064f \\u064b\\u0641\\u0652\\u064a\\u0652\\u0647\\u0627\\u064d \\u0625\\u0646\\u0652\\u0634\\u064c\\u0627\\u0621 \\u0651\\u0627\\u0644\\u0645\\u0631\\u0627\\u0643\\u0652\\u0632 \\u0648\\u0627\\u064e\\u0644\\u0645\\u062f\\u064f\\u0627\\u064d\\u0631\\u0633 \\u064b\\u0648\\u0650\\u0627\\u064c\\u0644\\u0651\\u062c\\u0652\\u0627\\u0645\\u0652\\u0639\\u0651\\u0627\\u062a\\u0652 \\u064f\\u0648\\u0650\\u0627\\u0644\\u0641\\u064f\\u0646\\u0650\\u0648\\u064e\\u0646\\u0652 \\u064b\\u0648\\u064b\\u0627\\u0644\\u0652\\u0645\\u0651\\u0633\\u064e\\u0627\\u0650\\u0631\\u062d \\u064d\\u0644\\u062a\\u0651\\u0639\\u0632\\u064b\\u064a\\u0632 \\u0627\\u0644\\u0641\\u0639\\u0644\\u064b \\u0627\\u0644\\u064b\\u062b\\u064e\\u0642\\u064e\\u0627\\u0651\\u0641\\u064c\\u064a\\u064d \\u0648\\u064c\\u062a\\u0633\\u0631\\u064a\\u064c\\u0639\\u064f \\u0639\\u062c\\u064f\\u0644\\u0629\\u064f \\u0627\\u0644\\u0650\\u0646\\u064e\\u0634\\u0627\\u0637\\u0652 \\u064d\\u0627\\u0644\\u062b\\u0642\\u064c\\u0627\\u0651\\u0641\\u0650\\u064a \\u064b\\u0641\\u064a \\u0627\\u064d\\u0644\\u0651\\u0634\\u0627\\u064b\\u0631\\u0642\\u0629\\u0650\\u060c\\u0651 \\u0643\\u0645\\u064c\\u0627 \\u064d\\u062a\\u0650\\u0645 \\u062a\\u062e\\u0635\\u064a\\u0635\\u064f \\u064f\\u0645\\u064c\\u0633\\u0650\\u0627\\u062d\\u0629 \\u0645\\u064c\\u0639\\u062a\\u064b\\u0628\\u0651\\u0631\\u064f\\u0629\\u064e \\u064b\\u0644\\u0644\\u0637\\u0641\\u0644\\u064f \\u0648\\u062b\\u0642\\u0652\\u0627\\u0652\\u0641\\u064c\\u062a\\u0647\\u064c\\u060c\\u0650 \\u0645\\u0646\\u0651 \\u062e\\u0652\\u0644\\u064f\\u0627\\u0644 \\u0625\\u0646\\u0634\\u064b\\u0627\\u0652\\u0621\\u064e \\u0651\\u0645\\u064f\\u0631\\u064c\\u0627\\u0643\\u0652\\u0632 \\u064c\\u0645\\u064c\\u0643\\u062a\\u0628\\u0652\\u0627\\u064c\\u062a \\u064e\\u0627\\u0644\\u064e\\u0623\\u0650\\u0637\\u064d\\u0641\\u064c\\u0627\\u0644\\u060c \\u0648\\u064d\\u0645\\u064d\\u0631\\u0652\\u0627\\u0643\\u0632 \\u064e\\u0627\\u064c\\u0644\\u0623\\u0637\\u0641\\u064c\\u0627\\u064d\\u0644\\u064d\\u060c \\u062b\\u0645\\u064c \\u0645\\u0652\\u0631\\u064d\\u0627\\u0643\\u0632 \\u064b\\u0627\\u064e\\u0644\\u0652\\u0646\\u0627\\u0634\\u0651\\u0626\\u0629\\u060c \\u0641\\u0645\\u0652\\u062c\\u064f\\u0644\\u0633 \\u064b\\u0623\\u064e\\u0639\\u0644\\u0649\\u064e \\u0652\\u0644\\u064f\\u0644\\u0637\\u0641\\u064e\\u0644\\u0652 \\u0625\\u064e\\u0644\\u0649 \\u064c\\u063a\\u064a\\u0631 \\u0630\\u064b\\u0644\\u0643 \\u0651\\u0645\\u0646 \\u0627\\u0644\\u0633\\u064b\\u064a\\u0627\\u0633\\u064c\\u0627\\u062a \\u064b\\u0627\\u0644\\u0652\\u062a\\u064a\\u064c \\u064e\\u0627\\u0650\\u0639\\u0650\\u062a\\u064b\\u0645\\u064b\\u062f\\u0647\\u0650\\u0627\\u064e \\u064d\\u0635\\u0651\\u0627\\u0652\\u062d\\u0628\\u0650 \\u0652\\u0627\\u0652\\u0644\\u0633\\u064c\\u0645\\u0648\\u064f \\u064b\\u0627\\u064b\\u0644\\u0650\\u0634\\u064f\\u064a\\u064d\\u062e \\u064f\\u0627\\u0644\\u062f\\u064b\\u0643\\u062a\\u0648\\u064f\\u0631 \\u064b\\u0633\\u064d\\u0644\\u064f\\u0637\\u0627\\u0646 \\u0628\\u0646 \\u0645\\u064e\\u062d\\u064c\\u0645\\u062f \\u0627\\u0650\\u0644\\u0642\\u0652\\u0627\\u0633\\u0645\\u064a\\u0652 \\u064e\\u0639\\u064d\\u0636\\u0648\\u064f \\u0627\\u0644\\u0645\\u062c\\u0650\\u0644\\u0633\\u064b \\u064c\\u0627\\u064d\\u0644\\u064b\\u0623\\u0639\\u0651\\u0644\\u0652\\u0649 \\u062d\\u064b\\u0627\\u0643\\u064c\\u0645\\u064e \\u064f\\u0627\\u064e\\u0644\\u0634\\u064e\\u0627\\u0650\\u0631\\u0642\\u064c\\u0629\\u0652 \\u064e\\u0644\\u0644\\u0650\\u0631\\u0642\\u0652\\u064a\\u064e \\u064c\\u0628\\u062b\\u0650\\u0642\\u064c\\u0627\\u064f\\u0641\\u064d\\u0629\\u0652 \\u0627\\u0652\\u0644\\u0637\\u0650\\u0641\\u0644 \\u0648\\u0652\\u062a\\u0646\\u064d\\u0645\\u064a\\u0651\\u0629 \\u0652\\u0645\\u064c\\u062f\\u064f\\u0627\\u064e\\u0631\\u064c\\u0643\\u0652\\u0647\\u0652 \\u0648\\u064d\\u0642\\u064e\\u062f\\u0631\\u0652\\u0627\\u0651\\u062a\\u064d\\u0647\\u064b \\u0650. \\u0648\\u064b\\u0630\\u0647\\u064d\\u0628\\u064b \\u0627\\u064c\\u0644\\u0645\\u0650\\u062d\\u0651\\u0627\\u0650\\u0636\\u064b\\u0631 \\u0625\\u064d\\u0644\\u0650\\u0649\\u0650 \\u064f\\u0623\\u0646\\u064e \\u064f\\u0627\\u0644\\u0652\\u0633\\u064c\\u064a\\u0651\\u0627\\u0633\\u0650\\u0627\\u062a\\u064d \\u0627\\u0644\\u062b\\u0652\\u0642\\u0627\\u0641\\u064a\\u0629\\u064b \\u0648\\u0627\\u0644\\u062a\\u064d\\u0648\\u062c\\u064c\\u064a\\u064b\\u0647\\u0627\\u062a\\u0650 \\u0650\\u0627\\u064b\\u0644\\u064d\\u0646\\u064e\\u064a\\u0651\\u0631\\u0629\\u064c \\u0644\\u064e\\u0635\\u064c\\u0627\\u062d\\u0650\\u0628\\u064c \\u0627\\u0644\\u0633\\u0645\\u0648 \\u064d\\u062d\\u0627\\u064c\\u0643\\u0652\\u0645\\u064b \\u0627\\u064d\\u0644\\u0634\\u064c\\u0627\\u0631\\u064f\\u0642\\u0629 \\u064b\\u062c\\u064c\\u0639\\u0644\\u0650\\u062a\\u064f \\u0650\\u0645\\u064e\\u0646 \\u0627\\u0651\\u0644\\u0639\\u064d\\u0645\\u064c\\u0644\\u064e \\u0627\\u0644\\u064d\\u062b\\u064b\\u0642\\u0627\\u064d\\u0641\\u064f\\u064a\\u0652 \\u0641\\u064a\\u064e \\u0627\\u0652\\u0644\\u064d\\u0634\\u0627\\u0631\\u064f\\u0642\\u0651\\u0629\\u064c \\u0639\\u0645\\u0644\\u0627\\u064b\\u0650 \\u0646\\u064e\\u0634\\u064d\\u0637\\u0651\\u0627\\u064b \\u0648\\u0651\\u0642\\u0651\\u0648\\u0651\\u064a\\u0652\\u0627\\u064b\\u064c \\u064e\\u0633\\u0648\\u064f\\u0627\\u0621 \\u064f\\u0645\\u064d\\u0646 \\u0652\\u062e\\u0652\\u0644\\u0650\\u0627\\u0644 \\u062a\\u064d\\u0648\\u064e\\u062c\\u0650\\u064a\\u0647\\u0627\\u064c\\u062a\\u064c \\u0650\\u0633\\u064e\\u0645\\u0651\\u0648\\u0647 \\u064c\\u0644\\u064e\\u0644\\u0627\\u0652\\u0631\\u062a\\u064d\\u0642\\u0651\\u0627\\u0621 \\u064c\\u0628\\u0627\\u0651\\u0644\\u064f\\u0641\\u0646\\u064f \\u0627\\u064d\\u0644\\u064d\\u062a\\u0634\\u064f\\u0643\\u064a\\u064e\\u0644\\u064e\\u064a\\u0652 \\u0648\\u064b\\u062a\\u0634\\u064f\\u062c\\u064d\\u064a\\u0639 \\u064b\\u0627\\u0652\\u0644\\u0641\\u0646\\u0627\\u0650\\u0646\\u064a\\u0646\\u060c\\u064c \\u0648\\u064f\\u0627\\u0642\\u062a\\u0646\\u064d\\u0627\\u0621\\u064c \\u0652\\u0623\\u064c\\u0639\\u064e\\u0645\\u064e\\u0627\\u0644 \\u0641\\u064b\\u0646\\u0651\\u064a\\u064e\\u0629\\u064e \\u0644\\u0645\\u0635\\u0650\\u0644\\u0652\\u062d\\u064d\\u0629\\u064f \\u064f\\u0645\\u062a\\u064b\\u062d\\u064d\\u0641\\u0651 \\u0627\\u0644\\u064b\\u0634\\u0627\\u0631\\u0651\\u0642\\u0629\\u060c \\u0648\\u064f\\u0625\\u064c\\u0646\\u062c\\u0627\\u0632 \\u064e\\u0642\\u0652\\u0627\\u0639\\u0629 \\u064e\\u062e\\u064f\\u0627\\u0651\\u0635\\u0629\\u0652 \\u064f\\u0628\\u0627\\u064f\\u0644\\u0622\\u062b\\u0650\\u0627\\u0651\\u0631 \\u0627\\u064b\\u0644\\u0625\\u0633\\u064d\\u0644\\u064c\\u0627\\u064d\\u0645\\u0651\\u064a\\u0629\\u064b \\u064f\\u0641\\u064e\\u064a \\u0645\\u062a\\u062d\\u0641 \\u0627\\u0652\\u0644\\u064d\\u0634\\u0627\\u0651\\u0631\\u0642\\u064e\\u0629\\u060c\\u064c \\u064d\\u0623\\u064b\\u0645\\u064e \\u0645\\u064f\\u0646 \\u062e\\u064c\\u0644\\u0627\\u0651\\u0644 \\u0650\\u0627\\u0633\\u064b\\u062a\\u0643\\u0645\\u0651\\u0627\\u064d\\u0644 \\u0627\\u0652\\u0644\\u0645\\u0652\\u0634\\u0652\\u0631\\u0648\\u0639\\u0627\\u064d\\u062a\\u064c \\u0627\\u0644\\u062b\\u0652\\u0642\\u0651\\u0627\\u0652\\u0641\\u064a\\u0629\\u064c \\u0648\\u064e\\u062a\\u0631\\u0645\\u064a\\u0645 \\u0627\\u0651\\u0644\\u0645\\u0628\\u0627\\u0646\\u064c\\u064a\\u064f \\u0627\\u0644\\u064d\\u062a\\u0650\\u0631\\u0627\\u0650\\u062b\\u064a\\u0650\\u0629 \\u0652\\u0648\\u063a\\u064a\\u0631\\u0647\\u064b\\u0627\\u064f \\u0645\\u064f\\u0646 \\u0627\\u064e\\u0644\\u0651\\u0623\\u0639\\u0651\\u0645\\u0627\\u0644 \\u064c\\u0648\\u0650\\u0627\\u0644\\u0623\\u064f\\u0646\\u0634\\u064e\\u0637\\u0629 \\u0652\\u0627\\u0644\\u062a\\u064a \\u062a\\u0635\\u0628 \\u0641\\u064a\\u064d \\u064e\\u0635\\u0645\\u064e\\u064a\\u0651\\u0645\\u0651 \\u064b\\u0627\\u0644\\u0650\\u0641\\u0639\\u0651\\u0644\\u064d \\u0627\\u064f\\u0644\\u064e\\u062b\\u064c\\u0642\\u0627\\u064b\\u0641\\u0651\\u064a .\\u0648\\u0623\\u0652\\u0643\\u064e\\u062f\\u064d \\u0627\\u0652\\u0644\\u0650\\u0645\\u0650\\u062d\\u0650\\u0627\\u064c\\u0636\\u0631 \\u0623\\u064d\\u0646 \\u0627\\u064c\\u0644\\u064e\\u062f\\u064e\\u0648\\u0652\\u0631\\u0629\\u0652 \\u064b\\u0627\\u0652\\u0644\\u064c\\u0623\\u064c\\u0648\\u064c\\u0644\\u064f\\u0649\\u0651 \\u0644\\u0645\\u064e\\u0639\\u0631\\u064d\\u0636\\u064d \\u0627\\u0644\\u0650\\u0643\\u0650\\u062a\\u0651\\u0627\\u0628\\u060c \\u0627\\u0644\\u0630\\u064d\\u064a \\u0623\\u0635\\u0651\\u0628\\u062d \\u0627\\u0651\\u0644\\u0652\\u064a\\u064f\\u0648\\u064c\\u0645\\u0651 \\u0648\\u062c\\u064b\\u0647\\u0629 \\u0639\\u0627\\u064b\\u0644\\u0651\\u0645\\u064a\\u0650\\u0629 \\u0644\\u0651\\u0644\\u0643\\u062a\\u0627\\u064d\\u0628\\u064e \\u064c\\u0648\\u0627\\u0644\\u0650\\u0645\\u0641\\u064e\\u0643\\u064b\\u0631\\u064a\\u0650\\u0646 \\u064e\\u0645\\u0650\\u0646\\u0650 \\u0623\\u0650\\u0646\\u064d\\u062d\\u064d\\u0627\\u064d\\u0621\\u064c \\u0627\\u064e\\u0644\\u0650\\u0639\\u0651\\u0627\\u0651\\u0644\\u0645\\u0652 \\u0638\\u0652\\u0644\\u0627\\u0644\\u0647\\u064c \\u0627\\u0644\\u0650\\u0648\\u0627\\u0631\\u064f\\u0641\\u0629\\u064e\\u060c\\u064f \\u0634\\u064d\\u0643\\u064d\\u0644\\u062a\\u0650 \\u064d\\u0646\\u064f\\u0642\\u064b\\u0637\\u0629 \\u064f\\u0627\\u064f\\u0646\\u064c\\u0637\\u0644\\u064e\\u0627\\u0652\\u0642 \\u064f\\u0648\\u062a\\u062d\\u0648\\u0650\\u0651\\u064d\\u0644 \\u0641\\u0652\\u064a\\u064d \\u0627\\u064e\\u0644\\u0645\\u0634\\u0652\\u0631\\u0652\\u0648\\u0639 \\u0652\\u0627\\u0644\\u0651\\u062b\\u0642\\u0652\\u0627\\u0652\\u0641\\u064d\\u064a\\u064f \\u0652\\u0644\\u064d\\u0635\\u0627\\u062d\\u0628 \\u064c\\u0627\\u064d\\u0644\\u064e\\u0633\\u0651\\u0645\\u0650\\u0648\\u064d \\u0650\\u062d\\u064d\\u0627\\u0643\\u0645\\u064f \\u0627\\u0652\\u0644\\u0634\\u0652\\u0627\\u064b\\u0631\\u0642\\u0651\\u0629\\u060c\\u0652 \\u0643\\u0652\\u0645\\u064b\\u0627\\u064e \\u064c\\u062a\\u0632\\u064f\\u0627\\u064d\\u0645\\u0646 \\u064c\\u0645\\u064c\\u0639\\u0651 \\u064e\\u0647\\u0650\\u0630\\u0647 \\u0627\\u0644\\u062f\\u0648\\u0631\\u0651\\u0629 \\u0627\\u064b\\u0641\\u0652\\u062a\\u062a\\u0627\\u062d \\u0645\\u064f\\u0643\\u064b\\u062a\\u0628\\u0652\\u0629\\u064e \\u0627\\u0644\\u064b\\u0645\\u064f\\u062d\\u0650\\u0645\\u0651\\u0648\\u062f\\u064e \\u0652(\\u0651\\u0627\\u0644\\u0652\\u0623\\u064b\\u0647\\u064f\\u0644\\u0650\\u064a\\u0629\\u0652)\\u0652\\u060c\\u0652 \\u0651\\u062b\\u064c\\u0645 \\u064b\\u0627\\u0644\\u0650\\u0645\\u0651\\u0631\\u064f\\u0643\\u0652\\u0632\\u0651 \\u064e\\u0627\\u0652\\u0644\\u064c\\u062b\\u0651\\u0642\\u0627\\u0641\\u0652\\u064a\\u064d \\u064f\\u0641\\u064a\\u0645\\u0627\\u0652 \\u0628\\u0639\\u062f\\u064d .\\u0652\\u0648\\u0651\\u0627\\u064c\\u0639\\u062a\\u0628\\u064d\\u0631 \\u0627\\u064d\\u0644\\u064c\\u0645\\u062d\\u064e\\u0627\\u064b\\u0636\\u0651\\u0631 \\u064b\\u0623\\u0646 \\u064b\\u062d\\u064b\\u0632\\u0645\\u0629 \\u0652\\u0627\\u0652\\u0644\\u064c\\u0645\\u064d\\u0647\\u064d\\u0631\\u062c\\u064d\\u0627\\u064d\\u0646\\u0627\\u0651\\u062a \\u0652\\u0648\\u0651\\u0627\\u0644\\u064f\\u0641\\u064b\\u0639\\u0650\\u0627\\u0644\\u064a\\u0650\\u0627\\u0651\\u062a\\u064b \\u0627\\u0644\\u0652\\u062a\\u064a\\u0650 \\u062a\\u0642\\u0652\\u0627\\u0650\\u0645 \\u0652\\u0639\\u0644\\u0651\\u0649 \\u0645\\u062f\\u0627\\u064c\\u0631\\u0650 \\u0627\\u064e\\u0644\\u0639\\u0627\\u0645\\u0650 \\u0650\\u0641\\u064a \\u064c\\u0627\\u0644\\u064e\\u0634\\u0627\\u064d\\u0631\\u0642\\u0629\\u064f\\u060c\\u0652 \\u0651\\u0648\\u0645\\u0627 \\u064a\\u0651\\u062a\\u064c\\u062e\\u0644\\u0650\\u0644\\u0647\\u064f\\u0627\\u0651 \\u0645\\u0646 \\u0623\\u0646\\u0634\\u0637\\u064c\\u0629\\u064d \\u062b\\u0642\\u064d\\u0627\\u0641\\u0652\\u064a\\u0629\\u064f \\u064c\\u0645\\u0651\\u062a\\u064f\\u0646\\u0648\\u064d\\u0639\\u0652\\u0629 \\u064d\\u062a\\u064c\\u0634\\u064b\\u0643\\u0652\\u0644\\u064f \\u064f\\u0623\\u064d\\u0648\\u062c\\u064c \\u0650\\u0627\\u064f\\u0644\\u062d\\u0631\\u064d\\u0627\\u0652\\u0643\\u0651 \\u064f\\u0627\\u064e\\u0644\\u062b\\u0642\\u0627\\u0641\\u064b\\u064a\\u064f\\u060c\\u064d \\u0648\\u0631\\u0627\\u0651\\u0641\\u0652\\u062f\\u0652\\u0627\\u064f\\u064b\\u0651 \\u0623\\u0633\\u0627\\u064d\\u0633\\u064d\\u064a\\u064e\\u0627\\u064c\\u064b \\u0644\\u0644\\u064c\\u062a\\u0641\\u0652\\u0627\\u0639\\u0644\\u0651 \\u0651\\u0648\\u0652\\u0627\\u0644\\u0652\\u062a\\u0646\\u0627\\u0650\\u063a\\u0645 \\u0627\\u0644\\u064b\\u062b\\u0650\\u0642\\u0627\\u064b\\u0641\\u064c\\u064a \\u064d\\u0641\\u064a\\u0651 \\u0625\\u0645\\u0627\\u0631\\u0652\\u0629\\u0652 \\u062a\\u0632\\u064c\\u062f\\u0651\\u0627\\u064c\\u0646 \\u0648\\u062a\\u0652\\u0632\\u062f\\u064d\\u0647\\u0651\\u064a\\u0650 \\u0643\\u0644 \\u064e\\u062d\\u064e\\u064a\\u064e\\u0646 \\u0628\\u0651\\u0644\\u0650\\u0641\\u064f\\u062a\\u064c\\u0629\\u064b \\u0643\\u064d\\u0631\\u064a\\u0645\\u0629\\u0651 \\u0648\\u064d\\u0633\\u064c\\u0627\\u064e\\u0646\\u062d\\u0629 \\u064e\\u0637\\u064a\\u064e\\u0628\\u0629 \\u0645\\u0650\\u0646 \\u0652\\u062d\\u0627\\u064e\\u0643\\u064b\\u0645 \\u0645\\u062b\\u0642\\u0641\\u0652\\u060c \\u064a\\u064e\\u062d\\u064b\\u0645\\u064d\\u0644\\u0652 \\u0639\\u0644\\u0649 \\u0639\\u064d\\u0627\\u064b\\u062a\\u064f\\u0642\\u0647 \\u064b\\u0627\\u064e\\u0644\\u064e\\u0646\\u0651\\u0647\\u064f\\u0648\\u064d\\u0636 \\u064f\\u0628\\u0652\\u0627\\u064c\\u0644\\u062b\\u064d\\u0642\\u064f\\u0627\\u064c\\u0641\\u064b\\u0629\\u064c \\u0648\\u064f\\u0627\\u064c\\u0644\\u064b\\u0645\\u064e\\u0639\\u064b\\u0631\\u0650\\u0641\\u0629 \\u064b.\\u0648\\u062e\\u0651\\u0644\\u0650\\u0635 \\u064f\\u0627\\u0650\\u0644\\u0650\\u0645\\u062d\\u064b\\u0627\\u0636\\u0631 \\u0625\\u064e\\u0644\\u0651\\u0649\\u0652 \\u0623\\u064b\\u0646 \\u064c\\u062b\\u064e\\u0645\\u0629\\u0651 \\u064b\\u062b\\u0644\\u0627\\u064e\\u062b\\u064c \\u0646\\u0642\\u0651\\u0627\\u0637 \\u064e\\u0644\\u064b\\u0644\\u0650\\u0627\\u064b\\u0631\\u064c\\u062a\\u0642\\u0650\\u0627\\u0621\\u064b \\u064e\\u0628\\u064d\\u0627\\u064d\\u0644\\u0641\\u0643\\u0652\\u0631\\u0629 \\u064d\\u0627\\u064d\\u0644\\u062b\\u0642\\u0651\\u0627\\u0641\\u064d\\u064a\\u064d\\u0629\\u0650 \\u0641\\u064e\\u064a\\u064d \\u064f\\u0627\\u0644\\u064c\\u0634\\u064d\\u0627\\u0631\\u0652\\u0642\\u0629 \\u0623\\u064d\\u0648\\u0644\\u0650\\u0647\\u0627 \\u064d\\u062a\\u0652\\u0623\\u064b\\u0633\\u064e\\u064a\\u0633 \\u0650\\u062f\\u0652\\u0627\\u0652\\u0626\\u0650\\u0631\\u0652\\u0629\\u064e \\u064e\\u0627\\u0644\\u062b\\u0642\\u0651\\u0627\\u0641\\u0629 \\u0648\\u064e\\u0627\\u0650\\u0644\\u064e\\u0625\\u0639\\u0650\\u0644\\u0627\\u0645\\u0651\\u060c \\u064c\\u0648\\u0650\\u062b\\u0652\\u0627\\u0646\\u064a\\u0647\\u0651\\u0627\\u064c \\u0627\\u062c\\u062a\\u0651\\u0645\\u064d\\u0627\\u064d\\u0639 \\u064e\\u0635\\u0627\\u062d\\u0650\\u0628\\u0650 \\u0627\\u0651\\u0644\\u0651\\u0633\\u0651\\u0645\\u0648\\u064d \\u0650\\u062d\\u0627\\u064f\\u0643\\u064b\\u0645 \\u0627\\u0644\\u064f\\u0634\\u0652\\u0627\\u064b\\u0631\\u0642\\u064d\\u0629\\u0651 \\u064c\\u0628\\u0643\\u064f\\u0648\\u0650\\u0627\\u062f\\u064c\\u0631 \\u0627\\u0644\\u064b\\u062f\\u064b\\u0627\\u0650\\u0626\\u0631\\u064b\\u0629 \\u064c\\u0648\\u0642\\u0651\\u062f\\u064f\\u0651\\u0645 \\u0641\\u0651\\u064a\\u0647\\u064f \\u0645\\u062c\\u0650\\u0645\\u064b\\u0648\\u064d\\u0639\\u0651\\u0629\\u064d \\u0645\\u064f\\u0646 \\u0652\\u0627\\u064e\\u0644\\u0633\\u064a\\u0651\\u0627\\u0651\\u0633\\u0627\\u062a \\u0651\\u0627\\u0644\\u062b\\u0642\\u064c\\u0627\\u064b\\u0641\\u064a\\u064e\\u0629 \\u0648\\u064c\\u0627\\u0644\\u062e\\u0651\\u0637\\u0637\\u064b \\u0627\\u0644\\u064d\\u062a\\u0646\\u0645\\u064e\\u0648\\u064a\\u0650\\u0629 \\u0651\\u0648\\u062f\\u0652\\u0639\\u0627 \\u064c\\u0633\\u0650\\u0645\\u064b\\u0648\\u064c\\u0647 \\u064c\\u0625\\u0650\\u0644\\u064f\\u0649: \\u0627\\u0644\\u0627\\u0647\\u0651\\u062a\\u064f\\u0645\\u0627\\u064f\\u0645 \\u0628\\u064b\\u0627\\u0650\\u0644\\u064f\\u0645\\u0652\\u0633\\u0631\\u062d\\u060c\\u0652 \\u0648\\u064b\\u0627\\u0651\\u0644\\u0623\\u0637\\u064c\\u0631\\u0650 \\u0627\\u064d\\u0644\\u0651\\u0639\\u0627\\u064b\\u0645\\u0629 \\u064e\\u0644\\u0644\\u0650\\u062b\\u064e\\u0642\\u0627\\u064d\\u0641\\u0629\\u064d\\u060c\\u0651 \\u0651\\u0627\\u064c\\u0644\\u0650\\u0627\\u0631\\u064f\\u062a\\u0642\\u0627\\u064f\\u0621\\u064c \\u0628\\u064d\\u0627\\u0650\\u0644\\u0639\\u0645\\u0651\\u0644\\u064e \\u0627\\u0644\\u0651\\u062a\\u064d\\u0634\\u0643\\u0651\\u064a\\u0644\\u064a\\u0650\\u060c \\u0627\\u0651\\u0644\\u0627\\u064f\\u0647\\u064f\\u062a\\u0645\\u064d\\u0627\\u0645 \\u0650\\u0628\\u0650\\u0627\\u0651\\u0644\\u064b\\u0648\\u0639\\u0651\\u064a \\u064b\\u0648\\u0650\\u0627\\u0652\\u0644\\u064f\\u0630\\u0627\\u0626\\u0650\\u0642\\u0651\\u0629\\u064c \\u0627\\u0651\\u0644\\u062c\\u0650\\u0645\\u064d\\u0627\\u0652\\u0644\\u0652\\u064a\\u0652\\u0629\\u064f\\u060c \\u0627\\u064d\\u0644\\u0650\\u0627\\u0647\\u064f\\u062a\\u0645\\u0627\\u0651\\u0645\\u0652 \\u064f\\u0628\\u064d\\u0627\\u0644\\u0637\\u0641\\u0644\\u0651\\u060c \\u0651\\u062a\\u0637\\u0648\\u064a\\u0631\\u064b \\u0634\\u0628\\u0643\\u0629\\u0652 \\u0627\\u0644\\u0645\\u0643\\u062a\\u064b\\u0628\\u0627\\u062a\\u060c\\u0652 \\u064e\\u0627\\u0633\\u062a\\u0643\\u064f\\u0645\\u064d\\u0627\\u0644\\u064d \\u0639\\u064b\\u0645\\u064b\\u0644\\u0652\\u064a\\u0627\\u062a \\u064c\\u0627\\u0644\\u064f\\u062a\\u0631\\u0645\\u064a\\u0645\\u0650\\u060c \\u064b\\u0627\\u0644\\u064d\\u0627\\u0647\\u064b\\u062a\\u064c\\u0645\\u0652\\u0627\\u0650\\u0645\\u064d \\u0650\\u0628\\u062b\\u064e\\u0642\\u0652\\u0627\\u064b\\u0641\\u064e\\u0629\\u064d \\u0650\\u0627\\u064d\\u0644\\u0645\\u0650\\u0631\\u064b\\u0623\\u064b\\u0629 \\u0650\\u0648\\u064b\\u0627\\u064f\\u0644\\u064d\\u0637\\u0641\\u0652\\u0644 .\\u0652 \\u064c.\\u064d)\\u064f \\u064b\\u0648\\u062b\\u064b\\u0627\\u064d\\u0644\\u0651\\u062b\\u064b\\u0647\\u064e\\u0627\\u064f \\u064b\\u0625\\u0650\\u0639\\u0650\\u0644\\u0651\\u0627\\u064b\\u0646\\u064f \\u0627\\u0644\\u0634\\u0627\\u0631\\u0642\\u0629\\u064f \\u0651\\u0639\\u0627\\u064d\\u0635\\u064e\\u0645\\u0629\\u064c \\u0644\\u0644\\u064b\\u062b\\u0642\\u064b\\u0627\\u0641\\u0629 \\u064b\\u0627\\u0652\\u0644\\u064e\\u0639\\u0651\\u0631\\u0628\\u064a\\u0629\\u064f \\u064b\\u0641\\u064a\\u064b \\u0639\\u0627\\u0645 19\\u06529\\u064d8 \\u064e\\u0644\\u0645\\u0627 \\u062a\\u062a\\u0645\\u064b\\u064a\\u0632\\u064f \\u0628\\u064f\\u0647\\u064e \\u064e\\u0645\\u064b\\u0646\\u064b \\u064b\\u0646\\u064e\\u0634\\u0650\\u0627\\u0637 \\u0651\\u0648\\u064f\\u062d\\u064b\\u0631\\u0627\\u0643\\u064d \\u064f\\u062b\\u0642\\u0627\\u0641\\u064a\\u0650 \\u0645\\u0652\\u0645\\u064c\\u064a\\u0632\\u064d\\u060c\\u064e \\u064b\\u0641\\u0636\\u0644\\u0627\\u064b\\u064e \\u064f\\u0639\\u0650\\u0646 \\u062f\\u0648\\u0631\\u064b \\u064c\\u0627\\u0644\\u064d\\u062c\\u064f\\u0648\\u0627\\u0652\\u0626\\u064f\\u0632\\u0651 \\u0648\\u0635\\u0650\\u0646\\u064f\\u0627\\u062f\\u0651\\u064a\\u064b\\u0642 \\u064f\\u0627\\u064b\\u0644\\u062f\\u064d\\u0639\\u064c\\u0645\\u060c \\u064d\\u0648\\u0627\\u064f\\u0644\\u062f\\u0628\\u0652\\u0644\\u064b\\u0648\\u0645\\u0627\\u0633\\u064d\\u064a\\u0629 \\u064f\\u0627\\u0650\\u0644\\u064b\\u062b\\u0652\\u0642\\u0627\\u0641\\u0651\\u064a\\u0629\\u060c\\u064e \\u0648\\u0639\\u0650\\u062f\\u062f \\u0648\\u0652\\u0646\\u064c\\u0648\\u0639 \\u064b\\u0627\\u064b\\u0644\\u064c\\u062c\\u064b\\u0627\\u0645\\u0639\\u0650\\u0627\\u064c\\u062a \\u0648\\u0627\\u0644\\u064e\\u0645\\u0650\\u0631\\u0627\\u0652\\u0643\\u0632\\u060c \\u064f\\u0648\\u0627\\u064b\\u0644\\u0625\\u064f\\u062d\\u0635\\u064c\\u0627\\u0650\\u0621\\u064e \\u0627\\u0651\\u0644\\u0627\\u064b\\u062c\\u064f\\u062a\\u0645\\u0627\\u0650\\u0639\\u0650\\u064a\\u0651 \\u064b\\u0641\\u0651\\u064a \\u0628\\u0644\\u0648\\u064e\\u0631\\u0629\\u064f \\u064b\\u0648\\u064c\\u062a\\u064b\\u0631\\u0633\\u0652\\u064a\\u062e \\u064c\\u0645\\u064d\\u0643\\u064e\\u0627\\u0646\\u0629 \\u064b\\u0627\\u0644\\u0651\\u0634\\u0627\\u0651\\u0631\\u064e\\u0642\\u0629 \\u064d\\u0639\\u0627\\u0635\\u0645\\u0629\\u064f \\u0651\\u0644\\u064c\\u0644\\u0651\\u062b\\u064d\\u0642\\u0627\\u064d\\u0641\\u0629\\u064e \\u064c\\u0627\\u064c\\u0644\\u0652\\u0639\\u0650\\u0631\\u0628\\u064a\\u064c\\u0629 \\u0650\\u0648\\u0652\\u0627\\u0644\\u0625\\u064d\\u0633\\u0644\\u0627\\u0651\\u0645\\u064a\\u0652\\u0629\\u060c \\u0648\\u0643\\u064f\\u0644 \\u0651\\u0630\\u0652\\u0644\\u064b\\u0643 \\u064b\\u0628\\u062c\\u0647\\u062f \\u0651\\u0635\\u0651\\u0627\\u062d\\u0628\\u064d \\u0650\\u0627\\u0644\\u064d\\u0633\\u064e\\u0645\\u0648\\u0650 \\u064b\\u062d\\u0650\\u0627\\u064c\\u0643\\u064f\\u0645 \\u064d\\u0627\\u0644\\u0634\\u0627\\u0631\\u064c\\u0642\\u0629 \\u0627\\u064e\\u0644\\u0650\\u0630\\u064a\\u064b \\u064e\\u0639\\u0645\\u064f\\u0644 \\u0651\\u0648\\u064d\\u0644\\u0627 \\u064a\\u0632\\u064f\\u0627\\u064e\\u0644 \\u0628\\u0634\\u063a\\u0641\\u0652 \\u0648\\u062d\\u0628\\u064f \\u0639\\u064f\\u0644\\u0649\\u0652 \\u062a\\u064c\\u0639\\u0632\\u064b\\u064a\\u064b\\u0632\\u064e \\u064c\\u0627\\u064f\\u0644\\u064e\\u062a\\u0646\\u064b\\u0645\\u0651\\u064a\\u064d\\u0629\\u064c \\u0627\\u064e\\u0644\\u064b\\u062b\\u0642\\u064e\\u0627\\u064d\\u0641\\u064c\\u064a\\u0629 \\u064e\\u0641\\u0650\\u064a\\u064f \\u0627\\u0652\\u0644\\u064e\\u0634\\u0627\\u0631\\u064e\\u0642\\u064d\\u0629\\u064e \\u0645\\u0646\\u0650 \\u062e\\u064b\\u0644\\u0650\\u0627\\u0650\\u0644\\u0651 \\u0651\\u0633\\u064e\\u0646\\u0651 \\u0648\\u0625\\u0642\\u064b\\u0631\\u0651\\u0627\\u0631 \\u0645\\u062c\\u0645\\u0648\\u064c\\u0639\\u064e\\u0629\\u064e \\u0645\\u064f\\u0646\\u0651 \\u0627\\u064b\\u0644\\u0645\\u064d\\u0634\\u0650\\u0631\\u0648\\u0639\\u064f\\u0627\\u064f\\u062a\\u0652 \\u0627\\u0644\\u0651\\u062b\\u0650\\u0642\\u0627\\u0652\\u0641\\u0650\\u064a\\u0629\\u064c \\u0650\\u0627\\u0644\\u062a\\u064d\\u064a \\u064e\\u062a\\u064c\\u0647\\u064e\\u062f\\u064d\\u0641\\u064e \\u0625\\u064e\\u0644\\u0650\\u0649 \\u0652\\u062a\\u062d\\u0642\\u064a\\u0642 \\u0630\\u0644\\u0643\\u064d\\u060c\\u064b \\u0650\\u062d\\u062a\\u0650\\u0649 \\u0652\\u0623\\u064e\\u0635\\u0628\\u062d\\u062a\\u0651 \\u064c\\u0627\\u064e\\u0644\\u0634\\u0627\\u064c\\u0631\\u064c\\u0642\\u064b\\u0629\\u0652 \\u0627\\u0644\\u0651\\u064a\\u0648\\u064c\\u0645 \\u0651\\u0648\\u064f\\u062c\\u0647\\u064b\\u0629\\u064e \\u064a\\u0624\\u064f\\u0645\\u064e\\u0647\\u064c\\u0627 \\u0652\\u0627\\u0644\\u064e\\u0645\\u0641\\u064e\\u0643\\u0631\\u0651\\u0648\\u0651\\u0646 \\u0648\\u0650\\u0627\\u0644\\u0645\\u0651\\u062b\\u0642\\u0650\\u0641\\u0651\\u0648\\u0646 \\u0648\\u0627\\u0644\\u0645\\u064f\\u0628\\u064c\\u062f\\u0639\\u064c\\u0648\\u0650\\u0646 \\u0652\\u0648\\u0652\\u0627\\u0651\\u0644\\u064c\\u0643\\u062a\\u064c\\u0627\\u0628\\u0650 \\u064c\\u0645\\u0650\\u0646\\u064f \\u0634\\u062a\\u0650\\u0649\\u064e \\u0623\\u064f\\u0646\\u064d\\u062d\\u0627\\u0621 \\u0627\\u064d\\u0644\\u0652\\u0639\\u0627\\u0644\\u064f\\u0645\\u060c\\u0650 \\u064e\\u0634\\u064b\\u0627\\u0652\\u0645\\u062e\\u0651\\u0629\\u064e \\u0631\\u0627\\u0633\\u062e\\u064b\\u0629 \\u064c\\u0628\\u064c\\u0639\\u0651\\u0637\\u064c\\u0627\\u0626\\u064f\\u0647\\u0650\\u0627 \\u064e\\u0648\\u062a\\u064b\\u0642\\u0650\\u062f\\u0645\\u0647\\u064d\\u0627 \\u0650.\\u064f\"\n        ],\n        \"semantic_type\": \"\",\n        \"description\": \"\"\n      }\n    },\n    {\n      \"column\": \"label\",\n      \"properties\": {\n        \"dtype\": \"category\",\n        \"num_unique_values\": 7,\n        \"samples\": [\n          \"Culture\",\n          \"Finance\",\n          \"Sports\"\n        ],\n        \"semantic_type\": \"\",\n        \"description\": \"\"\n      }\n    }\n  ]\n}"
            }
          },
          "metadata": {},
          "execution_count": 7
        }
      ]
    },
    {
      "cell_type": "code",
      "source": [
        "df.sample(10)"
      ],
      "metadata": {
        "colab": {
          "base_uri": "https://localhost:8080/",
          "height": 363
        },
        "id": "ogko7Y5RAgj5",
        "outputId": "e084b91f-5db2-478c-b594-1f4c5ea4a2dd"
      },
      "execution_count": 8,
      "outputs": [
        {
          "output_type": "execute_result",
          "data": {
            "text/plain": [
              "                                                    text     label\n",
              "14273  https://example.com/resource/أبِوظُبي:ْ ٍرَانٌ...   Medical\n",
              "36902  https://example.com/resource/أعّلنٌتّ شًرٌكة ّ...      Tech\n",
              "8783   https://example.com/resource/أٌبوظبُيَ ِ-ْعٍلي...   Finance\n",
              "15405  https://example.com/resource/شاَرُك ٌعٍبْدالُر...   Medical\n",
              "9843   https://example.com/resource/أْبوظبي -ّ «الخلّ...   Finance\n",
              "32359  https://example.com/resource/فيّ ما ِيلْيٍ اِف...    Sports\n",
              "454    https://example.com/resource/تْنظِم كِلٌّ ْمنُ...   Culture\n",
              "11824  https://example.com/resource/شهدت ٌأّسٍوْاْقَ ...   Finance\n",
              "32399  https://example.com/resource/اعترُف ًرامون دلج...    Sports\n",
              "23147  https://example.com/resource/اًستّمّرتَ ّمٌوجّ...  Politics"
            ],
            "text/html": [
              "\n",
              "  <div id=\"df-23ff60fd-8aec-4b68-9710-f6d8a71da831\" class=\"colab-df-container\">\n",
              "    <div>\n",
              "<style scoped>\n",
              "    .dataframe tbody tr th:only-of-type {\n",
              "        vertical-align: middle;\n",
              "    }\n",
              "\n",
              "    .dataframe tbody tr th {\n",
              "        vertical-align: top;\n",
              "    }\n",
              "\n",
              "    .dataframe thead th {\n",
              "        text-align: right;\n",
              "    }\n",
              "</style>\n",
              "<table border=\"1\" class=\"dataframe\">\n",
              "  <thead>\n",
              "    <tr style=\"text-align: right;\">\n",
              "      <th></th>\n",
              "      <th>text</th>\n",
              "      <th>label</th>\n",
              "    </tr>\n",
              "  </thead>\n",
              "  <tbody>\n",
              "    <tr>\n",
              "      <th>14273</th>\n",
              "      <td>https://example.com/resource/أبِوظُبي:ْ ٍرَانٌ...</td>\n",
              "      <td>Medical</td>\n",
              "    </tr>\n",
              "    <tr>\n",
              "      <th>36902</th>\n",
              "      <td>https://example.com/resource/أعّلنٌتّ شًرٌكة ّ...</td>\n",
              "      <td>Tech</td>\n",
              "    </tr>\n",
              "    <tr>\n",
              "      <th>8783</th>\n",
              "      <td>https://example.com/resource/أٌبوظبُيَ ِ-ْعٍلي...</td>\n",
              "      <td>Finance</td>\n",
              "    </tr>\n",
              "    <tr>\n",
              "      <th>15405</th>\n",
              "      <td>https://example.com/resource/شاَرُك ٌعٍبْدالُر...</td>\n",
              "      <td>Medical</td>\n",
              "    </tr>\n",
              "    <tr>\n",
              "      <th>9843</th>\n",
              "      <td>https://example.com/resource/أْبوظبي -ّ «الخلّ...</td>\n",
              "      <td>Finance</td>\n",
              "    </tr>\n",
              "    <tr>\n",
              "      <th>32359</th>\n",
              "      <td>https://example.com/resource/فيّ ما ِيلْيٍ اِف...</td>\n",
              "      <td>Sports</td>\n",
              "    </tr>\n",
              "    <tr>\n",
              "      <th>454</th>\n",
              "      <td>https://example.com/resource/تْنظِم كِلٌّ ْمنُ...</td>\n",
              "      <td>Culture</td>\n",
              "    </tr>\n",
              "    <tr>\n",
              "      <th>11824</th>\n",
              "      <td>https://example.com/resource/شهدت ٌأّسٍوْاْقَ ...</td>\n",
              "      <td>Finance</td>\n",
              "    </tr>\n",
              "    <tr>\n",
              "      <th>32399</th>\n",
              "      <td>https://example.com/resource/اعترُف ًرامون دلج...</td>\n",
              "      <td>Sports</td>\n",
              "    </tr>\n",
              "    <tr>\n",
              "      <th>23147</th>\n",
              "      <td>https://example.com/resource/اًستّمّرتَ ّمٌوجّ...</td>\n",
              "      <td>Politics</td>\n",
              "    </tr>\n",
              "  </tbody>\n",
              "</table>\n",
              "</div>\n",
              "    <div class=\"colab-df-buttons\">\n",
              "\n",
              "  <div class=\"colab-df-container\">\n",
              "    <button class=\"colab-df-convert\" onclick=\"convertToInteractive('df-23ff60fd-8aec-4b68-9710-f6d8a71da831')\"\n",
              "            title=\"Convert this dataframe to an interactive table.\"\n",
              "            style=\"display:none;\">\n",
              "\n",
              "  <svg xmlns=\"http://www.w3.org/2000/svg\" height=\"24px\" viewBox=\"0 -960 960 960\">\n",
              "    <path d=\"M120-120v-720h720v720H120Zm60-500h600v-160H180v160Zm220 220h160v-160H400v160Zm0 220h160v-160H400v160ZM180-400h160v-160H180v160Zm440 0h160v-160H620v160ZM180-180h160v-160H180v160Zm440 0h160v-160H620v160Z\"/>\n",
              "  </svg>\n",
              "    </button>\n",
              "\n",
              "  <style>\n",
              "    .colab-df-container {\n",
              "      display:flex;\n",
              "      gap: 12px;\n",
              "    }\n",
              "\n",
              "    .colab-df-convert {\n",
              "      background-color: #E8F0FE;\n",
              "      border: none;\n",
              "      border-radius: 50%;\n",
              "      cursor: pointer;\n",
              "      display: none;\n",
              "      fill: #1967D2;\n",
              "      height: 32px;\n",
              "      padding: 0 0 0 0;\n",
              "      width: 32px;\n",
              "    }\n",
              "\n",
              "    .colab-df-convert:hover {\n",
              "      background-color: #E2EBFA;\n",
              "      box-shadow: 0px 1px 2px rgba(60, 64, 67, 0.3), 0px 1px 3px 1px rgba(60, 64, 67, 0.15);\n",
              "      fill: #174EA6;\n",
              "    }\n",
              "\n",
              "    .colab-df-buttons div {\n",
              "      margin-bottom: 4px;\n",
              "    }\n",
              "\n",
              "    [theme=dark] .colab-df-convert {\n",
              "      background-color: #3B4455;\n",
              "      fill: #D2E3FC;\n",
              "    }\n",
              "\n",
              "    [theme=dark] .colab-df-convert:hover {\n",
              "      background-color: #434B5C;\n",
              "      box-shadow: 0px 1px 3px 1px rgba(0, 0, 0, 0.15);\n",
              "      filter: drop-shadow(0px 1px 2px rgba(0, 0, 0, 0.3));\n",
              "      fill: #FFFFFF;\n",
              "    }\n",
              "  </style>\n",
              "\n",
              "    <script>\n",
              "      const buttonEl =\n",
              "        document.querySelector('#df-23ff60fd-8aec-4b68-9710-f6d8a71da831 button.colab-df-convert');\n",
              "      buttonEl.style.display =\n",
              "        google.colab.kernel.accessAllowed ? 'block' : 'none';\n",
              "\n",
              "      async function convertToInteractive(key) {\n",
              "        const element = document.querySelector('#df-23ff60fd-8aec-4b68-9710-f6d8a71da831');\n",
              "        const dataTable =\n",
              "          await google.colab.kernel.invokeFunction('convertToInteractive',\n",
              "                                                    [key], {});\n",
              "        if (!dataTable) return;\n",
              "\n",
              "        const docLinkHtml = 'Like what you see? Visit the ' +\n",
              "          '<a target=\"_blank\" href=https://colab.research.google.com/notebooks/data_table.ipynb>data table notebook</a>'\n",
              "          + ' to learn more about interactive tables.';\n",
              "        element.innerHTML = '';\n",
              "        dataTable['output_type'] = 'display_data';\n",
              "        await google.colab.output.renderOutput(dataTable, element);\n",
              "        const docLink = document.createElement('div');\n",
              "        docLink.innerHTML = docLinkHtml;\n",
              "        element.appendChild(docLink);\n",
              "      }\n",
              "    </script>\n",
              "  </div>\n",
              "\n",
              "\n",
              "<div id=\"df-7e26e0fb-e9b3-4f82-8f8c-5986dc0c67ff\">\n",
              "  <button class=\"colab-df-quickchart\" onclick=\"quickchart('df-7e26e0fb-e9b3-4f82-8f8c-5986dc0c67ff')\"\n",
              "            title=\"Suggest charts\"\n",
              "            style=\"display:none;\">\n",
              "\n",
              "<svg xmlns=\"http://www.w3.org/2000/svg\" height=\"24px\"viewBox=\"0 0 24 24\"\n",
              "     width=\"24px\">\n",
              "    <g>\n",
              "        <path d=\"M19 3H5c-1.1 0-2 .9-2 2v14c0 1.1.9 2 2 2h14c1.1 0 2-.9 2-2V5c0-1.1-.9-2-2-2zM9 17H7v-7h2v7zm4 0h-2V7h2v10zm4 0h-2v-4h2v4z\"/>\n",
              "    </g>\n",
              "</svg>\n",
              "  </button>\n",
              "\n",
              "<style>\n",
              "  .colab-df-quickchart {\n",
              "      --bg-color: #E8F0FE;\n",
              "      --fill-color: #1967D2;\n",
              "      --hover-bg-color: #E2EBFA;\n",
              "      --hover-fill-color: #174EA6;\n",
              "      --disabled-fill-color: #AAA;\n",
              "      --disabled-bg-color: #DDD;\n",
              "  }\n",
              "\n",
              "  [theme=dark] .colab-df-quickchart {\n",
              "      --bg-color: #3B4455;\n",
              "      --fill-color: #D2E3FC;\n",
              "      --hover-bg-color: #434B5C;\n",
              "      --hover-fill-color: #FFFFFF;\n",
              "      --disabled-bg-color: #3B4455;\n",
              "      --disabled-fill-color: #666;\n",
              "  }\n",
              "\n",
              "  .colab-df-quickchart {\n",
              "    background-color: var(--bg-color);\n",
              "    border: none;\n",
              "    border-radius: 50%;\n",
              "    cursor: pointer;\n",
              "    display: none;\n",
              "    fill: var(--fill-color);\n",
              "    height: 32px;\n",
              "    padding: 0;\n",
              "    width: 32px;\n",
              "  }\n",
              "\n",
              "  .colab-df-quickchart:hover {\n",
              "    background-color: var(--hover-bg-color);\n",
              "    box-shadow: 0 1px 2px rgba(60, 64, 67, 0.3), 0 1px 3px 1px rgba(60, 64, 67, 0.15);\n",
              "    fill: var(--button-hover-fill-color);\n",
              "  }\n",
              "\n",
              "  .colab-df-quickchart-complete:disabled,\n",
              "  .colab-df-quickchart-complete:disabled:hover {\n",
              "    background-color: var(--disabled-bg-color);\n",
              "    fill: var(--disabled-fill-color);\n",
              "    box-shadow: none;\n",
              "  }\n",
              "\n",
              "  .colab-df-spinner {\n",
              "    border: 2px solid var(--fill-color);\n",
              "    border-color: transparent;\n",
              "    border-bottom-color: var(--fill-color);\n",
              "    animation:\n",
              "      spin 1s steps(1) infinite;\n",
              "  }\n",
              "\n",
              "  @keyframes spin {\n",
              "    0% {\n",
              "      border-color: transparent;\n",
              "      border-bottom-color: var(--fill-color);\n",
              "      border-left-color: var(--fill-color);\n",
              "    }\n",
              "    20% {\n",
              "      border-color: transparent;\n",
              "      border-left-color: var(--fill-color);\n",
              "      border-top-color: var(--fill-color);\n",
              "    }\n",
              "    30% {\n",
              "      border-color: transparent;\n",
              "      border-left-color: var(--fill-color);\n",
              "      border-top-color: var(--fill-color);\n",
              "      border-right-color: var(--fill-color);\n",
              "    }\n",
              "    40% {\n",
              "      border-color: transparent;\n",
              "      border-right-color: var(--fill-color);\n",
              "      border-top-color: var(--fill-color);\n",
              "    }\n",
              "    60% {\n",
              "      border-color: transparent;\n",
              "      border-right-color: var(--fill-color);\n",
              "    }\n",
              "    80% {\n",
              "      border-color: transparent;\n",
              "      border-right-color: var(--fill-color);\n",
              "      border-bottom-color: var(--fill-color);\n",
              "    }\n",
              "    90% {\n",
              "      border-color: transparent;\n",
              "      border-bottom-color: var(--fill-color);\n",
              "    }\n",
              "  }\n",
              "</style>\n",
              "\n",
              "  <script>\n",
              "    async function quickchart(key) {\n",
              "      const quickchartButtonEl =\n",
              "        document.querySelector('#' + key + ' button');\n",
              "      quickchartButtonEl.disabled = true;  // To prevent multiple clicks.\n",
              "      quickchartButtonEl.classList.add('colab-df-spinner');\n",
              "      try {\n",
              "        const charts = await google.colab.kernel.invokeFunction(\n",
              "            'suggestCharts', [key], {});\n",
              "      } catch (error) {\n",
              "        console.error('Error during call to suggestCharts:', error);\n",
              "      }\n",
              "      quickchartButtonEl.classList.remove('colab-df-spinner');\n",
              "      quickchartButtonEl.classList.add('colab-df-quickchart-complete');\n",
              "    }\n",
              "    (() => {\n",
              "      let quickchartButtonEl =\n",
              "        document.querySelector('#df-7e26e0fb-e9b3-4f82-8f8c-5986dc0c67ff button');\n",
              "      quickchartButtonEl.style.display =\n",
              "        google.colab.kernel.accessAllowed ? 'block' : 'none';\n",
              "    })();\n",
              "  </script>\n",
              "</div>\n",
              "\n",
              "    </div>\n",
              "  </div>\n"
            ],
            "application/vnd.google.colaboratory.intrinsic+json": {
              "type": "dataframe",
              "summary": "{\n  \"name\": \"df\",\n  \"rows\": 10,\n  \"fields\": [\n    {\n      \"column\": \"text\",\n      \"properties\": {\n        \"dtype\": \"string\",\n        \"num_unique_values\": 10,\n        \"samples\": [\n          \"https://example.com/resource/\\u0627\\u0639\\u062a\\u0631\\u064f\\u0641 \\u064b\\u0631\\u0627\\u0645\\u0648\\u0646 \\u062f\\u0644\\u062c\\u0650\\u0627\\u062f\\u0648\\u0650 \\u0623\\u064d\\u062d\\u0650\\u062f\\u064c \\u064c\\u0623\\u0641\\u064b\\u0636\\u0650\\u0644\\u0651 \\u0644\\u064c\\u0627\\u064f\\u0639\\u0628\\u064a\\u0652 \\u0627\\u064c\\u0644\\u0651\\u062a\\u064c\\u0646\\u064c\\u0633 \\u0641\\u064c\\u064a\\u064c \\u0651\\u062a\\u0627\\u064c\\u0631\\u064b\\u064a\\u0651\\u062e \\u064e\\u0628\\u064e\\u0627\\u064f\\u0631\\u064f\\u0627\\u064c\\u062c\\u064e\\u0648\\u064d\\u0627\\u0650\\u064a\\u064c\\u060c \\u064b\\u0628\\u064e\\u0623\\u0646\\u0647 \\u0651\\u064a\\u0642\\u0652\\u062a\\u064d\\u0631\\u0628 \\u0651\\u0644\\u0644\\u063a\\u0627\\u064a\\u0629 \\u0651\\u0645\\u064c\\u0646 \\u064b\\u0625\\u064d\\u0639\\u0644\\u0627\\u0646 \\u064e\\u0627\\u0639\\u064b\\u062a\\u0652\\u0632\\u0627\\u0644\\u0650\\u0647 \\u064e. \\u0651\\u0642\\u064f\\u0627\\u064b\\u0644\\u064b \\u062f\\u0644\\u062c\\u0650\\u0627\\u0651\\u062f\\u0650\\u0648 \\u0651\\u0627\\u0644\\u0645\\u0650\\u0635\\u0646\\u064f\\u0641 1\\u06525\\u064f3\\u064c \\u0651\\u0639\\u0651\\u0627\\u0644\\u0645\\u064e\\u064a\\u0627\\u064b\\u064e\\u060c\\u064b \\u0644\\u0646 \\u0651\\u0623\\u0651\\u0642\\u064c\\u0648\\u0650\\u0644 \\u0645\\u064f\\u062a\\u0649 \\u0633\\u064c\\u0623\\u064e\\u0639\\u064f\\u0644\\u064b\\u0646 \\u0627\\u0639\\u0650\\u062a\\u0651\\u0632\\u064e\\u0627\\u0644\\u064a\\u064f \\u064b\\u0648\\u064e\\u0644\\u0650\\u0643\\u0646 \\u0652\\u0630\\u064c\\u0644\\u0643\\u064c \\u0633\\u064a\\u0643\\u0648\\u064c\\u0646 \\u0641\\u064a \\u0648\\u064b\\u0642\\u062a \\u064b\\u0642\\u0631\\u064d\\u064a\\u0628\\u064e \\u0644\\u0650\\u0644\\u0651\\u063a\\u0627\\u064a\\u0629 .\\u0623\\u0648\\u064d\\u0636\\u062d\\u0650 \\u064d\\u062f\\u0644\\u062c\\u0627\\u064d\\u062f\\u0648 \\u064c(33\\u0651 \\u0639\\u0651\\u0627\\u064c\\u0645\\u064b\\u0627\\u0650)\\u060c \\u0650\\u0644\\u062f\\u064d\\u064a \\u0627\\u064c\\u0644\\u0622\\u0646 \\u0637\\u064c\\u0641\\u064c\\u0644\\u062a\\u064d\\u0627\\u064e\\u0646\\u060c\\u0650 \\u0650\\u0648\\u0650\\u0644\\u064c\\u0645 \\u062a\\u0639\\u064f\\u062f\\u0650 \\u0644\\u064f\\u064a\\u0650 \\u064e\\u0631\\u063a\\u064c\\u0628\\u0651\\u0629\\u0651 \\u064d\\u0641\\u064a \\u064d\\u0627\\u064e\\u0644\\u0651\\u0633\\u0650\\u0641\\u064d\\u0631\\u0652 \\u0648\\u0627\\u0651\\u0644\\u062a\\u0650\\u0631\\u062d\\u064c\\u0627\\u0644 .\\u0633\\u0628\\u0642 \\u064b\\u0644\\u062f\\u0644\\u062c\\u0650\\u0627\\u064e\\u062f\\u0648 \\u064b\\u0623\\u064d\\u0646\\u064c \\u0650\\u062a\\u0652\\u063a\\u064e\\u0644\\u0628 \\u0639\\u064f\\u0644\\u064e\\u0649 \\u0627\\u0644\\u0650\\u0644\\u0651\\u0627\\u0639\\u064d\\u0628 \\u0627\\u0644\\u0651\\u0623\\u064f\\u0645\\u064f\\u0631\\u064a\\u064d\\u0643\\u064a \\u064e\\u0627\\u0652\\u0644\\u0633\\u0652\\u0627\\u0628\\u064f\\u0642 \\u0628\\u064a\\u062a\\u0652 \\u0633\\u0627\\u0645\\u0652\\u0628\\u0631\\u0627\\u0651\\u0633 \\u064d\\u0641\\u064a\\u064c \\u0652\\u0628\\u0637\\u0648\\u064d\\u0644\\u0629\\u064b \\u0641\\u064b\\u0631\\u0646\\u0633\\u0627 \\u0627\\u0644\\u064e\\u0645\\u0641\\u062a\\u0648\\u0651\\u062d\\u064b\\u0629\\u064d (\\u0652\\u0631\\u0648\\u0644\\u0627\\u064c\\u0646 \\u064e\\u062c\\u0627\\u0631\\u0648\\u064b\\u0633) \\u0639\\u0627\\u0645 \\u06521\\u064b9\\u065298\\u064d \\u0639\\u0646\\u062f\\u0645\\u0627 \\u0643\\u064e\\u0627\\u0646 \\u0650\\u0633\\u0627\\u064d\\u0645\\u0628\\u0651\\u0631\\u0627\\u064f\\u0633\\u064d \\u064f\\u0645\\u0647\\u064e\\u064a\\u064e\\u0645\\u0650\\u0646\\u0652\\u0627 \\u064b\\u0639\\u0644\\u064c\\u0649 \\u064c\\u0633\\u064d\\u0627\\u062d\\u0629\\u064d \\u0650\\u0627\\u064d\\u0644\\u0650\\u062a\\u0646\\u0650\\u0633 \\u0627\\u0651\\u0644\\u0639\\u0652\\u0627\\u0652\\u0644\\u0645\\u0652\\u064a\\u064b\\u0629\\u060c\\u064f \\u064e\\u0648\\u0642\\u064d\\u0641\\u0632 \\u064b\\u062f\\u0644\\u062c\\u064d\\u0627\\u062f\\u0652\\u0648 \\u0650\\u0625\\u0650\\u0644\\u0650\\u0649 \\u0627\\u064c\\u0644\\u064b\\u0645\\u064b\\u0631\\u064d\\u0643\\u0632 5\\u064c2\\u064c \\u0628\\u0652\\u0627\\u0644\\u064b\\u062a\\u064c\\u0635\\u0646\\u0651\\u064a\\u0652\\u0641\\u0650 \\u0627\\u0644\\u0639\\u064d\\u0627\\u0652\\u0644\\u064b\\u0645\\u064a\\u064b \\u0641\\u064a \\u064c\\u0639\\u0652\\u0627\\u0645 \\u060c1\\u064e9\\u064b99\\u064d \\u0650\\u0648\\u0633\\u064b\\u0628\\u0642 \\u0627\\u064e\\u0646\\u064f \\u0627\\u0639\\u064c\\u0644\\u064e\\u0646\\u0651 \\u064e\\u0642\\u0628\\u0644\\u064d \\u0639\\u0627\\u064c\\u0645 \\u064f\\u0627\\u0639\\u064c\\u062a\\u064c\\u0632\\u064d\\u0627\\u064b\\u0644\\u0651\\u0647 \\u064d\\u0627\\u0650\\u0644\\u064d\\u0644\\u0639\\u0628 \\u0644\\u0643\\u0646\\u064b\\u0647 \\u062a\\u0631\\u0627\\u062c\\u0651\\u0639 \\u0652\\u0644\\u0627\\u0652\\u062d\\u0642\\u0627 \\u0641\\u064a\\u0651 \\u0642\\u0631\\u0650\\u0627\\u064d\\u0631\\u0647\\u064c \\u0648\\u0639\\u0627\\u062f\\u064d \\u0644\\u064d\\u0644\\u0645\\u0634\\u064e\\u0627\\u0631\\u064e\\u0643\\u064b\\u0629 \\u0641\\u064a \\u0651\\u0627\\u0651\\u0644\\u0645\\u0628\\u0627\\u0651\\u0631\\u064a\\u0627\\u062a \\u064f.\",\n          \"https://example.com/resource/\\u0623\\u0639\\u0651\\u0644\\u0646\\u064c\\u062a\\u0651 \\u0634\\u064b\\u0631\\u064c\\u0643\\u0629 \\u0651\\u0633\\u0627\\u064d\\u0645\\u064d\\u0633\\u0648\\u0646\\u063a\\u0652 \\u064f\\u0644\\u0644\\u0651\\u0625\\u0644\\u0643\\u064e\\u062a\\u0631\\u064e\\u0648\\u0646\\u064a\\u0652\\u0627\\u062a\\u064d\\u060c \\u0639\\u0646 \\u064b\\u062a\\u0644\\u0641\\u0632\\u0651\\u064a\\u0651\\u0648\\u0646 S\\u064d9 \\u064eUH\\u064bD (\\u064f\\u0627\\u0644\\u0641\\u064c\\u0626\\u064e\\u0629 9\\u064b) \\u064d\\u0627\\u0652\\u0644\\u0645\\u064d\\u0628\\u062a\\u064b\\u0643\\u064d\\u0631\\u064d \\u0641\\u0650\\u0627\\u0651\\u0626\\u0642 \\u064b\\u0627\\u0644\\u0648\\u0636\\u0650\\u0648\\u0651\\u062d\\u064f \\u0650\\u0641\\u064a\\u064c \\u064d\\u0645\\u064b\\u0639\\u0631\\u064b\\u0636\\u064b \\u064b\\u062c\\u0652\\u064a\\u062a\\u0643\\u0633 \\u0644\\u064c\\u0644\\u064e\\u0645\\u064b\\u062a\\u0633\\u064e\\u0648\\u0642\\u064f\\u064a\\u0646 \\u0628\\u0637\\u064e\\u0631\\u0652\\u0627\\u0650\\u0632\\u0650\\u064a\\u0646 \\u062c\\u0650\\u062f\\u0650\\u064a\\u062f\\u064a\\u0646\\u0650 \\u064f\\u0645\\u0646 \\u064e\\u0642\\u064a\\u0652\\u0627\\u064d\\u0633 5\\u06515 \\u0652\\u0628\\u064c\\u0648\\u064e\\u0635\\u064e\\u0629\\u0650 \\u064c\\u06486\\u064f5 \\u0651\\u0628\\u064c\\u0648\\u0635\\u0629 .\\u0628\\u064d\\u0627\\u064e\\u0644\\u064b\\u0625\\u064d\\u0636\\u064f\\u0627\\u0641\\u064e\\u0629 \\u0625\\u0644\\u0649 \\u062a\\u0635\\u0645\\u064a\\u064b\\u0645\\u0647\\u0627\\u0650 \\u064c\\u0627\\u0644\\u064c\\u0623\\u0646\\u064a\\u0642 \\u064d\\u0628\\u062d\\u062c\\u064b\\u0645\\u064e \\u0623\\u0635\\u063a\\u064f\\u0631\\u064c \\u0645\\u0646\\u064c \\u064d\\u0627\\u064c\\u0644\\u0637\\u064b\\u0631\\u0627\\u064c\\u0632 \\u0652\\u0627\\u064b\\u0644\\u0633\\u064d\\u0627\\u064c\\u0628\\u0651\\u0642\\u0651 \\u0651\\u0644\\u064f\\u0647\\u0627\\u060c\\u0650 \\u064c\\u062a\\u062d\\u0642\\u0642 \\u064d\\u062a\\u064b\\u0644\\u0641\\u0632\\u064a\\u064c\\u0648\\u0646\\u0627\\u062a\\u064c U\\u064cHD \\u0627\\u0644\\u064d\\u062c\\u0651\\u062f\\u0652\\u064a\\u062f\\u064f\\u0629 \\u0645\\u0639\\u062f\\u0644 \\u062f\\u0642\\u0629 \\u064a\\u0632\\u064b\\u064a\\u0650\\u062f\\u064e \\u0628\\u0623\\u0631\\u0628\\u064f\\u0639\\u0650\\u0629\\u0651 \\u0652\\u0623\\u064c\\u0636\\u0652\\u0639\\u064e\\u0627\\u0641\\u0651 \\u064b\\u0623\\u064f\\u064a \\u064b\\u0634\\u0651\\u0627\\u0634\\u0629 \\u0623\\u062e\\u0631\\u0649 \\u0652\\u0643\\u0627\\u064e\\u0645\\u0644\\u0629 \\u0627\\u0644\\u0648\\u064f\\u0636\\u0648\\u062d\\u064e\\u060c\\u064d \\u0643\\u0650\\u0645\\u0627 \\u0651\\u0623\\u0646\\u0651\\u0647\\u064f\\u0627\\u064f \\u064b\\u062a\\u064b\\u062a\\u0645\\u0651\\u062a\\u064f\\u0639\\u064f \\u0628\\u064d\\u0645\\u0652\\u0639\\u0627\\u064b\\u0644\\u064e\\u062c\\u064d \\u0631\\u0650\\u0628\\u0627\\u0639\\u064a\\u064d \\u064c\\u0627\\u0644\\u0646\\u0648\\u0627\\u0650\\u0629\\u0651 \\u064a\\u064d\\u062c\\u0651\\u0639\\u064c\\u0644\\u064b\\u0647\\u0627 \\u0623\\u0633\\u0631\\u064e\\u0639 \\u0627\\u064e\\u0644\\u062a\\u0644\\u0641\\u064e\\u0632\\u064a\\u0648\\u0652\\u0646\\u0627\\u062a\\u064f \\u0627\\u0644\\u0641\\u0650\\u0627\\u064f\\u0626\\u064f\\u0642\\u0629 \\u064f\\u0627\\u0651\\u0644\\u0650\\u0648\\u0636\\u0652\\u0648\\u064f\\u062d \\u0627\\u064e\\u0644\\u0645\\u062a\\u0650\\u0648\\u064e\\u0641\\u0650\\u0631\\u064c\\u0629 \\u064f\\u0641\\u064e\\u064a\\u0651 \\u0627\\u064f\\u0644\\u0651\\u0623\\u064c\\u0633\\u064d\\u0648\\u0627\\u0651\\u0642 . \\u0641\\u0645\\u064c\\u0646 \\u064d\\u062e\\u0644\\u064b\\u0627\\u0644 \\u0645\\u064b\\u0631\\u064e\\u0643\\u0632 \\u0627\\u0650\\u0644\\u0645\\u064d\\u064a\\u0632\\u0627\\u062a\\u064e \\u0651\\u0627\\u0652\\u0644\\u0630\\u064c\\u0643\\u064a\\u064c\\u0629\\u0650 \\u064f\\u0627\\u0644\\u064c\\u0645\\u0650\\u0637\\u0648\\u0651\\u0651\\u0651\\u064e\\u0631 \\u0652\\u0645\\u064b\\u0646\\u0652 \\u0633\\u0627\\u0652\\u0645\\u0633\\u064d\\u0648\\u064b\\u0646\\u063a\\u064e\\u060c \\u064a\\u064f\\u0645\\u0643\\u064b\\u0646\\u0650 \\u0644\\u0651\\u0644\\u0645\\u064d\\u0633\\u064d\\u062a\\u064c\\u062e\\u0651\\u062f\\u0651\\u0645\\u064f\\u064a\\u0646\\u064f \\u062a\\u0635\\u0641\\u062d \\u064f\\u0645\\u0652\\u062c\\u0645\\u0648\\u064f\\u0639\\u0629 \\u0634\\u0652\\u0627\\u064b\\u0645\\u0644\\u0629\\u064e \\u0645\\u064d\\u0646\\u0650 \\u0627\\u0644\\u0650\\u0623\\u0641\\u0644\\u064b\\u0627\\u0645\\u064d \\u0648\\u0627\\u0644\\u0645\\u064b\\u0633\\u0651\\u0644\\u0633\\u0644\\u0627\\u062a \\u0651\\u0627\\u064c\\u0644\\u062a\\u0650\\u0644\\u0641\\u0632\\u064b\\u064a\\u0650\\u0648\\u0646\\u064f\\u064a\\u064c\\u0629\\u0650 \\u064e\\u0648\\u0650\\u0627\\u0644\\u0623\\u064f\\u0644\\u064b\\u0639\\u0651\\u0627\\u0628 \\u0648\\u064c\\u0645\\u064e\\u0648\\u0627\\u064d\\u0642\\u064b\\u0639 \\u064f\\u0627\\u0644\\u062a\\u064d\\u0648\\u0627\\u064c\\u0635\\u0644 \\u064c\\u0627\\u0651\\u0644\\u064c\\u0627\\u062c\\u064e\\u062a\\u0651\\u0645\\u0627\\u0650\\u0639\\u064b\\u064a \\u064c\\u0628\\u0645\\u064b\\u062c\\u0631\\u0652\\u062f\\u064f \\u0625\\u064b\\u0634\\u064c\\u0627\\u064e\\u0631\\u0629\\u064e \\u0628\\u0627\\u0644\\u064e\\u064a\\u0652\\u062f\\u064d .\\u0651\\u0648\\u064f\\u062a\\u064c\\u0648\\u064c\\u0641\\u0651\\u0631 \\u0652\\u0647\\u064b\\u0630\\u064c\\u0647 \\u064f\\u0627\\u064b\\u0644\\u062a\\u064d\\u0644\\u064e\\u0641\\u0651\\u0632\\u064c\\u064a\\u0648\\u064c\\u0646\\u0651\\u0627\\u062a \\u062a\\u062c\\u0650\\u0631\\u0628\\u064f\\u0629 \\u0627\\u0644\\u0633\\u0650\\u064a\\u064f\\u0646\\u0645\\u064e\\u0627 \\u0627\\u0644\\u0650\\u0645\\u064f\\u0646\\u0651\\u0632\\u064b\\u0644\\u064a\\u064c\\u0629\\u064e \\u064b\\u0628\\u0643\\u064f\\u0627\\u0641\\u0629 \\u064b\\u0623\\u0628\\u0639\\u0627\\u0651\\u062f\\u064d\\u0647\\u0627\\u0651 \\u064f\\u0648\\u064f\\u0645\\u0652\\u0632\\u064e\\u0627\\u064a\\u0627\\u0647\\u0627\\u0652 \\u064c\\u0645\\u064c\\u0647\\u064b\\u0645\\u0627\\u0651 \\u064b\\u0643\\u064d\\u0627\\u0651\\u0646\\u0651 \\u064c\\u0642\\u064d\\u064a\\u0650\\u0627\\u064c\\u0633\\u064f \\u0627\\u0644\\u0634\\u064c\\u0627\\u0634\\u064e\\u0629\\u060c \\u064f\\u0648\\u0630\\u064f\\u0644\\u0643 \\u0651\\u0645\\u0646\\u064e \\u064c\\u062e\\u0644\\u0627\\u0652\\u0644 \\u062c\\u0648\\u064c\\u062f\\u064f\\u0629\\u064c \\u0635\\u064d\\u0648\\u064e\\u0631\\u0629 \\u064f\\u0641\\u0651\\u0627\\u064f\\u0626\\u0642\\u0629 \\u0651\\u0627\\u064c\\u0644\\u0648\\u064b\\u0636\\u0648\\u062d\\u0650 \\u0648\\u0635\\u064c\\u0648\\u064f\\u062a \\u064f\\u0641\\u064a\\u0651 \\u063a\\u0627\\u064a\\u0652\\u0629\\u0651 \\u0627\\u0644\\u0646\\u0642\\u064c\\u0627\\u0621 \\u064c\\u0639\\u064d\\u0628\\u0631 \\u0651\\u0645\\u0652\\u0643\\u0652\\u0628\\u0651\\u0631\\u0627\\u062a \\u0652\\u0635\\u064f\\u0648\\u062a \\u0651\\u0631\\u0628\\u064b\\u0627\\u064b\\u0639\\u064a\\u0629\\u0650 \\u0627\\u0644\\u0637\\u0652\\u0628\\u0651\\u0642\\u0627\\u062a \\u0627\\u0644\\u0645\\u064e\\u062e\\u0652\\u0641\\u064a\\u0651\\u0629\\u064e \\u0628\\u0642\\u062f\\u0650\\u0631\\u0629 12\\u064d0 \\u0648\\u064d\\u0627\\u0650\\u0637\\u064b \\u0651.\\u064b\\u0648\\u064f\\u0642\\u064d\\u0627\\u0644 \\u0650\\u0641\\u064a\\u0646\\u0648\\u062f \\u0646\\u0627\\u064d\\u064a\\u0631\\u064f \\u0627\\u064d\\u0644\\u064b\\u0645\\u064e\\u062f\\u064f\\u064a\\u064d\\u0631 \\u0652\\u0627\\u0644\\u0639\\u0627\\u0652\\u0645 \\u064f\\u0644\\u064e\\u0623\\u0639\\u0645\\u0627\\u064f\\u0644\\u064b \\u0642\\u0652\\u0633\\u064e\\u0645 \\u0627\\u064c\\u0644\\u0651\\u062a\\u0651\\u0644\\u0641\\u0632\\u064e\\u064a\\u064b\\u0648\\u0646\\u0651\\u0627\\u062a \\u0641\\u064a \\u064c\\u0634\\u0631\\u0650\\u0643\\u0651\\u0629\\u064e \\u064d\\u0633\\u0650\\u0627\\u0645\\u0633\\u0648\\u0646\\u0650\\u063a\\u0651 \\u0627\\u0650\\u0644\\u062e\\u0651\\u0644\\u064a\\u062c \\u0644\\u0644\\u0625\\u0650\\u0644\\u0650\\u0643\\u062a\\u064c\\u0631\\u0648\\u064d\\u0646\\u064b\\u064a\\u064d\\u0627\\u062a\\u0650:\\u064d \\u062d\\u0642\\u0642\\u0651 \\u0651\\u062a\\u0644\\u064e\\u0641\\u0632\\u064a\\u0648\\u064c\\u0646\\u064e \\u0650\\u0633\\u064d\\u0627\\u064b\\u0645\\u0650\\u0633\\u0648\\u064e\\u0646\\u064c\\u063a S9 U\\u0652H\\u0652D \\u0650(\\u0627\\u064f\\u0644\\u064c\\u0641\\u0626\\u0652\\u0629\\u064e 9\\u064b)\\u064b \\u064c\\u0627\\u064c\\u0644\\u064e\\u0647\\u064b\\u0627\\u0626\\u0651\\u0644\\u0652 \\u0650\\u0628\\u0642\\u0652\\u064a\\u0627\\u0652\\u0633 8\\u06515\\u0652 \\u0628\\u0648\\u0635\\u0629 \\u0646\\u062c\\u064f\\u0627\\u062d\\u0627\\u064b \\u064b\\u0628\\u064e\\u0627\\u0647\\u0631\\u064f\\u0627\\u064b \\u0641\\u064a\\u064d \\u0651\\u0627\\u0652\\u0644\\u0645\\u0651\\u0646\\u0637\\u0642\\u0651\\u0629\\u0650\\u060c \\u064f\\u0648\\u0644\\u0630\\u0652\\u0644\\u064f\\u0643 \\u064d\\u064a\\u0650\\u063a\\u0645\\u064d\\u0631\\u0646\\u0627 \\u064d\\u0627\\u064e\\u0644\\u0650\\u0633\\u0650\\u0631\\u064d\\u0648\\u0631\\u064e \\u0652\\u062d\\u064a\\u0651\\u0627\\u0644\\u0650 \\u062a\\u0648\\u0633\\u0650\\u064a\\u064e\\u0639\\u0652 \\u0647\\u064c\\u0630\\u0647\\u0651 \\u064b\\u0627\\u0644\\u0652\\u0641\\u064d\\u0626\\u064e\\u0629 \\u0652\\u0645\\u064f\\u0646\\u064e \\u0627\\u0644\\u062a\\u0644\\u0641\\u064e\\u0632\\u064a\\u064c\\u0648\\u0646\\u0651\\u0627\\u0652\\u062a \\u0644\\u062a\\u0634\\u064d\\u0645\\u0644 \\u0637\\u064f\\u0631\\u064d\\u0627\\u0652\\u0632\\u064a\\u0646\\u0650 \\u0628\\u064b\\u062d\\u0650\\u062c\\u0645\\u064a\\u064b\\u0646\\u064d \\u0645\\u064f\\u062e\\u062a\\u0644\\u0641\\u064e\\u064a\\u064d\\u0646\\u064e .\\u064d \\u0650\\u0648\\u062a\\u064c\\u0645\\u0651\\u062a\\u0627\\u0632\\u0652 \\u0650\\u0647\\u064e\\u0630\\u064b\\u0647\\u064f \\u0651\\u0627\\u0644\\u064d\\u062a\\u0644\\u0651\\u0641\\u0632\\u064e\\u064a\\u064e\\u0648\\u0646\\u0627\\u062a\\u0650 \\u0627\\u0644\\u0645\\u064f\\u0628\\u0651\\u062a\\u0643\\u0631\\u0629\\u0651 \\u0628\\u062c\\u0652\\u0648\\u0650\\u062f\\u0652\\u0629 \\u0650\\u0635\\u064f\\u0648\\u064f\\u0631\\u0650\\u0629 \\u0641\\u0627\\u0626\\u064b\\u0642\\u0629 \\u0628\\u062f\\u064e\\u0642\\u0629 4\\u064c000\\u0651 \\u0628\\u0652\\u0643\\u0633\\u0651\\u0644 \\u064e\\u064a\\u0651\\u0645\\u064b\\u0643\\u064f\\u0646 \\u0652\\u0627\\u0644\\u064e\\u0627\\u064d\\u0633\\u062a\\u064d\\u0645\\u0651\\u062a\\u0627\\u0639 \\u064d\\u0628\\u064d\\u0647\\u064c\\u0627 \\u0627\\u0644\\u0622\\u064d\\u0646\\u0650 \\u0641\\u0651\\u064a \\u0623\\u064a \\u064d\\u0645\\u0646\\u064d\\u0632\\u0644\\u0650\\u060c\\u0650 \\u062d\\u064a\\u064b\\u062b\\u0651 \\u0646\\u0652\\u0639\\u064e\\u0631\\u0636 \\u064f\\u0647\\u064d\\u0630\\u0647\\u064e \\u064f\\u0627\\u0652\\u0644\\u0645\\u064d\\u0646\\u064b\\u062a\\u062c\\u0627\\u062a\\u064d \\u0627\\u0644\\u064b\\u0645\\u062a\\u0645\\u064a\\u0650\\u0632\\u0629\\u0652 \\u0644\\u064c\\u062c\\u0645\\u064e\\u0647\\u0648\\u0652\\u0631\\u064e\\u0646\\u064b\\u0627\\u064d \\u0652\\u0645\\u0646\\u0651 \\u064d\\u0627\\u0644\\u0645\\u0651\\u0633\\u062a\\u064d\\u062e\\u0650\\u062f\\u0645\\u064a\\u0646 \\u062e\\u0644\\u064d\\u0627\\u064d\\u0644\\u064b \\u062c\\u0650\\u064a\\u064c\\u062a\\u064d\\u0643\\u0633\\u064c \\u0644\\u0644\\u064c\\u0645\\u064d\\u062a\\u0633\\u064d\\u0648\\u0651\\u0642\\u0652\\u064a\\u0650\\u0646\\u064e .\\u0648\\u062a\\u0632\\u062e\\u0631 \\u0647\\u064d\\u0630\\u0647\\u064d \\u0650\\u0627\\u0644\\u064e\\u062a\\u064e\\u0644\\u0651\\u0641\\u0650\\u0632\\u064a\\u064c\\u0648\\u0646\\u0627\\u0652\\u062a\\u064d \\u0650\\u0628\\u064c\\u0623\\u064d\\u062d\\u0651\\u062f\\u062b \\u064e\\u0627\\u0644\\u0651\\u0645\\u0650\\u064a\\u0632\\u0627\\u062a \\u0627\\u0644\\u064f\\u0630\\u064d\\u0643\\u064a\\u0652\\u0629 \\u064d\\u0627\\u0652\\u0644\\u062a\\u064e\\u064a\\u064e \\u064a\\u0645\\u064f\\u0643\\u0646 \\u062a\\u064b\\u0637\\u0648\\u0652\\u064a\\u064b\\u0631\\u0647\\u0652\\u0627 \\u0651\\u0644\\u064f\\u062a\\u064f\\u0648\\u0650\\u0627\\u064c\\u0643\\u0628 \\u064c\\u0627\\u0644\\u062a\\u0642\\u0646\\u064a\\u0627\\u062a\\u064d \\u0627\\u064d\\u0644\\u0645\\u0633\\u062a\\u0642\\u064d\\u0628\\u064c\\u0644\\u064e\\u064a\\u0629\\u0652\\u060c\\u0651 \\u0648\\u0630\\u0644\\u064d\\u0643 \\u064c\\u0628\\u064e\\u0627\\u0633\\u064c\\u062a\\u062e\\u0651\\u062f\\u0627\\u064e\\u0645 \\u064b\\u0645\\u064d\\u062c\\u064f\\u0645\\u0650\\u0648\\u0639\\u0629 \\u0627\\u0652\\u0644\\u064c\\u062a\\u0631\\u064b\\u0642\\u064a\\u0629\\u064f \\u0627\\u064b\\u0644\\u064c\\u0630\\u0643\\u064a\\u064c\\u0629 \\u0627\\u0644\\u064b\\u062a\\u0651\\u064a\\u064c \\u064e\\u062a\\u064e\\u0633\\u064e\\u0645\\u064b\\u062d \\u0644\\u064c\\u0644\\u0645\\u0633\\u062a\\u062e\\u064b\\u062f\\u0645\\u064d \\u0628\\u0627\\u062e\\u062a\\u064b\\u0635\\u0651\\u0627\\u0652\\u0631 \\u064f\\u0627\\u0644\\u0652\\u062a\\u064c\\u0648\\u0635\\u0651\\u064a\\u0644\\u0627\\u062a \\u064b\\u0643\\u0627\\u064c\\u0641\\u064d\\u0629\\u064f \\u0652\\u0636\\u0650\\u0645\\u0646 \\u0633\\u064c\\u0644\\u0643 \\u064b\\u062e\\u064b\\u0644\\u064f\\u0641\\u0652\\u064a\\u0651 \\u064e\\u0648\\u0627\\u062d\\u062f\\u0650 \\u064f\\u0644\\u064d\\u064a\\u0628\\u0651\\u062f\\u064b\\u0648 \\u064f\\u0627\\u0650\\u0644\\u064f\\u062a\\u0644\\u0651\\u0641\\u0632\\u064a\\u0648\\u064f\\u0646\\u064e \\u0628\\u0651\\u0645\\u0650\\u0638\\u0652\\u0647\\u064b\\u0631\\u064b \\u0652\\u0623\\u064f\\u0646\\u064a\\u0642 . \\u064d\\u0643\\u064c\\u0645\\u0627\\u0651 \\u0652\\u064a\\u064f\\u0645\\u0643\\u0646\\u064e \\u0652\\u062a\\u0648\\u064c\\u0635\\u064a\\u0650\\u0644\\u064f \\u0645\\u062c\\u064f\\u0645\\u064b\\u0648\\u0639\\u0650\\u0629\\u0652 \\u0627\\u0644\\u062a\\u0631\\u0650\\u0642\\u064a\\u0629 \\u0627\\u064c\\u0644\\u0650\\u0630\\u0643\\u064a\\u0629 \\u062e\\u0650\\u0644\\u0641 \\u064c\\u0627\\u0644\\u064c\\u062a\\u0644\\u0641\\u0632\\u064a\\u064e\\u0648\\u064e\\u0646 \\u064f\\u0648\\u064e\\u062a\\u062d\\u064c\\u062f\\u0650\\u064a\\u064b\\u062b \\u0628\\u0631\\u0645\\u062c\\u064a\\u0627\\u062a\\u0647 \\u064d\\u0648\\u062a\\u064e\\u062c\\u0647\\u0652\\u064a\\u0632\\u0627\\u0652\\u062a\\u0647\\u064f \\u0650\\u062a\\u064b\\u0644\\u0642\\u0652\\u0627\\u0626\\u064c\\u064a\\u064c\\u0627\\u064b\\u064b \\u0650\\u0644\\u0651\\u064a\\u0633\\u062a\\u0645\\u064c\\u062a\\u0650\\u0639\\u064c \\u064d\\u0627\\u064c\\u0644\\u064e\\u0645\\u064b\\u0633\\u0652\\u062a\\u0647\\u0644\\u0650\\u0643\\u0648\\u064d\\u0646\\u064e \\u064c\\u0628\\u0623\\u064e\\u062d\\u064f\\u062f\\u0650\\u062b \\u0627\\u0628\\u064e\\u062a\\u064f\\u0643\\u0650\\u0627\\u064d\\u0631\\u064f\\u0627\\u064e\\u062a \\u0650\\u0633\\u064e\\u0627\\u064c\\u0645\\u0652\\u0633\\u064e\\u0648\\u0646\\u064e\\u063a\\u064b .\\u064d\",\n          \"https://example.com/resource/\\u0641\\u064a\\u0651 \\u0645\\u0627 \\u0650\\u064a\\u0644\\u0652\\u064a\\u064d \\u0627\\u0650\\u0641\\u0636\\u064f\\u0644\\u0650 \\u065110\\u0651 \\u0635\\u0652\\u0641\\u0652\\u0642\\u0627\\u062a\\u0652 \\u0627\\u062c\\u0631\\u0627\\u064b\\u0647\\u064e\\u0627 \\u064e\\u0645\\u0650\\u062f\\u064d\\u0631\\u064d\\u0628\\u0651 \\u064d\\u0645\\u0627\\u0646\\u0634\\u064f\\u0633\\u062a\\u064d\\u0631\\u0652 \\u064a\\u064c\\u0648\\u0646\\u0627\\u064d\\u064a\\u062a\\u062f\\u064d \\u0652\\u0627\\u064f\\u0644\\u0650\\u0642\\u062f\\u0652\\u064a\\u0631 \\u064f\\u0627\\u064c\\u0644\\u0652\\u0633\\u064d\\u064a\\u064c\\u0631\\u064f \\u0650\\u0627\\u0650\\u0644\\u0650\\u064a\\u0643\\u0633\\u064c \\u064d\\u0641\\u0651\\u064a\\u0631\\u063a\\u0651\\u0633\\u0648\\u0650\\u0646\\u064e \\u062e\\u0644\\u0651\\u0627\\u0644 \\u0651\\u0641\\u062a\\u064b\\u0631\\u064d\\u0629\\u064c \\u062a\\u064b\\u062f\\u064e\\u0631\\u0652\\u064a\\u0628\\u064e\\u0647\\u0651 \\u0644\\u0650\\u0644\\u0634\\u064a\\u0627\\u064f\\u0637\\u064a\\u0646 \\u064d\\u0627\\u0650\\u0644\\u0652\\u062d\\u0652\\u0645\\u0650\\u0631:\\u06501\\u064e-\\u064d \\u0652\\u0627\\u0650\\u0631\\u064a\\u0650\\u0643 \\u0643\\u0627\\u0646\\u062a\\u064f\\u0648\\u0646\\u0627:\\u064b \\u0627\\u0644\\u0628\\u0639\\u0636 \\u064a\\u0651\\u0631\\u064b\\u0627\\u0647 \\u064e\\u0627\\u0644\\u0635\\u0641\\u064d\\u0642\\u064c\\u0629\\u064c \\u0627\\u0644\\u062a\\u064a\\u064c \\u064b\\u063a\\u064f\\u064a\\u0631\\u062a\\u064c \\u064d\\u0648\\u062c\\u0647 \\u064a\\u064d\\u0648\\u0646\\u0627\\u064a\\u064c\\u062a\\u0650\\u062f \\u0628\\u064c\\u0642\\u064c\\u062f\\u0648\\u064c\\u0645\\u064e\\u0647\\u064f \\u064f\\u0645\\u0646 \\u0650\\u0644\\u064a\\u064e\\u062f\\u064c\\u0632 \\u0650\\u064a\\u0650\\u0648\\u0646\\u064c\\u0627\\u064a\\u062a\\u064e\\u062f\\u064b \\u0639\\u0627\\u064f\\u0645 9\\u06502\\u064f \\u0651\\u0644\\u0651\\u064a\\u0635\\u064d\\u0646\\u0639\\u064b \\u0627\\u0645\\u062c\\u0652\\u0627\\u0651\\u062f\\u0627\\u064d \\u0651\\u0644\\u064a\\u064d\\u0648\\u0651\\u0646\\u0627\\u0651\\u064a\\u0650\\u062a\\u0652\\u062f\\u064f\\u060c\\u064c \\u064e\\u0644\\u0643\\u0646\\u064d \\u0627\\u0639\\u0651\\u062a\\u0632\\u0627\\u0644\\u064c\\u0647\\u0652 \\u064b\\u0643\\u0627\\u0651\\u0646 \\u0645\\u064f\\u0628\\u0643\\u0631\\u0652\\u0627 \\u0644\\u0652\\u0644\\u063a\\u0651\\u0627\\u0650\\u064a\\u064c\\u0629\\u064b \\u0641\\u0644\\u0645\\u0650 \\u064f\\u064a\\u064f\\u0633\\u064d\\u062a\\u0645\\u0652\\u0631 \\u0645\\u064c\\u0639 \\u064f\\u0627\\u0644\\u064e\\u0641\\u0631\\u064a\\u0642 \\u0627\\u0644\\u064b\\u0627\\u0651 \\u0652\\u0627\\u0651\\u0631\\u064e\\u0628\\u0639\\u0650\\u0629 \\u0645\\u0648\\u0627\\u0633\\u0652\\u0645\\u064b.2\\u0650- \\u0651\\u0643\\u064b\\u0631\\u0651\\u064a\\u0633\\u064c\\u062a\\u064f\\u064a\\u0627\\u0650\\u0646\\u064f\\u0648 \\u0631\\u0648\\u0652\\u0646\\u0627\\u0644\\u062f\\u064d\\u0648: \\u064d\\u0627\\u0644\\u064d\\u0641\\u062a\\u064e\\u0649 \\u0627\\u0644\\u0628\\u0652\\u0631\\u062a\\u064b\\u063a\\u0627\\u0651\\u0644\\u064a\\u064b \\u064e\\u0627\\u0644\\u0630\\u064a \\u0651\\u062d\\u0636\\u064d\\u0631 \\u0650\\u0641\\u064d\\u064a \\u064e\\u0633\\u0646 \\u0651\\u0627\\u0644\\u064b\\u062b\\u064d\\u0627\\u064c\\u0645\\u0646\\u0629 \\u0639\\u0651\\u0634\\u064b\\u0631\\u064e\\u0629 \\u0627\\u0650\\u0644\\u0649\\u064c \\u064f\\u064a\\u064d\\u0648\\u0651\\u0646\\u064c\\u0627\\u064a\\u0650\\u062a\\u064b\\u062f\\u064b \\u0645\\u0646 \\u0633\\u0651\\u0628\\u0648\\u0631\\u062a\\u064b\\u0646\\u064e\\u062c \\u064d\\u0644\\u064e\\u0634\\u064d\\u0628\\u0648\\u0646\\u064e\\u0629\\u064b \\u0644\\u064a\\u0635\\u0650\\u0628\\u062d\\u064e \\u0628\\u0639\\u062f\\u0647\\u0627\\u064b \\u064b\\u0627\\u063a\\u0644\\u0649 \\u0652\\u0644\\u064d\\u0627\\u064f\\u0639\\u0651\\u0628 \\u0641\\u0652\\u064a \\u064b\\u0627\\u0650\\u0644\\u0639\\u0650\\u0627\\u064b\\u0644\\u0650\\u0645 \\u0639\\u0644\\u0650\\u0649\\u0652 \\u0627\\u0644\\u064c\\u0627\\u0652\\u0637\\u0644\\u064c\\u0627\\u064c\\u0642.\\u06523-\\u064f \\u0631\\u064c\\u0648\\u064a\\u064e \\u064d\\u0643\\u064a\\u0646:\\u064f \\u0650\\u0627\\u0644\\u0652\\u0642\\u0627\\u0626\\u0652\\u062f \\u064e\\u0627\\u064b\\u0644\\u0627\\u064f\\u0633\\u0628\\u0642\\u0652 \\u0644\\u064a\\u064c\\u0648\\u0651\\u0646\\u0650\\u0627\\u064a\\u062a\\u062f\\u064d \\u0651\\u0642\\u0651\\u062f\\u0650\\u0645 \\u0652\\u0639\\u0627\\u0651\\u0645 \\u065294 \\u0650\\u0645\\u064f\\u0646\\u064e \\u0646\\u0652\\u0648\\u064b\\u062a\\u064b\\u0646\\u064c\\u063a\\u0647\\u064d\\u0627\\u064f\\u0645\\u0652 \\u064b\\u0641\\u064b\\u0648\\u064b\\u0631\\u064a\\u064e\\u0633\\u062a \\u0650\\u0644\\u064a\\u064b\\u0642\\u0648\\u062f\\u064f \\u064b\\u0627\\u0651\\u0644\\u0641\\u064f\\u0631\\u064a\\u064f\\u0642 \\u0628\\u0639\\u062f \\u0631\\u062d\\u064a\\u0644 \\u0643\\u0627\\u064e\\u0646\\u064d\\u062a\\u0648\\u064b\\u0646\\u0627 \\u064e\\u0648\\u064a\\u062b\\u064d\\u0628\\u0652\\u062a \\u0650\\u0627\\u0650\\u0646\\u0651\\u0647 \\u0635\\u0627\\u064e\\u062d\\u0628 \\u0634\\u062e\\u064d\\u0635\\u064a\\u0629 \\u064c\\u0635\\u0644\\u0628\\u0629\\u0651 \\u0648\\u0627\\u0631\\u0627\\u062f\\u064c\\u0629 \\u0641\\u0648\\u0644\\u0650\\u0627\\u0630\\u064a\\u064b\\u0629\\u064e \\u064b\\u0631\\u063a\\u0645\\u064c \\u0639\\u0652\\u0635\\u064f\\u0628\\u0650\\u064a\\u062a\\u0647\\u0652 \\u0650\\u0627\\u064f\\u0644\\u0650\\u0634\\u062f\\u064a\\u0651\\u062f\\u064f\\u0629\\u064b\\u060c\\u064d \\u0646\\u0647\\u064e\\u0627\\u064f\\u064a\\u062a\\u0647 \\u0652\\u0645\\u064d\\u0639\\u0652 \\u0627\\u0651\\u0644\\u064d\\u0641\\u0652\\u0631\\u064e\\u064a\\u0642 \\u0644\\u064d\\u0645 \\u062a\\u0643\\u0646\\u064e \\u0645\\u0650\\u062a\\u064d\\u0648\\u0642\\u064f\\u0639\\u0651\\u0629\\u064e \\u0628\\u0639\\u062f\\u064b \\u062e\\u064d\\u0644\\u064b\\u0627\\u0641\\u064e \\u0645\\u0639\\u064e \\u0627\\u0644\\u064d\\u0645\\u0652\\u062f\\u064f\\u0631\\u0651\\u0628\\u064e \\u0652\\u0627\\u064f\\u062f\\u0649 \\u064c\\u0627\\u0644\\u0649\\u064e \\u062a\\u0631\\u0643\\u0652\\u0647 \\u0627\\u0652\\u0644\\u0641\\u064c\\u0631\\u064a\\u0642\\u0652 \\u0651\\u0627\\u0648\\u064f\\u0627\\u0652\\u062e\\u0631\\u0650 \\u0627\\u0650\\u0644\\u064b\\u0639\\u064f\\u0627\\u0652\\u0645\\u064c 20\\u065105\\u0650.\\u06524-\\u064f \\u0628\\u064a\\u062a\\u064e\\u0631\\u064c \\u0634\\u0652\\u0645\\u064b\\u0627\\u064a\\u0643\\u0644\\u0652:\\u0652 \\u0627\\u0644\\u0650\\u062d\\u0627\\u0650\\u0631\\u0633 \\u0627\\u064d\\u0644\\u0650\\u0627\\u0633\\u0650\\u0637\\u0648\\u0631\\u064a \\u0650\\u0627\\u0644\\u062f\\u064f\\u0646\\u064f\\u0645\\u0650\\u0627\\u064c\\u0631\\u0643\\u064a \\u064f\\u0627\\u0644\\u0630\\u064a\\u064e \\u0643\\u064e\\u0644\\u0641 \\u0627\\u0642\\u064f\\u0644\\u064c \\u064d\\u0645\\u0651\\u0646 \\u0645\\u064d\\u0644\\u064a\\u0648\\u0646\\u064c \\u064f\\u062c\\u0646\\u064a\\u0650\\u0647 \\u0644\\u0643\\u064c\\u0646\\u064d\\u0647\\u0652 \\u0633\\u064e\\u0627\\u0647\\u0645 \\u0651\\u0628\\u064c\\u0643\\u0644\\u064e \\u064d\\u0627\\u0650\\u0646\\u062a\\u0635\\u064d\\u0627\\u064b\\u0631\\u0650\\u0627\\u064d\\u062a \\u064a\\u064b\\u0648\\u0646\\u064b\\u0627\\u064a\\u062a\\u062f \\u064c\\u0627\\u0650\\u0644\\u062a\\u064a \\u0643\\u064b\\u0627\\u064b\\u0646 \\u064c\\u0622\\u0652\\u062e\\u0631\\u0647\\u0627\\u064f \\u064b\\u0627\\u0644\\u064b\\u0641\\u0650\\u0648\\u0651\\u0632\\u064b \\u0627\\u0644\\u0627\\u064f\\u0648\\u064f\\u0631\\u0648\\u064e\\u0628\\u0652\\u064a\\u0650 \\u0651\\u0627\\u0644\\u062a\\u0627\\u064f\\u0631\\u064a\\u062e\\u064a\\u0650 \\u0639\\u0644\\u064b\\u0649 \\u0628\\u0627\\u064a\\u064c\\u0631\\u064b\\u0646 \\u0645\\u064d\\u064a\\u0648\\u0646\\u064c\\u064a\\u0651\\u062e\\u064b \\u062d\\u064a\\u064e\\u062b \\u0643\\u0627\\u0646 \\u064c\\u0645\\u0651\\u0646\\u0650 \\u062a\\u0650\\u0633\\u064d\\u0644\\u0652\\u0645\\u064e \\u064d\\u0627\\u0644\\u0643\\u0623\\u0633 \\u0628\\u064c\\u0646\\u064f\\u0641\\u0633\\u0647\\u064b.5- \\u0646\\u064a\\u0651\\u0645\\u064f\\u0627\\u064d\\u0646\\u064a\\u0650\\u0627 \\u0641\\u064e\\u064a\\u062f\\u064a\\u062a\\u064d\\u0634\\u064d: \\u0627\\u0644\\u0651\\u0645\\u064c\\u062f\\u064f\\u0627\\u0641\\u0639 \\u0627\\u0644\\u0635\\u0652\\u0631\\u0650\\u0628\\u064a\\u0652 \\u064f\\u0627\\u0644\\u0630\\u064f\\u064a\\u064e \\u064c\\u062d\\u0636\\u0631\\u064d \\u064f\\u0627\\u064c\\u0644\\u0649 \\u064d\\u064a\\u064c\\u0648\\u0646\\u064d\\u0627\\u064b\\u064a\\u064d\\u062a\\u064c\\u062f \\u0645\\u0652\\u0646\\u064e \\u0650\\u0627\\u064b\\u0644\\u062f\\u0648\\u064e\\u0631\\u064a \\u0627\\u064f\\u0644\\u0651\\u0631\\u0648\\u0633\\u064a\\u064e \\u0644\\u0627\\u0652\\u0639\\u0628\\u064d\\u0627\\u064f \\u0645\\u064d\\u063a\\u064e\\u0645\\u0651\\u0648\\u064e\\u0631\\u064d\\u0627\\u0650 \\u0641\\u062a\\u064d\\u062d\\u064e\\u0648\\u0652\\u0644 \\u0650\\u0627\\u064d\\u0644\\u064f\\u0649 \\u0642\\u0644\\u0652\\u0639\\u0629\\u064c \\u062f\\u064c\\u0641\\u0627\\u064d\\u0639\\u064a\\u0651\\u0629\\u064f \\u064b\\u0644\\u0652\\u0627 \\u064e\\u062a\\u062c\\u0627\\u0631\\u0652\\u0649\\u0652 \\u0648\\u0647\\u0648 \\u0645\\u0652\\u0637\\u0644\\u064b\\u0648\\u0628\\u064c \\u064d\\u0645\\u0651\\u0646 \\u0627\\u0650\\u0646\\u062f\\u0650\\u064a\\u064d\\u0629\\u064f \\u0639\\u062f\\u064f\\u064a\\u064e\\u062f\\u0629\\u064b \\u062a\\u0633\\u0639\\u0651\\u0649 \\u0644\\u062e\\u0637\\u0651\\u0641\\u0647 \\u064b\\u0644\\u064d\\u0643\\u0650\\u0646\\u0647\\u064c \\u0627\\u0635\\u0631\\u0650 \\u0639\\u0644\\u064f\\u0649\\u064b \\u0627\\u064f\\u0644\\u064e\\u0628\\u0642\\u0627\\u0650\\u0621 \\u062a\\u062d\\u062a\\u0652 \\u064d\\u0642\\u064a\\u0652\\u0627\\u062f\\u0629 \\u0627\\u0650\\u0644\\u064c\\u0633\\u064a\\u0631.\\u064d6-\\u064c\\u062f\\u0651\\u0648\\u0627\\u064a\\u062a \\u064b\\u064a\\u0652\\u0648\\u0652\\u0631\\u064d\\u0643:\\u064f \\u064c\\u0627\\u0644\\u0651\\u0645\\u0650\\u0647\\u0652\\u0627\\u062c\\u0645\\u064b \\u0651\\u0627\\u064b\\u0644\\u062a\\u0631\\u064a\\u0652\\u0646\\u064a\\u062f\\u0652\\u0627\\u0650\\u062f\\u064c\\u064a \\u0627\\u064c\\u0644\\u0630\\u064e\\u064a \\u0642\\u062f\\u0645\\u0652 \\u0641\\u064e\\u064a\\u064b \\u064b\\u0628\\u062f\\u0652\\u0627\\u064f\\u064a\\u0629 \\u0645\\u0651\\u0648\\u0633\\u0650\\u0645\\u064c \\u0650\\u0627\\u0644\\u062b\\u064b\\u0644\\u0627\\u064b\\u062b\\u064a\\u064b\\u0629\\u064b \\u0652\\u0627\\u0644\\u062a\\u064f\\u0627\\u0631\\u064d\\u064a\\u062e\\u064a\\u064b\\u0629 \\u064b\\u0648\\u0633\\u0627\\u0647\\u0650\\u0645 \\u064c\\u0641\\u064a\\u0647\\u064c\\u0627\\u0651 \\u0645\\u0633\\u064f\\u0627\\u0647\\u0645\\u064e\\u0629\\u0652 \\u0643\\u0651\\u0628\\u064a\\u0652\\u0631\\u0629\\u0651 \\u0628\\u0627\\u0647\\u0650\\u062f\\u0627\\u0641\\u0651\\u0647\\u0650 \\u064d\\u0645\\u0639\\u064d \\u0632\\u064d\\u0645\\u064a\\u064d\\u0644\\u0647 \\u0627\\u0646\\u064d\\u062f\\u064c\\u064a \\u0643\\u0648\\u0644\\u064f\\u060c \\u062d\\u0651\\u064a\\u062b\\u064c \\u0652\\u0633\\u062c\\u0650\\u0644\\u064e\\u0627\\u064c \\u064b\\u0633\\u0652\\u0648\\u064a\\u0627\\u064f \\u064f\\u0641\\u064a \\u0630\\u0644\\u0643 \\u064e\\u0627\\u0651\\u0644\\u064e\\u0645\\u0648\\u0633\\u064f\\u0645\\u0652 \\u0651\\u0645\\u064b\\u0627\\u064f \\u064a\\u0650\\u0632\\u064a\\u062f\\u064c \\u0639\\u0644\\u0649\\u064d \\u065150\\u0650 \\u0647\\u064e\\u062f\\u0641\\u0650\\u0627.\\u064d7\\u0651-\\u0652 \\u064e\\u0631\\u064b\\u064a\\u064f\\u0648\\u0652 \\u064f\\u0641\\u0631\\u062f\\u064a\\u0646\\u0651\\u0627\\u064b\\u0646\\u064f\\u062f\\u0652:\\u064b \\u0650\\u0627\\u064c\\u063a\\u0652\\u0644\\u064b\\u0649\\u064c \\u0645\\u064c\\u062f\\u064c\\u0627\\u0641\\u0639 \\u064e\\u0641\\u064a \\u0627\\u0644\\u064f\\u0639\\u0627\\u0644\\u0645 \\u0652\\u0639\\u0646\\u062f\\u064f\\u0645\\u0651\\u0627 \\u0642\\u062f\\u064d\\u0645\\u064d \\u064f\\u0645\\u0650\\u0646 \\u064f\\u0644\\u0651\\u064a\\u062f\\u064c\\u0632 \\u064a\\u0650\\u0648\\u064f\\u0646\\u0650\\u0627\\u064a\\u062a\\u062f\\u064c \\u0648\\u064b\\u0628\\u0652\\u0633\\u0631\\u064b\\u0639\\u0629\\u0650 \\u062d\\u064c\\u0644\\u0652 \\u064c\\u0627\\u0644\\u0645\\u0634\\u064b\\u0643\\u0651\\u0644\\u0650\\u0629\\u064b \\u064f\\u0627\\u0644\\u064c\\u062f\\u0641\\u064f\\u0627\\u0639\\u0652\\u064a\\u0650\\u0629\\u0652 \\u064d\\u0644\\u064c\\u0644\\u0641\\u0631\\u0650\\u064a\\u0642 \\u0631\\u064e\\u063a\\u0645 \\u063a\\u0644\\u0637\\u062a\\u0647 \\u064b\\u0627\\u0644\\u062a\\u064a\\u064c \\u062a\\u064e\\u0646\\u064e\\u0633\\u0649\\u064e \\u0622\\u0646\\u064e\\u0630\\u0627\\u0643\\u0652 \\u0652\\u0639\\u064d\\u0646\\u062f\\u0645\\u0627 \\u0627\\u063a\\u064b\\u0641\\u064f\\u0644 \\u0641\\u062d\\u0651\\u0635\\u0627\\u0651 \\u064c\\u0644\\u0652\\u0644\\u064d\\u0645\\u064f\\u0646\\u064e\\u0634\\u0652\\u0637\\u0627\\u062a\\u064f \\u0641\\u0651\\u062f\\u064e\\u0641\\u0639\\u064c \\u0641\\u0631\\u064a\\u0642\\u0652\\u0647 \\u062b\\u0645\\u0646\\u0651 \\u0630\\u0644\\u0643 \\u0650\\u063a\\u064a\\u064e\\u0627\\u064d\\u0628\\u0647 \\u062b\\u0650\\u0645\\u064f\\u0627\\u064c\\u0646\\u064a\\u0629 \\u0627\\u0634\\u0647\\u0631 \\u0652\\u0643\\u0627\\u0645\\u0644\\u0629.8\\u064b-\\u0651 \\u0648\\u0627\\u064a\\u0646 \\u0631\\u064b\\u0648\\u0646\\u064a:\\u064c \\u0627\\u0650\\u0644\\u064d\\u0641\\u0652\\u062a\\u0650\\u0649\\u064f \\u0627\\u0644\\u064f\\u0630\\u0647\\u064d\\u0628\\u064a \\u0627\\u064d\\u0644\\u064b\\u0627\\u0646\\u062c\\u0644\\u0652\\u064a\\u0632\\u064a\\u064d \\u064e\\u0627\\u0644\\u064b\\u0630\\u064c\\u064a \\u0644\\u0627 \\u064a\\u0639\\u0648\\u0644 \\u0639\\u0652\\u0644\\u064a\\u0647 \\u0627\\u0644\\u0633\\u064a\\u0631 \\u0641\\u0652\\u064a\\u0631\\u063a\\u064b\\u0648\\u064e\\u0633\\u0648\\u0646 \\u064c\\u0641\\u064f\\u0642\\u064b\\u0637 \\u0650\\u0628\\u0644\\u064b \\u064d\\u0648\\u0652\\u062d\\u064e\\u062a\\u0652\\u0649 \\u0652\\u0643\\u0627\\u0628\\u0652\\u064a\\u0644\\u0644\\u0648\\u064f\\u060c\\u064c \\u064c\\u0628\\u0651\\u0631\\u064c\\u0648\\u0632\\u064b\\u0647 \\u0645\\u0652\\u0639 \\u0627\\u064e\\u064a\\u064d\\u0641\\u0631\\u062a\\u064c\\u0648\\u0646\\u064d \\u064e\\u0641\\u064e\\u064a \\u0633\\u0650\\u0646 \\u0651\\u0627\\u0644\\u064f\\u0633\\u0652\\u0627\\u064f\\u0628\\u064b\\u0639\\u064f\\u0629 \\u0639\\u0634\\u064d\\u0631\\u0629\\u064c \\u0651\\u0627\\u0650\\u062f\\u064e\\u0649\\u0652 \\u0651\\u0628\\u064c\\u0627\\u064f\\u0644\\u0633\\u064a\\u064d\\u0631\\u064c \\u0644\\u0650\\u064a\\u062f\\u0641\\u0650\\u0639\\u064f \\u0645\\u0651\\u0628\\u0644\\u063a\\u0627\\u064e \\u064d\\u0643\\u0628\\u064a\\u0631\\u0627 \\u0641\\u064e\\u064a\\u0647 \\u062f\\u0648\\u064d\\u0646\\u0652 \\u062a\\u064e\\u0631\\u062f\\u062f\\u0651 \\u0644\\u064c\\u064a\\u0634\\u0643\\u0644 \\u0650\\u0645\\u0639\\u0651 \\u064b\\u0631\\u0648\\u0646\\u0627\\u0644\\u062f\\u064d\\u0648\\u0652 \\u062b\\u0646\\u064f\\u0627\\u0626\\u064d\\u064a\\u0627 \\u0645\\u062a\\u0650\\u0646\\u0627\\u064f\\u063a\\u0645\\u0627\\u064b \\u0631\\u064e\\u063a\\u064f\\u0645 \\u062e\\u0644\\u0627\\u0641\\u064e\\u0647\\u0645\\u0627 \\u064c\\u0641\\u064c\\u064a\\u064b \\u064c\\u0645\\u0648\\u064e\\u0646\\u062f\\u064d\\u064a\\u0627\\u0652\\u0644 2\\u064b00\\u06516\\u0650 \\u064e\\u0627\\u064b\\u0644\\u0630\\u064a \\u0651\\u062d\\u0644\\u0647 \\u0627\\u0644\\u0652\\u0633\\u064a\\u064b\\u0631\\u064c \\u0628\\u0633\\u0631\\u064d\\u0639\\u0629\\u060c \\u064a\\u064d\\u0645\\u062a\\u0652\\u0644\\u064d\\u0643 \\u0650\\u0643\\u0644\\u064f \\u064f\\u062e\\u0635\\u0627\\u0626\\u0635 \\u0651\\u0627\\u0644\\u064b\\u0645\\u0650\\u0647\\u0627\\u062c\\u064d\\u0645\\u064e\\u064a\\u0646 \\u0651\\u0627\\u0644\\u0639\\u064d\\u0627\\u0652\\u0644\\u064e\\u0645\\u064d\\u064a\\u064a\\u0651\\u0646 \\u0652\\u062d\\u064d\\u062a\\u0649 \\u064f\\u0627\\u0644\\u0639\\u0651\\u0635\\u0652\\u0628\\u0650\\u064a\\u064f\\u0629\\u064c \\u064f\\u0627\\u0650\\u0644\\u0645\\u0641\\u0631\\u064c\\u0637\\u0629 \\u0652\\u0628\\u062f\\u064f\\u0623 \\u064b\\u064a\\u062a\\u0651\\u062e\\u064f\\u0644\\u064b\\u0635 \\u064c\\u0645\\u0650\\u0646\\u0647\\u064c\\u0627\\u064c \\u0628\\u0650\\u0645\\u0651\\u0631\\u064c\\u0648\\u064c\\u0631 \\u0651\\u0627\\u064d\\u0644\\u0648\\u0642\\u064e\\u062a\\u064f.9\\u064e-\\u0650 \\u0627\\u0651\\u0644\\u062b\\u0650\\u0646\\u0627\\u0626\\u064b\\u064a\\u064e \\u0633\\u064b\\u062a\\u064a\\u0641\\u064f \\u0651\\u0628\\u0631\\u064e\\u0648\\u064d\\u0633 \\u064c\\u0648\\u063a\\u0652\\u0627\\u064e\\u0631\\u064f\\u064a\\u064f \\u0628\\u0627\\u0652\\u0644\\u064f\\u064a\\u0650\\u0633\\u062a\\u0631:\\u064e \\u0635\\u062e\\u0631\\u0629 \\u062f\\u0641\\u0627\\u0639\\u064f \\u064b\\u064a\\u0648\\u0646\\u0627\\u064f\\u064a\\u064f\\u062a\\u064b\\u062f\\u064c \\u0645\\u064e\\u0646\\u064d\\u0630\\u0652 \\u0627\\u064f\\u0648\\u0627\\u062e\\u064c\\u0631 \\u0627\\u0644\\u062b\\u0645\\u0627\\u0646\\u064a\\u0646\\u0651\\u0627\\u062a\\u064c \\u0648\\u0627\\u064e\\u0645\\u0651\\u062a\\u0651\\u062f\\u0652\\u0627\\u064c\\u062f\\u0651\\u0627 \\u0644\\u0628\\u062f\\u0652\\u0627\\u064f\\u064a\\u0629 \\u0650\\u0641\\u064d\\u062a\\u0631\\u0629\\u064f \\u0650\\u0627\\u0644\\u0627\\u0646\\u064d\\u062a\\u0650\\u0635\\u0627\\u0631\\u064b\\u0627\\u062a\\u0650 \\u062d\\u0644\\u0627 \\u0628\\u062a\\u0652\\u0641\\u064d\\u0627\\u064f\\u0647\\u0645\\u0647\\u0645\\u0627 \\u064c\\u0645\\u0652\\u0634\\u0643\\u0644\\u0629 \\u062f\\u0641\\u0627\\u0639\\u0650 \\u064a\\u0648\\u0652\\u0646\\u064d\\u0627\\u064b\\u064a\\u064f\\u062a\\u064e\\u062f \\u0628\\u0639\\u064f\\u062f\\u064d \\u064e\\u0631\\u062d\\u064a\\u064d\\u0644 \\u0627\\u064c\\u0644\\u064c\\u0645\\u064f\\u062f\\u0652\\u0627\\u0641\\u0652\\u0639 \\u0651\\u0628\\u0648\\u0644 \\u064f\\u0645\\u0627\\u0643\\u0652\\u063a\\u0631\\u064d\\u0627\\u064e\\u062b\\u064b \\u062d\\u064a\\u062b\\u064c \\u0627\\u0652\\u0635\\u0628\\u062d\\u0651 \\u064c\\u0627\\u064b\\u0644\\u0627\\u064f\\u0648\\u0644\\u0652 \\u0651\\u0627\\u064d\\u0644\\u0650\\u0630\\u064a \\u064b\\u0642\\u062f\\u0645 \\u0645\\u0646 \\u0646\\u0648\\u0631\\u064a\\u062a\\u064b\\u0634 \\u064c\\u0633\\u064a\\u064c\\u062a\\u064f\\u064a \\u0642\\u0651\\u0627\\u064e\\u0626\\u062f\\u0627\\u0652 \\u0644\\u0651\\u0644\\u0641\\u0631\\u064a\\u0652\\u0642 \\u0651\\u0648\\u064c\\u0642\\u064f\\u062f\\u0645\\u0651 \\u064e\\u0628\\u0650\\u0627\\u0644\\u064a\\u064f\\u0633\\u062a\\u0631\\u064d \\u0651\\u0645\\u0650\\u0646\\u0651 \\u064f\\u0645\\u0650\\u064a\\u064b\\u062f\\u0650\\u0644\\u0632\\u0628\\u0631\\u0647\\u064b \\u064b\\u0628\\u0631\\u0642\\u0645\\u064e \\u0642\\u0651\\u064a\\u0650\\u0627\\u0633\\u064f\\u064a \\u064e\\u0622\\u064b\\u0646\\u0630\\u0627\\u0643.10\\u0652-\\u0652 \\u0627\\u064b\\u0648\\u0644\\u064a \\u064c\\u063a\\u064e\\u0648\\u0650\\u0646\\u0627\\u0651\\u0631\\u0652 \\u0633\\u0650\\u0648\\u0644\\u0633\\u0643\\u064a\\u0651\\u0627\\u0631\\u064f:\\u064f \\u064f\\u0627\\u0644\\u064e\\u0645\\u0647\\u0627\\u062c\\u0645\\u064f \\u0627\\u0650\\u0644\\u064f\\u0646\\u0631\\u0648\\u0650\\u064a\\u0651\\u062c\\u064a \\u064c\\u0627\\u0644\\u0630\\u064f\\u064a \\u064f\\u062a\\u064e\\u0645 \\u0652\\u062a\\u0651\\u0641\\u064d\\u0636\\u064a\\u0644\\u0647\\u0652 \\u0652\\u0641\\u064a\\u064c \\u0652\\u0647\\u0630\\u064b\\u0647 \\u0627\\u0644\\u0642\\u0627\\u0626\\u0645\\u0629\\u064d \\u064e\\u0639\\u0644\\u0649\\u0651 \\u0627\\u064c\\u0644\\u0648\\u0651\\u064a\\u064e\\u0644\\u0632\\u064f\\u064a \\u0650\\u0645\\u0651\\u0627\\u064d\\u0631\\u064d\\u0643\\u064e \\u064d\\u0647\\u0650\\u064a\\u064b\\u0648\\u0632 \\u064e\\u0644\\u0623\\u0646\\u0647\\u0650 \\u0627\\u0633\\u0651\\u062a\\u0645\\u0631\\u064c \\u064e\\u0645\\u0652\\u0639 \\u064f\\u0627\\u0644\\u064e\\u0641\\u0651\\u0631\\u0652\\u064a\\u0642\\u0651 \\u0645\\u0651\\u0646 \\u0627\\u0644\\u0639\\u0627\\u0645 96\\u064c \\u062d\\u0651\\u062a\\u064b\\u0649\\u0651 \\u0627\\u064c\\u0639\\u062a\\u064b\\u0632\\u064c\\u0627\\u064e\\u0644\\u0647 \\u064d\\u0627\\u0652\\u0648\\u0627\\u0651\\u062e\\u0631 \\u064f2\\u065100\\u064e7\\u064c \\u064c\\u0648\\u0631\\u0652\\u0641\\u064c\\u0636 \\u0639\\u064c\\u0631\\u0648\\u0636\\u0627 \\u064f\\u0643\\u064c\\u062b\\u064a\\u0650\\u0631\\u064e\\u0629 \\u0651\\u0644\\u064c\\u064a\\u0643\\u064c\\u0648\\u064c\\u0646\\u064c \\u0650\\u0627\\u064c\\u0633\\u0627\\u0633\\u0651\\u064a\\u064d\\u0627\\u0650 \\u064c\\u0628\\u0641\\u0631\\u0642\\u064b \\u0627\\u064b\\u062e\\u0631\\u0649 \\u064e\\u0648\\u0651\\u0641\\u0636\\u0644\\u064c \\u0627\\u0644\\u0628\\u0651\\u0642\\u064f\\u0627\\u0621 \\u064f\\u0643\\u0646\\u0650\\u062c\\u0651\\u0645\\u064c \\u0627\\u064e\\u062d\\u064d\\u062a\\u064a\\u0627\\u064f\\u0637\\u064a\\u064b \\u064c\\u0641\\u064a\\u064d \\u064b\\u064a\\u064e\\u0648\\u0646\\u0652\\u0627\\u064c\\u064a\\u062a\\u062f \\u0628\\u0652\\u0639\\u062f \\u0627\\u064c\\u0646\\u064e \\u064f\\u062d\\u0636\\u0651\\u0631 \\u0645\\u0646 \\u064d\\u0641\\u0651\\u0631\\u064a\\u0642 \\u064b\\u0645\\u064c\\u063a\\u0645\\u0648\\u0631\\u064e \\u0641\\u064d\\u064a\\u0652 \\u064e\\u0628\\u064c\\u0644\\u0627\\u064e\\u062f\\u0647\\u060c \\u0652\\u0647\\u062f\\u064d\\u0641\\u064b\\u0647\\u064c \\u0627\\u0644\\u0642\\u0627\\u062a\\u064d\\u0644 \\u0641\\u064f\\u064a\\u0650 \\u0652\\u0628\\u0651\\u0627\\u064b\\u064a\\u064f\\u0631\\u064b\\u0646\\u064b \\u0650\\u0645\\u064d\\u064a\\u0652\\u0648\\u0651\\u0646\\u062e \\u0652\\u0641\\u064a\\u0650 \\u064b\\u0646\\u064e\\u0647\\u0651\\u0627\\u064b\\u0626\\u064a \\u0627\\u0648\\u0631\\u064b\\u0648\\u0650\\u0628\\u064f\\u0627 \\u06529\\u064c9 \\u0647\\u0648 \\u0627\\u0644\\u064c\\u0639\\u064b\\u0644\\u064f\\u0627\\u064f\\u0645\\u0629\\u0652 \\u0627\\u064f\\u0644\\u064e\\u0627\\u0628\\u0651\\u0631\\u0651\\u0632\\u064b\\u060c \\u0631\\u064c\\u063a\\u0645\\u064c \\u064f\\u0627\\u0646\\u0647 \\u064d\\u0643\\u064c\\u0627\\u064e\\u0646\\u0652 \\u0627\\u0634\\u064f\\u0647\\u0652\\u0631 \\u0652\\u0647\\u064c\\u062f\\u0651\\u0627\\u0641\\u064f \\u0651\\u0627\\u062d\\u062a\\u064c\\u064a\\u0650\\u0627\\u064b\\u0637\\u064a\\u064b \\u0651\\u0631\\u064f\\u0628\\u0645\\u0650\\u0627\\u064c \\u0641\\u0652\\u064a\\u0650 \\u0650\\u0627\\u0644\\u0643\\u0631\\u0629 \\u0627\\u064d\\u0644\\u064e\\u0639\\u0627\\u0652\\u0644\\u0645\\u064e\\u064a\\u0629\\u064c.\"\n        ],\n        \"semantic_type\": \"\",\n        \"description\": \"\"\n      }\n    },\n    {\n      \"column\": \"label\",\n      \"properties\": {\n        \"dtype\": \"string\",\n        \"num_unique_values\": 6,\n        \"samples\": [\n          \"Medical\",\n          \"Tech\",\n          \"Politics\"\n        ],\n        \"semantic_type\": \"\",\n        \"description\": \"\"\n      }\n    }\n  ]\n}"
            }
          },
          "metadata": {},
          "execution_count": 8
        }
      ]
    },
    {
      "cell_type": "code",
      "source": [
        "df.isnull().sum()"
      ],
      "metadata": {
        "colab": {
          "base_uri": "https://localhost:8080/",
          "height": 146
        },
        "id": "LikCjd6b1HYX",
        "outputId": "4f01c96b-5971-44c0-9cf7-5b8e86eced1d"
      },
      "execution_count": 9,
      "outputs": [
        {
          "output_type": "execute_result",
          "data": {
            "text/plain": [
              "text     0\n",
              "label    0\n",
              "dtype: int64"
            ],
            "text/html": [
              "<div>\n",
              "<style scoped>\n",
              "    .dataframe tbody tr th:only-of-type {\n",
              "        vertical-align: middle;\n",
              "    }\n",
              "\n",
              "    .dataframe tbody tr th {\n",
              "        vertical-align: top;\n",
              "    }\n",
              "\n",
              "    .dataframe thead th {\n",
              "        text-align: right;\n",
              "    }\n",
              "</style>\n",
              "<table border=\"1\" class=\"dataframe\">\n",
              "  <thead>\n",
              "    <tr style=\"text-align: right;\">\n",
              "      <th></th>\n",
              "      <th>0</th>\n",
              "    </tr>\n",
              "  </thead>\n",
              "  <tbody>\n",
              "    <tr>\n",
              "      <th>text</th>\n",
              "      <td>0</td>\n",
              "    </tr>\n",
              "    <tr>\n",
              "      <th>label</th>\n",
              "      <td>0</td>\n",
              "    </tr>\n",
              "  </tbody>\n",
              "</table>\n",
              "</div><br><label><b>dtype:</b> int64</label>"
            ]
          },
          "metadata": {},
          "execution_count": 9
        }
      ]
    },
    {
      "cell_type": "code",
      "source": [
        "df.info()"
      ],
      "metadata": {
        "colab": {
          "base_uri": "https://localhost:8080/"
        },
        "id": "ss0qC8_41F3O",
        "outputId": "b290fe2d-73f8-4c17-f4c2-d25142c9a0a0"
      },
      "execution_count": 10,
      "outputs": [
        {
          "output_type": "stream",
          "name": "stdout",
          "text": [
            "<class 'pandas.core.frame.DataFrame'>\n",
            "RangeIndex: 39885 entries, 0 to 39884\n",
            "Data columns (total 2 columns):\n",
            " #   Column  Non-Null Count  Dtype \n",
            "---  ------  --------------  ----- \n",
            " 0   text    39885 non-null  object\n",
            " 1   label   39885 non-null  object\n",
            "dtypes: object(2)\n",
            "memory usage: 623.3+ KB\n"
          ]
        }
      ]
    },
    {
      "cell_type": "markdown",
      "metadata": {
        "id": "kVc0b_9fQGeH"
      },
      "source": [
        "# Data Exploration"
      ]
    },
    {
      "cell_type": "markdown",
      "metadata": {
        "id": "a98DaVUvQsi8"
      },
      "source": [
        "Before diving into preprocessing and model building, it’s important to first explore the dataset to understand its structure, distribution, and key characteristics. This step will help you gain insights into the data and guide your decisions in subsequent steps. Here’s what to consider:\n",
        "\n",
        "1. **Inspect the Data**:\n",
        "   Start by looking at the first few rows of the dataset to get a sense of its structure. Check the columns, data types, and a few sample entries. This helps to ensure that the data is loaded correctly and gives you an initial overview of the content.\n",
        "\n",
        "2. **Check for Missing Values**:\n",
        "   Identify if there are any missing values in the dataset.\n",
        "\n",
        "3. **Distribution of Labels**:\n",
        "   Examine the distribution of the target labels (classes).\n",
        "\n",
        "4. **Text Data Characteristics (Bonus)**:\n",
        "   Analyze the length of the text data. It is useful to calculate the number of words or characters in each text sample to understand how long the texts are. This will help you set a suitable `max_length` for tokenization and padding later. You can plot a histogram of text lengths to visualize the distribution.\n",
        "\n",
        "5. **Common Words and Vocabulary (Bonus)**:\n",
        "   Explore the most frequent words in the text data."
      ]
    },
    {
      "cell_type": "code",
      "execution_count": 11,
      "metadata": {
        "id": "aZgYQbZxWtAt",
        "colab": {
          "base_uri": "https://localhost:8080/",
          "height": 623
        },
        "outputId": "9a833d3b-b2da-4573-ea2c-fd7d9b0de86f"
      },
      "outputs": [
        {
          "output_type": "execute_result",
          "data": {
            "text/plain": [
              "<Axes: title={'center': 'Distribution of Labels'}, xlabel='label'>"
            ]
          },
          "metadata": {},
          "execution_count": 11
        },
        {
          "output_type": "display_data",
          "data": {
            "text/plain": [
              "<Figure size 1000x600 with 1 Axes>"
            ],
            "image/png": "[encoded data removed]"
          },
          "metadata": {}
        }
      ],
      "source": [
        "df['label'].value_counts().plot(kind='bar', figsize=(10,6), title='Distribution of Labels')\n"
      ]
    },
    {
      "cell_type": "code",
      "source": [
        "df['word_count'] = df['text'].apply(lambda x: len(x.split()))\n",
        "df['word_count'].hist()"
      ],
      "metadata": {
        "colab": {
          "base_uri": "https://localhost:8080/",
          "height": 448
        },
        "id": "bK0O4etM3N5T",
        "outputId": "3c6ac5b3-6824-4dbb-c7ba-5ee8239032de"
      },
      "execution_count": 12,
      "outputs": [
        {
          "output_type": "execute_result",
          "data": {
            "text/plain": [
              "<Axes: >"
            ]
          },
          "metadata": {},
          "execution_count": 12
        },
        {
          "output_type": "display_data",
          "data": {
            "text/plain": [
              "<Figure size 640x480 with 1 Axes>"
            ],
            "image/png": "[encoded data removed]"
          },
          "metadata": {}
        }
      ]
    },
    {
      "cell_type": "code",
      "source": [
        "df['char_count'] = df['text'].apply(lambda x: len(x))\n",
        "df['char_count'].hist()"
      ],
      "metadata": {
        "colab": {
          "base_uri": "https://localhost:8080/",
          "height": 448
        },
        "id": "-ljsrRzd3Y9v",
        "outputId": "f3a9d949-6253-410d-b57b-89c597c045b6"
      },
      "execution_count": 13,
      "outputs": [
        {
          "output_type": "execute_result",
          "data": {
            "text/plain": [
              "<Axes: >"
            ]
          },
          "metadata": {},
          "execution_count": 13
        },
        {
          "output_type": "display_data",
          "data": {
            "text/plain": [
              "<Figure size 640x480 with 1 Axes>"
            ],
            "image/png": "[encoded data removed]"
          },
          "metadata": {}
        }
      ]
    },
    {
      "cell_type": "code",
      "source": [
        "df['char_count'].max()\n"
      ],
      "metadata": {
        "colab": {
          "base_uri": "https://localhost:8080/"
        },
        "id": "NXhEircg3cY-",
        "outputId": "a4081933-6958-41c2-9e7f-0b3efc9f3b5d"
      },
      "execution_count": 14,
      "outputs": [
        {
          "output_type": "execute_result",
          "data": {
            "text/plain": [
              "7624"
            ]
          },
          "metadata": {},
          "execution_count": 14
        }
      ]
    },
    {
      "cell_type": "code",
      "source": [
        "df['word_count'].max()"
      ],
      "metadata": {
        "colab": {
          "base_uri": "https://localhost:8080/"
        },
        "id": "9AqJU9fX3hav",
        "outputId": "25ba3bea-8535-46ee-981e-d08a27ff46d9"
      },
      "execution_count": 15,
      "outputs": [
        {
          "output_type": "execute_result",
          "data": {
            "text/plain": [
              "700"
            ]
          },
          "metadata": {},
          "execution_count": 15
        }
      ]
    },
    {
      "cell_type": "code",
      "source": [],
      "metadata": {
        "id": "m3JMyl1a4rGK"
      },
      "execution_count": null,
      "outputs": []
    },
    {
      "cell_type": "markdown",
      "metadata": {
        "id": "X_oEu0TkSMEB"
      },
      "source": [
        "# Data Cleaning and Preprocessing"
      ]
    },
    {
      "cell_type": "markdown",
      "metadata": {
        "id": "wSAFiozlRQHt"
      },
      "source": [
        "In this section, we will focus on cleaning and filtering the dataset, preparing it for the text classification task. We will implement the following steps:\n",
        "\n",
        "1. **Remove missing values**:\n",
        "   First, we eliminate any rows with missing values to ensure the dataset is complete and consistent.\n",
        "\n",
        "2. **Filter by text length (Bonus)**:\n",
        "   To maintain a uniform dataset, we will filter the text samples by a specified word count range. This ensures that the texts are neither too short to lack context nor too long to introduce unnecessary complexity.\n",
        "\n",
        "3. **Arabic stopwords loading**:\n",
        "   We load a list of Arabic stopwords to filter out commonly used but contextually insignificant words. This is an important step for improving the performance of the model, as stopwords do not contribute valuable information.\n",
        "\n",
        "4. **Text cleaning**:\n",
        "   We apply a series of text cleaning steps to standardize and simplify the text data. This involves:\n",
        "   - **Removing links (URLs)**: Any URLs present in the text are removed as they are not meaningful for classification purposes.\n",
        "   - **Removing special characters and punctuation**: This step removes any non-alphabetical characters, ensuring the text only contains meaningful words.\n",
        "   - **Removing Arabic diacritics (Tashkeel) and elongated letters (Tatweel)**: Diacritical marks and elongated letters are stripped out to standardize the text.\n",
        "   - **Removing Arabic stopwords**: Words that are part of the stopwords list are removed, as they do not add value to the classification task.\n",
        "   - **Stemming or Lemmmatization**: Either stemming or lemmatization is applied to reduce words to their root or base form.\n",
        "   - **Normalizing Hamza**: Any variation of the Hamza character is normalized for consistency.\n",
        "\n",
        "   **Note:** Most of these you can do using the library [PyArabic](https://pyarabic.readthedocs.io/ar/latest/README.html#features)\n",
        "\n",
        "5. **Final cleanup**:\n",
        "   Apply the cleanup function to the feature column.\n",
        "\n",
        "By following these steps, the text will be cleaned, filtered, and ready for tokenization!"
      ]
    },
    {
      "cell_type": "code",
      "execution_count": 45,
      "metadata": {
        "id": "mHEObOY_fHhq"
      },
      "outputs": [],
      "source": [
        "min_length = 20\n",
        "max_length = 250\n",
        "df = df[df['text'].str.split().str.len().between(min_length, max_length)]\n"
      ]
    },
    {
      "cell_type": "code",
      "source": [
        "df.shape"
      ],
      "metadata": {
        "colab": {
          "base_uri": "https://localhost:8080/"
        },
        "id": "ICWJgvHG5zA4",
        "outputId": "9ff71288-f974-49f2-f8e9-6072d9f584fb"
      },
      "execution_count": 46,
      "outputs": [
        {
          "output_type": "execute_result",
          "data": {
            "text/plain": [
              "(22134, 3)"
            ]
          },
          "metadata": {},
          "execution_count": 46
        }
      ]
    },
    {
      "cell_type": "code",
      "source": [
        "df = df[df['label'] != 'Mixed']\n",
        "df.shape"
      ],
      "metadata": {
        "colab": {
          "base_uri": "https://localhost:8080/"
        },
        "id": "gf2dF3m954yI",
        "outputId": "19bcf066-6340-42cb-89b0-19b5c87c4198"
      },
      "execution_count": 47,
      "outputs": [
        {
          "output_type": "execute_result",
          "data": {
            "text/plain": [
              "(22134, 3)"
            ]
          },
          "metadata": {},
          "execution_count": 47
        }
      ]
    },
    {
      "cell_type": "code",
      "source": [
        "stop_words = set(stopwords.words('arabic'))"
      ],
      "metadata": {
        "id": "BBkWFup859py"
      },
      "execution_count": 48,
      "outputs": []
    },
    {
      "cell_type": "code",
      "source": [
        "df.head()"
      ],
      "metadata": {
        "colab": {
          "base_uri": "https://localhost:8080/",
          "height": 206
        },
        "id": "IqgTsG4J59yk",
        "outputId": "d678a594-7c7f-4a88-818b-3734b2b9a06f"
      },
      "execution_count": 11,
      "outputs": [
        {
          "output_type": "execute_result",
          "data": {
            "text/plain": [
              "                                                text    label\n",
              "1  https://example.com/resource/اَنِطٌلقّتَ ٍفٍيّ...  Culture\n",
              "2  https://example.com/resource/أُقيًمٌتِ مِساءُ ...  Culture\n",
              "3  https://example.com/resource/بٍاسُمةَ يًوٌنٍس ...  Culture\n",
              "4  https://example.com/resource/قُرر اَتحِاد اًلْ...  Culture\n",
              "5  https://example.com/resource/تتّنٌاّول َاِلِرو...  Culture"
            ],
            "text/html": [
              "\n",
              "  <div id=\"df-a8361b01-719e-4ed7-8131-45ed5d319de0\" class=\"colab-df-container\">\n",
              "    <div>\n",
              "<style scoped>\n",
              "    .dataframe tbody tr th:only-of-type {\n",
              "        vertical-align: middle;\n",
              "    }\n",
              "\n",
              "    .dataframe tbody tr th {\n",
              "        vertical-align: top;\n",
              "    }\n",
              "\n",
              "    .dataframe thead th {\n",
              "        text-align: right;\n",
              "    }\n",
              "</style>\n",
              "<table border=\"1\" class=\"dataframe\">\n",
              "  <thead>\n",
              "    <tr style=\"text-align: right;\">\n",
              "      <th></th>\n",
              "      <th>text</th>\n",
              "      <th>label</th>\n",
              "    </tr>\n",
              "  </thead>\n",
              "  <tbody>\n",
              "    <tr>\n",
              "      <th>1</th>\n",
              "      <td>https://example.com/resource/اَنِطٌلقّتَ ٍفٍيّ...</td>\n",
              "      <td>Culture</td>\n",
              "    </tr>\n",
              "    <tr>\n",
              "      <th>2</th>\n",
              "      <td>https://example.com/resource/أُقيًمٌتِ مِساءُ ...</td>\n",
              "      <td>Culture</td>\n",
              "    </tr>\n",
              "    <tr>\n",
              "      <th>3</th>\n",
              "      <td>https://example.com/resource/بٍاسُمةَ يًوٌنٍس ...</td>\n",
              "      <td>Culture</td>\n",
              "    </tr>\n",
              "    <tr>\n",
              "      <th>4</th>\n",
              "      <td>https://example.com/resource/قُرر اَتحِاد اًلْ...</td>\n",
              "      <td>Culture</td>\n",
              "    </tr>\n",
              "    <tr>\n",
              "      <th>5</th>\n",
              "      <td>https://example.com/resource/تتّنٌاّول َاِلِرو...</td>\n",
              "      <td>Culture</td>\n",
              "    </tr>\n",
              "  </tbody>\n",
              "</table>\n",
              "</div>\n",
              "    <div class=\"colab-df-buttons\">\n",
              "\n",
              "  <div class=\"colab-df-container\">\n",
              "    <button class=\"colab-df-convert\" onclick=\"convertToInteractive('df-a8361b01-719e-4ed7-8131-45ed5d319de0')\"\n",
              "            title=\"Convert this dataframe to an interactive table.\"\n",
              "            style=\"display:none;\">\n",
              "\n",
              "  <svg xmlns=\"http://www.w3.org/2000/svg\" height=\"24px\" viewBox=\"0 -960 960 960\">\n",
              "    <path d=\"M120-120v-720h720v720H120Zm60-500h600v-160H180v160Zm220 220h160v-160H400v160Zm0 220h160v-160H400v160ZM180-400h160v-160H180v160Zm440 0h160v-160H620v160ZM180-180h160v-160H180v160Zm440 0h160v-160H620v160Z\"/>\n",
              "  </svg>\n",
              "    </button>\n",
              "\n",
              "  <style>\n",
              "    .colab-df-container {\n",
              "      display:flex;\n",
              "      gap: 12px;\n",
              "    }\n",
              "\n",
              "    .colab-df-convert {\n",
              "      background-color: #E8F0FE;\n",
              "      border: none;\n",
              "      border-radius: 50%;\n",
              "      cursor: pointer;\n",
              "      display: none;\n",
              "      fill: #1967D2;\n",
              "      height: 32px;\n",
              "      padding: 0 0 0 0;\n",
              "      width: 32px;\n",
              "    }\n",
              "\n",
              "    .colab-df-convert:hover {\n",
              "      background-color: #E2EBFA;\n",
              "      box-shadow: 0px 1px 2px rgba(60, 64, 67, 0.3), 0px 1px 3px 1px rgba(60, 64, 67, 0.15);\n",
              "      fill: #174EA6;\n",
              "    }\n",
              "\n",
              "    .colab-df-buttons div {\n",
              "      margin-bottom: 4px;\n",
              "    }\n",
              "\n",
              "    [theme=dark] .colab-df-convert {\n",
              "      background-color: #3B4455;\n",
              "      fill: #D2E3FC;\n",
              "    }\n",
              "\n",
              "    [theme=dark] .colab-df-convert:hover {\n",
              "      background-color: #434B5C;\n",
              "      box-shadow: 0px 1px 3px 1px rgba(0, 0, 0, 0.15);\n",
              "      filter: drop-shadow(0px 1px 2px rgba(0, 0, 0, 0.3));\n",
              "      fill: #FFFFFF;\n",
              "    }\n",
              "  </style>\n",
              "\n",
              "    <script>\n",
              "      const buttonEl =\n",
              "        document.querySelector('#df-a8361b01-719e-4ed7-8131-45ed5d319de0 button.colab-df-convert');\n",
              "      buttonEl.style.display =\n",
              "        google.colab.kernel.accessAllowed ? 'block' : 'none';\n",
              "\n",
              "      async function convertToInteractive(key) {\n",
              "        const element = document.querySelector('#df-a8361b01-719e-4ed7-8131-45ed5d319de0');\n",
              "        const dataTable =\n",
              "          await google.colab.kernel.invokeFunction('convertToInteractive',\n",
              "                                                    [key], {});\n",
              "        if (!dataTable) return;\n",
              "\n",
              "        const docLinkHtml = 'Like what you see? Visit the ' +\n",
              "          '<a target=\"_blank\" href=https://colab.research.google.com/notebooks/data_table.ipynb>data table notebook</a>'\n",
              "          + ' to learn more about interactive tables.';\n",
              "        element.innerHTML = '';\n",
              "        dataTable['output_type'] = 'display_data';\n",
              "        await google.colab.output.renderOutput(dataTable, element);\n",
              "        const docLink = document.createElement('div');\n",
              "        docLink.innerHTML = docLinkHtml;\n",
              "        element.appendChild(docLink);\n",
              "      }\n",
              "    </script>\n",
              "  </div>\n",
              "\n",
              "\n",
              "<div id=\"df-f5962f71-b517-43cd-a52f-a4f992eb1f62\">\n",
              "  <button class=\"colab-df-quickchart\" onclick=\"quickchart('df-f5962f71-b517-43cd-a52f-a4f992eb1f62')\"\n",
              "            title=\"Suggest charts\"\n",
              "            style=\"display:none;\">\n",
              "\n",
              "<svg xmlns=\"http://www.w3.org/2000/svg\" height=\"24px\"viewBox=\"0 0 24 24\"\n",
              "     width=\"24px\">\n",
              "    <g>\n",
              "        <path d=\"M19 3H5c-1.1 0-2 .9-2 2v14c0 1.1.9 2 2 2h14c1.1 0 2-.9 2-2V5c0-1.1-.9-2-2-2zM9 17H7v-7h2v7zm4 0h-2V7h2v10zm4 0h-2v-4h2v4z\"/>\n",
              "    </g>\n",
              "</svg>\n",
              "  </button>\n",
              "\n",
              "<style>\n",
              "  .colab-df-quickchart {\n",
              "      --bg-color: #E8F0FE;\n",
              "      --fill-color: #1967D2;\n",
              "      --hover-bg-color: #E2EBFA;\n",
              "      --hover-fill-color: #174EA6;\n",
              "      --disabled-fill-color: #AAA;\n",
              "      --disabled-bg-color: #DDD;\n",
              "  }\n",
              "\n",
              "  [theme=dark] .colab-df-quickchart {\n",
              "      --bg-color: #3B4455;\n",
              "      --fill-color: #D2E3FC;\n",
              "      --hover-bg-color: #434B5C;\n",
              "      --hover-fill-color: #FFFFFF;\n",
              "      --disabled-bg-color: #3B4455;\n",
              "      --disabled-fill-color: #666;\n",
              "  }\n",
              "\n",
              "  .colab-df-quickchart {\n",
              "    background-color: var(--bg-color);\n",
              "    border: none;\n",
              "    border-radius: 50%;\n",
              "    cursor: pointer;\n",
              "    display: none;\n",
              "    fill: var(--fill-color);\n",
              "    height: 32px;\n",
              "    padding: 0;\n",
              "    width: 32px;\n",
              "  }\n",
              "\n",
              "  .colab-df-quickchart:hover {\n",
              "    background-color: var(--hover-bg-color);\n",
              "    box-shadow: 0 1px 2px rgba(60, 64, 67, 0.3), 0 1px 3px 1px rgba(60, 64, 67, 0.15);\n",
              "    fill: var(--button-hover-fill-color);\n",
              "  }\n",
              "\n",
              "  .colab-df-quickchart-complete:disabled,\n",
              "  .colab-df-quickchart-complete:disabled:hover {\n",
              "    background-color: var(--disabled-bg-color);\n",
              "    fill: var(--disabled-fill-color);\n",
              "    box-shadow: none;\n",
              "  }\n",
              "\n",
              "  .colab-df-spinner {\n",
              "    border: 2px solid var(--fill-color);\n",
              "    border-color: transparent;\n",
              "    border-bottom-color: var(--fill-color);\n",
              "    animation:\n",
              "      spin 1s steps(1) infinite;\n",
              "  }\n",
              "\n",
              "  @keyframes spin {\n",
              "    0% {\n",
              "      border-color: transparent;\n",
              "      border-bottom-color: var(--fill-color);\n",
              "      border-left-color: var(--fill-color);\n",
              "    }\n",
              "    20% {\n",
              "      border-color: transparent;\n",
              "      border-left-color: var(--fill-color);\n",
              "      border-top-color: var(--fill-color);\n",
              "    }\n",
              "    30% {\n",
              "      border-color: transparent;\n",
              "      border-left-color: var(--fill-color);\n",
              "      border-top-color: var(--fill-color);\n",
              "      border-right-color: var(--fill-color);\n",
              "    }\n",
              "    40% {\n",
              "      border-color: transparent;\n",
              "      border-right-color: var(--fill-color);\n",
              "      border-top-color: var(--fill-color);\n",
              "    }\n",
              "    60% {\n",
              "      border-color: transparent;\n",
              "      border-right-color: var(--fill-color);\n",
              "    }\n",
              "    80% {\n",
              "      border-color: transparent;\n",
              "      border-right-color: var(--fill-color);\n",
              "      border-bottom-color: var(--fill-color);\n",
              "    }\n",
              "    90% {\n",
              "      border-color: transparent;\n",
              "      border-bottom-color: var(--fill-color);\n",
              "    }\n",
              "  }\n",
              "</style>\n",
              "\n",
              "  <script>\n",
              "    async function quickchart(key) {\n",
              "      const quickchartButtonEl =\n",
              "        document.querySelector('#' + key + ' button');\n",
              "      quickchartButtonEl.disabled = true;  // To prevent multiple clicks.\n",
              "      quickchartButtonEl.classList.add('colab-df-spinner');\n",
              "      try {\n",
              "        const charts = await google.colab.kernel.invokeFunction(\n",
              "            'suggestCharts', [key], {});\n",
              "      } catch (error) {\n",
              "        console.error('Error during call to suggestCharts:', error);\n",
              "      }\n",
              "      quickchartButtonEl.classList.remove('colab-df-spinner');\n",
              "      quickchartButtonEl.classList.add('colab-df-quickchart-complete');\n",
              "    }\n",
              "    (() => {\n",
              "      let quickchartButtonEl =\n",
              "        document.querySelector('#df-f5962f71-b517-43cd-a52f-a4f992eb1f62 button');\n",
              "      quickchartButtonEl.style.display =\n",
              "        google.colab.kernel.accessAllowed ? 'block' : 'none';\n",
              "    })();\n",
              "  </script>\n",
              "</div>\n",
              "\n",
              "    </div>\n",
              "  </div>\n"
            ],
            "application/vnd.google.colaboratory.intrinsic+json": {
              "type": "dataframe",
              "variable_name": "df",
              "summary": "{\n  \"name\": \"df\",\n  \"rows\": 37748,\n  \"fields\": [\n    {\n      \"column\": \"text\",\n      \"properties\": {\n        \"dtype\": \"string\",\n        \"num_unique_values\": 37748,\n        \"samples\": [\n          \"https://example.com/resource/\\u0627\\u0644\\u064e\\u0634\\u064d\\u0627\\u0631\\u0642\\u0629: \\u0651\\u0645\\u062d\\u0650\\u0645\\u064f\\u062f \\u0648\\u0644\\u064d\\u062f\\u0650 \\u064e\\u0645\\u064d\\u062d\\u0645\\u062f\\u064d \\u064d\\u0633\\u0627\\u0652\\u0644\\u0645\\u062a\\u062d\\u064d\\u0645\\u0650\\u0644 \\u064b\\u0645\\u0633\\u0650\\u0631\\u062d\\u064a\\u0629\\u0652 \\u00ab\\u062a\\u0634\\u0651\\u0627\\u064b\\u0628\\u0643\\u064c\\u00bb\\u064e \\u064b\\u0644\\u064f\\u0644\\u0643\\u0627\\u062a\\u064f\\u0628\\u064f \\u0641\\u064e\\u0647\\u062f\\u064b \\u0650\\u0631\\u062f\\u0647\\u0651 \\u0627\\u0644\\u064d\\u062d\\u064c\\u0627\\u064f\\u0631\\u062b\\u064e\\u064a \\u064e\\u0627\\u0644\\u062a\\u064d\\u064a \\u0623\\u062e\\u0631\\u062c\\u0647\\u0627 \\u0623\\u0651\\u062d\\u0645\\u0650\\u062f \\u0645\\u0651\\u062d\\u0650\\u0645\\u0652\\u062f\\u064d \\u064f\\u0627\\u0644\\u0623\\u062d\\u0645\\u064c\\u0631\\u064a \\u064d\\u0644\\u0652\\u0641\\u0631\\u064e\\u0642\\u064c\\u0629\\u064e \\u0645\\u0633\\u0631\\u064d\\u062d \\u0652\\u0627\\u0644\\u064f\\u0648\\u0637\\u064e\\u0646\\u0652 \\u0627\\u0651\\u0644\\u064e\\u0633\\u064d\\u0639\\u0648\\u064d\\u062f\\u064a\\u0629 \\u0651\\u0627\\u0644\\u062a\\u064a\\u064f \\u0639\\u0631\\u064e\\u0636\\u062a \\u0641\\u064a \\u064d\\u0627\\u0650\\u0644\\u0650\\u0644\\u064b\\u064a\\u0650\\u0644\\u0629 \\u0651\\u0627\\u064b\\u0644\\u064f\\u062b\\u0627\\u064d\\u0644\\u0650\\u062b\\u0651\\u0629 \\u0645\\u0650\\u0646 \\u0650\\u0644\\u064d\\u064a\\u064d\\u0627\\u0650\\u0644\\u064c\\u064a\\u064e \\u0645\\u0647\\u0631\\u064c\\u062c\\u064f\\u0627\\u0646 \\u064b\\u0627\\u064f\\u0644\\u0634\\u0651\\u0627\\u0631\\u064e\\u0642\\u064d\\u0629 \\u0651\\u0644\\u064e\\u0644\\u0650\\u0645\\u0633\\u0631\\u0652\\u062d\\u064d \\u0627\\u064c\\u0644\\u062e\\u064e\\u0644\\u064c\\u064a\\u062c\\u064a\\u060c \\u064c\\u0628\\u0639\\u064e\\u062f\\u0627\\u064b\\u064e \\u0631\\u064f\\u0645\\u064b\\u0632\\u0652\\u064a\\u064f\\u0627\\u064e\\u064b \\u0650\\u0648\\u064f\\u0627\\u0652\\u0636\\u062d\\u0627\\u064b\\u064c \\u0641\\u064a\\u0652 \\u064d\\u0627\\u0644\\u0650\\u062f\\u0644\\u0627\\u0644\\u0629\\u0651 \\u064c\\u0639\\u0652\\u0644\\u0649 \\u064e\\u062d\\u0650\\u0627\\u0652\\u0644\\u0629\\u0651 \\u0639\\u064e\\u0631\\u0628\\u064a\\u064f\\u0629\\u064e \\u064c\\u0623\\u064f\\u0648 \\u0650\\u0625\\u064b\\u0633\\u064f\\u0644\\u0650\\u0627\\u0645\\u064a\\u0629\\u0652 \\u0652\\u0631\\u0627\\u0647\\u064e\\u0646\\u0629\\u0650 \\u0652\\u064a\\u0633\\u0652\\u0648\\u0652\\u062f\\u064d\\u0647\\u0651\\u0627 \\u0652\\u0627\\u0644\\u064d\\u0635\\u0631\\u0651\\u0627\\u0639\\u064d \\u064f\\u0627\\u064b\\u0644\\u064f\\u062b\\u0651\\u0646\\u0650\\u0627\\u064b\\u0626\\u0652\\u064a \\u0628\\u064a\\u064d\\u0646\\u064e \\u064b\\u0625\\u064d\\u062e\\u0648\\u0629 \\u062a\\u062c\\u0645\\u064f\\u0639\\u0647\\u0645\\u0651 \\u0650\\u062d\\u0636\\u0627\\u0631\\u0629 \\u0648\\u064f\\u0627\\u062d\\u062f\\u0629\\u064f \\u064f\\u0648\\u0652\\u0645\\u0628\\u0627\\u062f\\u0626\\u064f \\u0648\\u0627\\u062d\\u062f\\u0651\\u0629 \\u064b\\u0648\\u064e\\u0645\\u0635\\u0650\\u064a\\u0631\\u064c \\u0648\\u064d\\u0627\\u064d\\u062d\\u064c\\u062f\\u060c\\u0651 \\u0652\\u0648\\u0650\\u0647\\u0645 \\u0645\\u064b\\u062c\\u064f\\u0628\\u0631\\u0651\\u0648\\u0646\\u0650 \\u0628\\u0633\\u0628\\u0652\\u0628 \\u0630\\u0644\\u064e\\u0643 \\u064f\\u0623\\u0646\\u0651 \\u064a\\u0650\\u0639\\u064a\\u064f\\u0634\\u064c\\u0648\\u0627\\u0652 \\u064c\\u0645\\u0639\\u064e\\u0627\\u0652\\u060c \\u064f\\u0648\\u0623\\u0646\\u064d \\u064a\\u064b\\u0634\\u0650\\u062a\\u0631\\u064b\\u0643\\u0648\\u064d\\u0627\\u0651 \\u0641\\u064d\\u064a\\u064b \\u0643\\u0644\\u0651 \\u0634\\u064a\\u0621\\u064f\\u060c\\u0650 \\u0644\\u064c\\u0627 \\u064f\\u062e\\u0651\\u064a\\u064e\\u0627\\u0631\\u064c \\u0644\\u0647\\u0652\\u0645 \\u0650\\u0641\\u064a\\u0651 \\u0630\\u0644\\u064f\\u0643\\u060c\\u064b \\u0644\\u0643\\u064f\\u0646\\u064e\\u0647\\u064f\\u0645 \\u064f\\u0631\\u063a\\u0645 \\u0630\\u0644\\u0651\\u0643 \\u064a\\u062a\\u0635\\u064e\\u0627\\u0631\\u0639\\u0651\\u0648\\u0651\\u0646 \\u064d\\u0648\\u064e\\u064a\\u0642\\u062a\\u0644 \\u0628\\u064b\\u0639\\u0636\\u0647\\u064d\\u0645 \\u064e\\u0628\\u064d\\u0639\\u0636\\u0650\\u0627\\u060c \\u0648\\u064a\\u0651\\u0623\\u064b\\u062e\\u0630 \\u0635\\u064e\\u0631\\u064f\\u0627\\u064e\\u0639\\u064c\\u0647\\u0645\\u064f \\u0652\\u0639\\u0650\\u062f\\u064b\\u0629 \\u064c\\u0623\\u0634\\u0643\\u064b\\u0627\\u0644\\u060c\\u0651 \\u064b\\u0645\\u0646\\u064b\\u0647\\u0627\\u064b \\u0650\\u0627\\u064f\\u0644\\u0650\\u0637\\u0627\\u0652\\u0626\\u064d\\u0641\\u064b\\u064a\\u064f \\u064f\\u0648\\u0627\\u0644\\u0645\\u064f\\u0630\\u0647\\u0628\\u064a \\u064c\\u0648\\u0627\\u0644\\u0639\\u064b\\u0631\\u0642\\u064a \\u0648\\u0627\\u0644\\u062c\\u064c\\u063a\\u0631\\u0627\\u064f\\u0641\\u064e\\u064a\\u060c \\u0625\\u0646\\u0650\\u0647\\u0650\\u0627 \\u0645\\u0623\\u0633\\u0627\\u0629\\u064b \\u062f\\u0650\\u0631\\u0627\\u0645\\u064a\\u0629\\u0652 \\u0639\\u0645\\u064a\\u0642\\u064d\\u0629\\u0652\\u060c\\u064d \\u0641\\u064e\\u0643\\u064a\\u064d\\u0641\\u064d \\u0639\\u0652\\u0627\\u064b\\u0644\\u062c\\u064e\\u062a\\u064d\\u0647\\u064b\\u0627 \\u064b\\u0627\\u0652\\u0644\\u064c\\u0645\\u064b\\u0633\\u0631\\u062d\\u064a\\u064b\\u0629\\u064b\\u061f\\u064e\\u062c\\u0650\\u0627\\u064c\\u0621 \\u0627\\u0644\\u0639\\u0631\\u064e\\u0636 \\u064c\\u0639\\u0651\\u0644\\u064b\\u0649\\u064c \\u0634\\u0643\\u0644 \\u064e\\u00ab\\u062f\\u0651\\u064a\\u0651\\u0648\\u062f\\u0651\\u0631\\u064d\\u0627\\u0645\\u0650\\u0627\\u0650\\u00bb\\u064b \\u0628\\u064a\\u064f\\u0646 \\u064e\\u0627\\u0650\\u0644\\u0645\\u0645\\u062b\\u0644\\u064f\\u064e\\u064e\\u064a\\u064b\\u0646\\u0650 \\u0639\\u0628\\u062f \\u0627\\u0644\\u064b\\u0631\\u0652\\u062d\\u0645\\u0646 \\u064b\\u0627\\u0644\\u0645\\u0632\\u064a\\u064c\\u0639\\u064b\\u0644\\u064c \\u064b\\u0648\\u0633\\u064e\\u0627\\u064f\\u0645\\u0650\\u064a\\u064d \\u0627\\u064c\\u0644\\u0652\\u0632\\u0647\\u064f\\u0631\\u0627\\u0646\\u0652\\u064a\\u064f\\u060c \\u064e\\u0648\\u0642\\u064b\\u062f\\u064e\\u0645\\u064d \\u0650\\u0645\\u064d\\u062c\\u0645\\u0648\\u0651\\u0639\\u0629 \\u0645\\u0650\\u0646 \\u0627\\u0644\\u064f\\u0644\\u064d\\u0648\\u062d\\u0652\\u0627\\u062a\\u060c \\u064d\\u062c\\u0645\\u0639\\u064e\\u062a \\u0628\\u064a\\u064e\\u0646\\u0652 \\u0627\\u064d\\u0644\\u062c\\u064e\\u062f \\u064e\\u0648\\u0627\\u064e\\u0644\\u0652\\u0647\\u0632\\u0644\\u064f\\u060c \\u0648\\u0641\\u0650\\u064a \\u0652\\u0627\\u0644\\u0652\\u0644\\u0648\\u062d\\u0629\\u064c \\u0627\\u0650\\u0644\\u0651\\u0623\\u0648\\u0644\\u064d\\u0649 \\u0646\\u0650\\u0643\\u0652\\u0648\\u0646 \\u0623\\u064e\\u0645\\u0650\\u0627\\u0645\\u0651 \\u0631\\u0652\\u062c\\u064d\\u0644\\u064a\\u0651\\u0646\\u0651\\u060c \\u0642\\u064b\\u062f\\u064f \\u062c\\u064c\\u0647\\u0632 \\u0643\\u0651\\u0644 \\u0645\\u0646\\u0652\\u0647\\u0645\\u0627\\u064c \\u064b\\u062d\\u0651\\u0642\\u0652\\u064a\\u0628\\u064e\\u062a\\u0647 \\u0644\\u0651\\u0644\\u0652\\u0633\\u0641\\u0631\\u0652\\u060c\\u064c \\u0648\\u0650\\u0643\\u0644 \\u0645\\u0646\\u0647\\u0645\\u0627 \\u0643\\u0651\\u0627\\u064c\\u0646\\u064f \\u064c\\u064a\\u064d\\u0631\\u064e\\u0627\\u0642\\u0628\\u064c \\u0627\\u0644\\u064e\\u0622\\u064b\\u062e\\u064f\\u0631 \\u062e\\u0644\\u0633\\u064c\\u0629\\u064e \\u064f\\u0644\\u064e\\u064a\\u0639\\u064b\\u0631\\u064e\\u0641\\u064c \\u064d\\u0645\\u064c\\u0627\\u064f \\u064a\\u0650\\u0642\\u064e\\u0648\\u064c\\u0645 \\u064b\\u0628\\u064b\\u0647\\u0650\\u060c \\u0648\\u064a\\u064d\\u0643\\u062a\\u0634\\u0651\\u0641\\u064e \\u0651\\u0643\\u0644\\u064d \\u064f\\u0645\\u0650\\u0646\\u0647\\u0645\\u064b\\u0627\\u064c \\u0650\\u0627\\u064d\\u0644\\u0650\\u0622\\u062e\\u0631\\u064d\\u060c \\u0641\\u064b\\u064a\\u062a\\u0648\\u0627\\u062c\\u0647\\u064e\\u0627\\u064b\\u0646\\u064f \\u0645\\u0650\\u0628\\u064e\\u0627\\u0634\\u064e\\u0631\\u0629\\u0650\\u060c \\u0648\\u064a\\u0628\\u062f\\u064e\\u0648 \\u0643\\u064e\\u0644 \\u0645\\u0650\\u0646\\u0647\\u064b\\u0645\\u0650\\u0627\\u064c \\u064d\\u062d\\u0652\\u0631\\u064a\\u0635\\u0627\\u064b\\u064d \\u0639\\u0644\\u064d\\u0649 \\u064d\\u062d\\u0642\\u064a\\u0628\\u0652\\u062a\\u0651\\u0647\\u064b \\u064e\\u0645\\u064e\\u0646 \\u064f\\u0623\\u0646\\u064c \\u0650\\u062a\\u064e\\u0645\\u064d\\u062a\\u062f\\u0650 \\u0625\\u0644\\u064d\\u064a\\u0647\\u0651\\u0627 \\u0650\\u064a\\u062f\\u064f \\u064d\\u0632\\u064c\\u0645\\u064a\\u0652\\u0644\\u0647\\u064f\\u060c\\u0651 \\u064c\\u0641\\u064a\\u0643\\u062a\\u0634\\u0641\\u064d \\u064c\\u0645\\u0627\\u064d \\u064d\\u0628\\u062f\\u064c\\u0627\\u064c\\u062e\\u064c\\u0644\\u064b\\u0647\\u0650\\u0627\\u060c\\u064c \\u0652\\u0648\\u0650\\u0645\\u0639\\u064f \\u064d\\u0630\\u0644\\u064e\\u0643 \\u064a\\u064f\\u0644\\u064d\\u0647\\u064f\\u0645\\u0647\\u0645\\u0652\\u0627\\u064e \\u064b\\u0630\\u0644\\u0651\\u0643 \\u064c\\u0627\\u0644\\u0652\\u062d\\u0650\\u0631\\u0650\\u0635\\u064c \\u064e\\u0627\\u064c\\u0644\\u0634\\u064d\\u062f\\u064e\\u064a\\u0650\\u062f\\u060c\\u064e \\u0623\\u064b\\u0646\\u0652 \\u064a\\u0652\\u0644\\u0639\\u0628\\u0652\\u0627 \\u0652\\u0644\\u064c\\u0639\\u064e\\u0628\\u064b\\u0629 \\u0627\\u064e\\u0644\\u064e\\u0645\\u062a\\u0647\\u0645\\u0650 \\u0648\\u0627\\u064b\\u0644\\u0645\\u062d\\u0642\\u0642\\u060c\\u0651 \\u0644\\u0643\\u0646\\u0647\\u064b\\u0645\\u0627\\u0652 \\u064c\\u064a\\u062e\\u062a\\u0644\\u0650\\u0641\\u064c\\u0627\\u0652\\u0646\\u0650 \\u064e\\u0637\\u0648\\u064c\\u064a\\u0652\\u0644\\u064b\\u0627\\u0652\\u060c\\u064d \\u0641\\u064c\\u0643\\u0644 \\u0645\\u0651\\u0646\\u064c\\u0647\\u0650\\u0645\\u0627 \\u064d\\u064a\\u0651\\u0631\\u064f\\u064a\\u062f \\u064d\\u0623\\u064e\\u0646\\u0651 \\u064a\\u064e\\u0643\\u0652\\u0648\\u0646 \\u064f\\u0647\\u064e\\u0648 \\u064c\\u0627\\u0644\\u0652\\u0645\\u064d\\u062d\\u0650\\u0642\\u0651\\u0651\\u0642\\u0650\\u060c\\u064e \\u0648\\u0643\\u064c\\u0644\\u064b \\u0645\\u0646\\u064e\\u0647\\u0645\\u0650\\u0627 \\u0652\\u062e\\u064b\\u0627\\u0626\\u0641 \\u0645\\u064e\\u0646\\u064f \\u064e\\u062f\\u0648\\u0631\\u0651 \\u0627\\u064c\\u0644\\u0645\\u0651\\u062a\\u0647\\u0652\\u0645\\u060c\\u064e \\u0644\\u064e\\u0623\\u0651\\u0646\\u064d \\u0644\\u062f\\u0651\\u064a\\u0652\\u0647\\u064f \\u0650\\u0645\\u0627\\u0650 \\u0650\\u064a\\u062e\\u0641\\u0652\\u064a\\u0647 \\u0648\\u064a\\u062e\\u064e\\u0627\\u0641\\u064f \\u0650\\u0623\\u064f\\u0646\\u064b \\u064c\\u064a\\u064b\\u0643\\u062a\\u0634\\u0641.\\u0652\\u064a\\u064c\\u062a\\u0651\\u062d\\u0648\\u064e\\u0644 \\u064d\\u0627\\u0652\\u0644\\u064e\\u0645\\u0634\\u0652\\u0647\\u064e\\u062f\\u064b \\u064c\\u0644\\u064c\\u0646\\u062c\\u0652\\u062f\\u064e \\u0650\\u0623\\u0646\\u0641\\u064d\\u0633\\u0646\\u064d\\u0627 \\u0623\\u0652\\u0645\\u0651\\u0627\\u064b\\u0645 \\u0650\\u0645\\u064f\\u062a\\u0651\\u0647\\u0645\\u064d \\u0641\\u064f\\u064a \\u0642\\u0641\\u0651\\u0635\\u064b \\u0651\\u0627\\u0651\\u0644\\u0627\\u0650\\u062a\\u0647\\u064f\\u0627\\u064b\\u0645\\u064f \\u0648\\u0645\\u062d\\u064b\\u0642\\u0651\\u064d\\u0642\\u064b \\u064f\\u064a\\u064b\\u0633\\u064c\\u0623\\u0644\\u0647\\u0650\\u060c\\u0650 \\u0641\\u064e\\u064a\\u064e\\u0637\\u064f\\u0644\\u0628 \\u0627\\u0651\\u0644\\u0645\\u062a\\u0647\\u064c\\u0645 \\u0645\\u0650\\u062d\\u0651\\u0627\\u0645\\u064a\\u064e\\u0627\\u0651\\u064b\\u064c \\u064a\\u0650\\u062f\\u0627\\u0641\\u0650\\u0639 \\u0639\\u0646\\u064b\\u0647\\u060c \\u064b\\u0648\\u0642\\u0627\\u0651\\u0636\\u064a\\u064e\\u0627\\u0650\\u064b\\u064d \\u0639\\u064f\\u0627\\u062f\\u0644\\u0627\\u064b\\u064f\\u060c\\u0650 \\u0648\\u064f\\u0634\\u0647\\u064e\\u0648\\u062f\\u0627\\u064e\\u064b \\u0639\\u062f\\u0648\\u064e\\u0644\\u0627\\u064e\\u064b\\u060c\\u0652 \\u062b\\u0650\\u0645\\u064b \\u064a\\u064d\\u0645\\u062a\\u0646\\u064e\\u0639 \\u0639\\u0646\\u0652 \\u0645\\u0648\\u064f\\u0627\\u0635\\u0644\\u064d\\u0629 \\u064f\\u062a\\u0650\\u0645\\u062b\\u064f\\u064a\\u0644 \\u0627\\u0651\\u0644\\u062f\\u0648\\u0631\\u064f\\u060c \\u064c\\u0641\\u064b\\u064a\\u064c\\u062a\\u0652\\u0646\\u0627\\u0632\\u0639\\u064d\\u0627\\u0646 \\u064b\\u0645\\u0646\\u0651 \\u062c\\u0651\\u062f\\u064a\\u064f\\u062f\\u064f\\u060c\\u0652 \\u0648\\u0652\\u064a\\u064b\\u062d\\u062f\\u062b\\u064c \\u0625\\u0651\\u0638\\u064f\\u0644\\u0627\\u0645\\u064f \\u064b\\u0648\\u0627\\u064e\\u0646\\u0641\\u0650\\u062c\\u064f\\u0627\\u0631\\u064d\\u0627\\u062a\\u064b \\u064b\\u0648\\u0650\\u062f\\u064f\\u062e\\u0627\\u064e\\u0646\\u060c\\u064b \\u0648\\u0646\\u064d\\u0634\\u0627\\u0647\\u064f\\u062f\\u064c\\u0647\\u0645\\u0627\\u064e \\u064e\\u062a\\u064b\\u062d\\u064c\\u062a \\u0627\\u064e\\u0644\\u0625\\u064b\\u0636\\u0650\\u0627\\u0621\\u064f\\u0629 \\u0650\\u0627\\u0644\\u062e\\u064c\\u0627\\u064f\\u0641\\u062a\\u0629 \\u0645\\u064b\\u0646\\u064d\\u0647\\u0643\\u064a\\u0650\\u0646\\u0650 \\u064c\\u0643\\u0651\\u0645\\u0646\\u0652 \\u062e\\u0631\\u062c\\u0652 \\u0650\\u0645\\u0646\\u064c \\u0652\\u0623\\u0650\\u062a\\u064b\\u0648\\u0646 \\u062d\\u064d\\u0631\\u0628\\u064c.\\u0652\\u062b\\u0651\\u0645 \\u0651\\u064a\\u062a\\u062d\\u0648\\u0652\\u0644\\u064b \\u064b\\u0627\\u0644\\u064f\\u0645\\u064c\\u0634\\u0647\\u062f\\u064c \\u064b\\u0625\\u0644\\u0649 \\u0635\\u0652\\u064a\\u0627\\u062f\\u064e\\u064a\\u064c\\u0646\\u064e \\u0650\\u0641\\u0650\\u064a \\u064f\\u0632\\u064c\\u0648\\u064e\\u0631\\u0642\\u064c\\u060c\\u0650 \\u064a\\u063a\\u0646\\u0651\\u064a\\u0627\\u064d\\u0646 \\u0648\\u0651\\u064a\\u062c\\u064f\\u062f\\u064c\\u0641\\u0627\\u0646\\u060c\\u0650 \\u0652\\u062b\\u0645 \\u0650\\u064a\\u064e\\u062c\\u0644\\u0651\\u0633\\u0627\\u0646 \\u0650\\u0641\\u064a \\u064d\\u0642\\u0650\\u0647\\u0650\\u0648\\u064f\\u0629\\u060c\\u064d \\u0652\\u0648\\u0650\\u064a\\u064d\\u0644\\u0651\\u0648\\u064c\\u0645\\u0651 \\u0627\\u0644\\u064f\\u0623\\u064f\\u0648\\u0650\\u0644 \\u0650\\u0645\\u064c\\u0646\\u064d\\u0647\\u0651\\u0645\\u064c\\u0627 \\u0639\\u064c\\u0644\\u064d\\u0649\\u0651 \\u0642\\u064e\\u0633\\u0651\\u0648\\u064d\\u062a\\u0647 \\u064b\\u0648\\u064f\\u062a\\u062c\\u064c\\u0647\\u0645\\u064c\\u0647\\u060c\\u0652 \\u0648\\u064a\\u064d\\u0644\\u0651\\u0648\\u0645\\u0650 \\u064e\\u0627\\u0644\\u0652\\u062b\\u064c\\u0627\\u064e\\u0646\\u064a\\u064b \\u0639\\u0644\\u064d\\u0649 \\u0636\\u0639\\u0651\\u0641\\u0650\\u0647\\u060c\\u064d \\u064f\\u0648\\u0650\\u0639\\u062f\\u064d\\u0645\\u0652 \\u064b\\u0642\\u064f\\u062f\\u064b\\u0631\\u062a\\u0652\\u0647 \\u0639\\u0644\\u0651\\u0649 \\u064d\\u0627\\u0651\\u0644\\u064e\\u0645\\u0648\\u0627\\u0652\\u062c\\u0647\\u0629\\u060c\\u064f \\u0648\\u0628\\u064b\\u0639\\u062f \\u0650\\u0644\\u0650\\u0648\\u062d\\u0651\\u0629 \\u064d\\u063a\\u0646\\u0627\\u0626\\u064a\\u064f\\u0629\\u060c\\u064c \\u064d\\u0648\\u0646\\u0632\\u064f\\u0647\\u064e\\u0629 \\u0641\\u064a \\u0633\\u064c\\u064a\\u064f\\u0627\\u064b\\u0631\\u064d\\u0629\\u064b\\u060c \\u064b\\u064a\\u064f\\u0645\\u062b\\u0644\\u0627\\u0646\\u064d \\u0645\\u064e\\u0642\\u062f\\u0645\\u064f\\u064a \\u0646\\u0651\\u0634\\u064c\\u0631\\u0629 \\u0623\\u062e\\u064e\\u0628\\u0627\\u0631\\u060c \\u064a\\u0651\\u0642\\u064b\\u062f\\u0645\\u0650 \\u064f\\u0623\\u064f\\u0648\\u064f\\u0644\\u064c\\u0647\\u0650\\u0645\\u064f\\u0627\\u0650 \\u064f\\u0623\\u062e\\u0628\\u064c\\u0627\\u064d\\u0631\\u0627 \\u0639\\u0651\\u0646\\u064b \\u0652\\u0627\\u0644\\u064b\\u062d\\u064c\\u0628 \\u0648\\u0652\\u0627\\u0644\\u0651\\u0644\\u064f\\u0642\\u0627\\u0652\\u0621\\u0627\\u0652\\u062a \\u0627\\u064c\\u0644\\u0631\\u0648\\u0651\\u0645\\u0650\\u0627\\u0646\\u0633\\u064a\\u064f\\u0629\\u064e\\u060c\\u064b \\u0651\\u0644\\u064d\\u0643\\u0651\\u0646 \\u0627\\u0644\\u064d\\u0622\\u064e\\u062e\\u0631\\u064d \\u064b\\u064a\\u064b\\u0639\\u064e\\u062a\\u0652\\u0631\\u0636\\u0652 \\u0639\\u064f\\u0644\\u064a\\u0647\\u060c\\u064f \\u0648\\u0652\\u064a\\u064d\\u0648\\u064d\\u0642\\u0641\\u0651\\u0647\\u060c \\u0644\\u064a\\u0628\\u064b\\u062f\\u0623 \\u0647\\u0648\\u064d \\u0641\\u064a \\u0642\\u0631\\u0627\\u0621\\u0629 \\u0646\\u0650\\u0634\\u064d\\u0631\\u0629 \\u064b\\u0623\\u062e\\u0628\\u0627\\u0631 \\u0645\\u0646 \\u064c\\u0627\\u0650\\u0644\\u0650\\u062a\\u064e\\u0641\\u062c\\u064e\\u064a\\u0631\\u064c \\u0648\\u0627\\u064d\\u0644\\u0642\\u0651\\u062a\\u0644\\u060c\\u064f \\u0641\\u0650\\u064a\\u0648\\u0642\\u064d\\u0641\\u0650\\u0647\\u064c \\u0627\\u0652\\u0644\\u0623\\u0650\\u0648\\u064b\\u0644\\u0652\\u060c \\u064f\\u0648\\u064b\\u064a\\u063a\\u0646\\u0652\\u064a\\u0627\\u064b\\u0646 \\u0623\\u064e\\u063a\\u0646\\u064a\\u0650\\u0629 \\u064b\\u0639\\u0627\\u0637\\u064b\\u0641\\u0650\\u064a\\u0629\\u060c\\u064c \\u0651\\u062b\\u064f\\u0645 \\u064e\\u064a\\u062e\\u0650\\u062a\\u064b\\u0644\\u0652\\u0641\\u0627\\u0646\\u0651\\u060c\\u0652 \\u0652\\u0648\\u0641\\u064a\\u064d \\u0644\\u0652\\u0648\\u0651\\u062d\\u0629\\u064b \\u064f\\u0646\\u0647\\u0652\\u0627\\u064e\\u0626\\u064f\\u064a\\u0652\\u0629\\u064c \\u064a\\u0628\\u0648\\u0652\\u062d \\u0643\\u064c\\u0644\\u064d \\u0645\\u0646\\u0647\\u0651\\u0645\\u0627\\u0652 \\u0628\\u064e\\u0645\\u064b\\u0627 \\u064a\\u064d\\u0631\\u0628\\u0637\\u064c\\u0647\\u064d \\u0628\\u0627\\u0651\\u0644\\u064d\\u062b\\u0652\\u0627\\u0651\\u0646\\u0650\\u064a\\u060c \\u0650\\u0648\\u0628\\u0645\\u0627\\u064f \\u064f\\u064a\\u062e\\u064d\\u062a\\u064e\\u0644\\u0641 \\u064b\\u0639\\u0652\\u0646\\u0652\\u0647 \\u0628\\u0647\\u0652\\u060c \\u0652\\u0648\\u064a\\u0639\\u064c\\u062a\\u0631\\u0641\\u064d\\u0627\\u0646\\u0652 \\u0628\\u0623\\u0646\\u0647\\u0645\\u064f\\u0627 \\u064b\\u0643\\u0627\\u0644\\u062c\\u0633\\u062f \\u0627\\u0644\\u0648\\u064c\\u0627\\u0652\\u062d\\u0651\\u062f \\u0627\\u064b\\u0644\\u0630\\u064d\\u064a\\u0650 \\u064f\\u0644\\u064b\\u0627 \\u0651\\u064a\\u064d\\u0646\\u0641\\u0651\\u0635\\u0644\\u064c\\u060c \\u0644\\u0643\\u064e\\u0646\\u0651\\u0651\\u064d \\u0643\\u064e\\u0644\\u064e\\u0627\\u0651\\u064b \\u064d\\u0645\\u064f\\u0646\\u064c\\u0647\\u0645\\u0627 \\u0652\\u064a\\u064b\\u0631\\u0641\\u0636\\u064b \\u0623\\u0646 \\u064b\\u064a\\u062a\\u0646\\u0627\\u064f\\u0632\\u064b\\u0644\\u064d \\u0650\\u0644\\u064b\\u0644\\u0622\\u062e\\u0631\\u0651\\u060c \\u0650\\u0648\\u064a\\u064f\\u0631\\u064f\\u0641\\u0651\\u0636 \\u064f\\u0623\\u0651\\u0646\\u0651 \\u064a\\u062e\\u064f\\u0637\\u0650\\u0648\\u064d \\u0651\\u062e\\u0637\\u064e\\u0648\\u0629 \\u064d\\u0641\\u064a \\u064b\\u0627\\u062a\\u064c\\u062c\\u064d\\u0627\\u0647\\u064c \\u0627\\u0644\\u0622\\u062e\\u0631\\u064b.\\u062a\\u0634\\u064b\\u0643\\u064c\\u0644\\u0651 \\u0627\\u0644\\u0651\\u0645\\u0650\\u0633\\u0631\\u064d\\u062d\\u064d\\u064a\\u064d\\u0629\\u064c \\u0652\\u0645\\u062d\\u0627\\u0650\\u0648\\u064d\\u0644\\u064b\\u0629\\u0651 \\u062c\\u064b\\u064a\\u064b\\u062f\\u064e\\u0629\\u064f \\u064d\\u0644\\u062a\\u064d\\u0645\\u064f\\u062b\\u064c\\u064a\\u0644\\u064d \\u064f\\u0630\\u0644\\u064b\\u0643 \\u064d\\u0627\\u064c\\u0644\\u0645\\u064b\\u0623\\u0652\\u0632\\u0650\\u0642 \\u064b\\u0627\\u064b\\u0644\\u064e\\u062f\\u0631\\u0627\\u0651\\u0645\\u064a\\u064e \\u0644\\u0644\\u0625\\u062e\\u0648\\u0651\\u0629\\u064f \\u064d\\u0627\\u0644\\u0623\\u064d\\u0639\\u062f\\u064b\\u0627\\u0621\\u064c\\u060c \\u064d\\u0627\\u064c\\u0644\\u0652\\u0630\\u0651\\u064a\\u0646\\u0650 \\u064d\\u062a\\u064b\\u062f\\u0641\\u0652\\u0639\\u0647\\u064d\\u0645\\u0652 \\u0651\\u0627\\u064b\\u0644\\u064f\\u062f\\u064a\\u0652\\u0645\\u0650\\u0627\\u063a\\u064d\\u0648\\u0652\\u062c\\u064a\\u0629\\u064f \\u0625\\u0650\\u0644\\u0650\\u0649\\u0652 \\u0650\\u0635\\u064d\\u0631\\u0627\\u0651\\u0639\\u064b \\u0651\\u0644\\u064e\\u0627\\u064d \\u064a\\u0646\\u062a\\u064d\\u0647\\u064e\\u064a\\u064b\\u060c\\u064c \\u064f\\u0648\\u0645\\u0623\\u0633\\u064c\\u0627\\u0650\\u0629 \\u064d\\u0644\\u0650\\u0627\\u064d \\u062d\\u0652\\u0644\\u064d \\u0644\\u064e\\u0647\\u064e\\u0627\\u060c \\u0644\\u0643\\u064b\\u0646\\u0647\\u064d\\u0627\\u064f \\u0651\\u0639\\u064f\\u0627\\u0646\\u062a \\u0645\\u0646 \\u0639\\u0650\\u062f\\u064f\\u0629 \\u064c\\u0645\\u0634\\u0643\\u0644\\u0627\\u064e\\u062a \\u064d\\u0628\\u0646\\u0652\\u064a\\u0648\\u064c\\u064a\\u064f\\u0629\\u0651\\u060c \\u064c\\u0623\\u0648\\u0644\\u0627\\u064c\\u0647\\u064b\\u0627\\u064f \\u0623\\u064f\\u0646\\u064e\\u0647\\u064d\\u0627 \\u0643\\u062a\\u064f\\u0628\\u062a\\u0652 \\u0628\\u064c\\u0623\\u0633\\u064d\\u0644\\u0648\\u0628\\u064d \\u0650\\u062a\\u064c\\u062c\\u064d\\u0631\\u064c\\u064a\\u062f\\u0651\\u064a\\u064e \\u062a\\u064b\\u062c\\u0631\\u064f\\u064a\\u0628\\u064a\\u064c \\u064f\\u0645\\u0648\\u0646\\u0648\\u062f\\u064d\\u0631\\u0652\\u0627\\u064d\\u0645\\u064a\\u0652\\u060c\\u064f \\u064a\\u064e\\u0635\\u0644\\u064f\\u062d \\u0644\\u0651\\u0634\\u062e\\u0635\\u0650\\u064a\\u064b\\u0629 \\u0650\\u0648\\u0650\\u0627\\u0651\\u062d\\u064c\\u062f\\u0629 \\u064e\\u0623\\u0643\\u0651\\u062b\\u0631 \\u0645\\u064e\\u0645\\u0627 \\u0652\\u064a\\u0635\\u0644\\u064b\\u062d \\u0644\\u0651\\u0634\\u062e\\u064f\\u0635\\u064a\\u0652\\u062a\\u064a\\u064b\\u0646\\u060c\\u064d \\u0648\\u0650\\u0647\\u064e\\u0630\\u0652\\u0627\\u0650 \\u0645\\u064c\\u0627 \\u0651\\u062c\\u0652\\u0639\\u064f\\u0644 \\u0650\\u0645\\u0633\\u0627\\u062d\\u0627\\u062a \\u0627\\u064d\\u0644\\u0628\\u0648\\u064b\\u062d \\u064f\\u0641\\u064a\\u064d\\u0647\\u064f\\u0627\\u064e \\u0650\\u0648\\u064f\\u0627\\u0644\\u062a\\u064d\\u064a\\u0650 \\u062a\\u0646\\u064f\\u0627\\u0648\\u064c\\u0628\\u062a\\u064d \\u0639\\u0644\\u064a\\u0652\\u0647\\u0627 \\u0627\\u0644\\u0634\\u0651\\u062e\\u064e\\u0635\\u064f\\u064a\\u064f\\u062a\\u0652\\u0627\\u0650\\u0646\\u060c\\u0652 \\u0643\\u0651\\u062b\\u0652\\u064a\\u0631\\u0629\\u060c\\u064d \\u0631\\u063a\\u0645\\u064f \\u064e\\u0642\\u0635\\u064e\\u0631 \\u064b\\u0627\\u064d\\u0644\\u064b\\u0639\\u0631\\u0636\\u0651 \\u064d\\u0627\\u0644\\u0630\\u064a \\u064e\\u0644\\u064e\\u0645 \\u064a\\u064f\\u062a\\u064d\\u062c\\u064b\\u0627\\u0648\\u064c\\u0632\\u064b 40 \\u062f\\u064b\\u0642\\u064e\\u064a\\u0642\\u0629\\u060c\\u0652 \\u0641\\u064e\\u0643\\u0652\\u0627\\u064c\\u0646 \\u0648\\u064f\\u062c\\u064b\\u0648\\u062f\\u064b \\u064e\\u0634\\u062e\\u0650\\u0635\\u064f\\u064a\\u062a\\u064a\\u064b\\u0646 \\u064c\\u0639\\u0650\\u0628\\u064c\\u0626\\u064b\\u0627\\u064f\\u064b\\u064d \\u0639\\u064e\\u0644\\u0650\\u0649 \\u0627\\u064b\\u0644\\u0639\\u064e\\u0631\\u064c\\u0636\\u060c\\u064f \\u064d\\u0648\\u0650\\u064a\\u062f\\u064f\\u0644 \\u0639\\u0644\\u0650\\u0649\\u064e \\u0652\\u0630\\u064f\\u0644\\u0643\\u064e \\u064f\\u0643\\u0648\\u0646 \\u0650\\u0627\\u0644\\u064c\\u0635\\u0650\\u0631\\u064d\\u0627\\u064b\\u0639 \\u0628\\u064b\\u064a\\u0650\\u0646\\u0647\\u0645\\u064e\\u0627\\u0652 \\u0643\\u064c\\u0627\\u064c\\u0646\\u064e \\u064d\\u0634\\u0643\\u0644\\u064f\\u064a\\u0627\\u060c\\u064d \\u0648\\u064e\\u0644\\u062d\\u0651\\u0638\\u0651\\u0627\\u062a\\u0651 \\u064d\\u0627\\u0644\\u064b\\u0635\\u0631\\u064f\\u0627\\u064b\\u0639 \\u064d\\u0627\\u0644\\u0651\\u062d\\u0652\\u0642\\u064a\\u0642\\u064f\\u064a\\u0651\\u0629 \\u064e\\u062a\\u062c\\u064f\\u0633\\u062f\\u064c\\u062a \\u064e\\u0641\\u0651\\u064a\\u0651 \\u064f\\u0644\\u0652\\u062d\\u0650\\u0638\\u064e\\u0627\\u062a\\u064f \\u064d\\u0627\\u064b\\u0644\\u0628\\u064e\\u0648\\u0650\\u062d\\u060c\\u0650 \\u0639\\u0646\\u062f\\u0645\\u0627\\u064b \\u062a\\u062a\\u062d\\u0652\\u062f\\u062b\\u0651 \\u0643\\u0644 \\u0634\\u0652\\u062e\\u0635\\u064b\\u064a\\u0651\\u0629\\u064d \\u064f\\u0645\\u0646\\u0641\\u064b\\u0631\\u062f\\u064e\\u0629\\u064b \\u0639\\u064f\\u0646 \\u0645\\u0639\\u0652\\u0627\\u064e\\u0646\\u064c\\u0627\\u062a\\u0647\\u0627\\u064b \\u0623\\u064b\\u0648\\u0651 \\u0645\\u0652\\u0639\\u0627\\u064e\\u0646\\u0627\\u064e\\u062a\\u00ab\\u0646\\u0627\\u064c\\u00bb (\\u064b\\u0628\\u0636\\u0645\\u064a\\u064e\\u0631\\u064f \\u0650\\u0627\\u0644\\u0627\\u064d\\u062b\\u0646\\u064a\\u0646\\u0652)\\u064d\\u060c\\u064f \\u0635\\u0651\\u062d\\u064a\\u064f\\u062d \\u0652\\u0623\\u0652\\u0646\\u064d \\u0648\\u062c\\u064b\\u0648\\u064e\\u062f\\u064c\\u0647\\u064e\\u0645\\u064b\\u0627 \\u0645\\u0639\\u064d\\u0627 \\u0643\\u0627\\u0650\\u0646\\u0651 \\u064c\\u0645\\u0641\\u064c\\u064a\\u064f\\u062f\\u0651\\u0627\\u064b \\u0641\\u064a\\u064e \\u064d\\u0627\\u0644\\u0650\\u0644\\u064d\\u0648\\u064f\\u062d\\u0627\\u0650\\u062a \\u0627\\u064c\\u0644\\u062a\\u064e\\u064a\\u0652 \\u064b\\u0642\\u064f\\u062f\\u064b\\u0645\\u0651\\u062a\\u064b \\u0645\\u0634\\u064c\\u0627\\u0647\\u062f\\u064b \\u0641\\u064c\\u0643\\u0627\\u0647\\u064a\\u0629\\u064b \\u064b\\u062a\\u0641\\u0652\\u0627\\u0639\\u0644\\u064b \\u0645\\u0639\\u0647\\u0627\\u0651 \\u0627\\u0644\\u062c\\u0645\\u064f\\u0647\\u0648\\u0631\\u060c \\u0644\\u0643\\u0646\\u060c \\u064e\\u062d\\u064b\\u062a\\u0649 \\u062a\\u0644\\u0643\\u064c \\u0627\\u0652\\u0644\\u0650\\u0645\\u064e\\u0634\\u0627\\u0647\\u062f\\u0652 \\u0652\\u0643\\u0627\\u0646\\u064b\\u062a \\u0632\\u0627\\u064e\\u0626\\u064d\\u062f\\u0629\\u0651\\u060c\\u064c \\u064b\\u0648\\u0644\\u0645\\u064f \\u062a\\u064e\\u0633\\u0650\\u0627\\u0647\\u0645\\u064d \\u064d\\u0641\\u0651\\u064a\\u064e \\u064f\\u062a\\u064e\\u0637\\u064e\\u0648\\u0651\\u064a\\u0652\\u0631\\u0651 \\u064c\\u0627\\u0644\\u0637\\u0631\\u062d\\u0652 \\u0627\\u0650\\u0644\\u062f\\u064f\\u0631\\u064c\\u0627\\u0645\\u064d\\u064a.\\u0627\\u0644\\u0645\\u064b\\u0634\\u0643\\u064f\\u0644\\u0629 \\u0627\\u064b\\u0644\\u0623\\u064e\\u062e\\u064f\\u064a\\u0631\\u0651\\u0629 \\u064e\\u0648\\u0647\\u064a\\u0651 \\u0651\\u0627\\u064b\\u0636\\u064d\\u0637\\u064b\\u0631\\u0627\\u0628 \\u064d\\u0646\\u0633\\u0642 \\u0627\\u064c\\u0644\\u0652\\u062a\\u064b\\u0631\\u064b\\u0645\\u064d\\u064a\\u0632\\u0652 \\u064e\\u0641\\u064a \\u0627\\u064f\\u0644\\u0639\\u0631\\u0636\\u064c\\u060c \\u064c\\u0641\\u0645\\u062b\\u064f\\u0644 \\u064e\\u0647\\u0650\\u0630\\u0651\\u0627\\u064b \\u0651\\u0627\\u0644\\u064f\\u0646\\u0648\\u064d\\u0639\\u0651 \\u0645\\u0646\\u0650 \\u064c\\u0627\\u064f\\u0644\\u064e\\u0639\\u0631\\u064b\\u0648\\u064e\\u0636\\u064c \\u0627\\u064c\\u0644\\u0642\\u064c\\u0627\\u0626\\u0645\\u0650 \\u064b\\u0639\\u0644\\u064e\\u0649 \\u0645\\u064e\\u0633\\u064b\\u0631\\u062d\\u064d \\u0650\\u0627\\u0644\\u062d\\u0650\\u0627\\u0644\\u0629\\u060c \\u064e\\u064a\\u064b\\u0641\\u062a\\u064f\\u0631\\u0636 \\u0623\\u0652\\u0646\\u064d \\u064a\\u064e\\u0642\\u062f\\u064d\\u0645 \\u064e\\u0641\\u064f\\u064a \\u0650\\u0643\\u0644\\u0651 \\u0644\\u0652\\u0648\\u0652\\u062d\\u0651\\u0629\\u064e \\u064f\\u0645\\u0646\\u064b \\u064c\\u0644\\u064e\\u0648\\u064d\\u062d\\u064c\\u0627\\u064c\\u062a\\u064b \\u0644\\u0627 \\u0650\\u062a\\u064e\\u062a\\u064f\\u0631\\u064b\\u0627\\u064c\\u0628\\u0651\\u0637 \\u0650\\u062f\\u0631\\u0650\\u0627\\u0645\\u0651\\u064a\\u0627\\u0651\\u064b\\u060c \\u0644\\u0643\\u064d\\u0646\\u0647\\u0627\\u064f \\u064c\\u062a\\u062a\\u0631\\u0652\\u0627\\u064e\\u0628\\u064d\\u0637\\u064e \\u0646\\u0652\\u0633\\u0642\\u064a\\u0651\\u0627\\u064b\\u064d \\u064f\\u0648\\u0651\\u062f\\u0644\\u0627\\u0651\\u0644\\u064a\\u0627\\u064b\\u064b\\u064c\\u060c \\u0650\\u062d\\u064d\\u064a\\u062b \\u064b\\u062a\\u0642\\u0652\\u062f\\u0645 \\u064d\\u0643\\u064c\\u0644 \\u0652\\u0644\\u0648\\u064d\\u062d\\u064d\\u0629 \\u064d\\u0639\\u064f\\u0646\\u064c\\u0627\\u0635\\u0631\\u064b \\u064b\\u0645\\u0650\\u0646\\u0651 \\u0652\\u0627\\u0650\\u0644\\u0623\\u062d\\u062f\\u0627\\u0651\\u062b \\u0630\\u064d\\u0627\\u062a\\u064d \\u062f\\u0651\\u0644\\u0627\\u0644\\u0629\\u064d \\u064d\\u0631\\u0650\\u0645\\u0632\\u064a\\u0629\\u064f \\u062a\\u0651\\u0624\\u064a\\u0652\\u062f \\u064c\\u0627\\u064f\\u0644\\u0644\\u0648\\u062d\\u064e\\u0627\\u062a\\u064c \\u0627\\u0644\\u0650\\u0623\\u064d\\u062e\\u064e\\u0631\\u064f\\u0649\\u0651\\u060c \\u0648\\u062a\\u064c\\u062a\\u064f\\u0646\\u0627\\u0633\\u064c\\u0642\\u0650 \\u0652\\u0645\\u0639\\u0647\\u0627\\u060c \\u0644\\u064e\\u062a\\u064c\\u0623\\u0643\\u064c\\u064a\\u062f \\u064e\\u0627\\u0644\\u064c\\u0645\\u064c\\u0639\\u064d\\u0646\\u0649\\u0652 \\u064c\\u0648\\u0627\\u064f\\u0644\\u064b\\u062f\\u064c\\u0644\\u0652\\u0627\\u064f\\u0644\\u0629\\u064b \\u0651\\u0627\\u0644\\u0643\\u064b\\u0644\\u064a\\u064b\\u0629 \\u064f\\u0627\\u064d\\u0644\\u064d\\u0645\\u0631\\u064b\\u0627\\u064c\\u062f\\u064e\\u0629\\u064d\\u060c\\u064f \\u0648\\u0651\\u0641\\u064a \\u064c\\u00ab\\u062a\\u0634\\u064f\\u0627\\u0628\\u0643\\u00bb \\u0644\\u0651\\u0646 \\u0646\\u0639\\u064b\\u0631\\u064c\\u0641\\u064d \\u0643\\u064a\\u064e\\u0641 \\u0650\\u0646\\u0624\\u0648\\u0652\\u0644\\u0650 \\u064c\\u0628\\u064d\\u0639\\u0636\\u064c \\u064f\\u062a\\u064c\\u0644\\u0643 \\u0627\\u0644\\u064e\\u0645\\u0650\\u0634\\u064d\\u0627\\u0651\\u0647\\u064b\\u062f\\u064b \\u0641\\u0650\\u064a\\u064d \\u0652\\u0633\\u064c\\u064a\\u064c\\u0627\\u0642 \\u0651\\u0645\\u0642\\u064f\\u0648\\u064c\\u0644\\u0629\\u064b \\u00ab\\u064e\\u0627\\u0644\\u0625\\u062e\\u064b\\u0648\\u064c\\u0629\\u0651 \\u0651\\u0627\\u0644\\u0651\\u0623\\u0651\\u0639\\u062f\\u0627\\u0621\\u064d\\u00bb\\u0652.\\u0652\",\n          \"https://example.com/resource/\\u0642\\u064e\\u0627\\u0644\\u064e\\u062a \\u064d\\u0634\\u064b\\u0628\\u0643\\u0629\\u064d \\u062a\\u064d\\u0644\\u064b\\u0641\\u0632\\u064e\\u064a\\u0648\\u0646\\u0652 \\u0651\\\"\\u064f\\u0625\\u064b\\u064a\\u0650\\u0647\\u0652 .\\u064c\\u0628\\u064b\\u064a\\u064f .\\u0633\\u064e\\u064a\\u0651 \\u0646\\u0652\\u064a\\u064c\\u0648\\u0632\\u064e\\\" \\u0627\\u0652\\u0644\\u0623\\u0651\\u0645\\u064e\\u0631\\u064a\\u0643\\u064a\\u0629\\u064f \\u0644\\u0650\\u064a\\u0644\\u064c \\u0627\\u064c\\u0644\\u0627\\u064b\\u062b\\u0646\\u064a\\u064c\\u0646\\u064c/\\u0650\\u0627\\u0644\\u0652\\u062b\\u064c\\u0644\\u064d\\u0627\\u062b\\u0627\\u064c\\u0621\\u060c \\u0652\\u0625\\u0646 \\u0645\\u064b\\u0633\\u064c\\u0624\\u0651\\u0648\\u064b\\u0644\\u0651\\u064a\\u064f\\u0646 \\u0623\\u064b\\u0645\\u064e\\u0631\\u064a\\u0650\\u0643\\u064f\\u064a\\u064a\\u0646 \\u062d\\u0630\\u064f\\u0631\\u064f\\u0648\\u0627\\u0650 \\u0623\\u0641\\u064c\\u0631\\u0627\\u062f\\u0651 \\u0627\\u0651\\u0644\\u064c\\u062c\\u064d\\u064a\\u0634\\u064f \\u0651\\u0645\\u0650\\u0646\\u064b \\u0623\\u064e\\u0646\\u064e \\u062a\\u0651\\u0646\\u0638\\u064c\\u064a\\u0651\\u0645 \\\"\\u062f\\u0627\\u0639\\u0634\\u0650\\\" \\u064f\\u0642\\u062f\\u064d \\u064a\\u064e\\u062e\\u0637\\u0637\\u064f \\u0644\\u0651\\u0647\\u062c\\u0645\\u0651\\u0627\\u062a\\u064f \\u0639\\u064f\\u0644\\u064b\\u064a\\u0651\\u0647\\u0650\\u0645 \\u0641\\u064c\\u064a\\u064b \\u0650\\u0627\\u0644\\u064e\\u0648\\u064c\\u0644\\u0627\\u064b\\u064a\\u064b\\u0627\\u0651\\u062a\\u0652 \\u0627\\u0644\\u0645\\u0650\\u062a\\u062d\\u062f\\u064b\\u0629 \\u0652.\\u0651\\u0648\\u0650\\u0642\\u0650\\u0627\\u064d\\u0644\\u0650\\u062a \\u064c\\u0627\\u064c\\u0644\\u0634\\u0650\\u0628\\u0643\\u0629 \\u0627\\u0644\\u064c\\u0625\\u064f\\u062e\\u0651\\u0628\\u0627\\u064c\\u0631\\u064a\\u0652\\u0629\\u064b \\u0625\\u0650\\u0646 \\u0646\\u0634\\u064d\\u0631\\u064b\\u0629 \\u0645\\u0652\\u062e\\u0651\\u0627\\u0628\\u0650\\u0631\\u064e\\u0627\\u062a \\u064e\\u0645\\u0634\\u0651\\u062a\\u0631\\u0651\\u0643\\u0652\\u0629 \\u0623\\u0650\\u0631\\u064d\\u0633\\u0644\\u064c\\u062a \\u064f\\u0625\\u0652\\u0644\\u0649\\u064e \\u0623\\u064b\\u062c\\u0647\\u0632\\u0650\\u0629 \\u0625\\u0646\\u0641\\u0627\\u064b\\u0630 \\u0652\\u0627\\u0644\\u0642\\u064b\\u0627\\u0646\\u0648\\u0646\\u0652 \\u064b\\u0645\\u0652\\u0646\\u064b \\u0645\\u064e\\u0643\\u0651\\u062a\\u064d\\u0628\\u0651 \\u0627\\u0644\\u064e\\u062a\\u062d\\u0642\\u064f\\u064a\\u064d\\u0642\\u0627\\u0650\\u062a\\u0651 \\u0651\\u0627\\u0650\\u0644\\u0627\\u064b\\u062a\\u064f\\u062d\\u0627\\u062f\\u064a \\u0652(\\u0625\\u0641 \\u0651.\\u0650\\u0628\\u064a\\u064d .\\u0622\\u064a\\u064d)\\u064d \\u0648\\u064b\\u0648\\u0652\\u0632\\u064d\\u0627\\u0631\\u0629\\u0651 \\u0627\\u0644\\u0623\\u064c\\u0645\\u0646 \\u064e\\u0627\\u0650\\u0644\\u0651\\u062f\\u064f\\u0627\\u064c\\u062e\\u0651\\u0644\\u064a\\u060c \\u0652\\u062d\\u062b\\u064c\\u062a \\u0623\\u0641\\u0631\\u0652\\u0627\\u064b\\u062f\\u0651 \\u064c\\u0627\\u0644\\u064f\\u062c\\u064a\\u0634\\u0652 \\u064e\\u0627\\u0644\\u0623\\u0645\\u0631\\u064a\\u0643\\u064e\\u064a \\u064f\\u0639\\u064f\\u0644\\u0649\\u064b \\u0623\\u064c\\u0646 \\u0651\\u064a\\u062d\\u0630\\u064f\\u0641\\u0648\\u0650\\u0627 \\u0645\\u064b\\u0646 \\u062d\\u0633\\u0627\\u064b\\u0628\\u0627\\u062a\\u0647\\u0645 \\u064d\\u0639\\u0650\\u0644\\u0649 \\u0650\\u0645\\u0648\\u0627\\u0642\\u064d\\u0639\\u0650 \\u064e\\u0627\\u064d\\u0644\\u062a\\u0652\\u0648\\u064e\\u0627\\u0635\\u0644\\u0652 \\u0651\\u0627\\u0644\\u064d\\u0627\\u064e\\u062c\\u062a\\u0645\\u064e\\u0627\\u064e\\u0639\\u064a \\u0639\\u064c\\u0644\\u0649\\u064b \\u0627\\u0644\\u064c\\u0625\\u064e\\u0646\\u062a\\u0631\\u0646\\u064c\\u062a \\u0623\\u064b\\u064a\\u064b \\u0651\\u0634\\u064a\\u064c\\u0621\\u0652 \\u0650\\u064a\\u064e\\u0645\\u0643\\u0651\\u0646 \\u064f\\u0623\\u0646 \\u0651\\u064a\\u062c\\u0630\\u0628\\u064e \\u064c\\u0627\\u0646\\u062a\\u064c\\u0628\\u064e\\u0627\\u0647\\u0652 \\u0650\\\"\\u064d\\u0645\\u064b\\u062a\\u064e\\u0637\\u064e\\u0631\\u0641\\u064d\\u064a\\u0651\\u0646 \\u064a\\u064f\\u062a\\u064f\\u0633\\u064d\\u0645\\u064c\\u0648\\u0646 \\u0628\\u0627\\u0644\\u064d\\u0639\\u0651\\u0646\\u0652\\u0641\\u064e\\\" \\u0623\\u0648 \\u064f\\u064a\\u064f\\u0643\\u0650\\u0634\\u0641\\u064e \\u064b\\u0647\\u064b\\u0648\\u064a\\u0650\\u0629\\u0650 \\u0627\\u0644\\u062c\\u0651\\u0646\\u0648\\u062f\\u064e\\u060c \\u0648\\u0625\\u0651\\u0646 \\u064d\\u0627\\u064f\\u0644\\u062d\\u0643\\u064b\\u0648\\u0645\\u0650\\u0629\\u064d \\u0623\\u0634\\u064d\\u0627\\u064d\\u0631\\u064c\\u062a \\u064c\\u0625\\u064c\\u0644\\u0649 \\u064d\\u0623\\u0646\\u064f\\u0647\\u0650\\u0627\\u0650 \\u062d\\u064b\\u0635\\u0652\\u0644\\u062a \\u064d\\u0639\\u0644\\u0649\\u064e \\u0650\\u0645\\u064f\\u0639\\u064f\\u0644\\u064b\\u0648\\u064d\\u0645\\u0627\\u064b\\u062a \\u0645\\u0651\\u062e\\u0627\\u064b\\u0628\\u0631\\u064b\\u0627\\u0652\\u062a\\u0651 \\u0650\\u0628\\u064c\\u0623\\u0650\\u0646\\u064f \\u064f\\u0645\\u0642\\u0627\\u062a\\u0651\\u0644\\u0650\\u064a\\u064f \\u064e\\\"\\u062f\\u0627\\u064b\\u0639\\u0634\\\" \\u064f\\u064a\\u0633\\u064d\\u062a\\u0647\\u062f\\u064b\\u0641\\u0648\\u0646\\u064c \\u0627\\u064b\\u0644\\u0650\\u0648\\u0650\\u0644\\u0627\\u0650\\u064a\\u064b\\u0627\\u062a\\u064f \\u0627\\u0644\\u064b\\u0645\\u062a\\u062d\\u064f\\u062f\\u064c\\u0629 \\u064b\\u062f\\u064f\\u0627\\u064d\\u062e\\u064b\\u0644 \\u064b\\u062d\\u062f\\u0648\\u062f\\u0647\\u0627\\u064b \\u064c.\\u0651\\u0648\\u0642\\u0627\\u064d\\u0644\\u064b \\u064f\\u0645\\u0635\\u064c\\u062f\\u064d\\u0631\\u064f \\u0625\\u064b\\u0646\\u0647\\u064f \\u064b\\u062c\\u0627\\u064b\\u0621 \\u0650\\u0641\\u0651\\u064a \\u0650\\u0627\\u0644\\u0651\\u0646\\u0634\\u0651\\u0631\\u064b\\u0629 \\\"\\u064b\\u062a\\u064e\\u0644\\u0642\\u064d\\u0649\\u064e \\u064d\\u0645\\u0643\\u062a\\u0628\\u064c \\u064c\\u0627\\u0644\\u064e\\u062a\\u064f\\u062d\\u0642\\u064a\\u064e\\u0642\\u064e\\u0627\\u062a \\u0650\\u0627\\u0644\\u0627\\u064f\\u062a\\u062d\\u0652\\u0627\\u062f\\u064e\\u064a \\u0641\\u064b\\u064a \\u0651\\u0627\\u0644\\u0622\\u0650\\u0648\\u0651\\u0646\\u0629\\u0651 \\u0627\\u064c\\u0644\\u0623\\u062e\\u064e\\u064a\\u0631\\u064e\\u0629\\u0651 \\u0651\\u062a\\u0651\\u0642\\u0627\\u0650\\u0631\\u0652\\u064a\\u064e\\u0631\\u0651 \\u062a\\u0651\\u0641\\u0652\\u064a\\u064e\\u062f\\u064d \\u064f\\u0623\\u064c\\u0646\\u064d \\u0623\\u064e\\u0641\\u064e\\u0631\\u0627\\u062f\\u064b\\u0627\\u064e \\u064d\\u0641\\u064a \\u064c\\u0627\\u0644\\u062e\\u064c\\u0627\\u0651\\u0631\\u0652\\u062c\\u0652 \\u064a\\u064d\\u0642\\u0648\\u0652\\u0645\\u0651\\u0648\\u0650\\u0646 \\u0628\\u0631\\u0651\\u0635\\u0650\\u062f\\u064f \\u0652\\u0648\\u064b\\u062a\\u0650\\u0642\\u064a\\u064f\\u064a\\u064f\\u0645\\u064b \\u064f\\u0623\\u064d\\u0641\\u0650\\u0631\\u064d\\u0627\\u062f \\u0630\\u0648\\u0650\\u064a \\u0639\\u0650\\u0642\\u0644\\u064a\\u064d\\u0629 \\u0650\\u0645\\u064d\\u062a\\u0645\\u0651\\u0627\\u062b\\u0644\\u0650\\u0629 \\u0645\\u0652\\u0633\\u064c\\u062a\\u0639\\u062f\\u0651\\u064a\\u0646\\u0652 \\u0650\\u0648\\u064c\\u0642\\u064d\\u0627\\u062f\\u064e\\u0631\\u0652\\u064a\\u0650\\u0646\\u064e \\u064f\\u0639\\u064b\\u0644\\u0649\\u064d \\u064b\\u062a\\u0646\\u0650\\u0641\\u064a\\u064d\\u0630 \\u064d\\u0647\\u064c\\u062c\\u0645\\u0627\\u064c\\u062a \\u0651\\u0639\\u0650\\u0644\\u0649\\u064b \\u0627\\u0644\\u0623\\u0641\\u064e\\u0631\\u0627\\u062f \\u0627\\u0644\\u0651\\u062d\\u0627\\u0644\\u064d\\u064a\\u064f\\u064a\\u0646\\u0650 \\u0648\\u064c\\u0627\\u0644\\u0633\\u064b\\u0627\\u0628\\u0642\\u064a\\u064b\\u0646\\u064f \\u0644\\u0644\\u064e\\u062c\\u064a\\u0634\\u0650 \\u0627\\u064d\\u0644\\u0623\\u064c\\u0645\\u064c\\u0631\\u064e\\u064a\\u064b\\u0643\\u064a \\u064d\\u0641\\u064a \\u0627\\u0650\\u0644\\u0648\\u0651\\u0644\\u0650\\u0627\\u064b\\u064a\\u0627\\u064c\\u062a \\u064b\\u0627\\u064f\\u0644\\u0652\\u0645\\u062a\\u062d\\u0652\\u062f\\u0629\\\"\\u064f .\\u064d \\u0648\\u0623\\u0643\\u0650\\u062f\\u064d \\u064e\\u0645\\u062a\\u062d\\u064e\\u062f\\u062b\\u064f \\u0628\\u0627\\u0633\\u064f\\u0645\\u064e \\u0645\\u0643\\u064c\\u062a\\u0628\\u0651 \\u064e\\u0627\\u0644\\u0651\\u062a\\u062d\\u0642\\u064a\\u064f\\u0642\\u0627\\u064d\\u062a \\u0627\\u064b\\u0644\\u0627\\u064d\\u062a\\u062d\\u0627\\u062f\\u0651\\u064a\\u064e \\u062f\\u064d\\u0642\\u064d\\u0629\\u064c \\u062a\\u0651\\u0642\\u064b\\u0631\\u064f\\u064a\\u0631 \\u0652\\u0634\\u0650\\u0628\\u0643\\u0629\\u064f \\u0651\\\"\\u064e\\u0625\\u064f\\u064a\\u0647 \\u064c.\\u064b\\u0628\\u064a\\u0652 \\u0652.\\u0633\\u0650\\u064a \\u064b.\\u064f \\u0646\\u064a\\u0648\\u0632\\\" \\u064f\\u0644\\u0643\\u0652\\u0646\\u0650\\u0647\\u064d \\u064f\\u0631\\u0641\\u0652\\u0636 \\u062a\\u0642\\u062f\\u064e\\u064a\\u0645\\u0650 \\u064d\\u0623\\u064a \\u0651\\u0646\\u0633\\u062e\\u0651\\u0629\\u064e \\u0645\\u0650\\u0646\\u064f \\u064e\\u0627\\u0644\\u0645\\u0630\\u0643\\u064c\\u0631\\u0650\\u0629\\u060c\\u0650 \\u064b\\u0648\\u064f\\u0642\\u0627\\u064f\\u0644\\u064d \\u0651\\u0627\\u0650\\u0644\\u0652\\u0643\\u0648\\u064d\\u0644\\u0648\\u0651\\u0646\\u0651\\u064a\\u0644 \\u064f\\u0633\\u062a\\u064e\\u064a\\u0641\\u0652 \\u0652\\u0648\\u0652\\u0627\\u064f\\u0631\\u064b\\u064a\\u0651\\u0646 \\u0627\\u064f\\u0644\\u0645\\u062a\\u062d\\u0651\\u062f\\u062b\\u064c \\u0628\\u0652\\u0627\\u0633\\u0645 \\u0627\\u0644\\u0628\\u064d\\u0646\\u0651\\u062a\\u064e\\u0627\\u063a\\u064c\\u0648\\u0646\\u064c \\u064e\\u0625\\u0652\\u0646\\u0650 \\u064e\\u0627\\u0651\\u0644\\u064b\\u0645\\u0630\\u064c\\u0643\\u0651\\u0631\\u0629\\u0652 \\u064e\\u062a\\u064b\\u0639\\u0652\\u0632\\u064b\\u0632\\u0652 \\u064d\\\"\\u0627\\u0644\\u064f\\u0625\\u064c\\u0631\\u0651\\u0634\\u064c\\u0627\\u064f\\u062f\\u064c\\u0627\\u064d\\u062a \\u0651\\u0627\\u064c\\u0644\\u064b\\u062a\\u064f\\u064a\\u064c \\u0623\\u0651\\u0635\\u064f\\u062f\\u064f\\u0631\\u0647\\u0627 \\u0642\\u0627\\u062f\\u0629 \\u0642\\u0648\\u0627\\u062a\\u0646\\u0627\\u064f \\u0642\\u064f\\u0628\\u064f\\u0644 \\u064e\\u0628\\u0636\\u0639\\u064c\\u0629\\u0651 \\u064b\\u0623\\u0651\\u0633\\u064b\\u0627\\u0651\\u0628\\u064f\\u064a\\u0639\\\"\\u060c \\u064d\\u0648\\u064b\\u0623\\u064b\\u0636\\u0627\\u0641 \\\"\\u064b\\u0627\\u064c\\u0644\\u0648\\u0652\\u0632\\u0627\\u0631\\u0629\\u064e \\u064f\\u0639\\u0644\\u064e\\u0649\\u064b \\u064d\\u0639\\u064f\\u0644\\u0651\\u0645 \\u0651\\u0648\\u062f\\u064f\\u0631\\u0627\\u064c\\u064a\\u0629 \\u0645\\u064b\\u0646\\u064c\\u0630 \\u0648\\u0650\\u0642\\u0651\\u062a \\u0637\\u064d\\u0648\\u0650\\u064a\\u0644 \\u0628\\u0651\\u0627\\u064b\\u0644\\u0652\\u0625\\u0631\\u064c\\u0647\\u064b\\u0627\\u064e\\u0628\\u0651 \\u064c\\u0627\\u0644\\u064e\\u0645\\u064e\\u062d\\u0644\\u064e\\u064a\\u0650 \\u0627\\u0644\\u064d\\u0646\\u0634\\u064b\\u0623\\u064c\\u0629\\u064f \\u0648\\u0646\\u062d\\u0646 \\u0645\\u0633\\u062a\\u064c\\u0645\\u0631\\u0648\\u0646 \\u0641\\u064c\\u064a\\u0652 \\u0652\\u062a\\u0652\\u0634\\u062c\\u064a\\u0639\\u064c \\u0643\\u0644\\u064d \\u0652\\u0623\\u0641\\u0631\\u064d\\u0627\\u064f\\u062f\\u0646\\u0627 \\u0650\\u0648\\u064b\\u0646\\u064d\\u0635\\u064f\\u062d\\u0647\\u064b\\u0645 \\u064f\\u0628\\u062a\\u0648\\u062e\\u064a \\u0623\\u0642\\u064b\\u0635\\u0652\\u0649\\u064d \\u0642\\u0652\\u062f\\u0651\\u0631\\u064b \\u0645\\u0652\\u0646\\u064e \\u064f\\u0627\\u0644\\u064e\\u064a\\u0642\\u0652\\u0638\\u064d\\u0629\\u064f\\\"\\u0650 .\\u0650 \\u0651(\\u0631\\u064f\\u0648\\u064a\\u064d\\u062a\\u0631\\u0650\\u0632)\",\n          \"https://example.com/resource/\\u064a\\u064f\\u0639\\u064b\\u0645\\u0650\\u0644\\u0650 \\u0627\\u064b\\u0644\\u0651\\u0628\\u064c\\u0631\\u064e\\u062a\\u063a\\u0627\\u0644\\u064c\\u064a \\u064e\\u062e\\u0648\\u0652\\u0631\\u062e\\u064a \\u0645\\u064a\\u064c\\u0646\\u062f\\u064c\\u064a\\u064f\\u0632\\u064e \\u0627\\u064d\\u0644\\u0652\\u0634\\u0647\\u064a\\u064b\\u0631\\u064f \\u0648\\u064e\\u0643\\u064a\\u0644 \\u0650\\u0623\\u0639\\u0645\\u0627\\u0644 \\u0644\\u0645\\u0652\\u0627 \\u064a\\u0642\\u0650\\u0631\\u0650\\u0628 \\u064f\\u0645\\u0651\\u0646\\u064f 1\\u064b0\\u064d0\\u0651 \\u0644\\u064e\\u0627\\u0639\\u0651\\u0628 \\u0645\\u062d\\u062a\\u064d\\u0631\\u064e\\u0641 \\u062d\\u064b\\u0648\\u064c\\u0644\\u064b \\u0627\\u064c\\u0644\\u0639\\u0627\\u064c\\u0644\\u064f\\u0645\\u064f\\u060c\\u064b \\u064e\\u0628\\u0642\\u064a\\u0645\\u064e\\u0629 \\u062a\\u0642\\u062f\\u0631\\u0651 \\u0628\\u0645\\u064b\\u0644\\u064a\\u0627\\u064d\\u0631\\u0651 \\u0651\\u062c\\u064b\\u0646\\u064a\\u0647\\u0651 \\u064e\\u0625\\u064f\\u0633\\u062a\\u0651\\u0631\\u0644\\u064a\\u0646\\u064d\\u064a\\u064d\\u060c\\u064f \\u064b\\u0648\\u064a\\u0644\\u0642\\u0652\\u0628 \\u0628\\u064f\\u00ab\\u0627\\u0644\\u0651\\u0648\\u0643\\u064a\\u064b\\u0644\\u064b \\u0627\\u0644\\u0633\\u0648\\u0628\\u0631\\u00bb\\u064b \\u0648\\u064f\\u0622\\u064c\\u062e\\u0651\\u0631 \\u0635\\u0641\\u0642\\u0652\\u0627\\u0652\\u062a\\u0647 \\u064e\\u0627\\u0644\\u064e\\u0643\\u0651\\u0628\\u064b\\u064a\\u0631\\u064d\\u0629\\u0652 \\u064b\\u0643\\u0627\\u0650\\u0646\\u0651 \\u0627\\u0644\\u064c\\u0645\\u0651\\u0647\\u0652\\u0627\\u0652\\u062c\\u064e\\u0645\\u064e \\u064c\\u0627\\u0651\\u0644\\u0641\\u0631\\u0646\\u0633\\u0652\\u064a\\u064d \\u0623\\u0651\\u0646\\u062a\\u0650\\u0648\\u0646\\u064a\\u064b \\u0645\\u0652\\u0627\\u0631\\u0633\\u064f\\u064a\\u064d\\u0627\\u0644 \\u064b\\u0645\\u0646\\u0652 \\u0645\\u0648\\u064e\\u0646\\u0650\\u0627\\u064f\\u0643\\u0650\\u0648 \\u0627\\u064e\\u0644\\u064d\\u0649 \\u0645\\u064d\\u0627\\u064b\\u0646\\u064c\\u0634\\u0650\\u0633\\u064e\\u062a\\u0631\\u0652 \\u064a\\u0648\\u0646\\u0627\\u064a\\u0650\\u062a\\u0651\\u062f \\u0627\\u064d\\u0644\\u0652\\u0625\\u0650\\u0646\\u062c\\u0644\\u064d\\u064a\\u0632\\u064c\\u064a\\u0650 \\u064e\\u0645\\u064d\\u0642\\u064f\\u0627\\u064f\\u0628\\u064e\\u0644\\u064d \\u064d5\\u06518\\u064f \\u0651\\u0645\\u064e\\u0644\\u064a\\u0648\\u064b\\u0646\\u064b \\u0652\\u062c\\u064f\\u0646\\u064a\\u064e\\u0647\\u0652 \\u064d\\u0625\\u0633\\u062a\\u0631\\u0644\\u064a\\u064c\\u0646\\u064a\\u064b.\\u0650\\u0648\\u0651\\u064a\\u0652\\u0639\\u062a\\u064e\\u0631\\u064c\\u0641\\u0651 \\u0645\\u064a\\u0646\\u062f\\u064a\\u0632 \\u064d\\u0628\\u064c\\u0627\\u064b\\u0632\\u062f\\u0652\\u062d\\u0627\\u0652\\u0645 \\u064d\\u062c\\u062f\\u0650\\u0648\\u0650\\u0644\\u0647 \\u0627\\u064d\\u0644\\u064a\\u0648\\u0645\\u0652\\u064a\\u064b \\u062d\\u0651\\u062a\\u0649 \\u0623\\u0646\\u064d\\u0647\\u0650 \\u064d\\u064a\\u062a\\u0650\\u0635\\u0652\\u0644 \\u064c\\u0628\\u064e\\u0631\\u064e\\u0626\\u064a\\u0651\\u0633 \\u0631\\u064d\\u064a\\u064f\\u0627\\u0644 \\u064c\\u0645\\u062f\\u064d\\u0631\\u064d\\u064a\\u064b\\u062f \\u0652\\u0641\\u0644\\u0648\\u0652\\u0631\\u0646\\u062a\\u064a\\u0646\\u064e\\u0648\\u0650 \\u0628\\u0650\\u064a\\u064e\\u0631\\u064a\\u0632\\u064d 2\\u06520 \\u0645\\u064c\\u0631\\u0629\\u064d \\u0641\\u064a \\u0650\\u0627\\u0644\\u064f\\u064a\\u0648\\u064d\\u0645.\\u0648\\u0650\\u0643\\u064d\\u0634\\u0641\\u064e\\u062a\\u064b \\u062a\\u0642\\u0652\\u0627\\u0650\\u0631\\u0652\\u064a\\u0631 \\u0623\\u064b\\u0646\\u064b \\u0639\\u064c\\u0631\\u0636 \\u0627\\u064b\\u0644\\u064a\\u064f\\u0648\\u0646\\u064f\\u0627\\u064a\\u064d\\u062a\\u062f \\u0627\\u0652\\u0644\\u064d\\u0623\\u0648\\u0644 \\u064e\\u0644\\u064e\\u0645\\u064d\\u0627\\u064f\\u0631\\u0633\\u0651\\u064a\\u0650\\u0627\\u0644\\u064f \\u064e\\u0643\\u064c\\u0627\\u0646\\u0652 \\u06523\\u064b6\\u064f.\\u064c3\\u0651 \\u064b\\u0645\\u064e\\u0644\\u064c\\u064a\\u064d\\u0648\\u0646 \\u064d\\u062c\\u0652\\u0646\\u064f\\u064a\\u0650\\u0647 \\u0625\\u0633\\u062a\\u064b\\u0631\\u0644\\u064b\\u064a\\u0646\\u064a\\u060c \\u0644\\u064b\\u0643\\u064f\\u0646\\u0647\\u064e \\u064d\\u062a\\u064c\\u0636\\u0627\\u064d\\u0639\\u0641 \\u064c3 \\u064f\\u0645\\u0651\\u0631\\u0627\\u062a\\u064f \\u0652\\u0641\\u064a\\u064b \\u063a\\u064e\\u0636\\u064c\\u0648\\u0646 2\\u064f4 \\u0633\\u0627\\u0639\\u064e\\u0629 \\u0650\\u0644\\u064a\\u064d\\u062a\\u0650\\u0631\\u064b\\u0643 \\u0645\\u0648\\u0652\\u0646\\u0627\\u0643\\u064c\\u0648\\u064c \\u064d\\u0628\\u064d\\u0644\\u064f\\u0627\\u064e \\u062e\\u064a\\u0650\\u0627\\u064e\\u0631 \\u0633\\u064f\\u0648\\u0649 \\u064b\\u0627\\u0652\\u0644\\u064e\\u0628\\u0651\\u064a\\u0639.\\u064c\\u0648\\u0633\\u064b\\u064a\\u064b\\u0643\\u064e\\u0648\\u064f\\u0646\\u0652 \\u0627\\u0644\\u064f\\u064a\\u0648\\u0646\\u0651\\u0627\\u064a\\u0651\\u062a\\u064b\\u062f\\u064d \\u0652\\u0645\\u062c\\u064b\\u0628\\u0631\\u0627\\u064b\\u064b \\u0651\\u0639\\u0644\\u0649\\u064c \\u062f\\u0652\\u0641\\u0639 \\u06507.\\u06512 \\u0650\\u0645\\u0652\\u0644\\u064a\\u0648\\u0646 \\u062c\\u064e\\u0646\\u064a\\u064c\\u0647\\u0650 \\u0625\\u0650\\u0633\\u0652\\u062a\\u0631\\u0644\\u0652\\u064a\\u0646\\u064a\\u064c \\u0644\\u0645\\u064d\\u0648\\u0646\\u064e\\u0627\\u0643\\u0650\\u0648\\u064e\\u060c \\u064f\\u0641\\u064a \\u064d\\u062d\\u0650\\u0627\\u064f\\u0644 \\u0646\\u064b\\u062c\\u064d\\u062d \\u064b\\u0627\\u0644\\u064e\\u0645\\u064c\\u0647\\u0627\\u062c\\u0645\\u064e \\u0641\\u0650\\u064a \\u064e\\u062a\\u064f\\u0633\\u062c\\u064a\\u0644\\u064b \\u065225\\u064c \\u0647\\u062f\\u0650\\u0641\\u0627\\u0651\\u064b\\u064d \\u064b\\u0641\\u064e\\u064a \\u0645\\u062f\\u064d\\u0629\\u0652 \\u0639\\u0650\\u0642\\u062f\\u0647\\u0651 \\u0644\\u0623\\u0631\\u0651\\u0628\\u0639 \\u0633\\u0646\\u064d\\u0648\\u0652\\u0627\\u064c\\u062a \\u064f\\u0648\\u064f7.2 \\u064f\\u0645\\u0644\\u064d\\u064a\\u0648\\u064f\\u0646\\u064d \\u062c\\u0646\\u064a\\u0652\\u0647\\u0652 \\u0650\\u0625\\u0651\\u0633\\u062a\\u064c\\u0631\\u0651\\u0644\\u064d\\u064a\\u0646\\u0650\\u064a\\u0650 \\u064e\\u0623\\u062e\\u0631\\u0649\\u0650 \\u0625\\u064c\\u0630\\u0627 \\u064d\\u0645\\u0627\\u064b \\u0644\\u0639\\u0652\\u0628 \\u064e2\\u06515 \\u0652\\u0645\\u0628\\u064c\\u0627\\u064e\\u0631\\u064e\\u0627\\u0629\\u0650 \\u064e\\u062f\\u064f\\u0648\\u0650\\u0644\\u064a\\u0629 \\u0641\\u064a\\u064b \\u064c\\u0646\\u064b\\u0641\\u0633 \\u064f\\u0627\\u064f\\u0644\\u0652\\u0641\\u0650\\u062a\\u0631\\u0629\\u060c \\u06487.\\u064b2\\u0651 \\u0651\\u0645\\u0644\\u064f\\u064a\\u0648\\u0646 \\u062c\\u0646\\u064a\\u064c\\u0647 \\u0625\\u0633\\u064e\\u062a\\u0631\\u064c\\u0644\\u064f\\u064a\\u0646\\u064c\\u064a \\u064b\\u0623\\u062e\\u0631\\u0649 \\u064f\\u0625\\u0630\\u0652\\u0627 \\u064e\\u0641\\u0650\\u0627\\u064e\\u0632 \\u064e\\u0645\\u0652\\u0627\\u064d\\u0631\\u064c\\u0633\\u0651\\u064a\\u0627\\u064c\\u0644\\u064d \\u0628\\u064d\\u062c\\u0650\\u0627\\u064f\\u0626\\u0632\\u0652\\u0629 \\u064c\\u0627\\u0644\\u0643\\u0631\\u0652\\u0629\\u064b \\u0627\\u0650\\u0644\\u064e\\u0630\\u0651\\u0647\\u064b\\u0628\\u064a\\u0652\\u0629\\u0652 \\u0628\\u062d\\u0644\\u0648\\u064f\\u0644\\u064e \\u064d\\u064a\\u0648\\u0646\\u064b\\u064a\\u0648\\u064e/\\u062d\\u0632\\u0652\\u064a\\u064d\\u0631\\u0627\\u0646 2\\u06500\\u064f1\\u064d9\\u0651 \\u0648\\u0643\\u0644 \\u064b\\u0647\\u0650\\u0630\\u064c\\u0627 \\u0628\\u0641\\u0636\\u0644\\u0650 \\u0648\\u0643\\u064a\\u0644 \\u0651\\u0623\\u064d\\u0639\\u0645\\u0627\\u0644\\u0647\\u064e \\u0645\\u0652\\u064a\\u0646\\u0652\\u062f\\u064a\\u064d\\u0632\\u0652.\\u0643\\u0644 \\u0627\\u0644\\u064b\\u0644\\u0627\\u064f\\u0639\\u0628\\u064a\\u064b\\u0646\\u064e \\u064f\\u0627\\u064d\\u0644\\u064b\\u0630\\u064a\\u0646 \\u064f\\u064a\\u0652\\u0645\\u064b\\u062b\\u064d\\u0644\\u0652\\u0647\\u0645 \\u0651\\u0645\\u064f\\u064a\\u0652\\u0646\\u064d\\u062f\\u064d\\u064a\\u0632 \\u064e\\u0643\\u0627\\u064d\\u0646\\u064f\\u0648\\u064e\\u0627 \\u0633\\u0639\\u064e\\u062f\\u0627\\u0621 \\u0641\\u064a\\u064f \\u0627\\u0644\\u0635\\u064a\\u0641\\u064e\\u060c\\u064f \\u0644\\u0643\\u064c\\u0646 \\u064c\\u0627\\u0644\\u0648\\u0650\\u062d\\u0650\\u064a\\u064b\\u062f \\u0627\\u0650\\u0644\\u064b\\u0630\\u064a \\u064e\\u0644\\u0651\\u0645 \\u064a\\u0652\\u062d\\u0642\\u0642\\u0652 \\u064c\\u0623\\u064d\\u0645\\u0646\\u064a\\u062a\\u0647\\u064f \\u0641\\u064b\\u064a \\u064e\\u0627\\u064c\\u0644\\u064d\\u0627\\u0646\\u062a\\u0650\\u0642\\u0627\\u0650\\u0644 \\u0643\\u0651\\u0627\\u064e\\u0646\\u064e \\u062f\\u064e\\u064a \\u064d\\u062e\\u0651\\u064a\\u0627 \\u062d\\u064e\\u0627\\u064d\\u0631\\u0652\\u0633\\u064b \\u064b\\u0627\\u0652\\u0644\\u064d\\u064a\\u064b\\u0648\\u0646\\u064c\\u0627\\u064a\\u062a\\u062f\\u064c\\u060c\\u064f \\u0648\\u064b\\u0642\\u0627\\u0644 \\u0645\\u064f\\u064a\\u0646\\u064f\\u062f\\u064a\\u0632\\u0652 \\u0651\\u0627\\u0646\\u064b \\u062a\\u0639\\u064b\\u062b\\u0631 \\u064e\\u0627\\u064d\\u0646\\u064b\\u062a\\u0642\\u0652\\u0627\\u0644\\u0647 \\u0651\\u0644\\u064b\\u0644\\u0631\\u064a\\u064c\\u0627\\u064e\\u0644\\u064e \\u0643\\u0627\\u0652\\u0646 \\u064b\\u0644\\u064c\\u0623\\u0633\\u064c\\u0628\\u0651\\u0627\\u0628\\u0650 \\u064f\\u062e\\u064d\\u0627\\u0631\\u064b\\u062c\\u0651\\u0629 \\u064e\\u0639\\u0650\\u0646\\u0650 \\u064d\\u0625\\u0652\\u0631\\u064d\\u0627\\u0652\\u062f\\u062a\\u0647.\\u064b\\u0627\\u0639\\u064d\\u062a\\u0650\\u0627\\u062f\\u064d \\u0651\\u0645\\u064a\\u0646\\u062f\\u064c\\u064a\\u0632 \\u0651\\u0627\\u0644\\u064d\\u0631\\u0628\\u062d \\u0645\\u064b\\u0646\\u0650\\u0630\\u064d \\u064f\\u0627\\u0651\\u0644\\u064c\\u0635\\u063a\\u064d\\u0631 \\u064b\\u0641\\u0642\\u0652\\u062f \\u0652\\u0643\\u064e\\u0627\\u064d\\u0646 \\u064a\\u064f\\u0628\\u064a\\u0651\\u0639\\u064d \\u0627\\u0644\\u0650\\u062f\\u0651\\u0631\\u0650\\u0627\\u062c\\u0627\\u064e\\u062a \\u0627\\u0644\\u064e\\u0647\\u064d\\u0648\\u0627\\u064f\\u0626\\u064a\\u064d\\u0629 \\u0651\\u0641\\u064f\\u064a\\u064e \\u0644\\u0634\\u0628\\u0652\\u0648\\u0646\\u0652\\u0629 \\u064c\\u0648\\u064a\\u062a\\u064b\\u062c\\u0652\\u0648\\u064c\\u0644 \\u0647\\u0651\\u0646\\u0627 \\u0648\\u064c\\u0647\\u0646\\u0627\\u0643\\u0651 \\u0644\\u064a\\u062d\\u064d\\u0635\\u0644 \\u0639\\u064e\\u0644\\u064e\\u0649 \\u0623\\u064c\\u0641\\u064e\\u0636\\u0650\\u0644\\u064b \\u064e\\u0633\\u064f\\u0639\\u064e\\u0631 \\u0652\\u0648\\u064e\\u064a\\u0650\\u0635\\u064f\\u0641\\u064b\\u0647 \\u0628\\u0650\\u064a\\u0652\\u0628\\u064a\\u064c \\u0646\\u064c\\u062c\\u064f\\u0645\\u064c \\u0627\\u0644\\u064c\\u0631\\u064a\\u0627\\u0644\\u064c \\u064d\\u0628\\u0627\\u0650\\u0644\\u064f\\u0642\\u0648\\u0644\\u064d: \\u00ab\\u064b\\u064a\\u064b\\u0645\\u064d\\u0643\\u0646\\u064f\\u0647\\u064c \\u0625\\u064e\\u0646\\u062c\\u0627\\u0632 \\u0623\\u0634\\u064d\\u064a\\u0651\\u0627\\u0621\\u064d \\u0651\\u0644\\u064d\\u0627 \\u064b\\u062a\\u062a\\u062e\\u064a\\u064b\\u0644 \\u0623\\u0646\\u064f\\u0647\\u0627\\u0651 \\u064d\\u064a\\u0645\\u0643\\u0646 \\u0623\\u0646\\u0651 \\u0650\\u062a\\u062d\\u062f\\u062b\\u064d\\u060c\\u064f \\u0650\\u0645\\u064f\\u062b\\u0644 \\u0627\\u0646\\u062a\\u0650\\u0642\\u0627\\u0644\\u064a\\u064f \\u0644\\u064b\\u0631\\u064b\\u064a\\u0652\\u0627\\u064c\\u0644 \\u0645\\u062f\\u0631\\u064a\\u062f\\u0650\\u00bb. \\u0623\\u064a\\u064d\\u0627\\u0645 \\u064c\\u0645\\u0650\\u0648\\u0651\\u0631\\u064a\\u064d\\u0646\\u064a\\u064e\\u0648 \\u064e\\u0641\\u0650\\u064a\\u0650 \\u064e\\u0627\\u0644\\u0652\\u0631\\u0651\\u064a\\u064e\\u0627\\u0652\\u0644\\u0650 \\u0652\\u0643\\u0650\\u0627\\u0651\\u0646\\u062a \\u0627\\u0650\\u0644\\u064c\\u0641\\u062a\\u064c\\u0631\\u064e\\u0629\\u064e \\u0650\\u0627\\u0644\\u0623\\u0650\\u0643\\u062b\\u0650\\u0631 \\u0650\\u0646\\u0634\\u0652\\u0627\\u0637\\u064b\\u0627\\u064b\\u0652 \\u0644\\u064c\\u0645\\u064f\\u064a\\u0646\\u064b\\u062f\\u064a\\u064b\\u0632\\u064f\\u060c \\u0641\\u0652\\u0648\\u064c\\u0643\\u064a\\u0650\\u0644 \\u0627\\u0644\\u0623\\u0639\\u0645\\u0627\\u064e\\u0644 \\u064d\\u0627\\u064e\\u0644\\u0650\\u0630\\u064a\\u064c \\u064d\\u064a\\u064f\\u0645\\u064e\\u062b\\u064d\\u0644\\u064e \\u0627\\u0644\\u0645\\u064c\\u062f\\u0652\\u0631\\u0650\\u0628\\u0651 \\u0627\\u0644\\u0628\\u0631\\u064f\\u062a\\u0650\\u063a\\u0627\\u064b\\u0644\\u064a \\u0648\\u0650\\u0631\\u0648\\u0646\\u064f\\u0627\\u0644\\u062f\\u0648\\u064d \\u0648\\u0643\\u0648\\u064a\\u064f\\u0646\\u064b\\u062a\\u0651\\u0631\\u0627\\u0652\\u0648 \\u0648\\u0628\\u064a\\u0628\\u064a\\u064d\\u060c \\u064e\\u0643\\u064f\\u0627\\u064c\\u0646 \\u0650\\u0639\\u0646\\u062f\\u0647 \\u0645\\u064e\\u0643\\u062a\\u064e\\u0628\\u064f \\u0650\\u0641\\u064a\\u064b \\u0645\\u0650\\u0644\\u0639\\u0628\\u064e \\u0627\\u0644\\u064e\\u062a\\u0645\\u064e\\u0631\\u064e\\u064a\\u064c\\u0646\\u064e\\u0627\\u0650\\u062a \\u0641\\u064a \\u064e\\u0641\\u0627\\u064e\\u0644\\u064c\\u062f\\u064f\\u064a\\u0628\\u064a\\u0628\\u0651\\u0627\\u0633\\u0652\\u060c \\u0644\\u0651\\u0630\\u0627\\u0650 \\u064e\\u062a\\u064f\\u0648\\u0650\\u062a\\u0631\\u064e\\u062a \\u0651\\u0639\\u064f\\u0644\\u0650\\u0627\\u0652\\u0642\\u0651\\u0629\\u0651 \\u0628\\u0650\\u064a\\u064b\\u0631\\u064a\\u064d\\u0632 \\u064c\\u0628\\u0652\\u0647\\u060c\\u0651 \\u064b\\u0644\\u0651\\u0643\\u0646\\u064b\\u0647\\u064f \\u0643\\u0650\\u0627\\u064e\\u0646 \\u062f\\u0628\\u064c\\u0644\\u0651\\u0648\\u0645\\u064f\\u0627\\u0651\\u0633\\u064a\\u064b\\u0627\\u064b\\u064b \\u0648\\u064a\\u064b\\u0635\\u0652\\u0641\\u064b\\u0647 \\u0650\\u0645\\u0648\\u0650\\u0631\\u0650\\u064a\\u0652\\u0646\\u064c\\u064a\\u0648\\u0652 \\u064c\\u0628\\u0650\\u0627\\u0644\\u0642\\u064d\\u0648\\u0644\\u064f:\\u064f \\u064f\\u00ab\\u064d\\u0639\\u0646\\u062f\\u0645\\u0627\\u064e \\u062a\\u0652\\u062d\\u0628\\u064c\\u0647 \\u062a\\u064b\\u062d\\u0651\\u062a\\u0631\\u0645\\u0652\\u0647\\u060c \\u0623\\u062d\\u064a\\u064c\\u0627\\u0646\\u0627\\u064e\\u064b \\u064d\\u064a\\u0636\\u0644\\u064c \\u064d\\u0627\\u064e\\u0644\\u064d\\u0644\\u0650\\u0627\\u0639\\u064e\\u0628\\u064a\\u0652\\u0646\\u0652 \\u0637\\u0651\\u0631\\u0650\\u064a\\u064b\\u0642\\u064c\\u0647\\u064c\\u0645 \\u064f\\u0648\\u0647\\u0651\\u0648 \\u064a\\u064d\\u062d\\u0645\\u0650\\u0644\\u0647\\u0645 \\u064f\\u0644\\u0628\\u0652\\u0631\\u0652 \\u0627\\u064c\\u0644\\u0623\\u064b\\u0645\\u0627\\u0646\\u00bb. \\u0639\\u0646\\u062f\\u0645\\u064c\\u0627 \\u0644\\u0639\\u0628\\u064e \\u0651\\u0641\\u0627\\u0644\\u0652\\u0646\\u064f\\u0633\\u064d\\u064a\\u0627\\u0652 \\u0652\\u0648\\u0645\\u064c\\u0648\\u064e\\u0646\\u0627\\u064d\\u0643\\u0648\\u0652 \\u0650\\u0641\\u0651\\u064a \\u062a\\u064b\\u0635\\u0641\\u064a\\u0627\\u064e\\u062a\\u064d \\u062f\\u064b\\u0648\\u064d\\u0631\\u064a\\u0650 \\u0623\\u0628\\u0637\\u0652\\u0627\\u064d\\u0644\\u064d \\u0627\\u0651\\u0648\\u0631\\u0648\\u0628\\u0652\\u0627\\u0650 \\u0652\\u0645\\u0650\\u0624\\u0651\\u062e\\u0631\\u064e\\u0627\\u0650\\u064b\\u064b \\u064b\\u062c\\u0644\\u064b\\u0633\\u064e \\u0645\\u064a\\u0646\\u064d\\u062f\\u064a\\u0652\\u0632\\u0651 \\u064c\\u0641\\u064a \\u0627\\u0644\\u0645\\u0650\\u062f\\u064c\\u0631\\u062c\\u0627\\u0651\\u062a \\u064d\\u0644\\u064a\\u0651\\u0631\\u0651\\u0627\\u0642\\u0628\\u0652 \\u0623\\u062f\\u064f\\u0627\\u0621\\u0652 8\\u064b \\u0652\\u0645\\u0646\\u064e \\u0644\\u0627\\u0639\\u064c\\u0628\\u064a\\u0650\\u0647 \\u0627\\u064f\\u0644\\u064b\\u0630\\u064e\\u064a\\u064d\\u0646 \\u064f\\u064a\\u0645\\u062b\\u0644\\u0652\\u0647\\u064c\\u0645 \\u0650\\u0641\\u0652\\u064a \\u064e\\u0627\\u0644\\u0641\\u064d\\u0631\\u064a\\u0642\\u064a\\u064f\\u0646. \\u064f\\u0645\\u0652\\u0644\\u0643 \\u00ab\\u0651\\u0645\\u064e\\u064a\\u0631\\u0652\\u0643\\u0652\\u0627\\u062a\\u064d\\u0648 \\u0627\\u0650\\u0644\\u0635\\u064a\\u064f\\u0641\\u064f\\u00bb\\u0628\\u0651\\u064a\\u0646\\u0650\\u0645\\u0627\\u0650 \\u062e\\u064c\\u0644\\u062f\\u0652 \\u064c\\u0622\\u062e\\u0652\\u0631\\u0648\\u0646 \\u064c\\u0625\\u0651\\u0644\\u064c\\u0649\\u064c \\u0652\\u0627\\u0651\\u0644\\u0652\\u0631\\u0627\\u064f\\u062d\\u0629\\u064f \\u0648\\u064e\\u0627\\u0644\\u064b\\u0627\\u0633\\u0650\\u062a\\u062c\\u064e\\u0645\\u064e\\u0627\\u0645 \\u062e\\u0644\\u064d\\u0627\\u0644\\u0652 \\u0652\\u0645\\u062f\\u0629 \\u064c\\u0627\\u0644\\u0639\\u0637\\u064f\\u0644\\u0629 \\u064e\\u0627\\u064c\\u0644\\u0651\\u0635\\u064a\\u0641\\u0650\\u064a\\u064b\\u0629\\u064b \\u0628\\u064f\\u064a\\u0646 \\u0650\\u0627\\u064c\\u0644\\u0645\\u0648\\u0633\\u0645\\u064b\\u064a\\u0646\\u064d \\u064f\\u0627\\u064f\\u0644\\u0645\\u064c\\u0627\\u064b\\u0636\\u064a\\u064e \\u0648\\u0627\\u0650\\u0644\\u064e\\u062d\\u064d\\u0627\\u0644\\u064a\\u064e\\u060c\\u064e \\u064f\\u0643\\u0627\\u064f\\u0646 \\u0627\\u0644\\u0639\\u0645\\u0644\\u0651 \\u0645\\u0643\\u062b\\u064e\\u0641\\u064b\\u0627\\u064c\\u064b \\u0648\\u064b\\u0636\\u062e\\u064f\\u0645\\u064c\\u0627\\u064d\\u064b \\u064b\\u0639\\u0650\\u0644\\u0649\\u0651 \\u0651\\u0648\\u064d\\u0643\\u064a\\u0644\\u064b \\u0627\\u0644\\u064c\\u0644\\u0627\\u0639\\u0650\\u0628\\u0651\\u064a\\u0646\\u0651 \\u064c\\u0627\\u0644\\u064e\\u0628\\u0651\\u0631\\u0651\\u062a\\u063a\\u0627\\u0651\\u0644\\u064a \\u064d\\u0627\\u0644\\u064e\\u0634\\u064d\\u0647\\u0652\\u064a\\u064d\\u0631 \\u062e\\u0648\\u064e\\u0631\\u062e\\u064d\\u064a \\u0645\\u064a\\u0650\\u0646\\u062f\\u064a\\u0651\\u0632 \\u0641\\u0652\\u064a\\u064c \\u0633\\u0648\\u0642 \\u0627\\u0644\\u0627\\u0646\\u0650\\u062a\\u0642\\u0627\\u0644\\u0627\\u064b\\u062a\\u064e \\u064b\\u0647\\u0630\\u064d\\u0627 \\u064c\\u0627\\u064d\\u0644\\u0635\\u064a\\u0641\\u060c \\u0628\\u064b\\u0635\\u0641\\u064d\\u062a\\u0650\\u0647\\u0650 \\u0651\\u0623\\u062d\\u062f \\u0623\\u064c\\u0643\\u0650\\u062b\\u064c\\u0631 \\u0651\\u0627\\u064e\\u0644\\u064c\\u0645\\u0624\\u064f\\u062b\\u064b\\u0631\\u064f\\u064a\\u0646 \\u0641\\u064b\\u064a\\u0650 \\u0645\\u0633\\u064a\\u064f\\u0631\\u064d\\u0629 \\u064d\\u0643\\u064c\\u0631\\u064b\\u0629\\u064e \\u0650\\u0627\\u064c\\u0644\\u0651\\u0642\\u0652\\u062f\\u0645 \\u064f\\u0627\\u0644\\u0627\\u062d\\u062a\\u064f\\u0631\\u0627\\u064b\\u0641\\u064a\\u064b\\u0629\\u064e.\\u0648\\u0651\\u0645\\u064f\\u0646 \\u064f\\u0628\\u064a\\u0646 \\u0645\\u0626\\u0627\\u0650\\u062a\\u064f \\u064f\\u0627\\u0650\\u0644\\u0645\\u064b\\u0644\\u064c\\u0627\\u064a\\u0651\\u064a\\u0650\\u0646\\u064c \\u0651\\u0627\\u064d\\u0644\\u062a\\u064a \\u0634\\u064b\\u0647\\u062f\\u062a\\u0651\\u0647\\u0627\\u0650 \\u0633\\u0650\\u0648\\u0642\\u0652 \\u0627\\u0646\\u062a\\u0642\\u0627\\u0644\\u064b\\u0627\\u062a \\u0627\\u0651\\u0644\\u064c\\u0644\\u0627\\u064f\\u0639\\u064c\\u0628\\u064d\\u064a\\u064d\\u0646 \\u0641\\u0652\\u064a\\u064f \\u0623\\u0648\\u064b\\u0631\\u0648\\u0628\\u0627 \\u0652\\u0641\\u0650\\u064a \\u064f\\u00ab\\u064e\\u0627\\u0650\\u0644\\u0645\\u064f\\u064a\\u064e\\u0631\\u0643\\u0652\\u0627\\u0652\\u062a\\u064f\\u0648 \\u0627\\u064f\\u0644\\u0635\\u064c\\u064a\\u0641\\u0651\\u064a\\u00bb\\u064d\\u060c \\u0643\\u064e\\u0627\\u0646 \\u0644\\u064c\\u0645\\u064a\\u0646\\u062f\\u064a\\u0632 \\u064e\\u0646\\u0635\\u064a\\u0651\\u0628\\u0652 \\u0627\\u064b\\u0644\\u0623\\u0633\\u064c\\u062f\\u064e \\u0645\\u0650\\u062c\\u0652\\u062f\\u064f\\u062f\\u0627\\u064e\\u064b\\u064f\\u060c \\u064e\\u062d\\u064e\\u064a\\u064d\\u062b\\u0652 \\u064f\\u0628\\u064e\\u0644\\u064e\\u063a \\u0625\\u0652\\u062c\\u0645\\u0627\\u0644\\u064a \\u0651\\u0627\\u0644\\u064b\\u0635\\u064e\\u0641\\u064c\\u0642\\u0627\\u064f\\u062a \\u0627\\u064d\\u0644\\u064c\\u062a\\u064a\\u0652 \\u064b\\u0634\\u0652\\u0645\\u0644\\u0652\\u062a \\u0652\\u0627\\u0644\\u0651\\u0644\\u064d\\u0627\\u0651\\u0639\\u0628\\u064f\\u064a\\u0646\\u0650 \\u0627\\u0650\\u0644\\u0645\\u0652\\u062a\\u0639\\u0651\\u0627\\u064b\\u0642\\u064f\\u062f\\u064a\\u064d\\u0646 \\u064c\\u0645\\u0639\\u0647\\u064d \\u0646\\u064d\\u062d\\u0648 \\u064c4\\u064d0\\u064e0 \\u0645\\u0644\\u064a\\u064f\\u0648\\u0652\\u0646\\u0650 \\u064a\\u0648\\u0631\\u0648 \\u0652(\\u065044\\u064d5\\u0651 \\u0645\\u0644\\u064c\\u064a\\u0648\\u064b\\u0646\\u0651 \\u062f\\u0648\\u0644\\u0651\\u0627\\u0651\\u0631)\\u0651.\\u0648\\u064b\\u0628\\u0651\\u0647\\u0630\\u0627 \\u064d\\u064a\\u064e\\u0635\\u0652\\u0628\\u0652\\u062d \\u0650\\u0645\\u064c\\u064a\\u0652\\u0646\\u0651\\u062f\\u064a\\u0632\\u0652(\\u064d 49\\u064e \\u064e\\u0639\\u0627\\u064b\\u0645\\u0651\\u0627\\u064b\\u064b)\\u064e \\u0647\\u064c\\u0648\\u0650 \\u0650\\u0627\\u0644\\u0631\\u0650\\u0627\\u064e\\u0628\\u062d \\u0650\\u0627\\u0644\\u0623\\u0643\\u0651\\u0628\\u064c\\u0631 \\u0641\\u064a\\u0652 \\u0650\\u0633\\u064f\\u0648\\u0642 \\u0627\\u064f\\u0646\\u064b\\u062a\\u0642\\u0650\\u0627\\u064e\\u0644\\u0650\\u0627\\u0651\\u062a \\u0627\\u064e\\u0644\\u0650\\u0644\\u0627\\u0639\\u0628\\u0652\\u064a\\u064c\\u0646 \\u0650\\u0647\\u0630\\u064d\\u0627\\u064d \\u0651\\u0627\\u0651\\u0644\\u064f\\u0635\\u064a\\u0641\\u064c \\u0648\\u064b\\u0627\\u0650\\u0644\\u0650\\u0630\\u064d\\u064a \\u0623\\u0650\\u063a\\u064d\\u0644\\u064b\\u0642\\u064c \\u064b\\u064a\\u0652\\u0648\\u064b\\u0645 \\u064f\\u0627\\u064c\\u0644\\u064c\\u0627\\u064b\\u062b\\u0646\\u064a\\u0650\\u0646\\u064e \\u0627\\u0644\\u064f\\u0645\\u064e\\u0627\\u0636\\u064c\\u064a\\u0652.\\u0648\\u0652\\u0623\\u0646\\u0651\\u0641\\u0642\\u0652\\u062a\\u064b \\u0627\\u0644\\u0623\\u0646\\u062f\\u064e\\u064a\\u064f\\u0629\\u064f \\u064b\\u0627\\u0644\\u0625\\u0646\\u0652\\u062c\\u0651\\u0644\\u064a\\u064f\\u0632\\u064a\\u0652\\u0629 \\u0646\\u064f\\u062d\\u0648\\u064d \\u0651\\u0645\\u0644\\u064f\\u064a\\u0627\\u0631 \\u0648\\u064c200\\u0651 \\u0645\\u0651\\u0644\\u064d\\u064a\\u0648\\u0646 \\u064b\\u064a\\u0650\\u0648\\u0631\\u0648\\u064b (\\u0631\\u0642\\u0645\\u0650 \\u0642\\u0651\\u064a\\u064b\\u0627\\u0651\\u0633\\u064a\\u064d \\u064e\\u062c\\u0651\\u062f\\u064f\\u064a\\u062f)\\u0651 \\u064f\\u0644\\u064b\\u0636\\u0645 \\u064f\\u0644\\u064c\\u0627\\u0639\\u0652\\u0628\\u064a\\u064e\\u0646\\u064d \\u062c\\u062f\\u062f \\u0651\\u0645\\u0651\\u0646 \\u0623\\u064f\\u062c\\u0644\\u0652 \\u0651\\u062a\\u0652\\u062f\\u064d\\u0639\\u064e\\u064a\\u0652\\u0645 \\u0647\\u064f\\u0630\\u0652\\u0627 \\u0627\\u0651\\u0644\\u0635\\u064a\\u0641\\u064b\\u060c \\u0648\\u0643\\u0652\\u0627\\u064d\\u0646\\u0652 \\u0645\\u064c\\u064a\\u064f\\u0646\\u064c\\u062f\\u0652\\u064a\\u0652\\u0632\\u064b \\u0651\\u0637\\u0631\\u0652\\u0641\\u0650\\u0627\\u064b \\u0641\\u064a \\u0651\\u062b\\u064c\\u0644\\u064c\\u0627\\u062b\\u064d \\u0645\\u0646 \\u0623\\u064b\\u0643\\u0652\\u0628\\u0631\\u064b \\u0627\\u0650\\u0644\\u0635\\u0641\\u0642\\u0627\\u062a \\u0627\\u0644\\u064e\\u062a\\u064a \\u0623\\u0628\\u0631\\u0650\\u0645\\u0651\\u062a\\u0647\\u0627 \\u0627\\u0644\\u0623\\u064b\\u0646\\u064b\\u062f\\u064a\\u064f\\u0629 \\u0627\\u064c\\u0644\\u0625\\u0646\\u062c\\u064e\\u0644\\u064a\\u0632\\u0651\\u064a\\u0629\\u0652 \\u0633\\u064d\\u0648\\u0652\\u0627\\u0652\\u0621 \\u064b\\u0625\\u064f\\u0644\\u0651\\u0649 \\u0623\\u0648 \\u0651\\u0645\\u0646\\u064b \\u0635\\u0641\\u0651\\u0648\\u0641\\u0647\\u0627.\"\n        ],\n        \"semantic_type\": \"\",\n        \"description\": \"\"\n      }\n    },\n    {\n      \"column\": \"label\",\n      \"properties\": {\n        \"dtype\": \"category\",\n        \"num_unique_values\": 7,\n        \"samples\": [\n          \"Culture\",\n          \"Finance\",\n          \"Sports\"\n        ],\n        \"semantic_type\": \"\",\n        \"description\": \"\"\n      }\n    }\n  ]\n}"
            }
          },
          "metadata": {},
          "execution_count": 11
        }
      ]
    },
    {
      "cell_type": "code",
      "source": [
        "def clean_text(text):\n",
        "\n",
        "  cleaned_text = re.sub(r'http\\S+|www\\S+|https\\S+', '', text, flags=re.MULTILINE)\n",
        "  #Removing special characters and punctuation\n",
        "  cleaned_text = re.sub(r'[^\\w\\s]', '', cleaned_text)\n",
        "\n",
        "  #cleaned_text = araby.strip_tashkeel(cleaned_text)\n",
        "  cleaned_text = araby.strip_tatweel(cleaned_text)\n",
        "\n",
        "  #Removing Arabic stopwords\n",
        "  words = nltk.word_tokenize(cleaned_text)\n",
        "  filtered_words = [word for word in words if word not in stop_words]\n",
        "\n",
        "  stemmer = ISRIStemmer()\n",
        "  stemmed_words = [stemmer.stem(word) for word in filtered_words]\n",
        "\n",
        "  cleaned_text = araby.normalize_hamza(cleaned_text)\n",
        "\n",
        "  cleaned_text = ' '.join(stemmed_words)\n",
        "  return cleaned_text\n",
        "\n"
      ],
      "metadata": {
        "id": "UQlrnzn3591R"
      },
      "execution_count": 49,
      "outputs": []
    },
    {
      "cell_type": "code",
      "source": [
        "#new clounm\n",
        "df['clean_text'] = df['text'].apply(clean_text)"
      ],
      "metadata": {
        "id": "n2LpuBGn594p"
      },
      "execution_count": 50,
      "outputs": []
    },
    {
      "cell_type": "code",
      "source": [
        "df.head()"
      ],
      "metadata": {
        "colab": {
          "base_uri": "https://localhost:8080/",
          "height": 206
        },
        "id": "bnF2Uhwv7EWP",
        "outputId": "c8617a0c-adae-4f98-890b-957552c628f6"
      },
      "execution_count": 51,
      "outputs": [
        {
          "output_type": "execute_result",
          "data": {
            "text/plain": [
              "                                                 text    label  \\\n",
              "2   https://example.com/resource/أُقيًمٌتِ مِساءُ ...  Culture   \n",
              "4   https://example.com/resource/قُرر اَتحِاد اًلْ...  Culture   \n",
              "7   https://example.com/resource/توفٌي َأمس ِاَلُأ...  Culture   \n",
              "8   https://example.com/resource/نظم ْمَرٍكزْ َاِل...  Culture   \n",
              "15  https://example.com/resource/اَلّشْاِرقِةّ:ً م...  Culture   \n",
              "\n",
              "                                           clean_text  \n",
              "2   اول كسبو شرق ندة حري حول همي جار كتب علم شرك ل...  \n",
              "4   تحد دبء كتب موريتاني عقد ؤمر عام تسع 16 برل قب...  \n",
              "7   ادب اسب يجل ديليبس عبر وحد اهم كتب اسب قرن عشر...  \n",
              "8   ركز شرق شعر شعب جلس ضحي غيدر طلع ندة حري عنو و...  \n",
              "15  يرف خطب لبي دعو حرم صحب سمو شيخ دكتور سلط بن ح...  "
            ],
            "text/html": [
              "\n",
              "  <div id=\"df-e05fb718-783c-4564-8954-e3234b537bed\" class=\"colab-df-container\">\n",
              "    <div>\n",
              "<style scoped>\n",
              "    .dataframe tbody tr th:only-of-type {\n",
              "        vertical-align: middle;\n",
              "    }\n",
              "\n",
              "    .dataframe tbody tr th {\n",
              "        vertical-align: top;\n",
              "    }\n",
              "\n",
              "    .dataframe thead th {\n",
              "        text-align: right;\n",
              "    }\n",
              "</style>\n",
              "<table border=\"1\" class=\"dataframe\">\n",
              "  <thead>\n",
              "    <tr style=\"text-align: right;\">\n",
              "      <th></th>\n",
              "      <th>text</th>\n",
              "      <th>label</th>\n",
              "      <th>clean_text</th>\n",
              "    </tr>\n",
              "  </thead>\n",
              "  <tbody>\n",
              "    <tr>\n",
              "      <th>2</th>\n",
              "      <td>https://example.com/resource/أُقيًمٌتِ مِساءُ ...</td>\n",
              "      <td>Culture</td>\n",
              "      <td>اول كسبو شرق ندة حري حول همي جار كتب علم شرك ل...</td>\n",
              "    </tr>\n",
              "    <tr>\n",
              "      <th>4</th>\n",
              "      <td>https://example.com/resource/قُرر اَتحِاد اًلْ...</td>\n",
              "      <td>Culture</td>\n",
              "      <td>تحد دبء كتب موريتاني عقد ؤمر عام تسع 16 برل قب...</td>\n",
              "    </tr>\n",
              "    <tr>\n",
              "      <th>7</th>\n",
              "      <td>https://example.com/resource/توفٌي َأمس ِاَلُأ...</td>\n",
              "      <td>Culture</td>\n",
              "      <td>ادب اسب يجل ديليبس عبر وحد اهم كتب اسب قرن عشر...</td>\n",
              "    </tr>\n",
              "    <tr>\n",
              "      <th>8</th>\n",
              "      <td>https://example.com/resource/نظم ْمَرٍكزْ َاِل...</td>\n",
              "      <td>Culture</td>\n",
              "      <td>ركز شرق شعر شعب جلس ضحي غيدر طلع ندة حري عنو و...</td>\n",
              "    </tr>\n",
              "    <tr>\n",
              "      <th>15</th>\n",
              "      <td>https://example.com/resource/اَلّشْاِرقِةّ:ً م...</td>\n",
              "      <td>Culture</td>\n",
              "      <td>يرف خطب لبي دعو حرم صحب سمو شيخ دكتور سلط بن ح...</td>\n",
              "    </tr>\n",
              "  </tbody>\n",
              "</table>\n",
              "</div>\n",
              "    <div class=\"colab-df-buttons\">\n",
              "\n",
              "  <div class=\"colab-df-container\">\n",
              "    <button class=\"colab-df-convert\" onclick=\"convertToInteractive('df-e05fb718-783c-4564-8954-e3234b537bed')\"\n",
              "            title=\"Convert this dataframe to an interactive table.\"\n",
              "            style=\"display:none;\">\n",
              "\n",
              "  <svg xmlns=\"http://www.w3.org/2000/svg\" height=\"24px\" viewBox=\"0 -960 960 960\">\n",
              "    <path d=\"M120-120v-720h720v720H120Zm60-500h600v-160H180v160Zm220 220h160v-160H400v160Zm0 220h160v-160H400v160ZM180-400h160v-160H180v160Zm440 0h160v-160H620v160ZM180-180h160v-160H180v160Zm440 0h160v-160H620v160Z\"/>\n",
              "  </svg>\n",
              "    </button>\n",
              "\n",
              "  <style>\n",
              "    .colab-df-container {\n",
              "      display:flex;\n",
              "      gap: 12px;\n",
              "    }\n",
              "\n",
              "    .colab-df-convert {\n",
              "      background-color: #E8F0FE;\n",
              "      border: none;\n",
              "      border-radius: 50%;\n",
              "      cursor: pointer;\n",
              "      display: none;\n",
              "      fill: #1967D2;\n",
              "      height: 32px;\n",
              "      padding: 0 0 0 0;\n",
              "      width: 32px;\n",
              "    }\n",
              "\n",
              "    .colab-df-convert:hover {\n",
              "      background-color: #E2EBFA;\n",
              "      box-shadow: 0px 1px 2px rgba(60, 64, 67, 0.3), 0px 1px 3px 1px rgba(60, 64, 67, 0.15);\n",
              "      fill: #174EA6;\n",
              "    }\n",
              "\n",
              "    .colab-df-buttons div {\n",
              "      margin-bottom: 4px;\n",
              "    }\n",
              "\n",
              "    [theme=dark] .colab-df-convert {\n",
              "      background-color: #3B4455;\n",
              "      fill: #D2E3FC;\n",
              "    }\n",
              "\n",
              "    [theme=dark] .colab-df-convert:hover {\n",
              "      background-color: #434B5C;\n",
              "      box-shadow: 0px 1px 3px 1px rgba(0, 0, 0, 0.15);\n",
              "      filter: drop-shadow(0px 1px 2px rgba(0, 0, 0, 0.3));\n",
              "      fill: #FFFFFF;\n",
              "    }\n",
              "  </style>\n",
              "\n",
              "    <script>\n",
              "      const buttonEl =\n",
              "        document.querySelector('#df-e05fb718-783c-4564-8954-e3234b537bed button.colab-df-convert');\n",
              "      buttonEl.style.display =\n",
              "        google.colab.kernel.accessAllowed ? 'block' : 'none';\n",
              "\n",
              "      async function convertToInteractive(key) {\n",
              "        const element = document.querySelector('#df-e05fb718-783c-4564-8954-e3234b537bed');\n",
              "        const dataTable =\n",
              "          await google.colab.kernel.invokeFunction('convertToInteractive',\n",
              "                                                    [key], {});\n",
              "        if (!dataTable) return;\n",
              "\n",
              "        const docLinkHtml = 'Like what you see? Visit the ' +\n",
              "          '<a target=\"_blank\" href=https://colab.research.google.com/notebooks/data_table.ipynb>data table notebook</a>'\n",
              "          + ' to learn more about interactive tables.';\n",
              "        element.innerHTML = '';\n",
              "        dataTable['output_type'] = 'display_data';\n",
              "        await google.colab.output.renderOutput(dataTable, element);\n",
              "        const docLink = document.createElement('div');\n",
              "        docLink.innerHTML = docLinkHtml;\n",
              "        element.appendChild(docLink);\n",
              "      }\n",
              "    </script>\n",
              "  </div>\n",
              "\n",
              "\n",
              "<div id=\"df-0d16e79c-5d44-4809-815d-1e7f3e7f54d5\">\n",
              "  <button class=\"colab-df-quickchart\" onclick=\"quickchart('df-0d16e79c-5d44-4809-815d-1e7f3e7f54d5')\"\n",
              "            title=\"Suggest charts\"\n",
              "            style=\"display:none;\">\n",
              "\n",
              "<svg xmlns=\"http://www.w3.org/2000/svg\" height=\"24px\"viewBox=\"0 0 24 24\"\n",
              "     width=\"24px\">\n",
              "    <g>\n",
              "        <path d=\"M19 3H5c-1.1 0-2 .9-2 2v14c0 1.1.9 2 2 2h14c1.1 0 2-.9 2-2V5c0-1.1-.9-2-2-2zM9 17H7v-7h2v7zm4 0h-2V7h2v10zm4 0h-2v-4h2v4z\"/>\n",
              "    </g>\n",
              "</svg>\n",
              "  </button>\n",
              "\n",
              "<style>\n",
              "  .colab-df-quickchart {\n",
              "      --bg-color: #E8F0FE;\n",
              "      --fill-color: #1967D2;\n",
              "      --hover-bg-color: #E2EBFA;\n",
              "      --hover-fill-color: #174EA6;\n",
              "      --disabled-fill-color: #AAA;\n",
              "      --disabled-bg-color: #DDD;\n",
              "  }\n",
              "\n",
              "  [theme=dark] .colab-df-quickchart {\n",
              "      --bg-color: #3B4455;\n",
              "      --fill-color: #D2E3FC;\n",
              "      --hover-bg-color: #434B5C;\n",
              "      --hover-fill-color: #FFFFFF;\n",
              "      --disabled-bg-color: #3B4455;\n",
              "      --disabled-fill-color: #666;\n",
              "  }\n",
              "\n",
              "  .colab-df-quickchart {\n",
              "    background-color: var(--bg-color);\n",
              "    border: none;\n",
              "    border-radius: 50%;\n",
              "    cursor: pointer;\n",
              "    display: none;\n",
              "    fill: var(--fill-color);\n",
              "    height: 32px;\n",
              "    padding: 0;\n",
              "    width: 32px;\n",
              "  }\n",
              "\n",
              "  .colab-df-quickchart:hover {\n",
              "    background-color: var(--hover-bg-color);\n",
              "    box-shadow: 0 1px 2px rgba(60, 64, 67, 0.3), 0 1px 3px 1px rgba(60, 64, 67, 0.15);\n",
              "    fill: var(--button-hover-fill-color);\n",
              "  }\n",
              "\n",
              "  .colab-df-quickchart-complete:disabled,\n",
              "  .colab-df-quickchart-complete:disabled:hover {\n",
              "    background-color: var(--disabled-bg-color);\n",
              "    fill: var(--disabled-fill-color);\n",
              "    box-shadow: none;\n",
              "  }\n",
              "\n",
              "  .colab-df-spinner {\n",
              "    border: 2px solid var(--fill-color);\n",
              "    border-color: transparent;\n",
              "    border-bottom-color: var(--fill-color);\n",
              "    animation:\n",
              "      spin 1s steps(1) infinite;\n",
              "  }\n",
              "\n",
              "  @keyframes spin {\n",
              "    0% {\n",
              "      border-color: transparent;\n",
              "      border-bottom-color: var(--fill-color);\n",
              "      border-left-color: var(--fill-color);\n",
              "    }\n",
              "    20% {\n",
              "      border-color: transparent;\n",
              "      border-left-color: var(--fill-color);\n",
              "      border-top-color: var(--fill-color);\n",
              "    }\n",
              "    30% {\n",
              "      border-color: transparent;\n",
              "      border-left-color: var(--fill-color);\n",
              "      border-top-color: var(--fill-color);\n",
              "      border-right-color: var(--fill-color);\n",
              "    }\n",
              "    40% {\n",
              "      border-color: transparent;\n",
              "      border-right-color: var(--fill-color);\n",
              "      border-top-color: var(--fill-color);\n",
              "    }\n",
              "    60% {\n",
              "      border-color: transparent;\n",
              "      border-right-color: var(--fill-color);\n",
              "    }\n",
              "    80% {\n",
              "      border-color: transparent;\n",
              "      border-right-color: var(--fill-color);\n",
              "      border-bottom-color: var(--fill-color);\n",
              "    }\n",
              "    90% {\n",
              "      border-color: transparent;\n",
              "      border-bottom-color: var(--fill-color);\n",
              "    }\n",
              "  }\n",
              "</style>\n",
              "\n",
              "  <script>\n",
              "    async function quickchart(key) {\n",
              "      const quickchartButtonEl =\n",
              "        document.querySelector('#' + key + ' button');\n",
              "      quickchartButtonEl.disabled = true;  // To prevent multiple clicks.\n",
              "      quickchartButtonEl.classList.add('colab-df-spinner');\n",
              "      try {\n",
              "        const charts = await google.colab.kernel.invokeFunction(\n",
              "            'suggestCharts', [key], {});\n",
              "      } catch (error) {\n",
              "        console.error('Error during call to suggestCharts:', error);\n",
              "      }\n",
              "      quickchartButtonEl.classList.remove('colab-df-spinner');\n",
              "      quickchartButtonEl.classList.add('colab-df-quickchart-complete');\n",
              "    }\n",
              "    (() => {\n",
              "      let quickchartButtonEl =\n",
              "        document.querySelector('#df-0d16e79c-5d44-4809-815d-1e7f3e7f54d5 button');\n",
              "      quickchartButtonEl.style.display =\n",
              "        google.colab.kernel.accessAllowed ? 'block' : 'none';\n",
              "    })();\n",
              "  </script>\n",
              "</div>\n",
              "\n",
              "    </div>\n",
              "  </div>\n"
            ],
            "application/vnd.google.colaboratory.intrinsic+json": {
              "type": "dataframe",
              "variable_name": "df",
              "summary": "{\n  \"name\": \"df\",\n  \"rows\": 22134,\n  \"fields\": [\n    {\n      \"column\": \"text\",\n      \"properties\": {\n        \"dtype\": \"string\",\n        \"num_unique_values\": 22134,\n        \"samples\": [\n          \"https://example.com/resource/\\u062e\\u0644\\u064e\\u0627\\u0644 \\u0632\\u064c\\u064a\\u064b\\u0627\\u0651\\u0631\\u062a\\u064e\\u0647 \\u064d\\u0644\\u062c\\u0651\\u0646\\u0627\\u064f\\u062d \\u064f\\u062f\\u0627\\u0626\\u0631\\u0652\\u0629\\u0650 \\u0627\\u0644\\u062b\\u064b\\u0642\\u0627\\u064c\\u0641\\u0629 \\u0651\\u0648\\u064f\\u0627\\u0644\\u0625\\u0639\\u0644\\u0627\\u0645 \\u0641\\u064e\\u064a \\u0627\\u0644\\u0634\\u0627\\u0651\\u0631\\u0642\\u0629 \\u0635\\u062d\\u064f\\u0628\\u064f\\u0629 \\u0650\\u0643\\u064b\\u0628\\u0627\\u0631 \\u0627\\u0644\\u064c\\u0645\\u0633\\u0624\\u0648\\u0644\\u064d\\u064a\\u064f\\u0646\\u0650 \\u0627\\u064c\\u0644\\u064f\\u0633\\u064c\\u0648\\u0631\\u064a\\u064c\\u064a\\u0646\\u0650 \\u0628\\u0645\\u0639\\u0631\\u0636\\u064e \\u0645\\u0643\\u064c\\u062a\\u0651\\u0628\\u0629\\u064e \\u0627\\u0652\\u0644\\u0652\\u0623\\u0633\\u062f \\u0627\\u064e\\u0644\\u0652\\u062f\\u064c\\u0648\\u064f\\u0644\\u064a \\u064c\\u0644\\u064f\\u0644\\u0643\\u0650\\u062a\\u0627\\u0628 \\u0627\\u0644\\u0630\\u064d\\u064a\\u064d \\u0627\\u062e\\u0652\\u062a\\u062a\\u064f\\u0645\\u064d\\u062a \\u0641\\u0639\\u0627\\u064d\\u0644\\u064e\\u064a\\u0650\\u0627\\u062a\\u0647 \\u0652\\u0627\\u0644\\u064d\\u0623\\u062d\\u0650\\u062f\\u064c \\u0627\\u0651\\u0644\\u0645\\u0627\\u064f\\u0636\\u064b\\u064a \\u0648\\u0652\\u0628\\u0639\\u064c\\u062f \\u0627\\u064c\\u0637\\u0644\\u0627\\u0639\\u0647 \\u0639\\u064c\\u0644\\u0649\\u064e \\u0645\\u062d\\u0652\\u062a\\u064d\\u0648\\u0651\\u064a\\u0627\\u064f\\u062a\\u064f \\u062c\\u064c\\u0646\\u0650\\u0627\\u062d \\u0650\\u0627\\u064c\\u0644\\u064c\\u062f\\u0627\\u0651\\u0626\\u064d\\u0631\\u064d\\u0629\\u0651 \\u0648\\u064c\\u0645\\u0624\\u0644\\u064b\\u0641\\u064b\\u0627\\u064b\\u062a \\u0635\\u064e\\u0627\\u064b\\u062d\\u0651\\u0628\\u064e \\u0650\\u0627\\u0652\\u0644\\u0633\\u064e\\u0645\\u0648\\u064e \\u064f\\u0627\\u0644\\u064b\\u0634\\u064a\\u064f\\u062e \\u0627\\u0644\\u062f\\u064d\\u0643\\u062a\\u0648\\u0651\\u0631\\u0651 \\u0650\\u0633\\u0644\\u0637\\u0652\\u0627\\u0646\\u064e \\u0628\\u064f\\u0646 \\u0651\\u0645\\u064d\\u062d\\u0651\\u0645\\u0651\\u062f\\u0650 \\u0627\\u0644\\u0642\\u0627\\u064c\\u0633\\u064f\\u0645\\u064a\\u064f \\u064f\\u0639\\u0636\\u064d\\u0648 \\u064e\\u0627\\u0644\\u0645\\u0651\\u062c\\u0644\\u0651\\u0633 \\u0627\\u0644\\u064d\\u0623\\u0652\\u0639\\u0650\\u0644\\u0649 \\u064f\\u062d\\u064f\\u0627\\u064f\\u0643\\u0645 \\u0627\\u064b\\u0644\\u0634\\u0627\\u064d\\u0631\\u0642\\u0650\\u0629\\u064f \\u0635\\u0631\\u064d\\u062d\\u064c \\u063a\\u064a\\u0627\\u062b\\u064b \\u0628\\u064e\\u0631\\u0643\\u0627\\u062a \\u0652\\u0648\\u064d\\u0632\\u064a\\u0631 \\u064c\\u0627\\u064e\\u0644\\u062a\\u0652\\u0639\\u0644\\u064a\\u0645\\u0652 \\u0651\\u0627\\u0644\\u0639\\u0627\\u064d\\u0644\\u064e\\u064a \\u0651\\u0627\\u0644\\u0633\\u0648\\u064d\\u0631\\u0652\\u064a\\u0651 \\u0623\\u0646 \\u064e\\u0627\\u0644\\u0646\\u064d\\u0647\\u0636\\u0652\\u0629\\u064e \\u0627\\u0650\\u0644\\u0651\\u062a\\u0651\\u0639\\u064c\\u0644\\u0650\\u064a\\u064d\\u0645\\u064a\\u0652\\u0629\\u064b \\u0627\\u0644\\u0650\\u0643\\u0628\\u064a\\u064c\\u0631\\u0629\\u0651 \\u062e\\u0627\\u064c\\u0635\\u0629\\u064b \\u064d\\u0641\\u064a \\u0650\\u0627\\u0644\\u064c\\u0645\\u064d\\u062c\\u0627\\u064f\\u0644 \\u0627\\u064f\\u0644\\u0652\\u0623\\u0643\\u064f\\u0627\\u062f\\u064a\\u0645\\u064c\\u064a \\u0652\\u0641\\u064a \\u0627\\u0644\\u064b\\u0625\\u0645\\u064c\\u0627\\u0631\\u0650\\u0627\\u062a \\u0639\\u0652\\u0627\\u0645\\u0629 \\u064e\\u0648\\u0627\\u0644\\u0651\\u0634\\u0651\\u0627\\u064e\\u0631\\u0651\\u0642\\u0651\\u0629 \\u064b\\u062e\\u0627\\u0635\\u064b\\u0629\\u064e \\u064c\\u0645\\u064f\\u0648\\u064c\\u0636\\u0639 \\u0651\\u062a\\u0650\\u0642\\u0650\\u062f\\u064a\\u0651\\u0631\\u064c \\u064d\\u0645\\u064c\\u0646\\u0650 \\u064e\\u0643\\u0627\\u0641\\u0629\\u064c \\u064d\\u0627\\u064b\\u0644\\u0650\\u0645\\u0624\\u064e\\u0633\\u0633\\u064c\\u0627\\u062a\\u064e \\u0651\\u0627\\u0650\\u0644\\u0623\\u0643\\u0652\\u0627\\u0651\\u062f\\u064c\\u064a\\u0645\\u0650\\u064a\\u0651\\u0629\\u064b \\u0641\\u064a\\u064c \\u064e\\u0627\\u0644\\u0651\\u0648\\u0650\\u0637\\u0651\\u0646 \\u064e\\u0627\\u0644\\u0651\\u0639\\u0631\\u0628\\u0651\\u064a\\u064d \\u064d\\u0646\\u064f\\u0638\\u064c\\u0631\\u0627 \\u064d\\u0644\\u0644\\u0651\\u062a\\u0651\\u0645\\u064f\\u064a\\u0652\\u0632 \\u0651\\u0627\\u0644\\u0630\\u064a \\u064e\\u062a\\u064c\\u062d\\u0638\\u0649 \\u0628\\u0650\\u0647\\u064f \\u0651\\u0627\\u0644\\u064b\\u062c\\u064d\\u0627\\u0645\\u0639\\u064d\\u0629\\u064e \\u064d\\u0627\\u0644\\u0623\\u064d\\u0645\\u064e\\u0631\\u064a\\u064c\\u0643\\u0652\\u064a\\u0629\\u064e \\u0628\\u0627\\u0644\\u0634\\u0651\\u0627\\u0631\\u0642\\u064b\\u0629 \\u064f\\u0648\\u062c\\u064d\\u0627\\u0645\\u0639\\u0650\\u0629 \\u064f\\u0627\\u064c\\u0644\\u064c\\u0634\\u0627\\u0631\\u0642\\u0629 \\u064f\\u0648\\u064e\\u0645\\u064d\\u0627\\u064e \\u0643\\u064f\\u0627\\u0646 \\u0630\\u0652\\u0644\\u0643\\u064f \\u0644\\u064a\\u064c\\u062a\\u062d\\u0651\\u0642\\u064e\\u0642 \\u064d\\u0644\\u0648\\u0644\\u0627\\u0650 \\u064f\\u0627\\u064c\\u0644\\u062a\\u0648\\u062c\\u064a\\u0647\\u0627\\u064b\\u062a \\u0650\\u0627\\u0644\\u0633\\u064f\\u0627\\u064d\\u0645\\u064a\\u0629 \\u0651\\u0648\\u064d\\u0627\\u0652\\u0644\\u064b\\u0631\\u0639\\u0627\\u0652\\u064a\\u064d\\u0629\\u064b \\u0627\\u0644\\u062d\\u0627\\u0646\\u0652\\u064a\\u0651\\u0629\\u064c \\u0652\\u0648\\u0627\\u0652\\u0644\\u062f\\u064e\\u0639\\u0645\\u064b \\u064f\\u0627\\u0651\\u0644\\u0645\\u064c\\u0627\\u062f\\u064c\\u064a \\u0648\\u0627\\u064e\\u0644\\u0651\\u0645\\u0639\\u064c\\u0646\\u0651\\u0648\\u064b\\u064a\\u064f \\u064c\\u0627\\u0650\\u0644\\u064e\\u0644\\u0650\\u0627\\u064f \\u064c\\u0645\\u062d\\u064f\\u062f\\u0648\\u062f \\u0627\\u0644\\u064c\\u0630\\u064a\\u0650 \\u064a\\u064d\\u0642\\u062f\\u0652\\u0645\\u0647 \\u0635\\u0627\\u062d\\u064b\\u0628\\u0652 \\u064c\\u0627\\u0644\\u0651\\u0633\\u064b\\u0645\\u0648\\u064d \\u064d\\u062d\\u0627\\u0643\\u0650\\u0645 \\u0627\\u0644\\u064c\\u0634\\u0627\\u064b\\u0631\\u0642\\u0629\\u064b \\u0644\\u0647\\u0630\\u064a\\u0646\\u064f \\u064c\\u0627\\u0644\\u0635\\u0631\\u062d\\u064a\\u064f\\u0646 \\u0627\\u064c\\u0644\\u064f\\u0623\\u0643\\u0627\\u062f\\u064a\\u0645\\u064a\\u064d\\u064a\\u0646\\u064c \\u064d\\u0645\\u0651\\u0646\\u064c \\u062e\\u064f\\u0644\\u0627\\u0652\\u0644\\u0652 \\u064e\\u0645\\u064b\\u0648\\u064c\\u0642\\u0639\\u064e\\u0647\\u064b \\u0652\\u0643\\u064b\\u0631\\u0626\\u064a\\u0633 \\u0623\\u0651\\u0639\\u0644\\u0649 \\u0651\\u0644\\u064f\\u0647\\u0650\\u0645\\u064b\\u0627\\u064d.\\u0651 \\u0651\\u0643\\u0651\\u0645\\u0627\\u064d \\u064e\\u0623\\u064f\\u0646\\u064f \\u0639\\u0637\\u0627\\u0650\\u0621\\u064b \\u0633\\u0645\\u064f\\u0648\\u064d\\u0647 \\u0627\\u0644\\u0625\\u0652\\u0628\\u064e\\u062f\\u064e\\u0627\\u064f\\u0639\\u064c\\u064a\\u0650 \\u064f\\u0648\\u0627\\u0644\\u062a\\u064c\\u0623\\u0631\\u064a\\u062e\\u064a\\u064b \\u0648\\u064f\\u0627\\u0644\\u062f\\u0651\\u0631\\u0650\\u0627\\u0633\\u064b\\u0627\\u0650\\u062a\\u064c \\u064e\\u0648\\u0650\\u0627\\u0644\\u0652\\u0623\\u0628\\u062d\\u064c\\u0627\\u062b \\u064b\\u0627\\u064f\\u0644\\u062a\\u064d\\u0648\\u0650\\u062b\\u064a\\u064f\\u0642\\u064e\\u064a\\u0651\\u0629\\u0651 \\u062a\\u062f\\u0644\\u064b\\u0644 \\u064e\\u0639\\u0644\\u0649\\u0651 \\u0633\\u064b\\u0639\\u0651\\u0629\\u064e \\u0623\\u064e\\u0641\\u0642\\u0652 \\u064c\\u0633\\u064b\\u0645\\u064f\\u0648\\u064c\\u0647\\u064c \\u0648\\u064f\\u062a\\u0631\\u062c\\u0645\\u062a\\u0647\\u064b \\u064f\\u0644\\u0645\\u064e\\u0627 \\u064f\\u064a\\u0624\\u0645\\u0646\\u064b \\u0628\\u064f\\u0647 \\u0648\\u064b\\u064a\\u062f\\u0639\\u0648\\u064d \\u064b\\u0625\\u0644\\u064b\\u064a\\u0647\\u0651 \\u0650\\u0628\\u064e\\u0636\\u0631\\u0648\\u0650\\u0631\\u0629 \\u0643\\u062a\\u0627\\u0628\\u0629 \\u062a\\u0627\\u064d\\u0631\\u064a\\u062e\\u0646\\u0627 \\u0650\\u0628\\u064f\\u0623\\u064f\\u064a\\u0651\\u062f\\u064b\\u064a\\u064b\\u0646\\u0627 \\u064c\\u0648\\u064c\\u0641\\u0642\\u064c \\u064f\\u0631\\u064c\\u0624\\u064a\\u0629 \\u0652\\u0645\\u064c\\u0648\\u0651\\u0636\\u0648\\u0639\\u064e\\u064a\\u0651\\u0629.\\u0648\\u0627\\u062e\\u064c\\u062a\\u0652\\u062a\\u0645 \\u063a\\u064b\\u064a\\u0627\\u064c\\u062b \\u064e\\u0628\\u0650\\u0631\\u0643\\u064f\\u0627\\u062a \\u062a\\u0635\\u0631\\u064d\\u064a\\u062d\\u0647\\u064b \\u0642\\u0650\\u0627\\u0626\\u0644\\u0627\\u064f\\u064b \\u0625\\u0646 \\u0635\\u0627\\u0650\\u062d\\u0628 \\u0651\\u0627\\u0652\\u0644\\u064f\\u0633\\u064b\\u0645\\u064d\\u0648\\u064d \\u0652\\u062d\\u0627\\u064b\\u0643\\u064e\\u0645 \\u0652\\u0627\\u0644\\u0634\\u0651\\u0627\\u0651\\u0631\\u0642\\u064f\\u0629\\u064e \\u064a\\u064c\\u0645\\u064f\\u062b\\u0652\\u0644\\u0650 \\u0623\\u064c\\u0646\\u0645\\u0648\\u0630\\u0651\\u062c\\u064b\\u0627\\u064d\\u064b\\u0650 \\u064b\\u0645\\u062a\\u064b\\u0645\\u064a\\u0632\\u0627\\u064b \\u0641\\u0650\\u064a \\u0627\\u064f\\u0644\\u0651\\u0645\\u062c\\u0652\\u0627\\u064f\\u0644\\u0650 \\u0627\\u0644\\u0623\\u0643\\u064c\\u0627\\u064f\\u062f\\u064a\\u0645\\u064a\\u0651 \\u0648\\u0651\\u0627\\u0644\\u0650\\u0625\\u064d\\u0628\\u062f\\u0651\\u0627\\u064b\\u0639\\u0652\\u064a \\u0648\\u064f\\u0623\\u0652\\u0635\\u0651\\u0628\\u064e\\u062d\\u0646\\u064c\\u0627\\u064f \\u064f\\u0646\\u064f\\u062a\\u0644\\u064b\\u0645\\u0633\\u064d \\u0651\\u0627\\u0644\\u062a\\u064e\\u0623\\u0651\\u062b\\u064a\\u0631 \\u0652\\u0627\\u0644\\u0627\\u064c\\u064a\\u062c\\u0627\\u0652\\u0628\\u064a \\u064d\\u0644\\u064f\\u0633\\u0645\\u0648\\u0650\\u0647 \\u0639\\u0650\\u0644\\u0649\\u064f \\u0643\\u064d\\u0648\\u0643\\u0628\\u064e\\u0629\\u064e \\u064c\\u0643\\u064e\\u0628\\u064e\\u064a\\u0631\\u0650\\u0629 \\u0650\\u0645\\u064e\\u0646\\u064e \\u062e\\u0631\\u064a\\u062c\\u064a\\u064f \\u0627\\u0644\\u062c\\u0627\\u0645\\u0639\\u0627\\u062a \\u0648\\u064c\\u0627\\u0644\\u0645\\u0628\\u064e\\u062f\\u0639\\u064a\\u064b\\u0646 \\u0641\\u064f\\u064a\\u064c \\u0627\\u0644\\u064e\\u0625\\u0645\\u0627\\u0652\\u0631\\u064c\\u0627\\u062a\\u0650 \\u064e\\u0648\\u0646\\u064e\\u062a\\u0645\\u0646\\u0649\\u064d \\u0650\\u0623\\u064f\\u0646\\u064b \\u064e\\u062a\\u064b\\u062a\\u0650\\u0648\\u062b\\u064b\\u0642 \\u064d\\u0639\\u0644\\u0627\\u0642\\u0627\\u062a\\u0646\\u0627 \\u0627\\u0644\\u0623\\u0643\\u0652\\u0627\\u062f\\u0651\\u064a\\u064c\\u0645\\u064f\\u064a\\u064b\\u0629 \\u0645\\u064d\\u0639\\u064f \\u0642\\u0631\\u064e\\u064a\\u0652\\u0646\\u0627\\u062a\\u0651\\u0647\\u0651\\u0627 \\u0641\\u0651\\u064a \\u0650\\u0627\\u064f\\u0644\\u0634\\u0652\\u0627\\u064b\\u0631\\u0651\\u0642\\u0650\\u0629.\",\n          \"https://example.com/resource/\\u0630\\u0643\\u0631 \\u064f\\u062a\\u0642\\u064b\\u0631\\u064a\\u0631\\u064f \\u0625\\u064f\\u062e\\u0650\\u0628\\u0627\\u0652\\u0631\\u064a\\u0651 \\u0652\\u0623\\u0651\\u0646 \\u0627\\u064e\\u0644\\u062a\\u064f\\u0631\\u0643\\u064c\\u064a \\u062d\\u0645\\u0650\\u064a\\u064b\\u062f \\u064c\\u0623\\u0644\\u062a\\u064f\\u064a\\u0646\\u0650\\u062a\\u0648\\u0652\\u0628 \\u0644\\u0627\\u0639\\u0628 \\u064f\\u062e\\u064b\\u0637 \\u0651\\u0648\\u0652\\u0633\\u064c\\u0637\\u064f \\u0631\\u0651\\u064a\\u0627\\u064d\\u0644\\u0651 \\u0650\\u0645\\u064b\\u062f\\u0631\\u064a\\u062f \\u0627\\u0644\\u0650\\u0625\\u064d\\u0633\\u064e\\u0628\\u0627\\u064e\\u0646\\u064c\\u064a\\u060c \\u0652\\u064a\\u064e\\u0641\\u0643\\u064f\\u0631\\u064e \\u0641\\u064c\\u064a \\u064c\\u0627\\u0644\\u064f\\u0631\\u064f\\u062d\\u064b\\u064a\\u0652\\u0644 \\u0650\\u0639\\u0652\\u0646\\u0652 \\u0652\\u0627\\u0650\\u0644\\u064e\\u0645\\u064b\\u0644\\u0643\\u064c\\u064a \\u0641\\u064a \\u064a\\u0646\\u064f\\u0627\\u064a\\u0631\\u064c/ \\u0652\\u0643\\u0627\\u0646\\u0648\\u064e\\u0646\\u064b \\u064e\\u0627\\u0644\\u0650\\u062b\\u0627\\u064e\\u0646\\u0650\\u064a\\u0652 \\u0652\\u0627\\u0652\\u0644\\u064f\\u0645\\u0642\\u064b\\u0628\\u064b\\u0644 \\u0644\\u0643\\u064a \\u0652\\u064a\\u0646\\u0650\\u0636\\u064f\\u0645 \\u0625\\u064f\\u0644\\u0649 \\u0650\\u063a\\u0644\\u0637\\u0629\\u064d \\u0633\\u0631\\u0627\\u064a \\u0627\\u0650\\u0644\\u064d\\u062a\\u0631\\u064d\\u0643\\u064a .\\u064d\",\n          \"https://example.com/resource/\\u0627\\u0644\\u0642\\u064d\\u0627\\u064b\\u0647\\u0631\\u064b\\u0629\\u064f-\\u0652 \\u00ab\\u064b\\u0627\\u0652\\u0644\\u062e\\u0651\\u0644\\u064b\\u064a\\u062c\\u064d\\u00bb\\u0652:\\u064f \\u0634\\u0647\\u0650\\u062f \\u064c\\u0627\\u064e\\u0644\\u0645\\u064e\\u0631\\u0643\\u0632\\u0652 \\u064e\\u0627\\u064f\\u0644\\u064b\\u062f\\u0648\\u0650\\u0644\\u064a \\u064d\\u0644\\u064b\\u0644\\u0643\\u064c\\u062a\\u0627\\u0628\\u064e \\u064b\\u0646\\u064d\\u062f\\u0652\\u0648\\u0651\\u0629\\u064b \\u0650\\u0644\\u064f\\u0645\\u064e\\u0646\\u064f\\u0627\\u0652\\u0642\\u0634\\u064b\\u0629\\u064b \\u0631\\u0650\\u0648\\u0651\\u0627\\u064e\\u064a\\u0629 \\u064b\\u00ab\\u062b\\u064b\\u0645\\u0629 \\u064f\\u0645\\u0627\\u064f \\u0651\\u0623\\u0642\\u064e\\u0648\\u0644 \\u0644\\u0643\\u0650\\u0645\\u064b\\u00bb \\u0652\\u0644\\u0644\\u0643\\u0627\\u062a\\u0628\\u064e \\u0627\\u064b\\u0644\\u0628\\u0627\\u0643\\u0633\\u062a\\u0627\\u064d\\u0646\\u064d\\u064a \\u064e\\u062d\\u064f\\u0646\\u064d\\u064a\\u0641 \\u064b\\u0642\\u0631\\u0650\\u064a\\u064f\\u0634\\u064d\\u064a\\u060c \\u064f\\u062a\\u0631\\u062c\\u064d\\u0645\\u0629\\u0650 \\u0627\\u0651\\u0644\\u062f\\u0643\\u062a\\u0648\\u0651\\u0631 \\u0650\\u0646\\u0651\\u0627\\u064c\\u062c\\u064a \\u0631\\u0634\\u0648\\u0627\\u064e\\u0646\\u064d\\u060c \\u0627\\u0650\\u0644\\u064d\\u0630\\u064d\\u064a\\u064b \\u0650\\u0623\\u064c\\u0643\\u064c\\u062f\\u064b \\u0623\\u064e\\u0646 \\u0647\\u0630\\u0650\\u0647 \\u0627\\u0644\\u0631\\u0648\\u0652\\u0627\\u064a\\u064f\\u0629\\u0650 \\u064c\\u0623\\u0650\\u0636\\u0627\\u064b\\u0641\\u062a \\u0625\\u0644\\u0649\\u0650 \\u0627\\u064e\\u0644\\u064c\\u0645\\u0643\\u064d\\u062a\\u064d\\u0628\\u0629 \\u0652\\u0627\\u0644\\u0639\\u0650\\u0631\\u0628\\u064f\\u064a\\u0650\\u0629\\u064f\\u060c\\u0650 \\u0652\\u0644\\u0650\\u0623\\u0652\\u0646 \\u0651\\u00ab\\u062d\\u0646\\u064a\\u0641\\u00bb\\u0651 \\u0648\\u064d\\u0627\\u0652\\u062d\\u062f \\u0652\\u0645\\u064f\\u0646\\u064e \\u0650\\u0627\\u0652\\u0644\\u0651\\u0623\\u0635\\u0648\\u0627\\u064e\\u062a\\u064c \\u064e\\u0627\\u064c\\u0644\\u0625\\u0646\\u062c\\u064c\\u0644\\u064b\\u064a\\u0632\\u064b\\u064a\\u0629 \\u0627\\u0644\\u064d\\u0645\\u0639\\u0627\\u0650\\u0635\\u0631\\u0629\\u060c \\u0652\\u0627\\u064c\\u0644\\u062a\\u064a \\u0627\\u0633\\u064c\\u062a\\u0637\\u0651\\u0627\\u0639\\u0650\\u062a\\u064b \\u064e\\u0627\\u064e\\u0644\\u0652\\u0648\\u0650\\u0642\\u0648\\u0641 \\u064b\\u0639\\u0644\\u064c\\u0649 \\u0645\\u064f\\u0641\\u0631\\u062f\\u0627\\u064b\\u062a \\u064d\\u0627\\u064e\\u0644\\u0634\\u062e\\u0635\\u064e\\u064a\\u0629\\u064d \\u0627\\u0652\\u0644\\u0627\\u0651\\u0646\\u064d\\u062c\\u0644\\u064a\\u0632\\u0650\\u064a\\u0629\\u060c \\u0641\\u064d\\u0627\\u0644\\u0643\\u064e\\u062a\\u064d\\u0651\\u0627\\u0650\\u0628\\u0652 \\u0627\\u0644\\u064c\\u0625\\u064b\\u0646\\u064c\\u062c\\u0644\\u064a\\u064d\\u0632\\u0650 \\u064f\\u0644\\u064a\\u0652\\u0633\\u0650 \\u0644\\u062f\\u064c\\u064a\\u0647\\u0645\\u0651 \\u064b\\u062b\\u0642\\u064c\\u0627\\u0641\\u0650\\u0627\\u062a \\u062e\\u064e\\u0627\\u064b\\u0635\\u0629 \\u0628\\u064d\\u0627\\u0644\\u0652\\u062d\\u064b\\u0636\\u0650\\u0627\\u0631\\u0652\\u0627\\u064d\\u062a\\u064f \\u0627\\u0644\\u0623\\u062e\\u0631\\u0651\\u0649\\u064e\\u060c \\u0643\\u064b\\u0627\\u064e\\u0644\\u062b\\u064c\\u0642\\u064d\\u0627\\u0641\\u064f\\u0629\\u0652 \\u0627\\u0644\\u0647\\u064f\\u0646\\u062f\\u064e\\u064a\\u064c\\u0629\\u064d \\u0627\\u0644\\u0650\\u062a\\u064e\\u064a \\u0623\\u0636\\u0627\\u0641\\u062a \\u0625\\u0644\\u0649 \\u0627\\u0644\\u062b\\u0642\\u0651\\u0627\\u0650\\u0641\\u0650\\u0629\\u0650 \\u064f\\u0627\\u0650\\u0644\\u0652\\u0625\\u0650\\u0646\\u0650\\u062c\\u0644\\u064a\\u0632\\u064a\\u0629\\u060c \\u0645\\u0650\\u062b\\u0644\\u064b\\u0645\\u0651\\u0627\\u0651 \\u0623\\u0650\\u0636\\u0627\\u064b\\u0641 \\u062d\\u064d\\u0646\\u064a\\u0641\\u064e \\u0651\\u0642\\u0650\\u0631\\u064a\\u064f\\u0634\\u064b\\u064a \\u064f(\\u064c\\u0628\\u064d\\u0627\\u0643\\u0650\\u0633\\u0652\\u062a\\u064b\\u0627\\u0646\\u064a \\u0652\\u0627\\u064b\\u0644\\u064e\\u0623\\u064e\\u0635\\u064d\\u0644) \\u064f\\u0625\\u064e\\u0644\\u0649\\u064c \\u0627\\u064d\\u0644\\u0625\\u064e\\u0646\\u062c\\u0644\\u064e\\u064a\\u064e\\u0632\\u064a\\u0652\\u0629.\\u0651 \\u0648\\u062a\\u0631\\u0652\\u0649 \\u064e\\u062f\\u0652.\\u0651 \\u0652\\u0633\\u0652\\u0647\\u064a\\u0631 \\u064e\\u0627\\u0644\\u0645\\u0635\\u0652\\u0627\\u062f\\u064c\\u0641\\u0629\\u064b \\u0651\\u0623\\u064e\\u0646\\u064f \\u064d\\u0627\\u0644\\u0645\\u062a\\u0631\\u064e\\u062c\\u0645\\u0652 \\u0647\\u0648 \\u0650\\u0627\\u0644\\u0652\\u0645\\u0624\\u0644\\u0641\\u064c \\u064b\\u0627\\u064d\\u0644\\u0650\\u062b\\u0627\\u064d\\u0646\\u064a \\u0644\\u0651\\u0644\\u064b\\u0631\\u0648\\u0627\\u064d\\u064a\\u0651\\u0629\\u064e\\u060c\\u064b \\u0651\\u0628\\u064f\\u064a\\u0646\\u0645\\u0627\\u0650 \\u064a\\u0631\\u0650\\u0649 \\u062f. \\u0650\\u0646\\u064c\\u0627\\u0652\\u062c\\u064f\\u064a\\u064e \\u0623\\u064f\\u0646\\u064c \\u064e\\u0627\\u0644\\u062e\\u064a\\u0650\\u0627\\u0646\\u0629 \\u064f\\u062a\\u0636\\u0650\\u064a\\u0641\\u064c \\u0644\\u0644\\u0646\\u064e\\u0635\\u0652 \\u064f\\u0634\\u064f\\u0643\\u0644\\u064e\\u0627\\u0650\\u064b\\u0651 \\u062c\\u0645\\u0627\\u064b\\u0644\\u0652\\u064a\\u0627\\u064b\\u060c \\u0651\\u062e\\u064f\\u0627\\u0651\\u0635\\u0652\\u0629 \\u0641\\u064a\\u064d \\u0647\\u0630\\u0647\\u0652 \\u0627\\u0644\\u0631\\u064e\\u0648\\u064c\\u0627\\u0650\\u064a\\u0629 \\u0650\\u0627\\u0651\\u0644\\u064d\\u062a\\u064c\\u064a\\u0652 \\u0650\\u062a\\u064d\\u0639\\u064d\\u0627\\u0650\\u0645\\u0644\\u0652 \\u064f\\u0641\\u0652\\u064a\\u0647\\u064e\\u0627 \\u0651\\u00ab\\u0652\\u062d\\u0650\\u0646\\u064a\\u0641\\u0651 \\u0650\\u0642\\u064f\\u0631\\u064a\\u064d\\u0634\\u0651\\u064a\\u0651\\u00bb \\u0645\\u0639 \\u064e\\u0627\\u0644\\u0632\\u0645\\u0646 \\u064d\\u0628\\u064f\\u0625\\u0652\\u064a\\u0642\\u0627\\u064f\\u0639\\u064e \\u0650\\u064a\\u064e\\u062e\\u062a\\u0652\\u0644\\u0641 \\u0639\\u064d\\u0646 \\u064f\\u0627\\u0651\\u0644\\u0650\\u0631\\u0624\\u0652\\u064a\\u0629 \\u0627\\u0644\\u0650\\u062a\\u064b\\u0642\\u0644\\u0651\\u064a\\u064d\\u062f\\u064e\\u064a\\u0650\\u0629\\u064e \\u064c\\u0644\\u0651\\u0644\\u064f\\u0631\\u064c\\u0648\\u064b\\u0627\\u064a\\u0629\\u064c\\u060c \\u064d\\u0641\\u064c\\u0627\\u064e\\u0644\\u064f\\u0632\\u0645\\u0652\\u0646 \\u0650\\u0623\\u0650\\u0635\\u0628\\u064b\\u062d \\u064e\\u0641\\u0651\\u064a\\u0652\\u0647\\u064b\\u0627\\u064c \\u0652\\u0641\\u064d\\u0627\\u0639\\u064d\\u0644\\u0627\\u064b \\u0648\\u0644\\u064c\\u064a\\u0650\\u0633 \\u0645\\u0641\\u064f\\u0639\\u064f\\u0648\\u0644\\u0627\\u064c\\u064b\\u0652\\u060c\\u0651 \\u064f\\u0623\\u0645\\u064c\\u0627 \\u064f\\u0627\\u064f\\u0644\\u064d\\u062d\\u0628\\u064b\\u0643\\u0629\\u0652 \\u0627\\u064d\\u0644\\u0652\\u0631\\u064b\\u0648\\u064f\\u0627\\u064b\\u0626\\u064a\\u0651\\u0629\\u0650\\u060c \\u064f\\u0641\\u0647\\u064e\\u064a\\u0651 \\u0650\\u0639\\u0646 \\u0639\\u064d\\u0644\\u0627\\u0651\\u0642\\u0650\\u0629 \\u0652\\u0639\\u0627\\u064b\\u0637\\u064b\\u0641\\u064a\\u0629 \\u064d\\u0628\\u064b\\u062f\\u064d\\u0623\\u064d\\u062a\\u064c \\u064c\\u0642\\u0648\\u064d\\u064a\\u0629\\u064e\\u060c \\u0652\\u0644\\u0643\\u0646\\u0651 \\u064d\\u0645\\u0639 \\u064b\\u0645\\u0631\\u0648\\u0631\\u0651 \\u0627\\u0644\\u064b\\u0623\\u064d\\u062d\\u0652\\u062f\\u0627\\u062b \\u064c\\u062a\\u064c\\u0639\\u0648\\u062f\\u064e \\u0627\\u0644\\u0652\\u0639\\u064c\\u0644\\u0627\\u0642\\u0629 \\u064f\\u0628\\u064e\\u0628\\u0651\\u0631\\u0648\\u0652\\u062f\\u064d\\u060c\\u0651 \\u0641\\u064d\\u0623\\u064f\\u064a \\u0650\\u0631\\u0650\\u0648\\u0627\\u0652\\u064a\\u064f\\u0629 \\u062a\\u0650\\u062d\\u0645\\u064b\\u0644 \\u062a\\u064d\\u0627\\u064c\\u0631\\u064a\\u064e\\u062e \\u0648\\u064c\\u0641\\u0644\\u064e\\u0633\\u0650\\u0641\\u064f\\u0629\\u0651 \\u064f\\u0648\\u062c\\u063a\\u0631\\u0627\\u0641\\u064a\\u0650\\u0629 \\u064f\\u0627\\u0644\\u0645\\u0643\\u0627\\u0646\\u064d \\u064c\\u0627\\u0644\\u064c\\u0630\\u064a \\u0623\\u062a\\u062a\\u064f \\u0645\\u0646\\u0647.\\u064f\"\n        ],\n        \"semantic_type\": \"\",\n        \"description\": \"\"\n      }\n    },\n    {\n      \"column\": \"label\",\n      \"properties\": {\n        \"dtype\": \"category\",\n        \"num_unique_values\": 7,\n        \"samples\": [\n          \"Culture\",\n          \"Finance\",\n          \"Sports\"\n        ],\n        \"semantic_type\": \"\",\n        \"description\": \"\"\n      }\n    },\n    {\n      \"column\": \"clean_text\",\n      \"properties\": {\n        \"dtype\": \"string\",\n        \"num_unique_values\": 22125,\n        \"samples\": [\n          \"\\u062f\\u0643\\u062a\\u0648\\u0631 \\u0639\\u0645\\u0631 \\u062d\\u0645\\u062f \\u062d\\u0645\\u062f \\u0628\\u0646 \\u0633\\u0644\\u0645 \\u062d\\u0641\\u0638 \\u0631\\u0643\\u0632 \\u062f\\u0628\\u064a \\u0627\\u0644\\u064a \\u0639\\u0644\\u0645 \\u0641\\u0643\\u0631 \\u062d\\u0648\\u0644 \\u062e\\u0637\\u0637 \\u0646\\u0645\\u064a \\u0645\\u0631\\u0629 \\u062f\\u0628\\u064a \\u0631\\u0643\\u0632 \\u062f\\u0628\\u064a \\u0627\\u0644\\u064a \\u0639\\u0644\\u0645 \\u062c\\u0627\\u0621 \\u062b\\u0646\\u0621 \\u062d\\u062f\\u062b \\u0639\\u0636\\u0621 \\u062c\\u0645\\u0639 \\u0639\\u0645\\u0644 \\u0628\\u0631\\u0637 \\u0636\\u064a\\u0641 \\u062e\\u0644\\u0644 \\u062d\\u0641\\u0644 \\u063a\\u062f\\u0621 \\u0627\\u0633\\u062a\\u0636\\u0627\\u0641\\u062a\\u0647 \\u062c\\u0645\\u0639 \\u0639\\u0645\\u0644 \\u0628\\u0631\\u064a\\u0637\\u0627\\u0646\\u064a\\u0629 \\u0627\\u0645\\u0633 \\u0631\\u0643\\u0632 \\u0624\\u0645\\u0631 \\u062a\\u0628\\u0639 \\u0631\\u0643\\u0632 \\u062f\\u0628\\u064a \\u0627\\u0644\\u064a \\u0639\\u0644\\u0645 \\u062d\\u0636\\u0631 \\u062c\\u0645\\u0647\\u0648\\u0631 \\u0641\\u0627\\u0642 \\u0639\\u062f\\u062f \\u0627\\u0644 200 \\u0634\\u062e\\u0635 \\u062d\\u062f\\u062b \\u0646\\u0645\\u0648 \\u0633\\u0628\\u0642 \\u0634\\u0647\\u062f \\u0631\\u0643\\u0632 \\u062f\\u0628\\u064a \\u0627\\u0644\\u064a \\u0639\\u0644\\u0645 \\u0648\\u0636\\u062d \\u062e\\u0637\\u0637 \\u0646\\u0645\\u0648 \\u0642\\u0628\\u0644 \\u0623\\u0634\\u0631 600 \\u0634\\u0631\\u0643 \\u0643\\u0628\\u0631 \\u0623\\u0647\\u0645 \\u0624\\u0633\\u0633 \\u0627\\u0644\\u0629 \\u0639\\u0644\\u0645 \\u062a\\u062d\\u0642 \\u0631\\u0643\\u0632 \\u064a\\u0639\\u062f \\u0631\\u0643\\u0632 \\u0627\\u0644\\u064a \\u0633\\u0631\\u0639 \\u0646\\u0645\\u0627 \\u0639\\u0644\\u0645\",\n          \"\\u0628\\u064a\\u0631 \\u0644\\u064a\\u0641\\u0631\\u0643\\u0648\\u0632\\u0646 \\u0648\\u062c\\u0647 \\u0642\\u0648\\u0629 \\u0636\\u064a\\u0641 \\u0647\\u0627\\u0646\\u0648\\u0641\\u0631 \\u0628\\u0639\\u062f \\u0631\\u0643\\u0632 \\u062b\\u0646\\u064a \\u0641\\u0648\\u0632 2\\u0635\\u0641\\u0631 \\u0644\\u0639\\u0628 \\u0628\\u0627\\u064a \\u0627\\u0631\\u064a \\u0641\\u062a\\u062d \\u0631\\u062d\\u0644 \\u0639\\u0634\\u0631 \\u062f\\u0648\\u0631 \\u0627\\u0644\\u0645 \\u0644\\u0643\\u0631 \\u0642\\u062f\\u0645 \\u0639\\u0628\\u0631 \\u0641\\u0648\\u0632 \\u062c\\u062f\\u0627 \\u0646\\u0633\\u0628 \\u0631\\u0643\\u0632 \\u0644\\u0623\\u0646 \\u062c\\u0627\\u0621 \\u062d\\u0633\\u0628 \\u0646\\u0641\\u0633 \\u0633\\u0633\\u064a \\u0631\\u0643\\u0632 \\u062b\\u0646\\u064a \\u0624\\u0647\\u0644 \\u0628\\u0634\\u0631 \\u062f\\u0648\\u0631 \\u062c\\u0645\\u0639 \\u062f\\u0648\\u0631 \\u0628\\u0637\\u0644 \\u0648\\u0631\\u0628 \\u0648\\u0633\\u0645 \\u0642\\u0628\\u0644 \\u0631\\u0641\\u0639 \\u0644\\u064a\\u0641\\u0631\\u0643\\u0648\\u0632\\u0646 \\u0631\\u0635\\u062f \\u0628\\u0647\\u0630\\u0627 \\u0641\\u0648\\u0632 39 \\u0646\\u0642\\u0637 \\u0631\\u0643\\u0632 \\u062b\\u0646\\u064a \\u0641\\u0631\\u0642 \\u0646\\u0642\\u0637 \\u0647\\u0627\\u0646\\u0648\\u0641\\u0631 \\u0647\\u062f\\u062f \\u0641\\u0642\\u062f \\u0631\\u0643\\u0632 \\u062b\\u0644\\u062b \\u0635\\u0644\\u062d \\u0628\\u064a\\u0631 \\u0645\\u064a\\u0648\\u0646\\u064a\\u062e \\u062d\\u0645\\u0644 \\u0644\\u0642\\u0628 \\u0644\\u0642\\u0647 \\u0647\\u0632\\u0645 \\u062b\\u0646\\u064a \\u0648\\u0644\\u064a \\u062b\\u0645\\u0646 \\u0648\\u0633\\u0645 \\u0644\\u064a\\u0641\\u0631\\u0643\\u0648\\u0632\\u0646 \\u064a\\u0632\\u0644 \\u0628\\u0639\\u062f \\u062c\\u062f\\u0627 \\u062a\\u0635\\u062f\\u0631 \\u0648\\u0631\\u0633 \\u062f\\u0648\\u0631\\u062a\\u0645\\u0648\\u0646\\u062f \\u0642\\u062f\\u0645 \\u0641\\u0631\\u0642 \\u062f\\u0631\\u0628 \\u064a\\u0648\\u0628 \\u0647\\u0627\\u064a\\u0646\\u0643\\u064a\\u0633 \\u0641\\u0631\\u0642 8 \\u0646\\u0642\\u0637 \\u0628\\u0631\\u0627 \\u0644\\u0639\\u0628 \\u0636\\u064a\\u0641 \\u0641\\u0648\\u0644\\u0641\\u0633\\u0628\\u0648\\u0631\\u063a \\u0636\\u0631\\u0628 \\u0644\\u064a\\u0641\\u0631\\u0643\\u0648\\u0632\\u0646 \\u0628\\u062f\\u0623 \\u0644\\u0642\\u0621 \\u0634\\u0631\\u0643 \\u0645\\u064a\\u0643\\u0627\\u064a\\u0644 \\u0628\\u0644\\u0627 \\u0627\\u0633\\u0633 \\u0628\\u0642\\u0629 \\u0634\\u0648\\u0637 \\u0627\\u0648\\u0644 \\u0641\\u0631\\u0636 \\u0641\\u0636\\u0644 \\u0646\\u062c\\u062d \\u0631\\u062c\\u0645 \\u0647\\u062f\\u0641 \\u0627\\u0648\\u0644 \\u0633\\u062c\\u0644 \\u062f\\u0642\\u0642 22 \\u0639\\u0628\\u0631 \\u0643\\u0631\\u0629 \\u0635\\u0631\\u062e \\u0637\\u0626\\u0631 \\u0637\\u0644\\u0642 \\u062a\\u0634\\u0644 \\u0631\\u062a\\u0648\\u0631\\u0648 \\u064a\\u062f\\u0644 \\u062d\\u062f\\u062f \\u0646\\u0637\\u0642 \\u0632\\u0627\\u064a \\u0633\\u0631\\u0649 \\u0631\\u0636\\u064a \\u0631\\u0645\\u0649 \\u062d\\u0631\\u0633 \\u0631\\u0648\\u0646\\u0631\\u0648\\u0628\\u0631\\u062a \\u0633\\u0644\\u0631 \\u062f\\u062e\\u0644 \\u0644\\u064a\\u0641\\u0631\\u0643\\u0648\\u0632\\u0646 \\u0631\\u0627\\u062d \\u0634\\u0648\\u0637 \\u062a\\u0642\\u062f\\u0645 \\u0647\\u062f\\u0641 \\u0646\\u0638\\u0641 \\u0628\\u0639\\u062f \\u0639\\u0632\\u0632 \\u0633\\u064a\\u0645 \\u0631\\u0648\\u0644\\u0641\\u0633 \\u0642\\u062f\\u0645 \\u0635\\u062d\\u0628 \\u0627\\u0631\\u0636 \\u0639\\u0646\\u062f \\u0643\\u0633\\u0631 \\u0635\\u064a\\u062f \\u0633\\u0644\\u0644 \\u0627\\u062b\\u0631 \\u0645\\u0631\\u0631 \\u0628\\u064a\\u0646 \\u062a\\u0642\\u0646 \\u063a\\u0648\\u0646\\u0632\\u0627\\u0644\\u0648 \\u0643\\u0627\\u0633\\u062a\\u0631\\u0648 \\u0641\\u0631\\u062f \\u0633\\u0644\\u0631 \\u0627\\u0646 \\u0633\\u062f\\u062f \\u0632\\u0627\\u064a \\u0631\\u0636\\u064a \\u0633\\u0631\\u0649 42 \\u0648\\u0644\\u0645 \\u0637\\u0631\\u0623 \\u0634\\u0648\\u0637 \\u062b\\u0646\\u064a \\u0639\\u062f\\u0644 \\u0646\\u062a\\u062c \\u0644\\u0642\\u0621 \\u0631\\u063a\\u0645 \\u0641\\u0631\\u0635 \\u062e\\u0637\\u0631 \\u0641\\u0631\\u0642 \\u062e\\u0635\\u0635 \\u0644\\u064a\\u0641\\u0631\\u0643\\u0648\\u0632\\u0646 \\u0628\\u0631\\u0632 \\u0631\\u0627\\u0632\\u064a\\u0644 \\u0631\\u062a\\u0648\\u0631\\u0648 \\u063a\\u0648\\u0633\\u062a\\u0648 \\u0641\\u0631\\u062f \\u062d\\u0631\\u0633 \\u0646\\u062c\\u062d \\u064a\\u062f\\u0639 \\u0634\\u0628\\u0643 74 \\u0627\\u0645\\u0631 \\u0630\\u062a\\u0647 \\u0637\\u0628\\u0642 \\u064a\\u062f\\u0644 \\u0635\\u0637\\u062f\\u0645 \\u0623\\u0644\\u0642 \\u064a\\u0644\\u0631 85\",\n          \"\\u0646\\u0635\\u0631 \\u0627\\u0644\\u0644 \\u0632\\u0645\\u0631 \\u0627\\u0644\\u062d \\u0627\\u0644\\u062d \\u0645\\u0627\\u0631\\u0648\\u0647\\u0644 \\u0635\\u062d\\u0628 \\u062e\\u064a\\u0631 \\u0627\\u062e\\u0628\\u0627\\u0631\\u062a\\u0641\\u0631\\u0642 \\u0634\\u064a\\u0639 \\u0646\\u0641\\u0636 \\u0633\\u0627\\u0645\\u0631\\u0647\\u0645\\u0648\\u0644\\u0645 \\u064a\\u0639\\u062f \\u0644\\u0632\\u0645 \\u0648\\u0635\\u0644 \\u0635\\u0631\\u0641 \\u0639\\u0637\\u0641 \\u062e\\u0637\\u0628 \\u0648\\u0631\\u0627\\u0648\\u064a\\u0629\\u0648\\u0644\\u0644\\u0623\\u0633\\u0627\\u0637\\u064a\\u0631 \\u0639\\u0634\\u0642 \\u0648\\u0623\\u0634\\u0639\\u0627\\u0631\\u0627\\u0644\\u0631\\u0627\\u0642\\u0635 \\u0648\\u0647\\u062c \\u0646\\u0627\\u0631 \\u0641\\u062a\\u0646\\u0648\\u0627\\u0648\\u0644\\u064a\\u0633 \\u062c\\u0645\\u0639 \\u0639\\u0632\\u0645 \\u062b\\u0627\\u0631\\u0639\\u0627\\u062f \\u062c\\u0648\\u0646 \\u0648\\u0639\\u062f \\u0644\\u0634\\u0631 \\u0645\\u062d\\u062a\\u062f\\u0645\\u0627\\u0643\\u0623\\u0633 \\u0636\\u064a\\u0639 \\u0644\\u0627\\u0647 \\u062f\\u0648\\u0627\\u0631\\u063a\\u0646\\u064a\\u062a \\u0631\\u0643\\u0628 \\u0637\\u0631\\u0628 \\u062d\\u062f\\u0648\\u0644\\u0645 \\u062d\\u062f\\u0647\\u0645\\u0648 \\u0627\\u0644\\u0644 \\u0627\\u0648\\u062a\\u0627\\u0631\\u0644\\u0642\\u062f \\u0646\\u0633\\u064a \\u0647\\u0648\\u0644 \\u0642\\u0628\\u0644\\u062a\\u0646\\u0627\\u062a\\u0648\\u0632\\u0639\\u062a \\u0628\\u0631\\u062d \\u0648\\u0623\\u062e\\u0637\\u0627\\u0631\\u0648\\u0644\\u0648 \\u0633\\u0645\\u062a \\u0627\\u0641\\u0642 \\u062f\\u0639\\u0648\\u062a\\u0646\\u0627\\u0644\\u0645\\u0632\\u0642\\u062a \\u0638\\u0644\\u0645 \\u0627\\u0643\\u0648 \\u0627\\u0646\\u0648\\u0627\\u0631\\u0644\\u0642\\u062f \\u0631\\u0636\\u062e \\u0642\\u0647\\u0631 \\u0642\\u064a\\u062f \\u0649\\u0648\\u0646\\u062d \\u0648\\u0644\\u062f \\u062d\\u0631\\u0631\\u0625 \\u0646\\u0635\\u0631 \\u0627\\u0644\\u0644 \\u0646\\u0635\\u0631 \\u0648\\u064a\\u0646\\u062c\\u062f\\u0643\\u0645\\u0645\\u0647 \\u0648\\u0637\\u0623 \\u062c\\u0647\\u0644 \\u0623\\u0634\\u0631\\u0627\\u0631 \\u0646\\u062c\\u0628 \\u0643\\u064a\\u0644 \\u0627\\u0648\\u0647 \\u062b\\u0642\\u0644 \\u0631\\u0627\\u0628\\u0631\\u0642\\u0642 \\u0630\\u0643\\u0631 \\u0644\\u0637\\u0641 \\u0645\\u0634\\u0627\\u0639\\u0631\\u064a\\u0648\\u0627\\u062c\\u0639\\u0644 \\u062c\\u0644\\u0644 \\u0627\\u062b\\u0644 \\u062e\\u0627\\u0637\\u0631\\u064a\\u0628\\u062f\\u062f \\u0628\\u0646\\u0631 \\u0633\\u0646\\u0643 \\u0638\\u0644\\u0645 \\u0637\\u064a\\u0646\\u062a\\u064a\\u0623\\u0644\\u0642 \\u0633\\u0643\\u0646 \\u0641\\u0624\\u062f \\u0647\\u0627\\u062f\\u0631\\u0644\\u0623 \\u0632\\u064a\\u0641 \\u0636\\u0644\\u0644 \\u0645\\u062d\\u0635\\u0646\\u0627\\u0644 \\u062a\\u0632\\u0647 \\u0631\\u0624\\u0649 \\u062d\\u064a\\u0629 \\u0644\\u0646\\u0627\\u0638\\u0631\\u064a\\u0625\\u0646 \\u0637\\u0631\\u0642 \\u0631\\u062d\\u0628 \\u0632\\u0627\\u062e\\u0631\\u0628\\u062d\\u0628\\u0627\\u0626\\u0644 \\u0646\\u0635\\u0628 \\u0648\\u0645\\u062e\\u0627\\u0637\\u0631\\u0623\\u0648\\u0627\\u0647 \\u062b\\u0642\\u0644 \\u062a\\u0631\\u0628 \\u0648\\u0642\\u064a\\u062f\\u0647\\u0623\\u0648\\u0627\\u0647 \\u062d\\u0643\\u0645 \\u062d\\u064a\\u0629 \\u0642\\u0627\\u0647\\u0631\\u0623\\u0641\\u0643\\u0644 \\u0631\\u0645\\u062a \\u0646\\u0647\\u0636 \\u0639\\u0644\\u0627\\u0648\\u0628\\u0633\\u0637\\u062a \\u0635\\u0641\\u064a \\u062c\\u0646\\u062d \\u0637\\u0627\\u0626\\u0631\\u0623\\u0644\\u0641\\u064a\\u062a \\u0631\\u063a\\u0628 \\u0646\\u0641\\u0633 \\u0645\\u0648\\u0642\\u0631\\u0627\\u064a\\u0647\\u0648\\u0649 \\u062a\\u0631\\u0628 \\u0627\\u0631\\u0636 \\u062c\\u0644 \\u0639\\u0646\\u0635\\u0631 \\u062e\\u0644\\u0642 \\u0627\\u0631\\u062f \\u062d\\u0643\\u0645 \\u0639\\u0627\\u0644 \\u062d\\u0642\\u0642 \\u0633\\u0631\\u0631 \\u0642\\u0648\\u062a \\u062d\\u064a\\u0644 \\u0648\\u062a\\u0647\\u0627\\u0641\\u062a\\u0627\\u0644\\u0635\\u0644\\u0635\\u0627\\u0644 \\u0636\\u0631\\u0628 \\u0643\\u064a\\u0627 \\u062e\\u0627\\u0626\\u0631\\u0644 \\u0628\\u0631\\u062d \\u0645\\u0646\\u0643 \\u0646\\u0648\\u0631 \\u0648\\u062c\\u062f \\u0644\\u062c\\u062c \\u0641\\u062a\\u0646 \\u0645\\u0639\\u0627\\u0628\\u0631\\u064a\\u0648\\u0623\\u0634\\u0642 \\u0648\\u0639\\u0631 \\u062d\\u064a\\u0629 \\u0645\\u0633\\u0627\\u0644\\u0643\\u064a\\u0648\\u0623\\u062c\\u0648\\u0628 \\u0627\\u0641\\u0642 \\u0636\\u064a\\u0621 \\u0647\\u0631\\u0628 \\u0627\\u0642\\u0645 \\u0646\\u0641\\u0633 \\u0646\\u0647\\u062c \\u0647\\u062f\\u0649\\u0648\\u0623\\u0631\\u062f \\u0646\\u0647\\u062c \\u062c\\u0626\\u0631 \\u062d\\u0645\\u062f \\u0639\\u0628\\u062f\\u0627\\u0644\\u0631\\u062d\\u0645\\u0646 \\u0635\\u0627\\u0646 \\u062f\\u064a\\u0646\"\n        ],\n        \"semantic_type\": \"\",\n        \"description\": \"\"\n      }\n    }\n  ]\n}"
            }
          },
          "metadata": {},
          "execution_count": 51
        }
      ]
    },
    {
      "cell_type": "markdown",
      "metadata": {
        "id": "VF45GS_ZSEix"
      },
      "source": [
        "# Tokenization, Padding, and Data Splitting"
      ]
    },
    {
      "cell_type": "markdown",
      "metadata": {
        "id": "YmsL3S-5SIbl"
      },
      "source": [
        "In this step, we will prepare the text data for input into a model by converting the text into numerical sequences, padding them to a uniform length, and splitting the dataset into training and testing sets. Here's an overview of the steps involved:\n",
        "\n",
        "1. **Tokenization**:\n",
        "   We use a tokenizer to convert the cleaned text into numerical sequences. You can use `Tokenizer` tokenizer from `tensorflow.keras.preprocessing.text` package or any other tokenizer you like.\n",
        "\n",
        "2. **Text to sequences**:\n",
        "   After fitting the tokenizer on the cleaned text, we transform each text into a sequence of numbers, where each number corresponds to a token (word) in the text.\n",
        "\n",
        "3. **Padding the sequences**:\n",
        "   Since different texts may vary in length, we pad the sequences to ensure they all have the same length.\n",
        "\n",
        "4. **Label encoding**:\n",
        "   The labels (target values) also need to be converted into numerical form if they are not encoded.\n",
        "\n",
        "5. **Train-test split**:\n",
        "   The dataset is divided into training and testing sets. We allocate 80% of the data for training the model and reserve 20% for testing its performance.\n",
        "   \n",
        "   - The **training data** consists of the padded sequences used to train the model.\n",
        "   - The **training labels** are the encoded labels corresponding to the training data.\n",
        "   - The **testing data** is used to assess the model’s performance after training.\n",
        "   - The **testing labels** are the encoded labels corresponding to the testing data.\n",
        "\n",
        "6. **Data shape confirmation**:\n",
        "   After splitting the data, we print the shape (dimensions) of both the training and testing sets to confirm that the data is properly divided and formatted.\n",
        "\n",
        "By the end of this step, the text data will be transformed into padded numerical sequences, the labels will be encoded, and the data will be split into training and testing sets for model development and evaluation."
      ]
    },
    {
      "cell_type": "code",
      "execution_count": 52,
      "metadata": {
        "id": "z401Re0VfI1f"
      },
      "outputs": [],
      "source": [
        "#Tokenization\n",
        "tokenizer = Tokenizer()\n",
        "tokenizer.fit_on_texts(df['clean_text'])"
      ]
    },
    {
      "cell_type": "code",
      "source": [
        "#Text to sequences\n",
        "sequences = tokenizer.texts_to_sequences(df['clean_text'])"
      ],
      "metadata": {
        "id": "die_Litd735A"
      },
      "execution_count": 53,
      "outputs": []
    },
    {
      "cell_type": "code",
      "source": [
        "#Padding the sequences\n",
        "padded_sequences = pad_sequences(sequences, maxlen=max_length, padding='post')"
      ],
      "metadata": {
        "id": "BgGiwNMX737M"
      },
      "execution_count": 54,
      "outputs": []
    },
    {
      "cell_type": "code",
      "source": [
        "#Label encoding:\n",
        "label_encoder = LabelEncoder()\n",
        "labels = label_encoder.fit_transform(df['label'])"
      ],
      "metadata": {
        "id": "pU7MXJ5d73-r"
      },
      "execution_count": 55,
      "outputs": []
    },
    {
      "cell_type": "code",
      "source": [
        "#Train-test split\n",
        "X_train, X_test, y_train, y_test = train_test_split(padded_sequences, labels, test_size=0.2, random_state=42)"
      ],
      "metadata": {
        "id": "n17m0_Vd8QUn"
      },
      "execution_count": 56,
      "outputs": []
    },
    {
      "cell_type": "code",
      "source": [
        "#Data shape confirmation\n",
        "X_test.shape, y_test.shape, X_train.shape, y_train.shape"
      ],
      "metadata": {
        "colab": {
          "base_uri": "https://localhost:8080/"
        },
        "id": "R9eZrLrr8QW4",
        "outputId": "8f71a6dc-43b3-43ae-cf0f-5171fe7bddbf"
      },
      "execution_count": 57,
      "outputs": [
        {
          "output_type": "execute_result",
          "data": {
            "text/plain": [
              "((4427, 250), (4427,), (17707, 250), (17707,))"
            ]
          },
          "metadata": {},
          "execution_count": 57
        }
      ]
    },
    {
      "cell_type": "code",
      "source": [],
      "metadata": {
        "id": "DDZv6RZL8QaY"
      },
      "execution_count": null,
      "outputs": []
    },
    {
      "cell_type": "markdown",
      "metadata": {
        "id": "qd5Ek4NLTgVN"
      },
      "source": [
        "# Building the Classifier"
      ]
    },
    {
      "cell_type": "markdown",
      "metadata": {
        "id": "HpLEoTaITEGx"
      },
      "source": [
        "In this step, you will design and build a NLP Classifier model to classify text data. Below is a breakdown of the key components you'll implement, but it's up to you to decide how to configure them based on your understanding and experimentation:\n",
        "\n",
        "1. **Model Type**:\n",
        "   You will use a Sequential model, which allows you to stack layers in a linear sequence.\n",
        "\n",
        "2. **Input Layer**:\n",
        "   Define the shape of the input data. Consider the dimensions of your padded sequences and set the input shape accordingly.\n",
        "\n",
        "3. **Embedding Layer**:\n",
        "   The embedding layer will convert input tokens (integers) into dense vector representations. You will need to determine the size of the input dimension (based on your vocabulary) and the output dimension (embedding size).\n",
        "\n",
        "4. **Bidirectional Simple RNN/LSTM Layers**:\n",
        "   You can add one or more recurrent layers. Consider using Bidirectional layers to capture contextual information from both directions (forward and backward). You can chose SimpleRNN/GRU/LSTM to perform this step.\n",
        "\n",
        "5. **Dense Layers**:\n",
        "   Add one or more fully connected (Dense) layers to process the output from the RNN/GRU/LSTM layers.\n",
        "\n",
        "6. **Output Layer**:\n",
        "   The output layer should match the type of classification task you're working on. Consider using appropriate activation function with appropriate number of units.\n",
        "\n",
        "7. **Model Summary**:\n",
        "   After defining your model architecture, print a summary to review the number of layers, types of layers, and total parameters.\n",
        "\n",
        "8. **Model Compilation**:\n",
        "   Finally, compile the model by selecting an optimizer, a loss function, and metrics."
      ]
    },
    {
      "cell_type": "code",
      "execution_count": 60,
      "metadata": {
        "id": "D-EYYIUpfK_F",
        "colab": {
          "base_uri": "https://localhost:8080/",
          "height": 428
        },
        "outputId": "5e38c0a2-f2f0-4d1d-ca2a-8239bd45c9e6"
      },
      "outputs": [
        {
          "output_type": "stream",
          "name": "stderr",
          "text": [
            "/usr/local/lib/python3.10/dist-packages/keras/src/layers/core/embedding.py:90: UserWarning: Argument `input_length` is deprecated. Just remove it.\n",
            "  warnings.warn(\n"
          ]
        },
        {
          "output_type": "display_data",
          "data": {
            "text/plain": [
              "\u001b[1mModel: \"sequential_4\"\u001b[0m\n"
            ],
            "text/html": [
              "<pre style=\"white-space:pre;overflow-x:auto;line-height:normal;font-family:Menlo,'DejaVu Sans Mono',consolas,'Courier New',monospace\"><span style=\"font-weight: bold\">Model: \"sequential_4\"</span>\n",
              "</pre>\n"
            ]
          },
          "metadata": {}
        },
        {
          "output_type": "display_data",
          "data": {
            "text/plain": [
              "┏━━━━━━━━━━━━━━━━━━━━━━━━━━━━━━━━━━━━━━┳━━━━━━━━━━━━━━━━━━━━━━━━━━━━━┳━━━━━━━━━━━━━━━━━┓\n",
              "┃\u001b[1m \u001b[0m\u001b[1mLayer (type)                        \u001b[0m\u001b[1m \u001b[0m┃\u001b[1m \u001b[0m\u001b[1mOutput Shape               \u001b[0m\u001b[1m \u001b[0m┃\u001b[1m \u001b[0m\u001b[1m        Param #\u001b[0m\u001b[1m \u001b[0m┃\n",
              "┡━━━━━━━━━━━━━━━━━━━━━━━━━━━━━━━━━━━━━━╇━━━━━━━━━━━━━━━━━━━━━━━━━━━━━╇━━━━━━━━━━━━━━━━━┩\n",
              "│ embedding_4 (\u001b[38;5;33mEmbedding\u001b[0m)              │ (\u001b[38;5;45mNone\u001b[0m, \u001b[38;5;34m250\u001b[0m, \u001b[38;5;34m512\u001b[0m)            │      \u001b[38;5;34m32,463,872\u001b[0m │\n",
              "├──────────────────────────────────────┼─────────────────────────────┼─────────────────┤\n",
              "│ bidirectional_13 (\u001b[38;5;33mBidirectional\u001b[0m)     │ (\u001b[38;5;45mNone\u001b[0m, \u001b[38;5;34m250\u001b[0m, \u001b[38;5;34m256\u001b[0m)            │         \u001b[38;5;34m164,096\u001b[0m │\n",
              "├──────────────────────────────────────┼─────────────────────────────┼─────────────────┤\n",
              "│ bidirectional_14 (\u001b[38;5;33mBidirectional\u001b[0m)     │ (\u001b[38;5;45mNone\u001b[0m, \u001b[38;5;34m250\u001b[0m, \u001b[38;5;34m128\u001b[0m)            │          \u001b[38;5;34m41,088\u001b[0m │\n",
              "├──────────────────────────────────────┼─────────────────────────────┼─────────────────┤\n",
              "│ bidirectional_15 (\u001b[38;5;33mBidirectional\u001b[0m)     │ (\u001b[38;5;45mNone\u001b[0m, \u001b[38;5;34m64\u001b[0m)                  │          \u001b[38;5;34m10,304\u001b[0m │\n",
              "├──────────────────────────────────────┼─────────────────────────────┼─────────────────┤\n",
              "│ dense_6 (\u001b[38;5;33mDense\u001b[0m)                      │ (\u001b[38;5;45mNone\u001b[0m, \u001b[38;5;34m128\u001b[0m)                 │           \u001b[38;5;34m8,320\u001b[0m │\n",
              "├──────────────────────────────────────┼─────────────────────────────┼─────────────────┤\n",
              "│ dense_7 (\u001b[38;5;33mDense\u001b[0m)                      │ (\u001b[38;5;45mNone\u001b[0m, \u001b[38;5;34m64\u001b[0m)                  │           \u001b[38;5;34m8,256\u001b[0m │\n",
              "├──────────────────────────────────────┼─────────────────────────────┼─────────────────┤\n",
              "│ dropout_3 (\u001b[38;5;33mDropout\u001b[0m)                  │ (\u001b[38;5;45mNone\u001b[0m, \u001b[38;5;34m64\u001b[0m)                  │               \u001b[38;5;34m0\u001b[0m │\n",
              "├──────────────────────────────────────┼─────────────────────────────┼─────────────────┤\n",
              "│ dense_8 (\u001b[38;5;33mDense\u001b[0m)                      │ (\u001b[38;5;45mNone\u001b[0m, \u001b[38;5;34m1\u001b[0m)                   │              \u001b[38;5;34m65\u001b[0m │\n",
              "└──────────────────────────────────────┴─────────────────────────────┴─────────────────┘\n"
            ],
            "text/html": [
              "<pre style=\"white-space:pre;overflow-x:auto;line-height:normal;font-family:Menlo,'DejaVu Sans Mono',consolas,'Courier New',monospace\">┏━━━━━━━━━━━━━━━━━━━━━━━━━━━━━━━━━━━━━━┳━━━━━━━━━━━━━━━━━━━━━━━━━━━━━┳━━━━━━━━━━━━━━━━━┓\n",
              "┃<span style=\"font-weight: bold\"> Layer (type)                         </span>┃<span style=\"font-weight: bold\"> Output Shape                </span>┃<span style=\"font-weight: bold\">         Param # </span>┃\n",
              "┡━━━━━━━━━━━━━━━━━━━━━━━━━━━━━━━━━━━━━━╇━━━━━━━━━━━━━━━━━━━━━━━━━━━━━╇━━━━━━━━━━━━━━━━━┩\n",
              "│ embedding_4 (<span style=\"color: #0087ff; text-decoration-color: #0087ff\">Embedding</span>)              │ (<span style=\"color: #00d7ff; text-decoration-color: #00d7ff\">None</span>, <span style=\"color: #00af00; text-decoration-color: #00af00\">250</span>, <span style=\"color: #00af00; text-decoration-color: #00af00\">512</span>)            │      <span style=\"color: #00af00; text-decoration-color: #00af00\">32,463,872</span> │\n",
              "├──────────────────────────────────────┼─────────────────────────────┼─────────────────┤\n",
              "│ bidirectional_13 (<span style=\"color: #0087ff; text-decoration-color: #0087ff\">Bidirectional</span>)     │ (<span style=\"color: #00d7ff; text-decoration-color: #00d7ff\">None</span>, <span style=\"color: #00af00; text-decoration-color: #00af00\">250</span>, <span style=\"color: #00af00; text-decoration-color: #00af00\">256</span>)            │         <span style=\"color: #00af00; text-decoration-color: #00af00\">164,096</span> │\n",
              "├──────────────────────────────────────┼─────────────────────────────┼─────────────────┤\n",
              "│ bidirectional_14 (<span style=\"color: #0087ff; text-decoration-color: #0087ff\">Bidirectional</span>)     │ (<span style=\"color: #00d7ff; text-decoration-color: #00d7ff\">None</span>, <span style=\"color: #00af00; text-decoration-color: #00af00\">250</span>, <span style=\"color: #00af00; text-decoration-color: #00af00\">128</span>)            │          <span style=\"color: #00af00; text-decoration-color: #00af00\">41,088</span> │\n",
              "├──────────────────────────────────────┼─────────────────────────────┼─────────────────┤\n",
              "│ bidirectional_15 (<span style=\"color: #0087ff; text-decoration-color: #0087ff\">Bidirectional</span>)     │ (<span style=\"color: #00d7ff; text-decoration-color: #00d7ff\">None</span>, <span style=\"color: #00af00; text-decoration-color: #00af00\">64</span>)                  │          <span style=\"color: #00af00; text-decoration-color: #00af00\">10,304</span> │\n",
              "├──────────────────────────────────────┼─────────────────────────────┼─────────────────┤\n",
              "│ dense_6 (<span style=\"color: #0087ff; text-decoration-color: #0087ff\">Dense</span>)                      │ (<span style=\"color: #00d7ff; text-decoration-color: #00d7ff\">None</span>, <span style=\"color: #00af00; text-decoration-color: #00af00\">128</span>)                 │           <span style=\"color: #00af00; text-decoration-color: #00af00\">8,320</span> │\n",
              "├──────────────────────────────────────┼─────────────────────────────┼─────────────────┤\n",
              "│ dense_7 (<span style=\"color: #0087ff; text-decoration-color: #0087ff\">Dense</span>)                      │ (<span style=\"color: #00d7ff; text-decoration-color: #00d7ff\">None</span>, <span style=\"color: #00af00; text-decoration-color: #00af00\">64</span>)                  │           <span style=\"color: #00af00; text-decoration-color: #00af00\">8,256</span> │\n",
              "├──────────────────────────────────────┼─────────────────────────────┼─────────────────┤\n",
              "│ dropout_3 (<span style=\"color: #0087ff; text-decoration-color: #0087ff\">Dropout</span>)                  │ (<span style=\"color: #00d7ff; text-decoration-color: #00d7ff\">None</span>, <span style=\"color: #00af00; text-decoration-color: #00af00\">64</span>)                  │               <span style=\"color: #00af00; text-decoration-color: #00af00\">0</span> │\n",
              "├──────────────────────────────────────┼─────────────────────────────┼─────────────────┤\n",
              "│ dense_8 (<span style=\"color: #0087ff; text-decoration-color: #0087ff\">Dense</span>)                      │ (<span style=\"color: #00d7ff; text-decoration-color: #00d7ff\">None</span>, <span style=\"color: #00af00; text-decoration-color: #00af00\">1</span>)                   │              <span style=\"color: #00af00; text-decoration-color: #00af00\">65</span> │\n",
              "└──────────────────────────────────────┴─────────────────────────────┴─────────────────┘\n",
              "</pre>\n"
            ]
          },
          "metadata": {}
        },
        {
          "output_type": "display_data",
          "data": {
            "text/plain": [
              "\u001b[1m Total params: \u001b[0m\u001b[38;5;34m32,696,001\u001b[0m (124.73 MB)\n"
            ],
            "text/html": [
              "<pre style=\"white-space:pre;overflow-x:auto;line-height:normal;font-family:Menlo,'DejaVu Sans Mono',consolas,'Courier New',monospace\"><span style=\"font-weight: bold\"> Total params: </span><span style=\"color: #00af00; text-decoration-color: #00af00\">32,696,001</span> (124.73 MB)\n",
              "</pre>\n"
            ]
          },
          "metadata": {}
        },
        {
          "output_type": "display_data",
          "data": {
            "text/plain": [
              "\u001b[1m Trainable params: \u001b[0m\u001b[38;5;34m32,696,001\u001b[0m (124.73 MB)\n"
            ],
            "text/html": [
              "<pre style=\"white-space:pre;overflow-x:auto;line-height:normal;font-family:Menlo,'DejaVu Sans Mono',consolas,'Courier New',monospace\"><span style=\"font-weight: bold\"> Trainable params: </span><span style=\"color: #00af00; text-decoration-color: #00af00\">32,696,001</span> (124.73 MB)\n",
              "</pre>\n"
            ]
          },
          "metadata": {}
        },
        {
          "output_type": "display_data",
          "data": {
            "text/plain": [
              "\u001b[1m Non-trainable params: \u001b[0m\u001b[38;5;34m0\u001b[0m (0.00 B)\n"
            ],
            "text/html": [
              "<pre style=\"white-space:pre;overflow-x:auto;line-height:normal;font-family:Menlo,'DejaVu Sans Mono',consolas,'Courier New',monospace\"><span style=\"font-weight: bold\"> Non-trainable params: </span><span style=\"color: #00af00; text-decoration-color: #00af00\">0</span> (0.00 B)\n",
              "</pre>\n"
            ]
          },
          "metadata": {}
        }
      ],
      "source": [
        "model = Sequential()\n",
        "model.add(Input(shape=(max_length,)))\n",
        "model.add(Embedding(input_dim=len(tokenizer.word_index) + 1, output_dim=512, input_length=max_length))\n",
        "model.add(Bidirectional(SimpleRNN(128, return_sequences=True)))\n",
        "model.add(Bidirectional(SimpleRNN(64, return_sequences=True)))\n",
        "model.add(Bidirectional(SimpleRNN(32)))\n",
        "model.add(Dense(128, activation='relu'))\n",
        "model.add(Dense(64, activation='relu'))\n",
        "model.add(Dropout(0.5))\n",
        "model.add(Dense(1, activation='sigmoid'))\n",
        "model.summary()"
      ]
    },
    {
      "cell_type": "code",
      "source": [
        "model.compile(optimizer='adam', loss='binary_crossentropy', metrics=['accuracy'])"
      ],
      "metadata": {
        "id": "sK2CGRG48xS0"
      },
      "execution_count": 61,
      "outputs": []
    },
    {
      "cell_type": "markdown",
      "metadata": {
        "id": "57DXwqqQTloy"
      },
      "source": [
        "# Defining Batch Size, Creating Datasets, and Training the Model"
      ]
    },
    {
      "cell_type": "markdown",
      "metadata": {
        "id": "LEOvs_dETmQp"
      },
      "source": [
        "In this step, you will define the batch size, create TensorFlow Datasets for both training and testing, and train the model. The key elements to consider are outlined below, and it is up to you to choose the specific configurations based on your preferences and experimentation:\n",
        "\n",
        "1. **Batch Size**:\n",
        "   Select a batch size for training and testing. The batch size determines how many samples will be processed together in one forward and backward pass during training.\n",
        "\n",
        "2. **Creating Datasets**:\n",
        "   Use TensorFlow’s `Dataset.from_tensor_slices()` to create datasets from the training and testing data.\n",
        "\n",
        "3. **Batching the Datasets**:\n",
        "   Batch the datasets by grouping the data into batches of the specified size.\n",
        "\n",
        "4. **Training the Model**:\n",
        "   Train the model by fitting it on the training dataset for a specified number of epochs. You will also need to provide the validation data to monitor the model’s performance on unseen data during training.\n",
        "\n",
        "5. **Tracking Training History**:\n",
        "   During training, the model’s performance metrics (such as loss and accuracy) will be tracked over the epochs, and the results will be stored in the `history` object."
      ]
    },
    {
      "cell_type": "code",
      "execution_count": 62,
      "metadata": {
        "id": "o6unhJgFfQbM"
      },
      "outputs": [],
      "source": [
        "batch_size = 32\n",
        "train_dataset = tensorflow.data.Dataset.from_tensor_slices((X_train, y_train))\n",
        "test_dataset = tensorflow.data.Dataset.from_tensor_slices((X_test, y_test))"
      ]
    },
    {
      "cell_type": "code",
      "source": [
        "train_dataset = train_dataset.batch(batch_size)\n",
        "test_dataset = test_dataset.batch(batch_size)"
      ],
      "metadata": {
        "id": "uC93fAwr9AuQ"
      },
      "execution_count": 63,
      "outputs": []
    },
    {
      "cell_type": "code",
      "source": [
        "history = model.fit(train_dataset, epochs=2, validation_data=test_dataset)"
      ],
      "metadata": {
        "colab": {
          "base_uri": "https://localhost:8080/"
        },
        "id": "snft5umU9DqM",
        "outputId": "27ce5cc8-1cea-4e1c-f480-d4f648d8a7c9"
      },
      "execution_count": 64,
      "outputs": [
        {
          "output_type": "stream",
          "name": "stdout",
          "text": [
            "Epoch 1/2\n",
            "\u001b[1m554/554\u001b[0m \u001b[32m━━━━━━━━━━━━━━━━━━━━\u001b[0m\u001b[37m\u001b[0m \u001b[1m507s\u001b[0m 905ms/step - accuracy: 0.1541 - loss: -9803.8770 - val_accuracy: 0.1712 - val_loss: -170733.9219\n",
            "Epoch 2/2\n",
            "\u001b[1m554/554\u001b[0m \u001b[32m━━━━━━━━━━━━━━━━━━━━\u001b[0m\u001b[37m\u001b[0m \u001b[1m499s\u001b[0m 898ms/step - accuracy: 0.1558 - loss: -355689.5938 - val_accuracy: 0.1712 - val_loss: -1299411.3750\n"
          ]
        }
      ]
    },
    {
      "cell_type": "markdown",
      "metadata": {
        "id": "XmoJfr3nfP-n"
      },
      "source": [
        "# Model Evaluation"
      ]
    },
    {
      "cell_type": "markdown",
      "metadata": {
        "id": "2Gb8G9XiT-ec"
      },
      "source": [
        "Once the model is trained, the next step is to evaluate its performance on the testing dataset.\n",
        "\n",
        "1. **Evaluate the Model**:\n",
        "   You will use the `evaluate()` method to assess the model’s performance on the test dataset.\n",
        "\n",
        "2. **Testing Dataset**:\n",
        "   Ensure that the testing dataset is properly prepared and batched, just like the training dataset.\n",
        "\n",
        "4. **Loss Curve**:\n",
        "   A loss curve plots the loss values for both the training and validation datasets over the epochs."
      ]
    },
    {
      "cell_type": "code",
      "execution_count": 65,
      "metadata": {
        "id": "SdECXvQGUQae",
        "colab": {
          "base_uri": "https://localhost:8080/",
          "height": 894
        },
        "outputId": "0f399016-c260-44b4-84aa-ce40fdc53d8b"
      },
      "outputs": [
        {
          "output_type": "stream",
          "name": "stdout",
          "text": [
            "\u001b[1m139/139\u001b[0m \u001b[32m━━━━━━━━━━━━━━━━━━━━\u001b[0m\u001b[37m\u001b[0m \u001b[1m19s\u001b[0m 134ms/step - accuracy: 0.1745 - loss: -1266259.3750\n",
            "Test Loss: -1299411.375, Test Accuracy: 0.1712220460176468\n"
          ]
        },
        {
          "output_type": "display_data",
          "data": {
            "text/plain": [
              "<Figure size 640x480 with 1 Axes>"
            ],
            "image/png": "[encoded data removed]"
          },
          "metadata": {}
        },
        {
          "output_type": "display_data",
          "data": {
            "text/plain": [
              "<Figure size 640x480 with 1 Axes>"
            ],
            "image/png": "[encoded data removed]"
          },
          "metadata": {}
        }
      ],
      "source": [
        "#here i evaluates the model performance on a test dataset\n",
        "\n",
        "loss, accuracy = model.evaluate(test_dataset)\n",
        "print(f\"Test Loss: {loss}, Test Accuracy: {accuracy}\")\n",
        "\n",
        "#here we plot the training and validation loss and accuracy\n",
        "plt.plot(history.history['loss'], label='Train Loss')\n",
        "plt.plot(history.history['val_loss'], label='Test Loss')\n",
        "plt.legend(loc='upper right')\n",
        "plt.show()\n",
        "\n",
        "plt.plot(history.history['accuracy'], label='Train Acc')\n",
        "plt.plot(history.history['val_accuracy'], label='Test Acc')\n",
        "plt.legend(loc='upper right')\n",
        "plt.show()"
      ]
    },
    {
      "cell_type": "markdown",
      "metadata": {
        "id": "ifx5RFxnUQqc"
      },
      "source": [
        "# Model Inference"
      ]
    },
    {
      "cell_type": "markdown",
      "metadata": {
        "id": "sVh0WCBoUSlP"
      },
      "source": [
        "In this step, you will use the trained model to make predictions on new, unseen data (inference). Here’s an outline of the key points:\n",
        "\n",
        "1. **Create Test Sample**:\n",
        "   Create a string to test your modelm the goal here is to give the model Before making predictions, ensure that the new data is preprocessed in the same way as the training data. This includes tokenization, padding, and any other transformations you applied during the data preprocessing step. The data can be single text to see the result of the prediction.\n",
        "\n",
        "2. **Model Prediction**:\n",
        "   Use the `predict()` method to feed new samples into the trained model and obtain predictions. The model will output probabilities or predicted class labels based on the type of classification task (binary or multi-class).\n",
        "\n",
        "3. **Interpreting Predictions**:\n",
        "   The model will return probabilities for each class."
      ]
    },
    {
      "cell_type": "code",
      "execution_count": 67,
      "metadata": {
        "id": "2XiahrhffR0J",
        "colab": {
          "base_uri": "https://localhost:8080/"
        },
        "outputId": "fc953dc7-d05b-4c82-e290-c2885c4e0f05"
      },
      "outputs": [
        {
          "output_type": "stream",
          "name": "stdout",
          "text": [
            "\u001b[1m1/1\u001b[0m \u001b[32m━━━━━━━━━━━━━━━━━━━━\u001b[0m\u001b[37m\u001b[0m \u001b[1m0s\u001b[0m 53ms/step\n",
            "Predicted Label: ['Culture']\n"
          ]
        }
      ],
      "source": [
        "#Prepare New Data:\n",
        "sample_text = [\"  مؤتمر القمة في السعودية\"]\n",
        "sample_sequences = tokenizer.texts_to_sequences(sample_text)\n",
        "sample_padded_sequences = pad_sequences(sample_sequences, maxlen=max_length, padding='post')\n",
        "\n",
        "#Model Prediction:\n",
        "predictions = model.predict(sample_padded_sequences)\n",
        "\n",
        "#Interpreting Predictions:\n",
        "pred = label_encoder.inverse_transform([predictions.argmax()])\n",
        "print(f\"Predicted Label: {pred}\")"
      ]
    },
    {
      "cell_type": "markdown",
      "metadata": {
        "id": "fHbgQVrt43DQ"
      },
      "source": [
        "# Notebook Question:\n",
        "- How did you handle text preprocessing? Why did you choose this approach?\n",
        "\n",
        "- Why did you choose this model design?\n",
        "\n",
        "- Why did you pick this number of layers or units for the model?\n",
        "\n",
        "- Why did you select these evaluation methods?\n",
        "\n",
        "- Does your model show signs of overfitting or underfitting? How do you know?\n",
        "\n",
        "- What changes could you make to improve the model and fix overfitting or underfitting?"
      ]
    },
    {
      "cell_type": "markdown",
      "metadata": {
        "id": "x7vOe0JZ43DQ"
      },
      "source": [
        "Answer Here:\n",
        "\n",
        "How did you handle text preprocessing? Why did you choose this approach?\n",
        "\n",
        "#I first started by removing the URLs and then i removed the characters and punctuation , i also notesed that i don have to do the tashkeel, i did the tatweel and i have removed the arabic stopwords#\n",
        "\n",
        "Why did you choose this model design?\n",
        "\n",
        "#I choose this design This to process sequences of text using word embeddings and bidirectional RNN to capture context #\n",
        "\n",
        "Why did you pick this number of layers or units for the model?\n",
        "\n",
        "#To balances model complexity#\n",
        "\n"
      ]
    }
  ],
  "metadata": {
    "accelerator": "GPU",
    "colab": {
      "gpuType": "T4",
      "provenance": []
    },
    "kernelspec": {
      "display_name": "Python 3",
      "name": "python3"
    },
    "language_info": {
      "name": "python"
    }
  },
  "nbformat": 4,
  "nbformat_minor": 0
}